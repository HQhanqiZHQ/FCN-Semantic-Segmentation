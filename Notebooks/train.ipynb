{
 "cells": [
  {
   "cell_type": "code",
   "execution_count": 1,
   "metadata": {},
   "outputs": [
    {
     "name": "stderr",
     "output_type": "stream",
     "text": [
      "C:\\Users\\Kiko-PC\\Anaconda3\\envs\\tensorflow\\lib\\importlib\\_bootstrap.py:222: RuntimeWarning: numpy.dtype size changed, may indicate binary incompatibility. Expected 88 from C header, got 96 from PyObject\n",
      "  return f(*args, **kwds)\n"
     ]
    }
   ],
   "source": [
    "#!/usr/bin/env python3\n",
    "import os.path\n",
    "import tensorflow as tf\n",
    "import helper\n",
    "import warnings\n",
    "from distutils.version import LooseVersion\n",
    "import project_tests as tests\n",
    "import cityscapes_helper\n",
    "import numpy as np\n",
    "\n",
    "label_values = cityscapes_helper.get_label_info()\n"
   ]
  },
  {
   "cell_type": "code",
   "execution_count": 2,
   "metadata": {},
   "outputs": [
    {
     "name": "stdout",
     "output_type": "stream",
     "text": [
      "[(0, 0, 0), (111, 74, 0), (81, 0, 81), (128, 64, 128), (244, 35, 232), (250, 170, 160), (230, 150, 140), (70, 70, 70), (102, 102, 156), (190, 153, 153), (180, 165, 180), (150, 100, 100), (150, 120, 90), (153, 153, 153), (250, 170, 30), (220, 220, 0), (107, 142, 35), (152, 251, 152), (70, 130, 180), (220, 20, 60), (255, 0, 0), (0, 0, 142), (0, 0, 70), (0, 60, 100), (0, 0, 90), (0, 0, 110), (0, 80, 100), (0, 0, 230), (119, 11, 32)]\n",
      "29\n"
     ]
    }
   ],
   "source": [
    "print(label_values)\n",
    "print(len(label_values))"
   ]
  },
  {
   "cell_type": "code",
   "execution_count": 4,
   "metadata": {},
   "outputs": [
    {
     "name": "stdout",
     "output_type": "stream",
     "text": [
      "Loading X_Train..\n",
      "Loading Y_Train..\n",
      "Loading X_Validation..\n",
      "Loading Y_Validation..\n"
     ]
    }
   ],
   "source": [
    "X_train, y_train, X_val, y_val = cityscapes_helper.get_data('D:\\data\\leftImg8bit_trainvaltest')"
   ]
  },
  {
   "cell_type": "code",
   "execution_count": 42,
   "metadata": {},
   "outputs": [],
   "source": [
    "L2_REG = 1e-5\n",
    "STDEV = 1e-2\n",
    "KEEP_PROB = 0.8\n",
    "LEARNING_RATE = 5e-4\n",
    "\n",
    "\n",
    "# L2_REG = 1e-3\n",
    "# STDEV = 1e-2\n",
    "# KEEP_PROB = 0.5\n",
    "# LEARNING_RATE = 5e-4"
   ]
  },
  {
   "cell_type": "code",
   "execution_count": 43,
   "metadata": {},
   "outputs": [],
   "source": [
    "import cv2\n",
    "from collections import namedtuple\n",
    "import random\n",
    "import numpy as np\n",
    "import os.path\n",
    "import scipy.misc\n",
    "import os\n",
    "from glob import glob\n",
    "from sklearn.utils import shuffle\n",
    "import random\n",
    "from cityscapes_helper import *\n",
    "\n",
    "\n",
    "def flip_image(image, measurement, flip_probability=1.0):\n",
    "    if random.random() <= flip_probability:\n",
    "        image = cv2.flip(image, 1)\n",
    "        measurement*=-1\n",
    "    return image, measurement\n",
    "\n",
    "\n",
    "# Randomly crop the image to a specific size. For data augmentation\n",
    "def random_crop(image, label, crop_height, crop_width):\n",
    "    if (image.shape[0] != label.shape[0]) or (image.shape[1] != label.shape[1]):\n",
    "        raise Exception('Image and label must have the same dimensions!')\n",
    "\n",
    "    if (crop_width <= image.shape[1]) and (crop_height <= image.shape[0]):\n",
    "        x = random.randint(0, image.shape[1] - crop_width)\n",
    "        y = random.randint(0, image.shape[0] - crop_height)\n",
    "\n",
    "        if len(label.shape) == 3:\n",
    "            return image[y:y + crop_height, x:x + crop_width, :], label[y:y + crop_height, x:x + crop_width, :]\n",
    "        else:\n",
    "            return image[y:y + crop_height, x:x + crop_width, :], label[y:y + crop_height, x:x + crop_width]\n",
    "    else:\n",
    "        raise Exception('Crop shape (%d, %d) exceeds image dimensions (%d, %d)!' % (\n",
    "        crop_height, crop_width, image.shape[0], image.shape[1]))\n",
    "\n",
    "\n",
    "\n",
    "def random_shadow(image):\n",
    "    \"\"\"\n",
    "    Generates and adds random shadow\n",
    "    \"\"\"\n",
    "    rand_width_scal_1 =  np.random.rand()\n",
    "    IMAGE_HEIGHT, IMAGE_WIDTH,_ = image.shape\n",
    "    x1, y1 = IMAGE_WIDTH *  rand_width_scal_1, 0\n",
    "    rand_width_scal_2 =  np.random.rand()\n",
    "    x2, y2 = IMAGE_WIDTH * rand_width_scal_2, IMAGE_HEIGHT\n",
    "    xn, yn = np.mgrid[0:IMAGE_HEIGHT, 0:IMAGE_WIDTH]\n",
    "    mask = np.zeros_like(image[:, :, 1])\n",
    "    mask[(yn - y1) * (x2 - x1) - (y2 - y1) * (xn - x1) > 0] = 1\n",
    "\n",
    "    cond = mask == np.random.randint(2)\n",
    "    s_ratio = np.random.uniform(low=0.2, high=0.5)\n",
    "\n",
    "    hls = cv2.cvtColor(image, cv2.COLOR_RGB2HLS)\n",
    "    hls[:, :, 1][cond] = hls[:, :, 1][cond] * s_ratio\n",
    "    return cv2.cvtColor(hls, cv2.COLOR_HLS2RGB)\n",
    "\n",
    "\n",
    "def random_brightness(image):\n",
    "    \"\"\"\n",
    "    Randomly adjust brightness of the image.\n",
    "    HSV (Hue, Saturation, Value) is also called HSB ('B' for Brightness).\n",
    "    \"\"\"\n",
    "\n",
    "    hsv_channel = cv2.cvtColor(image, cv2.COLOR_RGB2HSV)\n",
    "    brightness_scalar = np.random.rand()\n",
    "    ratio = 1.0 + 0.4 * (brightness_scalar - 0.5)\n",
    "    hsv_channel[:,:,2] =  hsv_channel[:,:,2] * ratio\n",
    "    return cv2.cvtColor(hsv_channel, cv2.COLOR_HSV2RGB)\n",
    "\n",
    "\n",
    "def bc_img(img, s=1.0, m=0.0):\n",
    "    img = img.astype(np.int)\n",
    "    img = img * s + m\n",
    "    img[img > 255] = 255\n",
    "    img[img < 0] = 0\n",
    "    img = img.astype(np.uint8)\n",
    "    return img\n",
    "\n",
    "def data_augmentation(input_image, output_image):\n",
    "    # Data augmentation\n",
    "    # try:\n",
    "    #     random_crop(image, label, 320, 240)\n",
    "    # except:\n",
    "    #     pass\n",
    "    # go here\n",
    "#     if random.randint(0,1):\n",
    "#         input_image = cv2.flip(input_image, 1)\n",
    "#         output_image = cv2.flip(output_image, 1)\n",
    "#     if  random.randint(0,1):\n",
    "#         input_image = cv2.flip(input_image, 0)\n",
    "#         output_image = cv2.flip(output_image, 0)\n",
    "    \n",
    "    #brightness\n",
    "    if random.randint(0,1):\n",
    "        factor = 1.0 + random.uniform(-1.0*0.5, 0.5)\n",
    "        table = np.array([((i / 255.0) * factor) * 255 for i in np.arange(0, 256)]).astype(np.uint8)\n",
    "        input_image = cv2.LUT(input_image, table)\n",
    "#     contr = random.uniform(0.85, 1.15) # Contrast augmentation\n",
    "#     bright = random.randint(-40, 30) # Brightness augmentation\n",
    "#     input_image = bc_img(input_image, contr, bright)\n",
    "    \n",
    "#     if random.randint(0,1):\n",
    "#         input_image = cv2.flip(input_image, 1)\n",
    "#         output_image = cv2.flip(output_image, 1)\n",
    "#     if  random.randint(0,1):\n",
    "#         input_image = cv2.flip(input_image, 0)\n",
    "#         output_image = cv2.flip(output_image, 0)\n",
    "\n",
    "#     contrast = random.uniform(0.8, 1)  # Contrast augmentation\n",
    "#     bright = random.randint(-40, 30)  # Brightness augmentation\n",
    "#     input_image = bc_img(input_image, contrast, bright)\n",
    "\n",
    "#     if random.randint(0,1):\n",
    "#         input_image = random_brightness(input_image)\n",
    "        \n",
    "    if random.randint(0,1):\n",
    "        input_image = random_shadow(input_image)\n",
    "#     if random.randint(0,1):\n",
    "#         factor = 1.0 + random.uniform(-1.0*0.5, 0.5)\n",
    "#         table = np.array([((i / 255.0) * factor) * 255 for i in np.arange(0, 256)]).astype(np.uint8)\n",
    "#         input_image = cv2.LUT(input_image, table)\n",
    "       \n",
    "    #print('ok')\n",
    "    \n",
    "#     if  random.randint(0,1):\n",
    "#         angle = random.uniform(-1*45, 45)\n",
    "#         M = cv2.getRotationMatrix2D((input_image.shape[1]//2, input_image.shape[0]//2), angle, 1.0)\n",
    "#         input_image = cv2.warpAffine(input_image, M, (input_image.shape[1], input_image.shape[0]), flags=cv2.INTER_NEAREST)\n",
    "#         output_image = cv2.warpAffine(output_image, M, (output_image.shape[1], output_image.shape[0]), flags=cv2.INTER_NEAREST)\n",
    "\n",
    "    return input_image, output_image\n",
    "\n",
    "\n",
    "def gen_batch_function(samplesX, samplesY, label_values, batch_size=1, is_train=True):\n",
    "    \"\"\"\n",
    "    F function to create batches of training data\n",
    "    :param data_folder: Path to folder that contains all the datasets\n",
    "    :param image_shape: Tuple - Shape of image\n",
    "    :return:\"\"\"\n",
    "\n",
    "    samplesX, samplesY = shuffle(samplesX, samplesY)\n",
    "\n",
    "    # Shuffle training data\n",
    "\n",
    "    num_samples = len(samplesX)\n",
    "\n",
    "    if(batch_size==-1):\n",
    "        batch_size = num_samples\n",
    "\n",
    "    # Loop through batches and grab images, yielding each batch\n",
    "    for batch_i in range(0, num_samples, batch_size):\n",
    "\n",
    "        X_train = samplesX[batch_i:batch_i + batch_size]\n",
    "        y_train = samplesY[batch_i:batch_i + batch_size]\n",
    "        \n",
    "        # preprocessing if required\n",
    "        X_f = []\n",
    "        y_f = []\n",
    "        for x, y in zip(X_train, y_train):\n",
    "            if is_train:\n",
    "                x, y = data_augmentation(x, y)\n",
    "            y = np.float32(one_hot_it(y, label_values=label_values))\n",
    "            X_f.append(x)\n",
    "            y_f.append(y)\n",
    "\n",
    "        X_f = np.float32(X_f)\n",
    "        y_f = np.float32(y_f)\n",
    "        yield X_f, y_f\n"
   ]
  },
  {
   "cell_type": "code",
   "execution_count": 44,
   "metadata": {},
   "outputs": [
    {
     "name": "stdout",
     "output_type": "stream",
     "text": [
      "TensorFlow Version: 1.12.0\n",
      "Default GPU Device: /device:GPU:0\n"
     ]
    }
   ],
   "source": [
    "\n",
    "# Check TensorFlow Version\n",
    "assert LooseVersion(tf.__version__) >= LooseVersion('1.0'), 'Please use TensorFlow version 1.0 or newer.  You are using {}'.format(tf.__version__)\n",
    "print('TensorFlow Version: {}'.format(tf.__version__))\n",
    "\n",
    "# Check for a GPU\n",
    "if not tf.test.gpu_device_name():\n",
    "    warnings.warn('No GPU found. Please use a GPU to train your neural network.')\n",
    "else:\n",
    "    print('Default GPU Device: {}'.format(tf.test.gpu_device_name()))\n",
    "\n",
    "\n",
    "def load_vgg(sess, vgg_path):\n",
    "    \"\"\"\n",
    "    Load Pretrained VGG Model into TensorFlow.\n",
    "    :param sess: TensorFlow Session\n",
    "    :param vgg_path: Path to vgg folder, containing \"variables/\" and \"saved_model.pb\"\n",
    "    :return: Tuple of Tensors from VGG model (image_input, keep_prob, layer3_out, layer4_out, layer7_out)\n",
    "    \"\"\"\n",
    "    # TODO: Implement function\n",
    "    #   Use tf.saved_model.loader.load to load the model and weights\n",
    "    vgg_tag = 'vgg16'\n",
    "    vgg_input_tensor_name = 'image_input:0'\n",
    "    vgg_keep_prob_tensor_name = 'keep_prob:0'\n",
    "    vgg_layer3_out_tensor_name = 'layer3_out:0'\n",
    "    vgg_layer4_out_tensor_name = 'layer4_out:0'\n",
    "    vgg_layer7_out_tensor_name = 'layer7_out:0'\n",
    "\n",
    "    graph = tf.get_default_graph()\n",
    "    tf.saved_model.loader.load(sess, [vgg_tag], vgg_path)\n",
    "    input = graph.get_tensor_by_name(vgg_input_tensor_name)\n",
    "    keep_prob = graph.get_tensor_by_name(vgg_keep_prob_tensor_name)\n",
    "    layer3 = graph.get_tensor_by_name(vgg_layer3_out_tensor_name)\n",
    "    layer4 = graph.get_tensor_by_name(vgg_layer4_out_tensor_name)\n",
    "    layer7 = graph.get_tensor_by_name(vgg_layer7_out_tensor_name)\n",
    "    return input, keep_prob, layer3, layer4, layer7\n",
    "\n",
    "\n",
    "def layers(vgg_layer3_out, vgg_layer4_out, vgg_layer7_out, num_classes):\n",
    "    \"\"\"\n",
    "    Create the layers for a fully convolutional network.  Build skip-layers using the vgg layers.\n",
    "    :param vgg_layer3_out: TF Tensor for VGG Layer 3 output\n",
    "    :param vgg_layer4_out: TF Tensor for VGG Layer 4 output\n",
    "    :param vgg_layer7_out: TF Tensor for VGG Layer 7 output\n",
    "    :param num_classes: Number of classes to classify\n",
    "    :return: The Tensor for the last layer of output\n",
    "    \"\"\"\n",
    "    # TODO: Implement function\n",
    "    layer7_conv_1x1 = tf.layers.conv2d(vgg_layer7_out, num_classes, 1, 1,\n",
    "                                       padding='same', kernel_initializer= tf.random_normal_initializer(stddev=STDEV),\n",
    "                                       kernel_regularizer=tf.contrib.layers.l2_regularizer(L2_REG), name='conv_1_1_1',activation = tf.nn.relu)\n",
    "\n",
    "   # layer7_conv_1x1 = tf.layers.batch_normalization(layer7_conv_1x1)\n",
    "\n",
    "    output = tf.layers.conv2d_transpose(layer7_conv_1x1, num_classes, 4, 2,\n",
    "                                        padding='same', kernel_initializer= tf.random_normal_initializer(stddev=STDEV),\n",
    "                                        kernel_regularizer=tf.contrib.layers.l2_regularizer(L2_REG), name='conv_1_1_2',activation = tf.nn.relu)\n",
    "    #output = keras.layers.UpSampling2D(size=(2,2),data_format=None,interpolation='bilinear')(layer7_conv_1x1)\n",
    "\n",
    "    layer4_conv_1x1 = tf.layers.conv2d(vgg_layer4_out, num_classes, 1, 1,\n",
    "                                       padding='same', kernel_initializer= tf.random_normal_initializer(stddev=STDEV),\n",
    "                                       kernel_regularizer=tf.contrib.layers.l2_regularizer(L2_REG), name='conv_1_1_3',activation = tf.nn.relu)\n",
    "    #layer4_conv_1x1 = tf.layers.batch_normalization(layer4_conv_1x1)\n",
    "\n",
    "    output = tf.add(output, layer4_conv_1x1, name='conv_1_1_4')\n",
    "    output = tf.layers.batch_normalization(output)\n",
    "\n",
    "    #output = keras.layers.UpSampling2D(size=(2,2),data_format=None,interpolation='bilinear')(output)\n",
    "\n",
    "\n",
    "    output = tf.layers.conv2d_transpose(output, num_classes, 4, 2,\n",
    "                                       padding='same', kernel_initializer= tf.random_normal_initializer(stddev=STDEV),\n",
    "                                        kernel_regularizer=tf.contrib.layers.l2_regularizer(L2_REG),  name='conv_1_1_5',activation = tf.nn.relu)\n",
    "    layer3_conv_1x1 = tf.layers.conv2d(vgg_layer3_out, num_classes, 1, 1,\n",
    "                                       padding='same', kernel_initializer= tf.random_normal_initializer(stddev=STDEV),\n",
    "                                       kernel_regularizer=tf.contrib.layers.l2_regularizer(L2_REG), name='conv_1_1_6',activation = tf.nn.relu)\n",
    "    output = tf.add(output, layer3_conv_1x1,  name='conv_1_1_7')\n",
    "    output = tf.layers.batch_normalization(output)\n",
    "\n",
    "    #output = keras.layers.UpSampling2D(size=(8,8),data_format=None,interpolation='bilinear')(output)\n",
    "    output = tf.layers.conv2d_transpose(output, num_classes, 16, 8,\n",
    "                                        padding='same', kernel_initializer= tf.random_normal_initializer(stddev=STDEV),\n",
    "                                        kernel_regularizer=tf.contrib.layers.l2_regularizer(L2_REG),  name='conv_1_1_8',activation = tf.nn.relu)\n",
    "\n",
    "    return output\n",
    "\n",
    "\n",
    "\n",
    "def optimize(nn_last_layer, correct_label, learning_rate, num_classes):\n",
    "    \"\"\"\n",
    "    Build the TensorFLow loss and optimizer operations.\n",
    "    :param nn_last_layer: TF Tensor of the last layer in the neural network\n",
    "    :param correct_label: TF Placeholder for the correct label image\n",
    "    :param learning_rate: TF Placeholder for the learning rate\n",
    "    :param num_classes: Number of classes to classify\n",
    "    :return: Tuple of (logits, train_op, cross_entropy_loss)\n",
    "    \"\"\"\n",
    "    # TODO: Implement function\n",
    "\n",
    "    logits = tf.reshape(nn_last_layer, (-1, num_classes), name='logits')\n",
    "    labels = tf.reshape(correct_label, (-1, num_classes), name='labels')\n",
    "    cross_entropy_loss = tf.reduce_mean(tf.nn.softmax_cross_entropy_with_logits(logits=logits, labels=labels))\n",
    "    softmax = tf.nn.softmax(logits, name='softmax')\n",
    "    \n",
    "   # global_step = tf.Variable(0, trainable=False)\n",
    "\n",
    "#     train_op = tf.train.AdamOptimizer(learning_rate=\n",
    "#                                       cyclic_learning_rate(global_step=global_step,\n",
    "#                                                                mode='triangular2')).minimize(cross_entropy_loss,global_step=global_step)\n",
    "    train_op = tf.train.AdamOptimizer(learning_rate=0.0005).minimize(cross_entropy_loss)\n",
    "\n",
    "#     gradients = optimizer.compute_gradients(cross_entropy_loss)\n",
    "#     capped_gvs = [(tf.clip_by_value(grad, -.5, .5), var) for grad, var in gradients]\n",
    "#     train_op = optimizer.apply_gradients(capped_gvs)\n",
    "\n",
    "    return logits, train_op, cross_entropy_loss\n",
    "\n",
    "\n",
    "\n",
    "def train_nn_sky(sess, epochs, batch_size, get_batches_fn, train_op, cross_entropy_loss, input_image,\n",
    "             correct_label, keep_prob, learning_rate, X_train, y_train, label_values, X_val, y_val):\n",
    "    \"\"\"\n",
    "    Train neural network and print out the loss during training.\n",
    "    :param sess: TF Session\n",
    "    :param epochs: Number of epochs\n",
    "    :param batch_size: Batch size\n",
    "    :param get_batches_fn: Function to get batches of training data.  Call using get_batches_fn(batch_size)\n",
    "    :param train_op: TF Operation to train the neural network\n",
    "    :param cross_entropy_loss: TF Tensor for the amount of loss\n",
    "    :param input_image: TF Placeholder for input images\n",
    "    :param correct_label: TF Placeholder for label images\n",
    "    :param keep_prob: TF Placeholder for dropout keep probability\n",
    "    :param learning_rate: TF Placeholder for learning rate\n",
    "    \"\"\"\n",
    "    image_shape = (160, 576)  # KITTI dataset uses 160x576 images\n",
    "    data_dir = './data'\n",
    "    runs_dir = './runs'\n",
    "\n",
    "   \n",
    "    for epoch in range(epochs):\n",
    "        print('epoch : ', epoch)\n",
    "        for image, targets in get_batches_fn(X_train, y_train, label_values, batch_size):\n",
    "            _, loss = sess.run([train_op, cross_entropy_loss],\n",
    "                               feed_dict={input_image: image, correct_label: targets, keep_prob: KEEP_PROB,\n",
    "                                          learning_rate:LEARNING_RATE})\n",
    "#         assign_op = global_step.assign(epoch)\n",
    "#         sess.run(assign_op)\n",
    "        # Print data on the learning process\n",
    "\n",
    "            print(\"Epoch: {}\".format(epoch + 1), \"/ {}\".format(epochs), \" Loss: {:.3f}\".format(loss))\n",
    "        \n",
    "        mean_loss = []\n",
    "        for image, targets in get_batches_fn(X_val, y_val, label_values, batch_size, is_train=False):\n",
    "            loss = sess.run([cross_entropy_loss],\n",
    "                               feed_dict={input_image: image, correct_label: targets, keep_prob:1})\n",
    "            mean_loss.append(loss)\n",
    "\n",
    "        mean_loss_ = np.mean(np.array(mean_loss))\n",
    "        print(\"Epoch: {}\".format(epoch + 1), \"/ {}\".format(epochs), \" Validation Loss: {:.3f}\".format(mean_loss_))\n",
    "        \n",
    "        print('saving model')\n",
    "        saver.save(sess, './model')\n",
    "\n",
    "        # validate_nn(sess, epochs, 1, get_batches_fn_valid, train_op, cross_entropy_loss, input, correct_label,\n",
    "        #             keep_prob, learning_rate)\n",
    "\n"
   ]
  },
  {
   "cell_type": "code",
   "execution_count": 45,
   "metadata": {},
   "outputs": [
    {
     "name": "stdout",
     "output_type": "stream",
     "text": [
      "[(0, 0, 0), (111, 74, 0), (81, 0, 81), (128, 64, 128), (244, 35, 232), (250, 170, 160), (230, 150, 140), (70, 70, 70), (102, 102, 156), (190, 153, 153), (180, 165, 180), (150, 100, 100), (150, 120, 90), (153, 153, 153), (250, 170, 30), (220, 220, 0), (107, 142, 35), (152, 251, 152), (70, 130, 180), (220, 20, 60), (255, 0, 0), (0, 0, 142), (0, 0, 70), (0, 60, 100), (0, 0, 90), (0, 0, 110), (0, 80, 100), (0, 0, 230), (119, 11, 32)]\n"
     ]
    }
   ],
   "source": [
    "print(label_values)"
   ]
  },
  {
   "cell_type": "code",
   "execution_count": 46,
   "metadata": {
    "scrolled": false
   },
   "outputs": [
    {
     "name": "stdout",
     "output_type": "stream",
     "text": [
      "test_1\n",
      "test_1\n",
      "Tests Passed\n",
      "run\n",
      "INFO:tensorflow:Restoring parameters from ./data\\vgg\\variables\\variables\n",
      "Tensor(\"image_input:0\", shape=(?, ?, ?, 3), dtype=float32)\n",
      "epoch :  0\n",
      "Epoch: 1 / 30  Loss: 10.173\n",
      "Epoch: 1 / 30  Loss: 3.702\n",
      "Epoch: 1 / 30  Loss: 3.310\n",
      "Epoch: 1 / 30  Loss: 3.281\n",
      "Epoch: 1 / 30  Loss: 3.159\n",
      "Epoch: 1 / 30  Loss: 3.444\n",
      "Epoch: 1 / 30  Loss: 3.008\n",
      "Epoch: 1 / 30  Loss: 3.050\n",
      "Epoch: 1 / 30  Loss: 2.950\n",
      "Epoch: 1 / 30  Loss: 2.862\n",
      "Epoch: 1 / 30  Loss: 2.679\n",
      "Epoch: 1 / 30  Loss: 2.720\n",
      "Epoch: 1 / 30  Loss: 2.586\n",
      "Epoch: 1 / 30  Loss: 2.523\n",
      "Epoch: 1 / 30  Loss: 2.456\n",
      "Epoch: 1 / 30  Loss: 2.515\n",
      "Epoch: 1 / 30  Loss: 2.378\n",
      "Epoch: 1 / 30  Loss: 2.284\n",
      "Epoch: 1 / 30  Loss: 2.301\n",
      "Epoch: 1 / 30  Loss: 2.279\n",
      "Epoch: 1 / 30  Loss: 2.358\n",
      "Epoch: 1 / 30  Loss: 2.302\n",
      "Epoch: 1 / 30  Loss: 2.230\n",
      "Epoch: 1 / 30  Loss: 2.195\n",
      "Epoch: 1 / 30  Loss: 2.258\n",
      "Epoch: 1 / 30  Loss: 2.359\n",
      "Epoch: 1 / 30  Loss: 2.174\n",
      "Epoch: 1 / 30  Loss: 2.300\n",
      "Epoch: 1 / 30  Loss: 2.065\n",
      "Epoch: 1 / 30  Loss: 2.184\n",
      "Epoch: 1 / 30  Loss: 2.214\n",
      "Epoch: 1 / 30  Loss: 2.161\n",
      "Epoch: 1 / 30  Loss: 2.149\n",
      "Epoch: 1 / 30  Loss: 2.103\n",
      "Epoch: 1 / 30  Loss: 2.032\n",
      "Epoch: 1 / 30  Loss: 1.982\n",
      "Epoch: 1 / 30  Loss: 2.165\n",
      "Epoch: 1 / 30  Loss: 2.062\n",
      "Epoch: 1 / 30  Loss: 1.984\n",
      "Epoch: 1 / 30  Loss: 1.884\n",
      "Epoch: 1 / 30  Loss: 1.821\n",
      "Epoch: 1 / 30  Loss: 1.684\n",
      "Epoch: 1 / 30  Loss: 1.740\n",
      "Epoch: 1 / 30  Loss: 1.853\n",
      "Epoch: 1 / 30  Loss: 1.619\n",
      "Epoch: 1 / 30  Loss: 1.564\n",
      "Epoch: 1 / 30  Loss: 1.670\n",
      "Epoch: 1 / 30  Loss: 1.618\n",
      "Epoch: 1 / 30  Loss: 1.555\n",
      "Epoch: 1 / 30  Loss: 1.668\n",
      "Epoch: 1 / 30  Loss: 1.623\n",
      "Epoch: 1 / 30  Loss: 1.545\n",
      "Epoch: 1 / 30  Loss: 1.452\n",
      "Epoch: 1 / 30  Loss: 1.527\n",
      "Epoch: 1 / 30  Loss: 1.448\n",
      "Epoch: 1 / 30  Loss: 1.642\n",
      "Epoch: 1 / 30  Loss: 1.549\n",
      "Epoch: 1 / 30  Loss: 1.519\n",
      "Epoch: 1 / 30  Loss: 1.621\n",
      "Epoch: 1 / 30  Loss: 1.517\n",
      "Epoch: 1 / 30  Loss: 1.454\n",
      "Epoch: 1 / 30  Loss: 1.543\n",
      "Epoch: 1 / 30  Loss: 1.505\n",
      "Epoch: 1 / 30  Loss: 1.433\n",
      "Epoch: 1 / 30  Loss: 1.391\n",
      "Epoch: 1 / 30  Loss: 1.549\n",
      "Epoch: 1 / 30  Loss: 1.447\n",
      "Epoch: 1 / 30  Loss: 1.508\n",
      "Epoch: 1 / 30  Loss: 1.467\n",
      "Epoch: 1 / 30  Loss: 1.370\n",
      "Epoch: 1 / 30  Loss: 1.284\n",
      "Epoch: 1 / 30  Loss: 1.369\n",
      "Epoch: 1 / 30  Loss: 1.259\n",
      "Epoch: 1 / 30  Loss: 1.373\n",
      "Epoch: 1 / 30  Loss: 1.329\n",
      "Epoch: 1 / 30  Loss: 1.263\n",
      "Epoch: 1 / 30  Loss: 1.299\n",
      "Epoch: 1 / 30  Loss: 1.334\n",
      "Epoch: 1 / 30  Loss: 1.265\n",
      "Epoch: 1 / 30  Loss: 1.301\n",
      "Epoch: 1 / 30  Loss: 1.413\n",
      "Epoch: 1 / 30  Loss: 1.321\n",
      "Epoch: 1 / 30  Loss: 1.459\n",
      "Epoch: 1 / 30  Loss: 1.366\n",
      "Epoch: 1 / 30  Loss: 1.216\n",
      "Epoch: 1 / 30  Loss: 1.303\n",
      "Epoch: 1 / 30  Loss: 1.303\n",
      "Epoch: 1 / 30  Loss: 1.494\n",
      "Epoch: 1 / 30  Loss: 1.361\n",
      "Epoch: 1 / 30  Loss: 1.226\n",
      "Epoch: 1 / 30  Loss: 1.511\n",
      "Epoch: 1 / 30  Loss: 1.298\n",
      "Epoch: 1 / 30  Loss: 1.295\n",
      "Epoch: 1 / 30  Loss: 1.277\n",
      "Epoch: 1 / 30  Loss: 1.319\n",
      "Epoch: 1 / 30  Loss: 1.274\n",
      "Epoch: 1 / 30  Loss: 1.395\n",
      "Epoch: 1 / 30  Loss: 1.174\n",
      "Epoch: 1 / 30  Loss: 1.283\n",
      "Epoch: 1 / 30  Loss: 1.401\n",
      "Epoch: 1 / 30  Loss: 1.273\n",
      "Epoch: 1 / 30  Loss: 1.231\n",
      "Epoch: 1 / 30  Loss: 1.262\n",
      "Epoch: 1 / 30  Loss: 1.197\n",
      "Epoch: 1 / 30  Loss: 1.096\n",
      "Epoch: 1 / 30  Loss: 1.251\n",
      "Epoch: 1 / 30  Loss: 1.141\n",
      "Epoch: 1 / 30  Loss: 1.238\n",
      "Epoch: 1 / 30  Loss: 1.410\n",
      "Epoch: 1 / 30  Loss: 1.275\n",
      "Epoch: 1 / 30  Loss: 1.331\n",
      "Epoch: 1 / 30  Loss: 1.093\n",
      "Epoch: 1 / 30  Loss: 1.274\n",
      "Epoch: 1 / 30  Loss: 1.319\n",
      "Epoch: 1 / 30  Loss: 1.194\n",
      "Epoch: 1 / 30  Loss: 1.441\n",
      "Epoch: 1 / 30  Loss: 1.302\n",
      "Epoch: 1 / 30  Loss: 1.325\n",
      "Epoch: 1 / 30  Loss: 1.464\n",
      "Epoch: 1 / 30  Validation Loss: 1.274\n",
      "saving model\n",
      "epoch :  1\n",
      "Epoch: 2 / 30  Loss: 1.191\n",
      "Epoch: 2 / 30  Loss: 1.210\n",
      "Epoch: 2 / 30  Loss: 1.228\n",
      "Epoch: 2 / 30  Loss: 1.162\n",
      "Epoch: 2 / 30  Loss: 1.152\n",
      "Epoch: 2 / 30  Loss: 1.232\n",
      "Epoch: 2 / 30  Loss: 1.167\n",
      "Epoch: 2 / 30  Loss: 1.239\n",
      "Epoch: 2 / 30  Loss: 1.148\n",
      "Epoch: 2 / 30  Loss: 1.271\n",
      "Epoch: 2 / 30  Loss: 1.287\n",
      "Epoch: 2 / 30  Loss: 1.179\n",
      "Epoch: 2 / 30  Loss: 1.176\n",
      "Epoch: 2 / 30  Loss: 1.131\n",
      "Epoch: 2 / 30  Loss: 1.147\n",
      "Epoch: 2 / 30  Loss: 1.229\n",
      "Epoch: 2 / 30  Loss: 1.125\n",
      "Epoch: 2 / 30  Loss: 1.282\n",
      "Epoch: 2 / 30  Loss: 1.075\n",
      "Epoch: 2 / 30  Loss: 1.100\n",
      "Epoch: 2 / 30  Loss: 1.218\n",
      "Epoch: 2 / 30  Loss: 1.056\n",
      "Epoch: 2 / 30  Loss: 1.289\n",
      "Epoch: 2 / 30  Loss: 1.228\n",
      "Epoch: 2 / 30  Loss: 1.206\n",
      "Epoch: 2 / 30  Loss: 1.330\n",
      "Epoch: 2 / 30  Loss: 1.084\n",
      "Epoch: 2 / 30  Loss: 1.114\n",
      "Epoch: 2 / 30  Loss: 1.168\n",
      "Epoch: 2 / 30  Loss: 1.276\n",
      "Epoch: 2 / 30  Loss: 1.126\n",
      "Epoch: 2 / 30  Loss: 1.134\n",
      "Epoch: 2 / 30  Loss: 1.177\n",
      "Epoch: 2 / 30  Loss: 1.155\n",
      "Epoch: 2 / 30  Loss: 1.270\n",
      "Epoch: 2 / 30  Loss: 1.041\n",
      "Epoch: 2 / 30  Loss: 1.105\n",
      "Epoch: 2 / 30  Loss: 1.159\n",
      "Epoch: 2 / 30  Loss: 1.214\n",
      "Epoch: 2 / 30  Loss: 1.204\n",
      "Epoch: 2 / 30  Loss: 1.187\n",
      "Epoch: 2 / 30  Loss: 1.048\n",
      "Epoch: 2 / 30  Loss: 0.995\n",
      "Epoch: 2 / 30  Loss: 1.042\n",
      "Epoch: 2 / 30  Loss: 1.348\n",
      "Epoch: 2 / 30  Loss: 1.347\n",
      "Epoch: 2 / 30  Loss: 1.164\n",
      "Epoch: 2 / 30  Loss: 1.251\n",
      "Epoch: 2 / 30  Loss: 0.911\n",
      "Epoch: 2 / 30  Loss: 1.209\n",
      "Epoch: 2 / 30  Loss: 1.242\n",
      "Epoch: 2 / 30  Loss: 1.213\n",
      "Epoch: 2 / 30  Loss: 1.074\n",
      "Epoch: 2 / 30  Loss: 1.074\n",
      "Epoch: 2 / 30  Loss: 1.221\n",
      "Epoch: 2 / 30  Loss: 1.396\n",
      "Epoch: 2 / 30  Loss: 1.108\n",
      "Epoch: 2 / 30  Loss: 1.103\n",
      "Epoch: 2 / 30  Loss: 1.128\n",
      "Epoch: 2 / 30  Loss: 1.141\n",
      "Epoch: 2 / 30  Loss: 1.097\n",
      "Epoch: 2 / 30  Loss: 1.417\n",
      "Epoch: 2 / 30  Loss: 1.452\n",
      "Epoch: 2 / 30  Loss: 1.436\n",
      "Epoch: 2 / 30  Loss: 1.265\n",
      "Epoch: 2 / 30  Loss: 1.503\n",
      "Epoch: 2 / 30  Loss: 1.063\n",
      "Epoch: 2 / 30  Loss: 1.160\n",
      "Epoch: 2 / 30  Loss: 1.098\n",
      "Epoch: 2 / 30  Loss: 0.957\n",
      "Epoch: 2 / 30  Loss: 1.110\n",
      "Epoch: 2 / 30  Loss: 1.062\n",
      "Epoch: 2 / 30  Loss: 1.092\n",
      "Epoch: 2 / 30  Loss: 1.319\n",
      "Epoch: 2 / 30  Loss: 1.226\n",
      "Epoch: 2 / 30  Loss: 1.121\n",
      "Epoch: 2 / 30  Loss: 1.074\n",
      "Epoch: 2 / 30  Loss: 1.104\n",
      "Epoch: 2 / 30  Loss: 1.148\n",
      "Epoch: 2 / 30  Loss: 1.049\n",
      "Epoch: 2 / 30  Loss: 0.972\n",
      "Epoch: 2 / 30  Loss: 1.170\n",
      "Epoch: 2 / 30  Loss: 1.049\n",
      "Epoch: 2 / 30  Loss: 1.097\n",
      "Epoch: 2 / 30  Loss: 0.980\n",
      "Epoch: 2 / 30  Loss: 1.032\n",
      "Epoch: 2 / 30  Loss: 1.087\n",
      "Epoch: 2 / 30  Loss: 1.137\n",
      "Epoch: 2 / 30  Loss: 1.114\n",
      "Epoch: 2 / 30  Loss: 1.036\n",
      "Epoch: 2 / 30  Loss: 1.087\n",
      "Epoch: 2 / 30  Loss: 1.005\n",
      "Epoch: 2 / 30  Loss: 1.113\n",
      "Epoch: 2 / 30  Loss: 0.969\n",
      "Epoch: 2 / 30  Loss: 1.008\n",
      "Epoch: 2 / 30  Loss: 1.172\n",
      "Epoch: 2 / 30  Loss: 1.064\n",
      "Epoch: 2 / 30  Loss: 1.126\n",
      "Epoch: 2 / 30  Loss: 0.932\n",
      "Epoch: 2 / 30  Loss: 0.980\n",
      "Epoch: 2 / 30  Loss: 0.942\n",
      "Epoch: 2 / 30  Loss: 1.082\n",
      "Epoch: 2 / 30  Loss: 0.923\n",
      "Epoch: 2 / 30  Loss: 1.057\n",
      "Epoch: 2 / 30  Loss: 1.044\n",
      "Epoch: 2 / 30  Loss: 0.989\n",
      "Epoch: 2 / 30  Loss: 1.195\n",
      "Epoch: 2 / 30  Loss: 1.067\n",
      "Epoch: 2 / 30  Loss: 1.114\n",
      "Epoch: 2 / 30  Loss: 0.864\n",
      "Epoch: 2 / 30  Loss: 0.968\n",
      "Epoch: 2 / 30  Loss: 1.099\n",
      "Epoch: 2 / 30  Loss: 1.197\n",
      "Epoch: 2 / 30  Loss: 0.881\n",
      "Epoch: 2 / 30  Loss: 1.043\n",
      "Epoch: 2 / 30  Loss: 1.114\n",
      "Epoch: 2 / 30  Loss: 1.019\n",
      "Epoch: 2 / 30  Loss: 0.977\n",
      "Epoch: 2 / 30  Loss: 0.966\n",
      "Epoch: 2 / 30  Validation Loss: 1.005\n",
      "saving model\n",
      "epoch :  2\n",
      "Epoch: 3 / 30  Loss: 0.829\n",
      "Epoch: 3 / 30  Loss: 0.974\n",
      "Epoch: 3 / 30  Loss: 0.908\n",
      "Epoch: 3 / 30  Loss: 1.027\n",
      "Epoch: 3 / 30  Loss: 0.938\n",
      "Epoch: 3 / 30  Loss: 0.765\n",
      "Epoch: 3 / 30  Loss: 1.076\n",
      "Epoch: 3 / 30  Loss: 0.875\n",
      "Epoch: 3 / 30  Loss: 1.028\n",
      "Epoch: 3 / 30  Loss: 0.995\n",
      "Epoch: 3 / 30  Loss: 0.968\n",
      "Epoch: 3 / 30  Loss: 1.030\n",
      "Epoch: 3 / 30  Loss: 1.003\n",
      "Epoch: 3 / 30  Loss: 1.050\n",
      "Epoch: 3 / 30  Loss: 1.044\n",
      "Epoch: 3 / 30  Loss: 0.889\n",
      "Epoch: 3 / 30  Loss: 1.012\n",
      "Epoch: 3 / 30  Loss: 0.847\n",
      "Epoch: 3 / 30  Loss: 1.169\n",
      "Epoch: 3 / 30  Loss: 0.955\n",
      "Epoch: 3 / 30  Loss: 0.952\n",
      "Epoch: 3 / 30  Loss: 0.898\n",
      "Epoch: 3 / 30  Loss: 0.891\n",
      "Epoch: 3 / 30  Loss: 0.913\n",
      "Epoch: 3 / 30  Loss: 0.830\n",
      "Epoch: 3 / 30  Loss: 1.063\n"
     ]
    },
    {
     "ename": "KeyboardInterrupt",
     "evalue": "",
     "output_type": "error",
     "traceback": [
      "\u001b[0;31m---------------------------------------------------------------------------\u001b[0m",
      "\u001b[0;31mKeyboardInterrupt\u001b[0m                         Traceback (most recent call last)",
      "\u001b[0;32m<ipython-input-46-558f86ec6898>\u001b[0m in \u001b[0;36m<module>\u001b[0;34m()\u001b[0m\n\u001b[1;32m     38\u001b[0m \u001b[0;34m\u001b[0m\u001b[0m\n\u001b[1;32m     39\u001b[0m     train_nn_sky(sess, epochs, batch_size, get_batches_fn, train_op, cross_entropy_loss, input, correct_label,\n\u001b[0;32m---> 40\u001b[0;31m              keep_prob, learning_rate, X_train, y_train, label_values, X_val, y_val)\n\u001b[0m\u001b[1;32m     41\u001b[0m \u001b[0;34m\u001b[0m\u001b[0m\n\u001b[1;32m     42\u001b[0m \u001b[0;34m\u001b[0m\u001b[0m\n",
      "\u001b[0;32m<ipython-input-44-b34395323499>\u001b[0m in \u001b[0;36mtrain_nn_sky\u001b[0;34m(sess, epochs, batch_size, get_batches_fn, train_op, cross_entropy_loss, input_image, correct_label, keep_prob, learning_rate, X_train, y_train, label_values, X_val, y_val)\u001b[0m\n\u001b[1;32m    140\u001b[0m     \u001b[0;32mfor\u001b[0m \u001b[0mepoch\u001b[0m \u001b[0;32min\u001b[0m \u001b[0mrange\u001b[0m\u001b[0;34m(\u001b[0m\u001b[0mepochs\u001b[0m\u001b[0;34m)\u001b[0m\u001b[0;34m:\u001b[0m\u001b[0;34m\u001b[0m\u001b[0m\n\u001b[1;32m    141\u001b[0m         \u001b[0mprint\u001b[0m\u001b[0;34m(\u001b[0m\u001b[0;34m'epoch : '\u001b[0m\u001b[0;34m,\u001b[0m \u001b[0mepoch\u001b[0m\u001b[0;34m)\u001b[0m\u001b[0;34m\u001b[0m\u001b[0m\n\u001b[0;32m--> 142\u001b[0;31m         \u001b[0;32mfor\u001b[0m \u001b[0mimage\u001b[0m\u001b[0;34m,\u001b[0m \u001b[0mtargets\u001b[0m \u001b[0;32min\u001b[0m \u001b[0mget_batches_fn\u001b[0m\u001b[0;34m(\u001b[0m\u001b[0mX_train\u001b[0m\u001b[0;34m,\u001b[0m \u001b[0my_train\u001b[0m\u001b[0;34m,\u001b[0m \u001b[0mlabel_values\u001b[0m\u001b[0;34m,\u001b[0m \u001b[0mbatch_size\u001b[0m\u001b[0;34m)\u001b[0m\u001b[0;34m:\u001b[0m\u001b[0;34m\u001b[0m\u001b[0m\n\u001b[0m\u001b[1;32m    143\u001b[0m             _, loss = sess.run([train_op, cross_entropy_loss],\n\u001b[1;32m    144\u001b[0m                                feed_dict={input_image: image, correct_label: targets, keep_prob: KEEP_PROB,\n",
      "\u001b[0;32m<ipython-input-43-30f9c3d5063a>\u001b[0m in \u001b[0;36mgen_batch_function\u001b[0;34m(samplesX, samplesY, label_values, batch_size, is_train)\u001b[0m\n\u001b[1;32m    163\u001b[0m             \u001b[0;32mif\u001b[0m \u001b[0mis_train\u001b[0m\u001b[0;34m:\u001b[0m\u001b[0;34m\u001b[0m\u001b[0m\n\u001b[1;32m    164\u001b[0m                 \u001b[0mx\u001b[0m\u001b[0;34m,\u001b[0m \u001b[0my\u001b[0m \u001b[0;34m=\u001b[0m \u001b[0mdata_augmentation\u001b[0m\u001b[0;34m(\u001b[0m\u001b[0mx\u001b[0m\u001b[0;34m,\u001b[0m \u001b[0my\u001b[0m\u001b[0;34m)\u001b[0m\u001b[0;34m\u001b[0m\u001b[0m\n\u001b[0;32m--> 165\u001b[0;31m             \u001b[0my\u001b[0m \u001b[0;34m=\u001b[0m \u001b[0mnp\u001b[0m\u001b[0;34m.\u001b[0m\u001b[0mfloat32\u001b[0m\u001b[0;34m(\u001b[0m\u001b[0mone_hot_it\u001b[0m\u001b[0;34m(\u001b[0m\u001b[0my\u001b[0m\u001b[0;34m,\u001b[0m \u001b[0mlabel_values\u001b[0m\u001b[0;34m=\u001b[0m\u001b[0mlabel_values\u001b[0m\u001b[0;34m)\u001b[0m\u001b[0;34m)\u001b[0m\u001b[0;34m\u001b[0m\u001b[0m\n\u001b[0m\u001b[1;32m    166\u001b[0m             \u001b[0mX_f\u001b[0m\u001b[0;34m.\u001b[0m\u001b[0mappend\u001b[0m\u001b[0;34m(\u001b[0m\u001b[0mx\u001b[0m\u001b[0;34m)\u001b[0m\u001b[0;34m\u001b[0m\u001b[0m\n\u001b[1;32m    167\u001b[0m             \u001b[0my_f\u001b[0m\u001b[0;34m.\u001b[0m\u001b[0mappend\u001b[0m\u001b[0;34m(\u001b[0m\u001b[0my\u001b[0m\u001b[0;34m)\u001b[0m\u001b[0;34m\u001b[0m\u001b[0m\n",
      "\u001b[0;32mC:\\Users\\Kiko-PC\\Documents\\CarND-Semantic-Segmentation\\cityscapes_helper.py\u001b[0m in \u001b[0;36mone_hot_it\u001b[0;34m(label, label_values)\u001b[0m\n\u001b[1;32m    160\u001b[0m     \u001b[0;32mfor\u001b[0m \u001b[0mcolor\u001b[0m \u001b[0;32min\u001b[0m \u001b[0mlabel_values\u001b[0m\u001b[0;34m:\u001b[0m\u001b[0;34m\u001b[0m\u001b[0m\n\u001b[1;32m    161\u001b[0m         \u001b[0mequality\u001b[0m \u001b[0;34m=\u001b[0m \u001b[0mnp\u001b[0m\u001b[0;34m.\u001b[0m\u001b[0mequal\u001b[0m\u001b[0;34m(\u001b[0m\u001b[0mlabel\u001b[0m\u001b[0;34m,\u001b[0m \u001b[0mcolor\u001b[0m\u001b[0;34m)\u001b[0m\u001b[0;34m\u001b[0m\u001b[0m\n\u001b[0;32m--> 162\u001b[0;31m         \u001b[0mclass_map\u001b[0m \u001b[0;34m=\u001b[0m \u001b[0mnp\u001b[0m\u001b[0;34m.\u001b[0m\u001b[0mall\u001b[0m\u001b[0;34m(\u001b[0m\u001b[0mequality\u001b[0m\u001b[0;34m,\u001b[0m \u001b[0maxis\u001b[0m\u001b[0;34m=\u001b[0m\u001b[0;34m-\u001b[0m\u001b[0;36m1\u001b[0m\u001b[0;34m)\u001b[0m\u001b[0;34m\u001b[0m\u001b[0m\n\u001b[0m\u001b[1;32m    163\u001b[0m         \u001b[0msemantic_encoding\u001b[0m\u001b[0;34m.\u001b[0m\u001b[0mappend\u001b[0m\u001b[0;34m(\u001b[0m\u001b[0mclass_map\u001b[0m\u001b[0;34m)\u001b[0m\u001b[0;34m\u001b[0m\u001b[0m\n\u001b[1;32m    164\u001b[0m     \u001b[0msemantic_map\u001b[0m \u001b[0;34m=\u001b[0m \u001b[0mnp\u001b[0m\u001b[0;34m.\u001b[0m\u001b[0mstack\u001b[0m\u001b[0;34m(\u001b[0m\u001b[0msemantic_encoding\u001b[0m\u001b[0;34m,\u001b[0m \u001b[0maxis\u001b[0m\u001b[0;34m=\u001b[0m\u001b[0;34m-\u001b[0m\u001b[0;36m1\u001b[0m\u001b[0;34m)\u001b[0m\u001b[0;34m\u001b[0m\u001b[0m\n",
      "\u001b[0;32mC:\\Users\\Kiko-PC\\Anaconda3\\envs\\tensorflow\\lib\\site-packages\\numpy\\core\\fromnumeric.py\u001b[0m in \u001b[0;36mall\u001b[0;34m(a, axis, out, keepdims)\u001b[0m\n\u001b[1;32m   2087\u001b[0m \u001b[0;34m\u001b[0m\u001b[0m\n\u001b[1;32m   2088\u001b[0m     \"\"\"\n\u001b[0;32m-> 2089\u001b[0;31m     \u001b[0;32mreturn\u001b[0m \u001b[0m_wrapreduction\u001b[0m\u001b[0;34m(\u001b[0m\u001b[0ma\u001b[0m\u001b[0;34m,\u001b[0m \u001b[0mnp\u001b[0m\u001b[0;34m.\u001b[0m\u001b[0mlogical_and\u001b[0m\u001b[0;34m,\u001b[0m \u001b[0;34m'all'\u001b[0m\u001b[0;34m,\u001b[0m \u001b[0maxis\u001b[0m\u001b[0;34m,\u001b[0m \u001b[0;32mNone\u001b[0m\u001b[0;34m,\u001b[0m \u001b[0mout\u001b[0m\u001b[0;34m,\u001b[0m \u001b[0mkeepdims\u001b[0m\u001b[0;34m=\u001b[0m\u001b[0mkeepdims\u001b[0m\u001b[0;34m)\u001b[0m\u001b[0;34m\u001b[0m\u001b[0m\n\u001b[0m\u001b[1;32m   2090\u001b[0m \u001b[0;34m\u001b[0m\u001b[0m\n\u001b[1;32m   2091\u001b[0m \u001b[0;34m\u001b[0m\u001b[0m\n",
      "\u001b[0;32mC:\\Users\\Kiko-PC\\Anaconda3\\envs\\tensorflow\\lib\\site-packages\\numpy\\core\\fromnumeric.py\u001b[0m in \u001b[0;36m_wrapreduction\u001b[0;34m(obj, ufunc, method, axis, dtype, out, **kwargs)\u001b[0m\n\u001b[1;32m     81\u001b[0m                 \u001b[0;32mreturn\u001b[0m \u001b[0mreduction\u001b[0m\u001b[0;34m(\u001b[0m\u001b[0maxis\u001b[0m\u001b[0;34m=\u001b[0m\u001b[0maxis\u001b[0m\u001b[0;34m,\u001b[0m \u001b[0mout\u001b[0m\u001b[0;34m=\u001b[0m\u001b[0mout\u001b[0m\u001b[0;34m,\u001b[0m \u001b[0;34m**\u001b[0m\u001b[0mpasskwargs\u001b[0m\u001b[0;34m)\u001b[0m\u001b[0;34m\u001b[0m\u001b[0m\n\u001b[1;32m     82\u001b[0m \u001b[0;34m\u001b[0m\u001b[0m\n\u001b[0;32m---> 83\u001b[0;31m     \u001b[0;32mreturn\u001b[0m \u001b[0mufunc\u001b[0m\u001b[0;34m.\u001b[0m\u001b[0mreduce\u001b[0m\u001b[0;34m(\u001b[0m\u001b[0mobj\u001b[0m\u001b[0;34m,\u001b[0m \u001b[0maxis\u001b[0m\u001b[0;34m,\u001b[0m \u001b[0mdtype\u001b[0m\u001b[0;34m,\u001b[0m \u001b[0mout\u001b[0m\u001b[0;34m,\u001b[0m \u001b[0;34m**\u001b[0m\u001b[0mpasskwargs\u001b[0m\u001b[0;34m)\u001b[0m\u001b[0;34m\u001b[0m\u001b[0m\n\u001b[0m\u001b[1;32m     84\u001b[0m \u001b[0;34m\u001b[0m\u001b[0m\n\u001b[1;32m     85\u001b[0m \u001b[0;34m\u001b[0m\u001b[0m\n",
      "\u001b[0;31mKeyboardInterrupt\u001b[0m: "
     ]
    }
   ],
   "source": [
    "num_classes = 29\n",
    "image_shape = (160, 576)  # KITTI dataset uses 160x576 images\n",
    "data_dir = './data'\n",
    "runs_dir = './runs'\n",
    "tests.test_for_kitti_dataset(data_dir)\n",
    "epochs = 30\n",
    "batch_size = 25\n",
    "# Download pretrained vgg model\n",
    "helper.maybe_download_pretrained_vgg(data_dir)\n",
    "\n",
    "# OPTIONAL: Train and Inference on the cityscapes dataset instead of the Kitti dataset.\n",
    "# You'll need a GPU with at least 10 teraFLOPS to train on.\n",
    "#  https://www.cityscapes-dataset.com/\n",
    "\n",
    "#gpu_options = tf.GPUOptions(per_process_gpu_memory_fraction=0.333)\n",
    "print('run')\n",
    "\n",
    "\n",
    "tf.reset_default_graph()\n",
    "with tf.Session() as sess:\n",
    "\n",
    "    # Path to vgg model\n",
    "    vgg_path = os.path.join(data_dir, 'vgg')\n",
    "    # Create function to get batches\n",
    "    get_batches_fn = gen_batch_function\n",
    "\n",
    "    input, keep_prob, layer3, layer4, layer7 = load_vgg(sess, vgg_path)\n",
    "    print(input)\n",
    "    output = layers(layer3, layer4, layer7, num_classes)\n",
    "    correct_label = tf.placeholder(dtype=tf.float32, shape=(None, None, None, num_classes))\n",
    "    learning_rate = tf.placeholder(dtype=tf.float32)\n",
    "    logits, train_op, cross_entropy_loss = optimize(output, correct_label, learning_rate, num_classes)\n",
    "    sess.run(tf.global_variables_initializer())\n",
    "\n",
    "    saver = tf.train.Saver()  # Simple model saver\n",
    "\n",
    "    #saver.restore(sess, tf.train.latest_checkpoint('.'))\n",
    "\n",
    "    train_nn_sky(sess, epochs, batch_size, get_batches_fn, train_op, cross_entropy_loss, input, correct_label,\n",
    "             keep_prob, learning_rate, X_train, y_train, label_values, X_val, y_val)\n",
    "\n",
    "\n",
    "    # Save inference data using helper.save_inference_samples\n",
    "    #helper.save_inference_samples(runs_dir, data_dir, sess, image_shape, logits, keep_prob, input)\n",
    "    # OPTIONAL: Augment Images for better results\n",
    "    #  https://datascience.stackexchange.com/questions/5224/how-to-prepare-augment-images-for-neural-network\n",
    "\n",
    "    # TODO: Build NN using load_vgg, layers, and optimize function\n",
    "\n",
    "    # TODO: Train NN using the train_nn function\n",
    "\n",
    "    # TODO: Save inference data using helper.save_inference_samples\n",
    "    #  helper.save_inference_samples(runs_dir, data_dir, sess, image_shape, logits, keep_prob, input_image)\n",
    "\n",
    "    # OPTIONAL: Apply the trained model to a video\n",
    "\n",
    "\n"
   ]
  },
  {
   "cell_type": "code",
   "execution_count": null,
   "metadata": {},
   "outputs": [],
   "source": [
    "\n",
    "sess = tf.Session()\n",
    "saver = tf.train.Saver()  # Simple model saver\n",
    "\n",
    "saver.restore(sess, tf.train.latest_checkpoint('.'))\n",
    "\n",
    "\n",
    "vgg_input_tensor_name = 'image_input:0'\n",
    "vgg_keep_prob_tensor_name = 'keep_prob:0'\n",
    "\n",
    "\n",
    "graph = tf.get_default_graph()\n",
    "\n",
    "input = graph.get_tensor_by_name(vgg_input_tensor_name)\n",
    "keep_prob = graph.get_tensor_by_name(vgg_keep_prob_tensor_name)\n"
   ]
  },
  {
   "cell_type": "code",
   "execution_count": null,
   "metadata": {},
   "outputs": [],
   "source": [
    "print(label_values)\n",
    "\n",
    "c_values = label_values\n",
    "\n",
    "print(c_values)"
   ]
  },
  {
   "cell_type": "code",
   "execution_count": null,
   "metadata": {},
   "outputs": [],
   "source": []
  },
  {
   "cell_type": "code",
   "execution_count": null,
   "metadata": {},
   "outputs": [],
   "source": [
    "def pipeline_final(img):\n",
    "    img= cv2.resize(img, dsize=(512, 256))\n",
    "    print(img.shape,'img_shape')\n",
    "    img = np.array([img])\n",
    "    logits = tf.reshape(output, (-1, num_classes))\n",
    "    softmax = tf.nn.softmax(logits, name='softmax')\n",
    "\n",
    "\n",
    "\n",
    "    softmax_ = loss = sess.run([softmax],\n",
    "                               feed_dict={input: img, keep_prob:1})\n",
    "\n",
    "    logits_ = (softmax_[0].reshape(1,256,512,29)) #reshape(256,512) = rezie(512,256) ! fuck :S\n",
    "    print(logits_[0].shape, 'fin')\n",
    "    output_image = cityscapes_helper.reverse_one_hot(logits_[0])\n",
    "    out_vis_image = cityscapes_helper.colour_code_segmentation(output_image, c_values)\n",
    "    \n",
    "    a = cv2.cvtColor(np.uint8(out_vis_image),4)\n",
    "    print(a.shape)\n",
    "    b=cv2.cvtColor(np.uint8(img[0]),4)\n",
    "    print(b.shape)\n",
    "    added_image = cv2.addWeighted(a,1,b,1,4)\n",
    "    added_image= cv2.resize(added_image, dsize=(512, 256))\n",
    "    print(added_image.shape,'img added')\n",
    "    cv2.imwrite('combined.png', added_image)\n",
    "    return added_image"
   ]
  },
  {
   "cell_type": "code",
   "execution_count": null,
   "metadata": {},
   "outputs": [],
   "source": []
  },
  {
   "cell_type": "code",
   "execution_count": null,
   "metadata": {},
   "outputs": [],
   "source": [
    "#input, keep_prob, layer3, layer4, layer7 = load_vgg(sess, vgg_path)\n",
    "import cv2\n",
    "def load_image(path):\n",
    "    image = cv2.cvtColor(cv2.imread(path,-1), cv2.COLOR_BGR2RGB)\n",
    "    return image"
   ]
  },
  {
   "cell_type": "code",
   "execution_count": null,
   "metadata": {},
   "outputs": [],
   "source": [
    "\n",
    "image = load_image('tt2.png')"
   ]
  },
  {
   "cell_type": "code",
   "execution_count": null,
   "metadata": {},
   "outputs": [],
   "source": [
    "pipeline_final(image)"
   ]
  },
  {
   "cell_type": "code",
   "execution_count": 93,
   "metadata": {},
   "outputs": [
    {
     "name": "stdout",
     "output_type": "stream",
     "text": [
      "INFO:tensorflow:Restoring parameters from ./data\\vgg\\variables\\variables\n",
      "Tensor(\"image_input:0\", shape=(?, ?, ?, 3), dtype=float32)\n",
      "INFO:tensorflow:Restoring parameters from .\\model\n"
     ]
    }
   ],
   "source": [
    "from moviepy.editor import VideoFileClip\n",
    "data_dir = './data'\n",
    "num_classes = 29\n",
    "tf.reset_default_graph()\n",
    "sess = tf.Session()\n",
    "\n",
    "# Path to vgg model\n",
    "vgg_path = os.path.join(data_dir, 'vgg')\n",
    "# Create function to get batches\n",
    "get_batches_fn = gen_batch_function\n",
    "\n",
    "input, keep_prob, layer3, layer4, layer7 = load_vgg(sess, vgg_path)\n",
    "print(input)\n",
    "output = layers(layer3, layer4, layer7, num_classes)\n",
    "correct_label = tf.placeholder(dtype=tf.float32, shape=(None, None, None, num_classes))\n",
    "learning_rate = tf.placeholder(dtype=tf.float32)\n",
    "logits, train_op, cross_entropy_loss = optimize(output, correct_label, learning_rate, num_classes)\n",
    "tf.set_random_seed(123)\n",
    "sess.run(tf.global_variables_initializer())\n",
    "\n",
    "saver = tf.train.Saver()  # Simple model saver\n",
    "\n",
    "saver.restore(sess, tf.train.latest_checkpoint('.'))\n",
    "\n",
    "logits = tf.reshape(output, (-1, num_classes))\n",
    "softmax = tf.nn.softmax(logits, name='softmax')\n",
    "\n",
    "def pipeline_final(img, is_video):\n",
    "    channel = 1 if is_video else 4\n",
    "    size = img.shape\n",
    "    img= cv2.resize(img, dsize=(512, 256))\n",
    "    img = np.array([img])\n",
    "\n",
    "    softmax_ = loss = sess.run([softmax],\n",
    "                       feed_dict={input: img, keep_prob:1})\n",
    "    logits_ = (softmax_[0].reshape(1,256,512,29)) #reshape(256,512) = rezie(512,256) ! fuck :S\n",
    "    output_image = reverse_one_hot(logits_[0])\n",
    "\n",
    "    print(output_image.shape)\n",
    "\n",
    "    out_vis_image = colour_code_segmentation(output_image, c_values)\n",
    "\n",
    "    a = cv2.cvtColor(np.uint8(out_vis_image), channel)\n",
    "\n",
    "    b = cv2.cvtColor(np.uint8(img[0]), channel)\n",
    "\n",
    "    added_image = cv2.addWeighted(a, 1, b, 1, channel)\n",
    "    added_image = cv2.resize(added_image, dsize=(512,256))\n",
    "\n",
    "    return added_image\n",
    "\n",
    "def pipeline_video(img):\n",
    "    return pipeline_final(img, True)\n",
    "\n",
    "def pipeline_img(img):\n",
    "    return pipeline_final(img, False)\n",
    "\n",
    "def process(media_dir, save_dir, model_dir=''):\n",
    "\n",
    "    try:\n",
    "        img = load_image(media_dir)\n",
    "        output = os.path.join(save_dir, 'output_image.png')\n",
    "        img = pipeline_img(img)\n",
    "        cv2.imwrite(output, img)\n",
    "    except Exception as ex:\n",
    "        output = os.path.join(save_dir, 'output_video2.mp4')\n",
    "        clip1 = VideoFileClip(media_dir)\n",
    "        white_clip = clip1.fl_image(pipeline_video)\n",
    "\n",
    "        white_clip.write_videofile(output, audio=False)"
   ]
  },
  {
   "cell_type": "code",
   "execution_count": 94,
   "metadata": {
    "scrolled": false
   },
   "outputs": [
    {
     "name": "stdout",
     "output_type": "stream",
     "text": [
      "(256, 512)\n",
      "[MoviePy] >>>> Building video output_video2.mp4\n",
      "[MoviePy] Writing video output_video2.mp4\n"
     ]
    },
    {
     "name": "stderr",
     "output_type": "stream",
     "text": [
      "\r",
      "  0%|                                                                                         | 0/2101 [00:00<?, ?it/s]"
     ]
    },
    {
     "name": "stdout",
     "output_type": "stream",
     "text": [
      "(256, 512)\n",
      "(256, 512)\n"
     ]
    },
    {
     "name": "stderr",
     "output_type": "stream",
     "text": [
      "\r",
      "  0%|                                                                                 | 2/2101 [00:00<02:44, 12.78it/s]"
     ]
    },
    {
     "name": "stdout",
     "output_type": "stream",
     "text": [
      "(256, 512)\n",
      "(256, 512)\n"
     ]
    },
    {
     "name": "stderr",
     "output_type": "stream",
     "text": [
      "\r",
      "  0%|▏                                                                                | 4/2101 [00:00<02:45, 12.69it/s]"
     ]
    },
    {
     "name": "stdout",
     "output_type": "stream",
     "text": [
      "(256, 512)\n",
      "(256, 512)\n"
     ]
    },
    {
     "name": "stderr",
     "output_type": "stream",
     "text": [
      "\r",
      "  0%|▏                                                                                | 6/2101 [00:00<02:48, 12.43it/s]"
     ]
    },
    {
     "name": "stdout",
     "output_type": "stream",
     "text": [
      "(256, 512)\n",
      "(256, 512)\n"
     ]
    },
    {
     "name": "stderr",
     "output_type": "stream",
     "text": [
      "\r",
      "  0%|▎                                                                                | 8/2101 [00:00<02:49, 12.36it/s]"
     ]
    },
    {
     "name": "stdout",
     "output_type": "stream",
     "text": [
      "(256, 512)\n",
      "(256, 512)\n"
     ]
    },
    {
     "name": "stderr",
     "output_type": "stream",
     "text": [
      "\r",
      "  0%|▍                                                                               | 10/2101 [00:00<02:47, 12.49it/s]"
     ]
    },
    {
     "name": "stdout",
     "output_type": "stream",
     "text": [
      "(256, 512)\n",
      "(256, 512)\n"
     ]
    },
    {
     "name": "stderr",
     "output_type": "stream",
     "text": [
      "\r",
      "  1%|▍                                                                               | 12/2101 [00:00<02:47, 12.45it/s]"
     ]
    },
    {
     "name": "stdout",
     "output_type": "stream",
     "text": [
      "(256, 512)\n",
      "(256, 512)\n"
     ]
    },
    {
     "name": "stderr",
     "output_type": "stream",
     "text": [
      "\r",
      "  1%|▌                                                                               | 14/2101 [00:01<02:48, 12.42it/s]"
     ]
    },
    {
     "name": "stdout",
     "output_type": "stream",
     "text": [
      "(256, 512)\n",
      "(256, 512)\n"
     ]
    },
    {
     "name": "stderr",
     "output_type": "stream",
     "text": [
      "\r",
      "  1%|▌                                                                               | 16/2101 [00:01<02:49, 12.30it/s]"
     ]
    },
    {
     "name": "stdout",
     "output_type": "stream",
     "text": [
      "(256, 512)\n",
      "(256, 512)\n"
     ]
    },
    {
     "name": "stderr",
     "output_type": "stream",
     "text": [
      "\r",
      "  1%|▋                                                                               | 18/2101 [00:01<02:51, 12.16it/s]"
     ]
    },
    {
     "name": "stdout",
     "output_type": "stream",
     "text": [
      "(256, 512)\n",
      "(256, 512)\n"
     ]
    },
    {
     "name": "stderr",
     "output_type": "stream",
     "text": [
      "\r",
      "  1%|▊                                                                               | 20/2101 [00:01<02:51, 12.12it/s]"
     ]
    },
    {
     "name": "stdout",
     "output_type": "stream",
     "text": [
      "(256, 512)\n",
      "(256, 512)\n"
     ]
    },
    {
     "name": "stderr",
     "output_type": "stream",
     "text": [
      "\r",
      "  1%|▊                                                                               | 22/2101 [00:01<02:55, 11.88it/s]"
     ]
    },
    {
     "name": "stdout",
     "output_type": "stream",
     "text": [
      "(256, 512)\n",
      "(256, 512)\n"
     ]
    },
    {
     "name": "stderr",
     "output_type": "stream",
     "text": [
      "\r",
      "  1%|▉                                                                               | 24/2101 [00:01<02:54, 11.90it/s]"
     ]
    },
    {
     "name": "stdout",
     "output_type": "stream",
     "text": [
      "(256, 512)\n",
      "(256, 512)\n"
     ]
    },
    {
     "name": "stderr",
     "output_type": "stream",
     "text": [
      "\r",
      "  1%|▉                                                                               | 26/2101 [00:02<02:55, 11.81it/s]"
     ]
    },
    {
     "name": "stdout",
     "output_type": "stream",
     "text": [
      "(256, 512)\n",
      "(256, 512)\n"
     ]
    },
    {
     "name": "stderr",
     "output_type": "stream",
     "text": [
      "\r",
      "  1%|█                                                                               | 28/2101 [00:02<02:55, 11.79it/s]"
     ]
    },
    {
     "name": "stdout",
     "output_type": "stream",
     "text": [
      "(256, 512)\n",
      "(256, 512)\n"
     ]
    },
    {
     "name": "stderr",
     "output_type": "stream",
     "text": [
      "\r",
      "  1%|█▏                                                                              | 30/2101 [00:02<02:54, 11.87it/s]"
     ]
    },
    {
     "name": "stdout",
     "output_type": "stream",
     "text": [
      "(256, 512)\n",
      "(256, 512)\n"
     ]
    },
    {
     "name": "stderr",
     "output_type": "stream",
     "text": [
      "\r",
      "  2%|█▏                                                                              | 32/2101 [00:02<02:52, 11.96it/s]"
     ]
    },
    {
     "name": "stdout",
     "output_type": "stream",
     "text": [
      "(256, 512)\n",
      "(256, 512)\n"
     ]
    },
    {
     "name": "stderr",
     "output_type": "stream",
     "text": [
      "\r",
      "  2%|█▎                                                                              | 34/2101 [00:02<02:49, 12.23it/s]"
     ]
    },
    {
     "name": "stdout",
     "output_type": "stream",
     "text": [
      "(256, 512)\n",
      "(256, 512)\n"
     ]
    },
    {
     "name": "stderr",
     "output_type": "stream",
     "text": [
      "\r",
      "  2%|█▎                                                                              | 36/2101 [00:02<02:50, 12.11it/s]"
     ]
    },
    {
     "name": "stdout",
     "output_type": "stream",
     "text": [
      "(256, 512)\n",
      "(256, 512)\n"
     ]
    },
    {
     "name": "stderr",
     "output_type": "stream",
     "text": [
      "\r",
      "  2%|█▍                                                                              | 38/2101 [00:03<02:49, 12.20it/s]"
     ]
    },
    {
     "name": "stdout",
     "output_type": "stream",
     "text": [
      "(256, 512)\n",
      "(256, 512)\n"
     ]
    },
    {
     "name": "stderr",
     "output_type": "stream",
     "text": [
      "\r",
      "  2%|█▌                                                                              | 40/2101 [00:03<02:48, 12.20it/s]"
     ]
    },
    {
     "name": "stdout",
     "output_type": "stream",
     "text": [
      "(256, 512)\n",
      "(256, 512)\n"
     ]
    },
    {
     "name": "stderr",
     "output_type": "stream",
     "text": [
      "\r",
      "  2%|█▌                                                                              | 42/2101 [00:03<02:48, 12.22it/s]"
     ]
    },
    {
     "name": "stdout",
     "output_type": "stream",
     "text": [
      "(256, 512)\n",
      "(256, 512)\n"
     ]
    },
    {
     "name": "stderr",
     "output_type": "stream",
     "text": [
      "\r",
      "  2%|█▋                                                                              | 44/2101 [00:03<02:48, 12.20it/s]"
     ]
    },
    {
     "name": "stdout",
     "output_type": "stream",
     "text": [
      "(256, 512)\n",
      "(256, 512)\n"
     ]
    },
    {
     "name": "stderr",
     "output_type": "stream",
     "text": [
      "\r",
      "  2%|█▊                                                                              | 46/2101 [00:03<02:46, 12.33it/s]"
     ]
    },
    {
     "name": "stdout",
     "output_type": "stream",
     "text": [
      "(256, 512)\n",
      "(256, 512)\n"
     ]
    },
    {
     "name": "stderr",
     "output_type": "stream",
     "text": [
      "\r",
      "  2%|█▊                                                                              | 48/2101 [00:03<02:45, 12.37it/s]"
     ]
    },
    {
     "name": "stdout",
     "output_type": "stream",
     "text": [
      "(256, 512)\n",
      "(256, 512)\n"
     ]
    },
    {
     "name": "stderr",
     "output_type": "stream",
     "text": [
      "\r",
      "  2%|█▉                                                                              | 50/2101 [00:04<02:45, 12.42it/s]"
     ]
    },
    {
     "name": "stdout",
     "output_type": "stream",
     "text": [
      "(256, 512)\n",
      "(256, 512)\n"
     ]
    },
    {
     "name": "stderr",
     "output_type": "stream",
     "text": [
      "\r",
      "  2%|█▉                                                                              | 52/2101 [00:04<02:45, 12.40it/s]"
     ]
    },
    {
     "name": "stdout",
     "output_type": "stream",
     "text": [
      "(256, 512)\n",
      "(256, 512)\n"
     ]
    },
    {
     "name": "stderr",
     "output_type": "stream",
     "text": [
      "\r",
      "  3%|██                                                                              | 54/2101 [00:04<02:49, 12.08it/s]"
     ]
    },
    {
     "name": "stdout",
     "output_type": "stream",
     "text": [
      "(256, 512)\n",
      "(256, 512)\n"
     ]
    },
    {
     "name": "stderr",
     "output_type": "stream",
     "text": [
      "\r",
      "  3%|██▏                                                                             | 56/2101 [00:04<02:48, 12.12it/s]"
     ]
    },
    {
     "name": "stdout",
     "output_type": "stream",
     "text": [
      "(256, 512)\n",
      "(256, 512)\n"
     ]
    },
    {
     "name": "stderr",
     "output_type": "stream",
     "text": [
      "\r",
      "  3%|██▏                                                                             | 58/2101 [00:04<02:48, 12.15it/s]"
     ]
    },
    {
     "name": "stdout",
     "output_type": "stream",
     "text": [
      "(256, 512)\n",
      "(256, 512)\n"
     ]
    },
    {
     "name": "stderr",
     "output_type": "stream",
     "text": [
      "\r",
      "  3%|██▎                                                                             | 60/2101 [00:04<02:46, 12.24it/s]"
     ]
    },
    {
     "name": "stdout",
     "output_type": "stream",
     "text": [
      "(256, 512)\n",
      "(256, 512)\n"
     ]
    },
    {
     "name": "stderr",
     "output_type": "stream",
     "text": [
      "\r",
      "  3%|██▎                                                                             | 62/2101 [00:05<02:44, 12.39it/s]"
     ]
    },
    {
     "name": "stdout",
     "output_type": "stream",
     "text": [
      "(256, 512)\n",
      "(256, 512)\n"
     ]
    },
    {
     "name": "stderr",
     "output_type": "stream",
     "text": [
      "\r",
      "  3%|██▍                                                                             | 64/2101 [00:05<02:45, 12.31it/s]"
     ]
    },
    {
     "name": "stdout",
     "output_type": "stream",
     "text": [
      "(256, 512)\n",
      "(256, 512)\n"
     ]
    },
    {
     "name": "stderr",
     "output_type": "stream",
     "text": [
      "\r",
      "  3%|██▌                                                                             | 66/2101 [00:05<02:49, 12.03it/s]"
     ]
    },
    {
     "name": "stdout",
     "output_type": "stream",
     "text": [
      "(256, 512)\n",
      "(256, 512)\n"
     ]
    },
    {
     "name": "stderr",
     "output_type": "stream",
     "text": [
      "\r",
      "  3%|██▌                                                                             | 68/2101 [00:05<02:49, 12.02it/s]"
     ]
    },
    {
     "name": "stdout",
     "output_type": "stream",
     "text": [
      "(256, 512)\n",
      "(256, 512)\n"
     ]
    },
    {
     "name": "stderr",
     "output_type": "stream",
     "text": [
      "\r",
      "  3%|██▋                                                                             | 70/2101 [00:05<02:49, 11.98it/s]"
     ]
    },
    {
     "name": "stdout",
     "output_type": "stream",
     "text": [
      "(256, 512)\n",
      "(256, 512)\n"
     ]
    },
    {
     "name": "stderr",
     "output_type": "stream",
     "text": [
      "\r",
      "  3%|██▋                                                                             | 72/2101 [00:05<02:51, 11.86it/s]"
     ]
    },
    {
     "name": "stdout",
     "output_type": "stream",
     "text": [
      "(256, 512)\n",
      "(256, 512)\n"
     ]
    },
    {
     "name": "stderr",
     "output_type": "stream",
     "text": [
      "\r",
      "  4%|██▊                                                                             | 74/2101 [00:06<02:49, 11.96it/s]"
     ]
    },
    {
     "name": "stdout",
     "output_type": "stream",
     "text": [
      "(256, 512)\n",
      "(256, 512)\n"
     ]
    },
    {
     "name": "stderr",
     "output_type": "stream",
     "text": [
      "\r",
      "  4%|██▉                                                                             | 76/2101 [00:06<02:47, 12.11it/s]"
     ]
    },
    {
     "name": "stdout",
     "output_type": "stream",
     "text": [
      "(256, 512)\n",
      "(256, 512)\n"
     ]
    },
    {
     "name": "stderr",
     "output_type": "stream",
     "text": [
      "\r",
      "  4%|██▉                                                                             | 78/2101 [00:06<02:47, 12.11it/s]"
     ]
    },
    {
     "name": "stdout",
     "output_type": "stream",
     "text": [
      "(256, 512)\n",
      "(256, 512)\n"
     ]
    },
    {
     "name": "stderr",
     "output_type": "stream",
     "text": [
      "\r",
      "  4%|███                                                                             | 80/2101 [00:06<02:46, 12.16it/s]"
     ]
    },
    {
     "name": "stdout",
     "output_type": "stream",
     "text": [
      "(256, 512)\n",
      "(256, 512)\n"
     ]
    },
    {
     "name": "stderr",
     "output_type": "stream",
     "text": [
      "\r",
      "  4%|███                                                                             | 82/2101 [00:06<02:45, 12.20it/s]"
     ]
    },
    {
     "name": "stdout",
     "output_type": "stream",
     "text": [
      "(256, 512)\n",
      "(256, 512)\n"
     ]
    },
    {
     "name": "stderr",
     "output_type": "stream",
     "text": [
      "\r",
      "  4%|███▏                                                                            | 84/2101 [00:06<02:44, 12.29it/s]"
     ]
    },
    {
     "name": "stdout",
     "output_type": "stream",
     "text": [
      "(256, 512)\n",
      "(256, 512)\n"
     ]
    },
    {
     "name": "stderr",
     "output_type": "stream",
     "text": [
      "\r",
      "  4%|███▎                                                                            | 86/2101 [00:07<02:46, 12.12it/s]"
     ]
    },
    {
     "name": "stdout",
     "output_type": "stream",
     "text": [
      "(256, 512)\n",
      "(256, 512)\n"
     ]
    },
    {
     "name": "stderr",
     "output_type": "stream",
     "text": [
      "\r",
      "  4%|███▎                                                                            | 88/2101 [00:07<02:44, 12.26it/s]"
     ]
    },
    {
     "name": "stdout",
     "output_type": "stream",
     "text": [
      "(256, 512)\n",
      "(256, 512)\n"
     ]
    },
    {
     "name": "stderr",
     "output_type": "stream",
     "text": [
      "\r",
      "  4%|███▍                                                                            | 90/2101 [00:07<02:43, 12.28it/s]"
     ]
    },
    {
     "name": "stdout",
     "output_type": "stream",
     "text": [
      "(256, 512)\n",
      "(256, 512)\n"
     ]
    },
    {
     "name": "stderr",
     "output_type": "stream",
     "text": [
      "\r",
      "  4%|███▌                                                                            | 92/2101 [00:07<02:43, 12.33it/s]"
     ]
    },
    {
     "name": "stdout",
     "output_type": "stream",
     "text": [
      "(256, 512)\n",
      "(256, 512)\n"
     ]
    },
    {
     "name": "stderr",
     "output_type": "stream",
     "text": [
      "\r",
      "  4%|███▌                                                                            | 94/2101 [00:07<02:40, 12.47it/s]"
     ]
    },
    {
     "name": "stdout",
     "output_type": "stream",
     "text": [
      "(256, 512)\n",
      "(256, 512)\n"
     ]
    },
    {
     "name": "stderr",
     "output_type": "stream",
     "text": [
      "\r",
      "  5%|███▋                                                                            | 96/2101 [00:07<02:40, 12.53it/s]"
     ]
    },
    {
     "name": "stdout",
     "output_type": "stream",
     "text": [
      "(256, 512)\n",
      "(256, 512)\n"
     ]
    },
    {
     "name": "stderr",
     "output_type": "stream",
     "text": [
      "\r",
      "  5%|███▋                                                                            | 98/2101 [00:08<02:39, 12.54it/s]"
     ]
    },
    {
     "name": "stdout",
     "output_type": "stream",
     "text": [
      "(256, 512)\n",
      "(256, 512)\n"
     ]
    },
    {
     "name": "stderr",
     "output_type": "stream",
     "text": [
      "\r",
      "  5%|███▊                                                                           | 100/2101 [00:08<02:38, 12.62it/s]"
     ]
    },
    {
     "name": "stdout",
     "output_type": "stream",
     "text": [
      "(256, 512)\n",
      "(256, 512)\n"
     ]
    },
    {
     "name": "stderr",
     "output_type": "stream",
     "text": [
      "\r",
      "  5%|███▊                                                                           | 102/2101 [00:08<02:38, 12.63it/s]"
     ]
    },
    {
     "name": "stdout",
     "output_type": "stream",
     "text": [
      "(256, 512)\n",
      "(256, 512)\n"
     ]
    },
    {
     "name": "stderr",
     "output_type": "stream",
     "text": [
      "\r",
      "  5%|███▉                                                                           | 104/2101 [00:08<02:38, 12.59it/s]"
     ]
    },
    {
     "name": "stdout",
     "output_type": "stream",
     "text": [
      "(256, 512)\n",
      "(256, 512)\n"
     ]
    },
    {
     "name": "stderr",
     "output_type": "stream",
     "text": [
      "\r",
      "  5%|███▉                                                                           | 106/2101 [00:08<02:37, 12.64it/s]"
     ]
    },
    {
     "name": "stdout",
     "output_type": "stream",
     "text": [
      "(256, 512)\n",
      "(256, 512)\n"
     ]
    },
    {
     "name": "stderr",
     "output_type": "stream",
     "text": [
      "\r",
      "  5%|████                                                                           | 108/2101 [00:08<02:38, 12.57it/s]"
     ]
    },
    {
     "name": "stdout",
     "output_type": "stream",
     "text": [
      "(256, 512)\n",
      "(256, 512)\n"
     ]
    },
    {
     "name": "stderr",
     "output_type": "stream",
     "text": [
      "\r",
      "  5%|████▏                                                                          | 110/2101 [00:08<02:38, 12.57it/s]"
     ]
    },
    {
     "name": "stdout",
     "output_type": "stream",
     "text": [
      "(256, 512)\n",
      "(256, 512)\n"
     ]
    },
    {
     "name": "stderr",
     "output_type": "stream",
     "text": [
      "\r",
      "  5%|████▏                                                                          | 112/2101 [00:09<02:40, 12.41it/s]"
     ]
    },
    {
     "name": "stdout",
     "output_type": "stream",
     "text": [
      "(256, 512)\n",
      "(256, 512)\n"
     ]
    },
    {
     "name": "stderr",
     "output_type": "stream",
     "text": [
      "\r",
      "  5%|████▎                                                                          | 114/2101 [00:09<02:40, 12.39it/s]"
     ]
    },
    {
     "name": "stdout",
     "output_type": "stream",
     "text": [
      "(256, 512)\n",
      "(256, 512)\n"
     ]
    },
    {
     "name": "stderr",
     "output_type": "stream",
     "text": [
      "\r",
      "  6%|████▎                                                                          | 116/2101 [00:09<02:40, 12.35it/s]"
     ]
    },
    {
     "name": "stdout",
     "output_type": "stream",
     "text": [
      "(256, 512)\n",
      "(256, 512)\n"
     ]
    },
    {
     "name": "stderr",
     "output_type": "stream",
     "text": [
      "\r",
      "  6%|████▍                                                                          | 118/2101 [00:09<02:40, 12.33it/s]"
     ]
    },
    {
     "name": "stdout",
     "output_type": "stream",
     "text": [
      "(256, 512)\n",
      "(256, 512)\n"
     ]
    },
    {
     "name": "stderr",
     "output_type": "stream",
     "text": [
      "\r",
      "  6%|████▌                                                                          | 120/2101 [00:09<02:41, 12.27it/s]"
     ]
    },
    {
     "name": "stdout",
     "output_type": "stream",
     "text": [
      "(256, 512)\n",
      "(256, 512)\n"
     ]
    },
    {
     "name": "stderr",
     "output_type": "stream",
     "text": [
      "\r",
      "  6%|████▌                                                                          | 122/2101 [00:09<02:42, 12.20it/s]"
     ]
    },
    {
     "name": "stdout",
     "output_type": "stream",
     "text": [
      "(256, 512)\n",
      "(256, 512)\n"
     ]
    },
    {
     "name": "stderr",
     "output_type": "stream",
     "text": [
      "\r",
      "  6%|████▋                                                                          | 124/2101 [00:10<02:40, 12.31it/s]"
     ]
    },
    {
     "name": "stdout",
     "output_type": "stream",
     "text": [
      "(256, 512)\n",
      "(256, 512)\n"
     ]
    },
    {
     "name": "stderr",
     "output_type": "stream",
     "text": [
      "\r",
      "  6%|████▋                                                                          | 126/2101 [00:10<02:42, 12.16it/s]"
     ]
    },
    {
     "name": "stdout",
     "output_type": "stream",
     "text": [
      "(256, 512)\n",
      "(256, 512)\n"
     ]
    },
    {
     "name": "stderr",
     "output_type": "stream",
     "text": [
      "\r",
      "  6%|████▊                                                                          | 128/2101 [00:10<02:42, 12.15it/s]"
     ]
    },
    {
     "name": "stdout",
     "output_type": "stream",
     "text": [
      "(256, 512)\n",
      "(256, 512)\n"
     ]
    },
    {
     "name": "stderr",
     "output_type": "stream",
     "text": [
      "\r",
      "  6%|████▉                                                                          | 130/2101 [00:10<02:41, 12.21it/s]"
     ]
    },
    {
     "name": "stdout",
     "output_type": "stream",
     "text": [
      "(256, 512)\n",
      "(256, 512)\n"
     ]
    },
    {
     "name": "stderr",
     "output_type": "stream",
     "text": [
      "\r",
      "  6%|████▉                                                                          | 132/2101 [00:10<02:40, 12.24it/s]"
     ]
    },
    {
     "name": "stdout",
     "output_type": "stream",
     "text": [
      "(256, 512)\n",
      "(256, 512)\n"
     ]
    },
    {
     "name": "stderr",
     "output_type": "stream",
     "text": [
      "\r",
      "  6%|█████                                                                          | 134/2101 [00:10<02:41, 12.16it/s]"
     ]
    },
    {
     "name": "stdout",
     "output_type": "stream",
     "text": [
      "(256, 512)\n",
      "(256, 512)\n"
     ]
    },
    {
     "name": "stderr",
     "output_type": "stream",
     "text": [
      "\r",
      "  6%|█████                                                                          | 136/2101 [00:11<02:41, 12.17it/s]"
     ]
    },
    {
     "name": "stdout",
     "output_type": "stream",
     "text": [
      "(256, 512)\n",
      "(256, 512)\n"
     ]
    },
    {
     "name": "stderr",
     "output_type": "stream",
     "text": [
      "\r",
      "  7%|█████▏                                                                         | 138/2101 [00:11<02:41, 12.18it/s]"
     ]
    },
    {
     "name": "stdout",
     "output_type": "stream",
     "text": [
      "(256, 512)\n",
      "(256, 512)\n"
     ]
    },
    {
     "name": "stderr",
     "output_type": "stream",
     "text": [
      "\r",
      "  7%|█████▎                                                                         | 140/2101 [00:11<02:41, 12.18it/s]"
     ]
    },
    {
     "name": "stdout",
     "output_type": "stream",
     "text": [
      "(256, 512)\n",
      "(256, 512)\n"
     ]
    },
    {
     "name": "stderr",
     "output_type": "stream",
     "text": [
      "\r",
      "  7%|█████▎                                                                         | 142/2101 [00:11<02:40, 12.19it/s]"
     ]
    },
    {
     "name": "stdout",
     "output_type": "stream",
     "text": [
      "(256, 512)\n",
      "(256, 512)\n"
     ]
    },
    {
     "name": "stderr",
     "output_type": "stream",
     "text": [
      "\r",
      "  7%|█████▍                                                                         | 144/2101 [00:11<02:41, 12.15it/s]"
     ]
    },
    {
     "name": "stdout",
     "output_type": "stream",
     "text": [
      "(256, 512)\n",
      "(256, 512)\n"
     ]
    },
    {
     "name": "stderr",
     "output_type": "stream",
     "text": [
      "\r",
      "  7%|█████▍                                                                         | 146/2101 [00:11<02:41, 12.12it/s]"
     ]
    },
    {
     "name": "stdout",
     "output_type": "stream",
     "text": [
      "(256, 512)\n",
      "(256, 512)\n"
     ]
    },
    {
     "name": "stderr",
     "output_type": "stream",
     "text": [
      "\r",
      "  7%|█████▌                                                                         | 148/2101 [00:12<02:41, 12.12it/s]"
     ]
    },
    {
     "name": "stdout",
     "output_type": "stream",
     "text": [
      "(256, 512)\n",
      "(256, 512)\n"
     ]
    },
    {
     "name": "stderr",
     "output_type": "stream",
     "text": [
      "\r",
      "  7%|█████▋                                                                         | 150/2101 [00:12<02:40, 12.18it/s]"
     ]
    },
    {
     "name": "stdout",
     "output_type": "stream",
     "text": [
      "(256, 512)\n",
      "(256, 512)\n"
     ]
    },
    {
     "name": "stderr",
     "output_type": "stream",
     "text": [
      "\r",
      "  7%|█████▋                                                                         | 152/2101 [00:12<02:39, 12.26it/s]"
     ]
    },
    {
     "name": "stdout",
     "output_type": "stream",
     "text": [
      "(256, 512)\n",
      "(256, 512)\n"
     ]
    },
    {
     "name": "stderr",
     "output_type": "stream",
     "text": [
      "\r",
      "  7%|█████▊                                                                         | 154/2101 [00:12<02:39, 12.19it/s]"
     ]
    },
    {
     "name": "stdout",
     "output_type": "stream",
     "text": [
      "(256, 512)\n",
      "(256, 512)\n"
     ]
    },
    {
     "name": "stderr",
     "output_type": "stream",
     "text": [
      "\r",
      "  7%|█████▊                                                                         | 156/2101 [00:12<02:38, 12.28it/s]"
     ]
    },
    {
     "name": "stdout",
     "output_type": "stream",
     "text": [
      "(256, 512)\n",
      "(256, 512)\n"
     ]
    },
    {
     "name": "stderr",
     "output_type": "stream",
     "text": [
      "\r",
      "  8%|█████▉                                                                         | 158/2101 [00:12<02:39, 12.22it/s]"
     ]
    },
    {
     "name": "stdout",
     "output_type": "stream",
     "text": [
      "(256, 512)\n",
      "(256, 512)\n"
     ]
    },
    {
     "name": "stderr",
     "output_type": "stream",
     "text": [
      "\r",
      "  8%|██████                                                                         | 160/2101 [00:13<02:38, 12.27it/s]"
     ]
    },
    {
     "name": "stdout",
     "output_type": "stream",
     "text": [
      "(256, 512)\n",
      "(256, 512)\n"
     ]
    },
    {
     "name": "stderr",
     "output_type": "stream",
     "text": [
      "\r",
      "  8%|██████                                                                         | 162/2101 [00:13<02:38, 12.27it/s]"
     ]
    },
    {
     "name": "stdout",
     "output_type": "stream",
     "text": [
      "(256, 512)\n",
      "(256, 512)\n"
     ]
    },
    {
     "name": "stderr",
     "output_type": "stream",
     "text": [
      "\r",
      "  8%|██████▏                                                                        | 164/2101 [00:13<02:37, 12.29it/s]"
     ]
    },
    {
     "name": "stdout",
     "output_type": "stream",
     "text": [
      "(256, 512)\n",
      "(256, 512)\n"
     ]
    },
    {
     "name": "stderr",
     "output_type": "stream",
     "text": [
      "\r",
      "  8%|██████▏                                                                        | 166/2101 [00:13<02:36, 12.34it/s]"
     ]
    },
    {
     "name": "stdout",
     "output_type": "stream",
     "text": [
      "(256, 512)\n",
      "(256, 512)\n"
     ]
    },
    {
     "name": "stderr",
     "output_type": "stream",
     "text": [
      "\r",
      "  8%|██████▎                                                                        | 168/2101 [00:13<02:36, 12.32it/s]"
     ]
    },
    {
     "name": "stdout",
     "output_type": "stream",
     "text": [
      "(256, 512)\n",
      "(256, 512)\n"
     ]
    },
    {
     "name": "stderr",
     "output_type": "stream",
     "text": [
      "\r",
      "  8%|██████▍                                                                        | 170/2101 [00:13<02:38, 12.21it/s]"
     ]
    },
    {
     "name": "stdout",
     "output_type": "stream",
     "text": [
      "(256, 512)\n",
      "(256, 512)\n"
     ]
    },
    {
     "name": "stderr",
     "output_type": "stream",
     "text": [
      "\r",
      "  8%|██████▍                                                                        | 172/2101 [00:14<02:38, 12.17it/s]"
     ]
    },
    {
     "name": "stdout",
     "output_type": "stream",
     "text": [
      "(256, 512)\n",
      "(256, 512)\n"
     ]
    },
    {
     "name": "stderr",
     "output_type": "stream",
     "text": [
      "\r",
      "  8%|██████▌                                                                        | 174/2101 [00:14<02:37, 12.27it/s]"
     ]
    },
    {
     "name": "stdout",
     "output_type": "stream",
     "text": [
      "(256, 512)\n",
      "(256, 512)\n"
     ]
    },
    {
     "name": "stderr",
     "output_type": "stream",
     "text": [
      "\r",
      "  8%|██████▌                                                                        | 176/2101 [00:14<02:35, 12.38it/s]"
     ]
    },
    {
     "name": "stdout",
     "output_type": "stream",
     "text": [
      "(256, 512)\n",
      "(256, 512)\n"
     ]
    },
    {
     "name": "stderr",
     "output_type": "stream",
     "text": [
      "\r",
      "  8%|██████▋                                                                        | 178/2101 [00:14<02:35, 12.38it/s]"
     ]
    },
    {
     "name": "stdout",
     "output_type": "stream",
     "text": [
      "(256, 512)\n",
      "(256, 512)\n"
     ]
    },
    {
     "name": "stderr",
     "output_type": "stream",
     "text": [
      "\r",
      "  9%|██████▊                                                                        | 180/2101 [00:14<02:36, 12.31it/s]"
     ]
    },
    {
     "name": "stdout",
     "output_type": "stream",
     "text": [
      "(256, 512)\n",
      "(256, 512)\n"
     ]
    },
    {
     "name": "stderr",
     "output_type": "stream",
     "text": [
      "\r",
      "  9%|██████▊                                                                        | 182/2101 [00:14<02:36, 12.29it/s]"
     ]
    },
    {
     "name": "stdout",
     "output_type": "stream",
     "text": [
      "(256, 512)\n",
      "(256, 512)\n"
     ]
    },
    {
     "name": "stderr",
     "output_type": "stream",
     "text": [
      "\r",
      "  9%|██████▉                                                                        | 184/2101 [00:15<02:36, 12.27it/s]"
     ]
    },
    {
     "name": "stdout",
     "output_type": "stream",
     "text": [
      "(256, 512)\n",
      "(256, 512)\n"
     ]
    },
    {
     "name": "stderr",
     "output_type": "stream",
     "text": [
      "\r",
      "  9%|██████▉                                                                        | 186/2101 [00:15<02:36, 12.28it/s]"
     ]
    },
    {
     "name": "stdout",
     "output_type": "stream",
     "text": [
      "(256, 512)\n",
      "(256, 512)\n"
     ]
    },
    {
     "name": "stderr",
     "output_type": "stream",
     "text": [
      "\r",
      "  9%|███████                                                                        | 188/2101 [00:15<02:36, 12.23it/s]"
     ]
    },
    {
     "name": "stdout",
     "output_type": "stream",
     "text": [
      "(256, 512)\n",
      "(256, 512)\n"
     ]
    },
    {
     "name": "stderr",
     "output_type": "stream",
     "text": [
      "\r",
      "  9%|███████▏                                                                       | 190/2101 [00:15<02:34, 12.34it/s]"
     ]
    },
    {
     "name": "stdout",
     "output_type": "stream",
     "text": [
      "(256, 512)\n",
      "(256, 512)\n"
     ]
    },
    {
     "name": "stderr",
     "output_type": "stream",
     "text": [
      "\r",
      "  9%|███████▏                                                                       | 192/2101 [00:15<02:33, 12.42it/s]"
     ]
    },
    {
     "name": "stdout",
     "output_type": "stream",
     "text": [
      "(256, 512)\n",
      "(256, 512)\n"
     ]
    },
    {
     "name": "stderr",
     "output_type": "stream",
     "text": [
      "\r",
      "  9%|███████▎                                                                       | 194/2101 [00:15<02:35, 12.30it/s]"
     ]
    },
    {
     "name": "stdout",
     "output_type": "stream",
     "text": [
      "(256, 512)\n",
      "(256, 512)\n"
     ]
    },
    {
     "name": "stderr",
     "output_type": "stream",
     "text": [
      "\r",
      "  9%|███████▎                                                                       | 196/2101 [00:16<02:34, 12.30it/s]"
     ]
    },
    {
     "name": "stdout",
     "output_type": "stream",
     "text": [
      "(256, 512)\n",
      "(256, 512)\n"
     ]
    },
    {
     "name": "stderr",
     "output_type": "stream",
     "text": [
      "\r",
      "  9%|███████▍                                                                       | 198/2101 [00:16<02:34, 12.35it/s]"
     ]
    },
    {
     "name": "stdout",
     "output_type": "stream",
     "text": [
      "(256, 512)\n",
      "(256, 512)\n"
     ]
    },
    {
     "name": "stderr",
     "output_type": "stream",
     "text": [
      "\r",
      " 10%|███████▌                                                                       | 200/2101 [00:16<02:33, 12.36it/s]"
     ]
    },
    {
     "name": "stdout",
     "output_type": "stream",
     "text": [
      "(256, 512)\n",
      "(256, 512)\n"
     ]
    },
    {
     "name": "stderr",
     "output_type": "stream",
     "text": [
      "\r",
      " 10%|███████▌                                                                       | 202/2101 [00:16<02:32, 12.47it/s]"
     ]
    },
    {
     "name": "stdout",
     "output_type": "stream",
     "text": [
      "(256, 512)\n",
      "(256, 512)\n"
     ]
    },
    {
     "name": "stderr",
     "output_type": "stream",
     "text": [
      "\r",
      " 10%|███████▋                                                                       | 204/2101 [00:16<02:33, 12.38it/s]"
     ]
    },
    {
     "name": "stdout",
     "output_type": "stream",
     "text": [
      "(256, 512)\n",
      "(256, 512)\n"
     ]
    },
    {
     "name": "stderr",
     "output_type": "stream",
     "text": [
      "\r",
      " 10%|███████▋                                                                       | 206/2101 [00:16<02:34, 12.28it/s]"
     ]
    },
    {
     "name": "stdout",
     "output_type": "stream",
     "text": [
      "(256, 512)\n",
      "(256, 512)\n"
     ]
    },
    {
     "name": "stderr",
     "output_type": "stream",
     "text": [
      "\r",
      " 10%|███████▊                                                                       | 208/2101 [00:16<02:34, 12.28it/s]"
     ]
    },
    {
     "name": "stdout",
     "output_type": "stream",
     "text": [
      "(256, 512)\n",
      "(256, 512)\n"
     ]
    },
    {
     "name": "stderr",
     "output_type": "stream",
     "text": [
      "\r",
      " 10%|███████▉                                                                       | 210/2101 [00:17<02:34, 12.23it/s]"
     ]
    },
    {
     "name": "stdout",
     "output_type": "stream",
     "text": [
      "(256, 512)\n",
      "(256, 512)\n"
     ]
    },
    {
     "name": "stderr",
     "output_type": "stream",
     "text": [
      "\r",
      " 10%|███████▉                                                                       | 212/2101 [00:17<02:34, 12.23it/s]"
     ]
    },
    {
     "name": "stdout",
     "output_type": "stream",
     "text": [
      "(256, 512)\n",
      "(256, 512)\n"
     ]
    },
    {
     "name": "stderr",
     "output_type": "stream",
     "text": [
      "\r",
      " 10%|████████                                                                       | 214/2101 [00:17<02:33, 12.28it/s]"
     ]
    },
    {
     "name": "stdout",
     "output_type": "stream",
     "text": [
      "(256, 512)\n",
      "(256, 512)\n"
     ]
    },
    {
     "name": "stderr",
     "output_type": "stream",
     "text": [
      "\r",
      " 10%|████████                                                                       | 216/2101 [00:17<02:33, 12.26it/s]"
     ]
    },
    {
     "name": "stdout",
     "output_type": "stream",
     "text": [
      "(256, 512)\n",
      "(256, 512)\n"
     ]
    },
    {
     "name": "stderr",
     "output_type": "stream",
     "text": [
      "\r",
      " 10%|████████▏                                                                      | 218/2101 [00:17<02:33, 12.23it/s]"
     ]
    },
    {
     "name": "stdout",
     "output_type": "stream",
     "text": [
      "(256, 512)\n",
      "(256, 512)\n"
     ]
    },
    {
     "name": "stderr",
     "output_type": "stream",
     "text": [
      "\r",
      " 10%|████████▎                                                                      | 220/2101 [00:17<02:31, 12.41it/s]"
     ]
    },
    {
     "name": "stdout",
     "output_type": "stream",
     "text": [
      "(256, 512)\n",
      "(256, 512)\n"
     ]
    },
    {
     "name": "stderr",
     "output_type": "stream",
     "text": [
      "\r",
      " 11%|████████▎                                                                      | 222/2101 [00:18<02:31, 12.38it/s]"
     ]
    },
    {
     "name": "stdout",
     "output_type": "stream",
     "text": [
      "(256, 512)\n",
      "(256, 512)\n"
     ]
    },
    {
     "name": "stderr",
     "output_type": "stream",
     "text": [
      "\r",
      " 11%|████████▍                                                                      | 224/2101 [00:18<02:33, 12.21it/s]"
     ]
    },
    {
     "name": "stdout",
     "output_type": "stream",
     "text": [
      "(256, 512)\n",
      "(256, 512)\n"
     ]
    },
    {
     "name": "stderr",
     "output_type": "stream",
     "text": [
      "\r",
      " 11%|████████▍                                                                      | 226/2101 [00:18<02:35, 12.07it/s]"
     ]
    },
    {
     "name": "stdout",
     "output_type": "stream",
     "text": [
      "(256, 512)\n",
      "(256, 512)\n"
     ]
    },
    {
     "name": "stderr",
     "output_type": "stream",
     "text": [
      "\r",
      " 11%|████████▌                                                                      | 228/2101 [00:18<02:35, 12.08it/s]"
     ]
    },
    {
     "name": "stdout",
     "output_type": "stream",
     "text": [
      "(256, 512)\n",
      "(256, 512)\n"
     ]
    },
    {
     "name": "stderr",
     "output_type": "stream",
     "text": [
      "\r",
      " 11%|████████▋                                                                      | 230/2101 [00:18<02:34, 12.12it/s]"
     ]
    },
    {
     "name": "stdout",
     "output_type": "stream",
     "text": [
      "(256, 512)\n",
      "(256, 512)\n"
     ]
    },
    {
     "name": "stderr",
     "output_type": "stream",
     "text": [
      "\r",
      " 11%|████████▋                                                                      | 232/2101 [00:18<02:32, 12.24it/s]"
     ]
    },
    {
     "name": "stdout",
     "output_type": "stream",
     "text": [
      "(256, 512)\n",
      "(256, 512)\n"
     ]
    },
    {
     "name": "stderr",
     "output_type": "stream",
     "text": [
      "\r",
      " 11%|████████▊                                                                      | 234/2101 [00:19<02:32, 12.23it/s]"
     ]
    },
    {
     "name": "stdout",
     "output_type": "stream",
     "text": [
      "(256, 512)\n",
      "(256, 512)\n"
     ]
    },
    {
     "name": "stderr",
     "output_type": "stream",
     "text": [
      "\r",
      " 11%|████████▊                                                                      | 236/2101 [00:19<02:31, 12.29it/s]"
     ]
    },
    {
     "name": "stdout",
     "output_type": "stream",
     "text": [
      "(256, 512)\n",
      "(256, 512)\n"
     ]
    },
    {
     "name": "stderr",
     "output_type": "stream",
     "text": [
      "\r",
      " 11%|████████▉                                                                      | 238/2101 [00:19<02:31, 12.28it/s]"
     ]
    },
    {
     "name": "stdout",
     "output_type": "stream",
     "text": [
      "(256, 512)\n",
      "(256, 512)\n"
     ]
    },
    {
     "name": "stderr",
     "output_type": "stream",
     "text": [
      "\r",
      " 11%|█████████                                                                      | 240/2101 [00:19<02:32, 12.17it/s]"
     ]
    },
    {
     "name": "stdout",
     "output_type": "stream",
     "text": [
      "(256, 512)\n",
      "(256, 512)\n"
     ]
    },
    {
     "name": "stderr",
     "output_type": "stream",
     "text": [
      "\r",
      " 12%|█████████                                                                      | 242/2101 [00:19<02:32, 12.22it/s]"
     ]
    },
    {
     "name": "stdout",
     "output_type": "stream",
     "text": [
      "(256, 512)\n",
      "(256, 512)\n"
     ]
    },
    {
     "name": "stderr",
     "output_type": "stream",
     "text": [
      "\r",
      " 12%|█████████▏                                                                     | 244/2101 [00:19<02:29, 12.41it/s]"
     ]
    },
    {
     "name": "stdout",
     "output_type": "stream",
     "text": [
      "(256, 512)\n",
      "(256, 512)\n"
     ]
    },
    {
     "name": "stderr",
     "output_type": "stream",
     "text": [
      "\r",
      " 12%|█████████▏                                                                     | 246/2101 [00:20<02:29, 12.38it/s]"
     ]
    },
    {
     "name": "stdout",
     "output_type": "stream",
     "text": [
      "(256, 512)\n",
      "(256, 512)\n"
     ]
    },
    {
     "name": "stderr",
     "output_type": "stream",
     "text": [
      "\r",
      " 12%|█████████▎                                                                     | 248/2101 [00:20<02:28, 12.46it/s]"
     ]
    },
    {
     "name": "stdout",
     "output_type": "stream",
     "text": [
      "(256, 512)\n",
      "(256, 512)\n"
     ]
    },
    {
     "name": "stderr",
     "output_type": "stream",
     "text": [
      "\r",
      " 12%|█████████▍                                                                     | 250/2101 [00:20<02:29, 12.38it/s]"
     ]
    },
    {
     "name": "stdout",
     "output_type": "stream",
     "text": [
      "(256, 512)\n",
      "(256, 512)\n"
     ]
    },
    {
     "name": "stderr",
     "output_type": "stream",
     "text": [
      "\r",
      " 12%|█████████▍                                                                     | 252/2101 [00:20<02:28, 12.47it/s]"
     ]
    },
    {
     "name": "stdout",
     "output_type": "stream",
     "text": [
      "(256, 512)\n",
      "(256, 512)\n"
     ]
    },
    {
     "name": "stderr",
     "output_type": "stream",
     "text": [
      "\r",
      " 12%|█████████▌                                                                     | 254/2101 [00:20<02:26, 12.64it/s]"
     ]
    },
    {
     "name": "stdout",
     "output_type": "stream",
     "text": [
      "(256, 512)\n",
      "(256, 512)\n"
     ]
    },
    {
     "name": "stderr",
     "output_type": "stream",
     "text": [
      "\r",
      " 12%|█████████▋                                                                     | 256/2101 [00:20<02:26, 12.58it/s]"
     ]
    },
    {
     "name": "stdout",
     "output_type": "stream",
     "text": [
      "(256, 512)\n",
      "(256, 512)\n"
     ]
    },
    {
     "name": "stderr",
     "output_type": "stream",
     "text": [
      "\r",
      " 12%|█████████▋                                                                     | 258/2101 [00:21<02:27, 12.49it/s]"
     ]
    },
    {
     "name": "stdout",
     "output_type": "stream",
     "text": [
      "(256, 512)\n",
      "(256, 512)\n"
     ]
    },
    {
     "name": "stderr",
     "output_type": "stream",
     "text": [
      "\r",
      " 12%|█████████▊                                                                     | 260/2101 [00:21<02:26, 12.55it/s]"
     ]
    },
    {
     "name": "stdout",
     "output_type": "stream",
     "text": [
      "(256, 512)\n",
      "(256, 512)\n"
     ]
    },
    {
     "name": "stderr",
     "output_type": "stream",
     "text": [
      "\r",
      " 12%|█████████▊                                                                     | 262/2101 [00:21<02:26, 12.56it/s]"
     ]
    },
    {
     "name": "stdout",
     "output_type": "stream",
     "text": [
      "(256, 512)\n",
      "(256, 512)\n"
     ]
    },
    {
     "name": "stderr",
     "output_type": "stream",
     "text": [
      "\r",
      " 13%|█████████▉                                                                     | 264/2101 [00:21<02:27, 12.48it/s]"
     ]
    },
    {
     "name": "stdout",
     "output_type": "stream",
     "text": [
      "(256, 512)\n",
      "(256, 512)\n"
     ]
    },
    {
     "name": "stderr",
     "output_type": "stream",
     "text": [
      "\r",
      " 13%|██████████                                                                     | 266/2101 [00:21<02:27, 12.41it/s]"
     ]
    },
    {
     "name": "stdout",
     "output_type": "stream",
     "text": [
      "(256, 512)\n",
      "(256, 512)\n"
     ]
    },
    {
     "name": "stderr",
     "output_type": "stream",
     "text": [
      "\r",
      " 13%|██████████                                                                     | 268/2101 [00:21<02:27, 12.45it/s]"
     ]
    },
    {
     "name": "stdout",
     "output_type": "stream",
     "text": [
      "(256, 512)\n",
      "(256, 512)\n"
     ]
    },
    {
     "name": "stderr",
     "output_type": "stream",
     "text": [
      "\r",
      " 13%|██████████▏                                                                    | 270/2101 [00:22<02:27, 12.40it/s]"
     ]
    },
    {
     "name": "stdout",
     "output_type": "stream",
     "text": [
      "(256, 512)\n",
      "(256, 512)\n"
     ]
    },
    {
     "name": "stderr",
     "output_type": "stream",
     "text": [
      "\r",
      " 13%|██████████▏                                                                    | 272/2101 [00:22<02:27, 12.36it/s]"
     ]
    },
    {
     "name": "stdout",
     "output_type": "stream",
     "text": [
      "(256, 512)\n",
      "(256, 512)\n"
     ]
    },
    {
     "name": "stderr",
     "output_type": "stream",
     "text": [
      "\r",
      " 13%|██████████▎                                                                    | 274/2101 [00:22<02:29, 12.21it/s]"
     ]
    },
    {
     "name": "stdout",
     "output_type": "stream",
     "text": [
      "(256, 512)\n",
      "(256, 512)\n"
     ]
    },
    {
     "name": "stderr",
     "output_type": "stream",
     "text": [
      "\r",
      " 13%|██████████▍                                                                    | 276/2101 [00:22<02:30, 12.13it/s]"
     ]
    },
    {
     "name": "stdout",
     "output_type": "stream",
     "text": [
      "(256, 512)\n",
      "(256, 512)\n"
     ]
    },
    {
     "name": "stderr",
     "output_type": "stream",
     "text": [
      "\r",
      " 13%|██████████▍                                                                    | 278/2101 [00:22<02:30, 12.13it/s]"
     ]
    },
    {
     "name": "stdout",
     "output_type": "stream",
     "text": [
      "(256, 512)\n",
      "(256, 512)\n"
     ]
    },
    {
     "name": "stderr",
     "output_type": "stream",
     "text": [
      "\r",
      " 13%|██████████▌                                                                    | 280/2101 [00:22<02:29, 12.19it/s]"
     ]
    },
    {
     "name": "stdout",
     "output_type": "stream",
     "text": [
      "(256, 512)\n",
      "(256, 512)\n"
     ]
    },
    {
     "name": "stderr",
     "output_type": "stream",
     "text": [
      "\r",
      " 13%|██████████▌                                                                    | 282/2101 [00:22<02:29, 12.15it/s]"
     ]
    },
    {
     "name": "stdout",
     "output_type": "stream",
     "text": [
      "(256, 512)\n",
      "(256, 512)\n"
     ]
    },
    {
     "name": "stderr",
     "output_type": "stream",
     "text": [
      "\r",
      " 14%|██████████▋                                                                    | 284/2101 [00:23<02:27, 12.28it/s]"
     ]
    },
    {
     "name": "stdout",
     "output_type": "stream",
     "text": [
      "(256, 512)\n",
      "(256, 512)\n"
     ]
    },
    {
     "name": "stderr",
     "output_type": "stream",
     "text": [
      "\r",
      " 14%|██████████▊                                                                    | 286/2101 [00:23<02:28, 12.20it/s]"
     ]
    },
    {
     "name": "stdout",
     "output_type": "stream",
     "text": [
      "(256, 512)\n",
      "(256, 512)\n"
     ]
    },
    {
     "name": "stderr",
     "output_type": "stream",
     "text": [
      "\r",
      " 14%|██████████▊                                                                    | 288/2101 [00:23<02:27, 12.30it/s]"
     ]
    },
    {
     "name": "stdout",
     "output_type": "stream",
     "text": [
      "(256, 512)\n",
      "(256, 512)\n"
     ]
    },
    {
     "name": "stderr",
     "output_type": "stream",
     "text": [
      "\r",
      " 14%|██████████▉                                                                    | 290/2101 [00:23<02:27, 12.31it/s]"
     ]
    },
    {
     "name": "stdout",
     "output_type": "stream",
     "text": [
      "(256, 512)\n",
      "(256, 512)\n"
     ]
    },
    {
     "name": "stderr",
     "output_type": "stream",
     "text": [
      "\r",
      " 14%|██████████▉                                                                    | 292/2101 [00:23<02:27, 12.24it/s]"
     ]
    },
    {
     "name": "stdout",
     "output_type": "stream",
     "text": [
      "(256, 512)\n",
      "(256, 512)\n"
     ]
    },
    {
     "name": "stderr",
     "output_type": "stream",
     "text": [
      "\r",
      " 14%|███████████                                                                    | 294/2101 [00:23<02:28, 12.17it/s]"
     ]
    },
    {
     "name": "stdout",
     "output_type": "stream",
     "text": [
      "(256, 512)\n",
      "(256, 512)\n"
     ]
    },
    {
     "name": "stderr",
     "output_type": "stream",
     "text": [
      "\r",
      " 14%|███████████▏                                                                   | 296/2101 [00:24<02:27, 12.26it/s]"
     ]
    },
    {
     "name": "stdout",
     "output_type": "stream",
     "text": [
      "(256, 512)\n",
      "(256, 512)\n"
     ]
    },
    {
     "name": "stderr",
     "output_type": "stream",
     "text": [
      "\r",
      " 14%|███████████▏                                                                   | 298/2101 [00:24<02:26, 12.27it/s]"
     ]
    },
    {
     "name": "stdout",
     "output_type": "stream",
     "text": [
      "(256, 512)\n",
      "(256, 512)\n"
     ]
    },
    {
     "name": "stderr",
     "output_type": "stream",
     "text": [
      "\r",
      " 14%|███████████▎                                                                   | 300/2101 [00:24<02:27, 12.25it/s]"
     ]
    },
    {
     "name": "stdout",
     "output_type": "stream",
     "text": [
      "(256, 512)\n",
      "(256, 512)\n"
     ]
    },
    {
     "name": "stderr",
     "output_type": "stream",
     "text": [
      "\r",
      " 14%|███████████▎                                                                   | 302/2101 [00:24<02:26, 12.27it/s]"
     ]
    },
    {
     "name": "stdout",
     "output_type": "stream",
     "text": [
      "(256, 512)\n",
      "(256, 512)\n"
     ]
    },
    {
     "name": "stderr",
     "output_type": "stream",
     "text": [
      "\r",
      " 14%|███████████▍                                                                   | 304/2101 [00:24<02:25, 12.36it/s]"
     ]
    },
    {
     "name": "stdout",
     "output_type": "stream",
     "text": [
      "(256, 512)\n",
      "(256, 512)\n"
     ]
    },
    {
     "name": "stderr",
     "output_type": "stream",
     "text": [
      "\r",
      " 15%|███████████▌                                                                   | 306/2101 [00:24<02:25, 12.30it/s]"
     ]
    },
    {
     "name": "stdout",
     "output_type": "stream",
     "text": [
      "(256, 512)\n",
      "(256, 512)\n"
     ]
    },
    {
     "name": "stderr",
     "output_type": "stream",
     "text": [
      "\r",
      " 15%|███████████▌                                                                   | 308/2101 [00:25<02:24, 12.37it/s]"
     ]
    },
    {
     "name": "stdout",
     "output_type": "stream",
     "text": [
      "(256, 512)\n",
      "(256, 512)\n"
     ]
    },
    {
     "name": "stderr",
     "output_type": "stream",
     "text": [
      "\r",
      " 15%|███████████▋                                                                   | 310/2101 [00:25<02:23, 12.45it/s]"
     ]
    },
    {
     "name": "stdout",
     "output_type": "stream",
     "text": [
      "(256, 512)\n",
      "(256, 512)\n"
     ]
    },
    {
     "name": "stderr",
     "output_type": "stream",
     "text": [
      "\r",
      " 15%|███████████▋                                                                   | 312/2101 [00:25<02:24, 12.39it/s]"
     ]
    },
    {
     "name": "stdout",
     "output_type": "stream",
     "text": [
      "(256, 512)\n",
      "(256, 512)\n"
     ]
    },
    {
     "name": "stderr",
     "output_type": "stream",
     "text": [
      "\r",
      " 15%|███████████▊                                                                   | 314/2101 [00:25<02:27, 12.15it/s]"
     ]
    },
    {
     "name": "stdout",
     "output_type": "stream",
     "text": [
      "(256, 512)\n",
      "(256, 512)\n"
     ]
    },
    {
     "name": "stderr",
     "output_type": "stream",
     "text": [
      "\r",
      " 15%|███████████▉                                                                   | 316/2101 [00:25<02:26, 12.22it/s]"
     ]
    },
    {
     "name": "stdout",
     "output_type": "stream",
     "text": [
      "(256, 512)\n",
      "(256, 512)\n"
     ]
    },
    {
     "name": "stderr",
     "output_type": "stream",
     "text": [
      "\r",
      " 15%|███████████▉                                                                   | 318/2101 [00:25<02:25, 12.27it/s]"
     ]
    },
    {
     "name": "stdout",
     "output_type": "stream",
     "text": [
      "(256, 512)\n",
      "(256, 512)\n"
     ]
    },
    {
     "name": "stderr",
     "output_type": "stream",
     "text": [
      "\r",
      " 15%|████████████                                                                   | 320/2101 [00:26<02:24, 12.31it/s]"
     ]
    },
    {
     "name": "stdout",
     "output_type": "stream",
     "text": [
      "(256, 512)\n",
      "(256, 512)\n"
     ]
    },
    {
     "name": "stderr",
     "output_type": "stream",
     "text": [
      "\r",
      " 15%|████████████                                                                   | 322/2101 [00:26<02:24, 12.31it/s]"
     ]
    },
    {
     "name": "stdout",
     "output_type": "stream",
     "text": [
      "(256, 512)\n",
      "(256, 512)\n"
     ]
    },
    {
     "name": "stderr",
     "output_type": "stream",
     "text": [
      "\r",
      " 15%|████████████▏                                                                  | 324/2101 [00:26<02:24, 12.30it/s]"
     ]
    },
    {
     "name": "stdout",
     "output_type": "stream",
     "text": [
      "(256, 512)\n",
      "(256, 512)\n"
     ]
    },
    {
     "name": "stderr",
     "output_type": "stream",
     "text": [
      "\r",
      " 16%|████████████▎                                                                  | 326/2101 [00:26<02:23, 12.36it/s]"
     ]
    },
    {
     "name": "stdout",
     "output_type": "stream",
     "text": [
      "(256, 512)\n",
      "(256, 512)\n"
     ]
    },
    {
     "name": "stderr",
     "output_type": "stream",
     "text": [
      "\r",
      " 16%|████████████▎                                                                  | 328/2101 [00:26<02:23, 12.39it/s]"
     ]
    },
    {
     "name": "stdout",
     "output_type": "stream",
     "text": [
      "(256, 512)\n",
      "(256, 512)\n"
     ]
    },
    {
     "name": "stderr",
     "output_type": "stream",
     "text": [
      "\r",
      " 16%|████████████▍                                                                  | 330/2101 [00:26<02:23, 12.36it/s]"
     ]
    },
    {
     "name": "stdout",
     "output_type": "stream",
     "text": [
      "(256, 512)\n",
      "(256, 512)\n"
     ]
    },
    {
     "name": "stderr",
     "output_type": "stream",
     "text": [
      "\r",
      " 16%|████████████▍                                                                  | 332/2101 [00:27<02:21, 12.49it/s]"
     ]
    },
    {
     "name": "stdout",
     "output_type": "stream",
     "text": [
      "(256, 512)\n",
      "(256, 512)\n"
     ]
    },
    {
     "name": "stderr",
     "output_type": "stream",
     "text": [
      "\r",
      " 16%|████████████▌                                                                  | 334/2101 [00:27<02:22, 12.43it/s]"
     ]
    },
    {
     "name": "stdout",
     "output_type": "stream",
     "text": [
      "(256, 512)\n",
      "(256, 512)\n"
     ]
    },
    {
     "name": "stderr",
     "output_type": "stream",
     "text": [
      "\r",
      " 16%|████████████▋                                                                  | 336/2101 [00:27<02:22, 12.37it/s]"
     ]
    },
    {
     "name": "stdout",
     "output_type": "stream",
     "text": [
      "(256, 512)\n",
      "(256, 512)\n"
     ]
    },
    {
     "name": "stderr",
     "output_type": "stream",
     "text": [
      "\r",
      " 16%|████████████▋                                                                  | 338/2101 [00:27<02:22, 12.39it/s]"
     ]
    },
    {
     "name": "stdout",
     "output_type": "stream",
     "text": [
      "(256, 512)\n",
      "(256, 512)\n"
     ]
    },
    {
     "name": "stderr",
     "output_type": "stream",
     "text": [
      "\r",
      " 16%|████████████▊                                                                  | 340/2101 [00:27<02:21, 12.42it/s]"
     ]
    },
    {
     "name": "stdout",
     "output_type": "stream",
     "text": [
      "(256, 512)\n",
      "(256, 512)\n"
     ]
    },
    {
     "name": "stderr",
     "output_type": "stream",
     "text": [
      "\r",
      " 16%|████████████▊                                                                  | 342/2101 [00:27<02:21, 12.39it/s]"
     ]
    },
    {
     "name": "stdout",
     "output_type": "stream",
     "text": [
      "(256, 512)\n",
      "(256, 512)\n"
     ]
    },
    {
     "name": "stderr",
     "output_type": "stream",
     "text": [
      "\r",
      " 16%|████████████▉                                                                  | 344/2101 [00:28<02:21, 12.45it/s]"
     ]
    },
    {
     "name": "stdout",
     "output_type": "stream",
     "text": [
      "(256, 512)\n",
      "(256, 512)\n"
     ]
    },
    {
     "name": "stderr",
     "output_type": "stream",
     "text": [
      "\r",
      " 16%|█████████████                                                                  | 346/2101 [00:28<02:22, 12.34it/s]"
     ]
    },
    {
     "name": "stdout",
     "output_type": "stream",
     "text": [
      "(256, 512)\n",
      "(256, 512)\n"
     ]
    },
    {
     "name": "stderr",
     "output_type": "stream",
     "text": [
      "\r",
      " 17%|█████████████                                                                  | 348/2101 [00:28<02:21, 12.37it/s]"
     ]
    },
    {
     "name": "stdout",
     "output_type": "stream",
     "text": [
      "(256, 512)\n",
      "(256, 512)\n"
     ]
    },
    {
     "name": "stderr",
     "output_type": "stream",
     "text": [
      "\r",
      " 17%|█████████████▏                                                                 | 350/2101 [00:28<02:21, 12.37it/s]"
     ]
    },
    {
     "name": "stdout",
     "output_type": "stream",
     "text": [
      "(256, 512)\n",
      "(256, 512)\n"
     ]
    },
    {
     "name": "stderr",
     "output_type": "stream",
     "text": [
      "\r",
      " 17%|█████████████▏                                                                 | 352/2101 [00:28<02:21, 12.34it/s]"
     ]
    },
    {
     "name": "stdout",
     "output_type": "stream",
     "text": [
      "(256, 512)\n",
      "(256, 512)\n"
     ]
    },
    {
     "name": "stderr",
     "output_type": "stream",
     "text": [
      "\r",
      " 17%|█████████████▎                                                                 | 354/2101 [00:28<02:21, 12.39it/s]"
     ]
    },
    {
     "name": "stdout",
     "output_type": "stream",
     "text": [
      "(256, 512)\n",
      "(256, 512)\n"
     ]
    },
    {
     "name": "stderr",
     "output_type": "stream",
     "text": [
      "\r",
      " 17%|█████████████▍                                                                 | 356/2101 [00:28<02:22, 12.28it/s]"
     ]
    },
    {
     "name": "stdout",
     "output_type": "stream",
     "text": [
      "(256, 512)\n",
      "(256, 512)\n"
     ]
    },
    {
     "name": "stderr",
     "output_type": "stream",
     "text": [
      "\r",
      " 17%|█████████████▍                                                                 | 358/2101 [00:29<02:20, 12.40it/s]"
     ]
    },
    {
     "name": "stdout",
     "output_type": "stream",
     "text": [
      "(256, 512)\n",
      "(256, 512)\n"
     ]
    },
    {
     "name": "stderr",
     "output_type": "stream",
     "text": [
      "\r",
      " 17%|█████████████▌                                                                 | 360/2101 [00:29<02:21, 12.34it/s]"
     ]
    },
    {
     "name": "stdout",
     "output_type": "stream",
     "text": [
      "(256, 512)\n",
      "(256, 512)\n"
     ]
    },
    {
     "name": "stderr",
     "output_type": "stream",
     "text": [
      "\r",
      " 17%|█████████████▌                                                                 | 362/2101 [00:29<02:21, 12.31it/s]"
     ]
    },
    {
     "name": "stdout",
     "output_type": "stream",
     "text": [
      "(256, 512)\n",
      "(256, 512)\n"
     ]
    },
    {
     "name": "stderr",
     "output_type": "stream",
     "text": [
      "\r",
      " 17%|█████████████▋                                                                 | 364/2101 [00:29<02:20, 12.40it/s]"
     ]
    },
    {
     "name": "stdout",
     "output_type": "stream",
     "text": [
      "(256, 512)\n",
      "(256, 512)\n"
     ]
    },
    {
     "name": "stderr",
     "output_type": "stream",
     "text": [
      "\r",
      " 17%|█████████████▊                                                                 | 366/2101 [00:29<02:19, 12.41it/s]"
     ]
    },
    {
     "name": "stdout",
     "output_type": "stream",
     "text": [
      "(256, 512)\n",
      "(256, 512)\n"
     ]
    },
    {
     "name": "stderr",
     "output_type": "stream",
     "text": [
      "\r",
      " 18%|█████████████▊                                                                 | 368/2101 [00:29<02:19, 12.41it/s]"
     ]
    },
    {
     "name": "stdout",
     "output_type": "stream",
     "text": [
      "(256, 512)\n",
      "(256, 512)\n"
     ]
    },
    {
     "name": "stderr",
     "output_type": "stream",
     "text": [
      "\r",
      " 18%|█████████████▉                                                                 | 370/2101 [00:30<02:19, 12.41it/s]"
     ]
    },
    {
     "name": "stdout",
     "output_type": "stream",
     "text": [
      "(256, 512)\n",
      "(256, 512)\n"
     ]
    },
    {
     "name": "stderr",
     "output_type": "stream",
     "text": [
      "\r",
      " 18%|█████████████▉                                                                 | 372/2101 [00:30<02:19, 12.37it/s]"
     ]
    },
    {
     "name": "stdout",
     "output_type": "stream",
     "text": [
      "(256, 512)\n",
      "(256, 512)\n"
     ]
    },
    {
     "name": "stderr",
     "output_type": "stream",
     "text": [
      "\r",
      " 18%|██████████████                                                                 | 374/2101 [00:30<02:18, 12.48it/s]"
     ]
    },
    {
     "name": "stdout",
     "output_type": "stream",
     "text": [
      "(256, 512)\n",
      "(256, 512)\n"
     ]
    },
    {
     "name": "stderr",
     "output_type": "stream",
     "text": [
      "\r",
      " 18%|██████████████▏                                                                | 376/2101 [00:30<02:17, 12.51it/s]"
     ]
    },
    {
     "name": "stdout",
     "output_type": "stream",
     "text": [
      "(256, 512)\n",
      "(256, 512)\n"
     ]
    },
    {
     "name": "stderr",
     "output_type": "stream",
     "text": [
      "\r",
      " 18%|██████████████▏                                                                | 378/2101 [00:30<02:17, 12.52it/s]"
     ]
    },
    {
     "name": "stdout",
     "output_type": "stream",
     "text": [
      "(256, 512)\n",
      "(256, 512)\n"
     ]
    },
    {
     "name": "stderr",
     "output_type": "stream",
     "text": [
      "\r",
      " 18%|██████████████▎                                                                | 380/2101 [00:30<02:18, 12.44it/s]"
     ]
    },
    {
     "name": "stdout",
     "output_type": "stream",
     "text": [
      "(256, 512)\n",
      "(256, 512)\n"
     ]
    },
    {
     "name": "stderr",
     "output_type": "stream",
     "text": [
      "\r",
      " 18%|██████████████▎                                                                | 382/2101 [00:31<02:19, 12.34it/s]"
     ]
    },
    {
     "name": "stdout",
     "output_type": "stream",
     "text": [
      "(256, 512)\n",
      "(256, 512)\n"
     ]
    },
    {
     "name": "stderr",
     "output_type": "stream",
     "text": [
      "\r",
      " 18%|██████████████▍                                                                | 384/2101 [00:31<02:19, 12.30it/s]"
     ]
    },
    {
     "name": "stdout",
     "output_type": "stream",
     "text": [
      "(256, 512)\n",
      "(256, 512)\n"
     ]
    },
    {
     "name": "stderr",
     "output_type": "stream",
     "text": [
      "\r",
      " 18%|██████████████▌                                                                | 386/2101 [00:31<02:19, 12.31it/s]"
     ]
    },
    {
     "name": "stdout",
     "output_type": "stream",
     "text": [
      "(256, 512)\n",
      "(256, 512)\n"
     ]
    },
    {
     "name": "stderr",
     "output_type": "stream",
     "text": [
      "\r",
      " 18%|██████████████▌                                                                | 388/2101 [00:31<02:18, 12.35it/s]"
     ]
    },
    {
     "name": "stdout",
     "output_type": "stream",
     "text": [
      "(256, 512)\n",
      "(256, 512)\n"
     ]
    },
    {
     "name": "stderr",
     "output_type": "stream",
     "text": [
      "\r",
      " 19%|██████████████▋                                                                | 390/2101 [00:31<02:18, 12.37it/s]"
     ]
    },
    {
     "name": "stdout",
     "output_type": "stream",
     "text": [
      "(256, 512)\n",
      "(256, 512)\n"
     ]
    },
    {
     "name": "stderr",
     "output_type": "stream",
     "text": [
      "\r",
      " 19%|██████████████▋                                                                | 392/2101 [00:31<02:19, 12.29it/s]"
     ]
    },
    {
     "name": "stdout",
     "output_type": "stream",
     "text": [
      "(256, 512)\n",
      "(256, 512)\n"
     ]
    },
    {
     "name": "stderr",
     "output_type": "stream",
     "text": [
      "\r",
      " 19%|██████████████▊                                                                | 394/2101 [00:32<02:17, 12.38it/s]"
     ]
    },
    {
     "name": "stdout",
     "output_type": "stream",
     "text": [
      "(256, 512)\n",
      "(256, 512)\n"
     ]
    },
    {
     "name": "stderr",
     "output_type": "stream",
     "text": [
      "\r",
      " 19%|██████████████▉                                                                | 396/2101 [00:32<02:19, 12.26it/s]"
     ]
    },
    {
     "name": "stdout",
     "output_type": "stream",
     "text": [
      "(256, 512)\n",
      "(256, 512)\n"
     ]
    },
    {
     "name": "stderr",
     "output_type": "stream",
     "text": [
      "\r",
      " 19%|██████████████▉                                                                | 398/2101 [00:32<02:18, 12.27it/s]"
     ]
    },
    {
     "name": "stdout",
     "output_type": "stream",
     "text": [
      "(256, 512)\n",
      "(256, 512)\n"
     ]
    },
    {
     "name": "stderr",
     "output_type": "stream",
     "text": [
      "\r",
      " 19%|███████████████                                                                | 400/2101 [00:32<02:16, 12.47it/s]"
     ]
    },
    {
     "name": "stdout",
     "output_type": "stream",
     "text": [
      "(256, 512)\n",
      "(256, 512)\n"
     ]
    },
    {
     "name": "stderr",
     "output_type": "stream",
     "text": [
      "\r",
      " 19%|███████████████                                                                | 402/2101 [00:32<02:16, 12.44it/s]"
     ]
    },
    {
     "name": "stdout",
     "output_type": "stream",
     "text": [
      "(256, 512)\n",
      "(256, 512)\n"
     ]
    },
    {
     "name": "stderr",
     "output_type": "stream",
     "text": [
      "\r",
      " 19%|███████████████▏                                                               | 404/2101 [00:32<02:17, 12.34it/s]"
     ]
    },
    {
     "name": "stdout",
     "output_type": "stream",
     "text": [
      "(256, 512)\n",
      "(256, 512)\n"
     ]
    },
    {
     "name": "stderr",
     "output_type": "stream",
     "text": [
      "\r",
      " 19%|███████████████▎                                                               | 406/2101 [00:33<02:17, 12.37it/s]"
     ]
    },
    {
     "name": "stdout",
     "output_type": "stream",
     "text": [
      "(256, 512)\n",
      "(256, 512)\n"
     ]
    },
    {
     "name": "stderr",
     "output_type": "stream",
     "text": [
      "\r",
      " 19%|███████████████▎                                                               | 408/2101 [00:33<02:15, 12.53it/s]"
     ]
    },
    {
     "name": "stdout",
     "output_type": "stream",
     "text": [
      "(256, 512)\n",
      "(256, 512)\n"
     ]
    },
    {
     "name": "stderr",
     "output_type": "stream",
     "text": [
      "\r",
      " 20%|███████████████▍                                                               | 410/2101 [00:33<02:14, 12.54it/s]"
     ]
    },
    {
     "name": "stdout",
     "output_type": "stream",
     "text": [
      "(256, 512)\n",
      "(256, 512)\n"
     ]
    },
    {
     "name": "stderr",
     "output_type": "stream",
     "text": [
      "\r",
      " 20%|███████████████▍                                                               | 412/2101 [00:33<02:14, 12.55it/s]"
     ]
    },
    {
     "name": "stdout",
     "output_type": "stream",
     "text": [
      "(256, 512)\n",
      "(256, 512)\n"
     ]
    },
    {
     "name": "stderr",
     "output_type": "stream",
     "text": [
      "\r",
      " 20%|███████████████▌                                                               | 414/2101 [00:33<02:15, 12.49it/s]"
     ]
    },
    {
     "name": "stdout",
     "output_type": "stream",
     "text": [
      "(256, 512)\n",
      "(256, 512)\n"
     ]
    },
    {
     "name": "stderr",
     "output_type": "stream",
     "text": [
      "\r",
      " 20%|███████████████▋                                                               | 416/2101 [00:33<02:15, 12.45it/s]"
     ]
    },
    {
     "name": "stdout",
     "output_type": "stream",
     "text": [
      "(256, 512)\n",
      "(256, 512)\n"
     ]
    },
    {
     "name": "stderr",
     "output_type": "stream",
     "text": [
      "\r",
      " 20%|███████████████▋                                                               | 418/2101 [00:33<02:15, 12.40it/s]"
     ]
    },
    {
     "name": "stdout",
     "output_type": "stream",
     "text": [
      "(256, 512)\n",
      "(256, 512)\n"
     ]
    },
    {
     "name": "stderr",
     "output_type": "stream",
     "text": [
      "\r",
      " 20%|███████████████▊                                                               | 420/2101 [00:34<02:15, 12.43it/s]"
     ]
    },
    {
     "name": "stdout",
     "output_type": "stream",
     "text": [
      "(256, 512)\n",
      "(256, 512)\n"
     ]
    },
    {
     "name": "stderr",
     "output_type": "stream",
     "text": [
      "\r",
      " 20%|███████████████▊                                                               | 422/2101 [00:34<02:16, 12.28it/s]"
     ]
    },
    {
     "name": "stdout",
     "output_type": "stream",
     "text": [
      "(256, 512)\n",
      "(256, 512)\n"
     ]
    },
    {
     "name": "stderr",
     "output_type": "stream",
     "text": [
      "\r",
      " 20%|███████████████▉                                                               | 424/2101 [00:34<02:17, 12.23it/s]"
     ]
    },
    {
     "name": "stdout",
     "output_type": "stream",
     "text": [
      "(256, 512)\n",
      "(256, 512)\n"
     ]
    },
    {
     "name": "stderr",
     "output_type": "stream",
     "text": [
      "\r",
      " 20%|████████████████                                                               | 426/2101 [00:34<02:16, 12.24it/s]"
     ]
    },
    {
     "name": "stdout",
     "output_type": "stream",
     "text": [
      "(256, 512)\n",
      "(256, 512)\n"
     ]
    },
    {
     "name": "stderr",
     "output_type": "stream",
     "text": [
      "\r",
      " 20%|████████████████                                                               | 428/2101 [00:34<02:14, 12.44it/s]"
     ]
    },
    {
     "name": "stdout",
     "output_type": "stream",
     "text": [
      "(256, 512)\n",
      "(256, 512)\n"
     ]
    },
    {
     "name": "stderr",
     "output_type": "stream",
     "text": [
      "\r",
      " 20%|████████████████▏                                                              | 430/2101 [00:34<02:16, 12.28it/s]"
     ]
    },
    {
     "name": "stdout",
     "output_type": "stream",
     "text": [
      "(256, 512)\n",
      "(256, 512)\n"
     ]
    },
    {
     "name": "stderr",
     "output_type": "stream",
     "text": [
      "\r",
      " 21%|████████████████▏                                                              | 432/2101 [00:35<02:15, 12.32it/s]"
     ]
    },
    {
     "name": "stdout",
     "output_type": "stream",
     "text": [
      "(256, 512)\n",
      "(256, 512)\n"
     ]
    },
    {
     "name": "stderr",
     "output_type": "stream",
     "text": [
      "\r",
      " 21%|████████████████▎                                                              | 434/2101 [00:35<02:14, 12.39it/s]"
     ]
    },
    {
     "name": "stdout",
     "output_type": "stream",
     "text": [
      "(256, 512)\n",
      "(256, 512)\n"
     ]
    },
    {
     "name": "stderr",
     "output_type": "stream",
     "text": [
      "\r",
      " 21%|████████████████▍                                                              | 436/2101 [00:35<02:15, 12.31it/s]"
     ]
    },
    {
     "name": "stdout",
     "output_type": "stream",
     "text": [
      "(256, 512)\n",
      "(256, 512)\n"
     ]
    },
    {
     "name": "stderr",
     "output_type": "stream",
     "text": [
      "\r",
      " 21%|████████████████▍                                                              | 438/2101 [00:35<02:15, 12.25it/s]"
     ]
    },
    {
     "name": "stdout",
     "output_type": "stream",
     "text": [
      "(256, 512)\n",
      "(256, 512)\n"
     ]
    },
    {
     "name": "stderr",
     "output_type": "stream",
     "text": [
      "\r",
      " 21%|████████████████▌                                                              | 440/2101 [00:35<02:14, 12.32it/s]"
     ]
    },
    {
     "name": "stdout",
     "output_type": "stream",
     "text": [
      "(256, 512)\n",
      "(256, 512)\n"
     ]
    },
    {
     "name": "stderr",
     "output_type": "stream",
     "text": [
      "\r",
      " 21%|████████████████▌                                                              | 442/2101 [00:35<02:14, 12.35it/s]"
     ]
    },
    {
     "name": "stdout",
     "output_type": "stream",
     "text": [
      "(256, 512)\n",
      "(256, 512)\n"
     ]
    },
    {
     "name": "stderr",
     "output_type": "stream",
     "text": [
      "\r",
      " 21%|████████████████▋                                                              | 444/2101 [00:36<02:14, 12.31it/s]"
     ]
    },
    {
     "name": "stdout",
     "output_type": "stream",
     "text": [
      "(256, 512)\n",
      "(256, 512)\n"
     ]
    },
    {
     "name": "stderr",
     "output_type": "stream",
     "text": [
      "\r",
      " 21%|████████████████▊                                                              | 446/2101 [00:36<02:14, 12.27it/s]"
     ]
    },
    {
     "name": "stdout",
     "output_type": "stream",
     "text": [
      "(256, 512)\n",
      "(256, 512)\n"
     ]
    },
    {
     "name": "stderr",
     "output_type": "stream",
     "text": [
      "\r",
      " 21%|████████████████▊                                                              | 448/2101 [00:36<02:13, 12.35it/s]"
     ]
    },
    {
     "name": "stdout",
     "output_type": "stream",
     "text": [
      "(256, 512)\n",
      "(256, 512)\n"
     ]
    },
    {
     "name": "stderr",
     "output_type": "stream",
     "text": [
      "\r",
      " 21%|████████████████▉                                                              | 450/2101 [00:36<02:16, 12.10it/s]"
     ]
    },
    {
     "name": "stdout",
     "output_type": "stream",
     "text": [
      "(256, 512)\n",
      "(256, 512)\n"
     ]
    },
    {
     "name": "stderr",
     "output_type": "stream",
     "text": [
      "\r",
      " 22%|████████████████▉                                                              | 452/2101 [00:36<02:14, 12.25it/s]"
     ]
    },
    {
     "name": "stdout",
     "output_type": "stream",
     "text": [
      "(256, 512)\n",
      "(256, 512)\n"
     ]
    },
    {
     "name": "stderr",
     "output_type": "stream",
     "text": [
      "\r",
      " 22%|█████████████████                                                              | 454/2101 [00:36<02:14, 12.22it/s]"
     ]
    },
    {
     "name": "stdout",
     "output_type": "stream",
     "text": [
      "(256, 512)\n",
      "(256, 512)\n"
     ]
    },
    {
     "name": "stderr",
     "output_type": "stream",
     "text": [
      "\r",
      " 22%|█████████████████▏                                                             | 456/2101 [00:37<02:14, 12.25it/s]"
     ]
    },
    {
     "name": "stdout",
     "output_type": "stream",
     "text": [
      "(256, 512)\n",
      "(256, 512)\n"
     ]
    },
    {
     "name": "stderr",
     "output_type": "stream",
     "text": [
      "\r",
      " 22%|█████████████████▏                                                             | 458/2101 [00:37<02:13, 12.27it/s]"
     ]
    },
    {
     "name": "stdout",
     "output_type": "stream",
     "text": [
      "(256, 512)\n",
      "(256, 512)\n"
     ]
    },
    {
     "name": "stderr",
     "output_type": "stream",
     "text": [
      "\r",
      " 22%|█████████████████▎                                                             | 460/2101 [00:37<02:14, 12.23it/s]"
     ]
    },
    {
     "name": "stdout",
     "output_type": "stream",
     "text": [
      "(256, 512)\n",
      "(256, 512)\n"
     ]
    },
    {
     "name": "stderr",
     "output_type": "stream",
     "text": [
      "\r",
      " 22%|█████████████████▎                                                             | 462/2101 [00:37<02:14, 12.19it/s]"
     ]
    },
    {
     "name": "stdout",
     "output_type": "stream",
     "text": [
      "(256, 512)\n",
      "(256, 512)\n"
     ]
    },
    {
     "name": "stderr",
     "output_type": "stream",
     "text": [
      "\r",
      " 22%|█████████████████▍                                                             | 464/2101 [00:37<02:14, 12.20it/s]"
     ]
    },
    {
     "name": "stdout",
     "output_type": "stream",
     "text": [
      "(256, 512)\n",
      "(256, 512)\n"
     ]
    },
    {
     "name": "stderr",
     "output_type": "stream",
     "text": [
      "\r",
      " 22%|█████████████████▌                                                             | 466/2101 [00:37<02:13, 12.28it/s]"
     ]
    },
    {
     "name": "stdout",
     "output_type": "stream",
     "text": [
      "(256, 512)\n",
      "(256, 512)\n"
     ]
    },
    {
     "name": "stderr",
     "output_type": "stream",
     "text": [
      "\r",
      " 22%|█████████████████▌                                                             | 468/2101 [00:38<02:13, 12.25it/s]"
     ]
    },
    {
     "name": "stdout",
     "output_type": "stream",
     "text": [
      "(256, 512)\n",
      "(256, 512)\n"
     ]
    },
    {
     "name": "stderr",
     "output_type": "stream",
     "text": [
      "\r",
      " 22%|█████████████████▋                                                             | 470/2101 [00:38<02:13, 12.22it/s]"
     ]
    },
    {
     "name": "stdout",
     "output_type": "stream",
     "text": [
      "(256, 512)\n",
      "(256, 512)\n"
     ]
    },
    {
     "name": "stderr",
     "output_type": "stream",
     "text": [
      "\r",
      " 22%|█████████████████▋                                                             | 472/2101 [00:38<02:13, 12.16it/s]"
     ]
    },
    {
     "name": "stdout",
     "output_type": "stream",
     "text": [
      "(256, 512)\n",
      "(256, 512)\n"
     ]
    },
    {
     "name": "stderr",
     "output_type": "stream",
     "text": [
      "\r",
      " 23%|█████████████████▊                                                             | 474/2101 [00:38<02:15, 12.04it/s]"
     ]
    },
    {
     "name": "stdout",
     "output_type": "stream",
     "text": [
      "(256, 512)\n",
      "(256, 512)\n"
     ]
    },
    {
     "name": "stderr",
     "output_type": "stream",
     "text": [
      "\r",
      " 23%|█████████████████▉                                                             | 476/2101 [00:38<02:14, 12.12it/s]"
     ]
    },
    {
     "name": "stdout",
     "output_type": "stream",
     "text": [
      "(256, 512)\n",
      "(256, 512)\n"
     ]
    },
    {
     "name": "stderr",
     "output_type": "stream",
     "text": [
      "\r",
      " 23%|█████████████████▉                                                             | 478/2101 [00:38<02:13, 12.12it/s]"
     ]
    },
    {
     "name": "stdout",
     "output_type": "stream",
     "text": [
      "(256, 512)\n",
      "(256, 512)\n"
     ]
    },
    {
     "name": "stderr",
     "output_type": "stream",
     "text": [
      "\r",
      " 23%|██████████████████                                                             | 480/2101 [00:39<02:11, 12.29it/s]"
     ]
    },
    {
     "name": "stdout",
     "output_type": "stream",
     "text": [
      "(256, 512)\n",
      "(256, 512)\n"
     ]
    },
    {
     "name": "stderr",
     "output_type": "stream",
     "text": [
      "\r",
      " 23%|██████████████████                                                             | 482/2101 [00:39<02:12, 12.25it/s]"
     ]
    },
    {
     "name": "stdout",
     "output_type": "stream",
     "text": [
      "(256, 512)\n",
      "(256, 512)\n"
     ]
    },
    {
     "name": "stderr",
     "output_type": "stream",
     "text": [
      "\r",
      " 23%|██████████████████▏                                                            | 484/2101 [00:39<02:11, 12.30it/s]"
     ]
    },
    {
     "name": "stdout",
     "output_type": "stream",
     "text": [
      "(256, 512)\n",
      "(256, 512)\n"
     ]
    },
    {
     "name": "stderr",
     "output_type": "stream",
     "text": [
      "\r",
      " 23%|██████████████████▎                                                            | 486/2101 [00:39<02:11, 12.31it/s]"
     ]
    },
    {
     "name": "stdout",
     "output_type": "stream",
     "text": [
      "(256, 512)\n",
      "(256, 512)\n"
     ]
    },
    {
     "name": "stderr",
     "output_type": "stream",
     "text": [
      "\r",
      " 23%|██████████████████▎                                                            | 488/2101 [00:39<02:12, 12.22it/s]"
     ]
    },
    {
     "name": "stdout",
     "output_type": "stream",
     "text": [
      "(256, 512)\n",
      "(256, 512)\n"
     ]
    },
    {
     "name": "stderr",
     "output_type": "stream",
     "text": [
      "\r",
      " 23%|██████████████████▍                                                            | 490/2101 [00:39<02:12, 12.19it/s]"
     ]
    },
    {
     "name": "stdout",
     "output_type": "stream",
     "text": [
      "(256, 512)\n",
      "(256, 512)\n"
     ]
    },
    {
     "name": "stderr",
     "output_type": "stream",
     "text": [
      "\r",
      " 23%|██████████████████▍                                                            | 492/2101 [00:40<02:12, 12.18it/s]"
     ]
    },
    {
     "name": "stdout",
     "output_type": "stream",
     "text": [
      "(256, 512)\n",
      "(256, 512)\n"
     ]
    },
    {
     "name": "stderr",
     "output_type": "stream",
     "text": [
      "\r",
      " 24%|██████████████████▌                                                            | 494/2101 [00:40<02:11, 12.25it/s]"
     ]
    },
    {
     "name": "stdout",
     "output_type": "stream",
     "text": [
      "(256, 512)\n",
      "(256, 512)\n"
     ]
    },
    {
     "name": "stderr",
     "output_type": "stream",
     "text": [
      "\r",
      " 24%|██████████████████▋                                                            | 496/2101 [00:40<02:10, 12.26it/s]"
     ]
    },
    {
     "name": "stdout",
     "output_type": "stream",
     "text": [
      "(256, 512)\n",
      "(256, 512)\n"
     ]
    },
    {
     "name": "stderr",
     "output_type": "stream",
     "text": [
      "\r",
      " 24%|██████████████████▋                                                            | 498/2101 [00:40<02:10, 12.31it/s]"
     ]
    },
    {
     "name": "stdout",
     "output_type": "stream",
     "text": [
      "(256, 512)\n",
      "(256, 512)\n"
     ]
    },
    {
     "name": "stderr",
     "output_type": "stream",
     "text": [
      "\r",
      " 24%|██████████████████▊                                                            | 500/2101 [00:40<02:10, 12.28it/s]"
     ]
    },
    {
     "name": "stdout",
     "output_type": "stream",
     "text": [
      "(256, 512)\n",
      "(256, 512)\n"
     ]
    },
    {
     "name": "stderr",
     "output_type": "stream",
     "text": [
      "\r",
      " 24%|██████████████████▉                                                            | 502/2101 [00:40<02:10, 12.24it/s]"
     ]
    },
    {
     "name": "stdout",
     "output_type": "stream",
     "text": [
      "(256, 512)\n",
      "(256, 512)\n"
     ]
    },
    {
     "name": "stderr",
     "output_type": "stream",
     "text": [
      "\r",
      " 24%|██████████████████▉                                                            | 504/2101 [00:41<02:10, 12.28it/s]"
     ]
    },
    {
     "name": "stdout",
     "output_type": "stream",
     "text": [
      "(256, 512)\n",
      "(256, 512)\n"
     ]
    },
    {
     "name": "stderr",
     "output_type": "stream",
     "text": [
      "\r",
      " 24%|███████████████████                                                            | 506/2101 [00:41<02:09, 12.29it/s]"
     ]
    },
    {
     "name": "stdout",
     "output_type": "stream",
     "text": [
      "(256, 512)\n",
      "(256, 512)\n"
     ]
    },
    {
     "name": "stderr",
     "output_type": "stream",
     "text": [
      "\r",
      " 24%|███████████████████                                                            | 508/2101 [00:41<02:11, 12.13it/s]"
     ]
    },
    {
     "name": "stdout",
     "output_type": "stream",
     "text": [
      "(256, 512)\n",
      "(256, 512)\n"
     ]
    },
    {
     "name": "stderr",
     "output_type": "stream",
     "text": [
      "\r",
      " 24%|███████████████████▏                                                           | 510/2101 [00:41<02:11, 12.09it/s]"
     ]
    },
    {
     "name": "stdout",
     "output_type": "stream",
     "text": [
      "(256, 512)\n",
      "(256, 512)\n"
     ]
    },
    {
     "name": "stderr",
     "output_type": "stream",
     "text": [
      "\r",
      " 24%|███████████████████▎                                                           | 512/2101 [00:41<02:10, 12.16it/s]"
     ]
    },
    {
     "name": "stdout",
     "output_type": "stream",
     "text": [
      "(256, 512)\n",
      "(256, 512)\n"
     ]
    },
    {
     "name": "stderr",
     "output_type": "stream",
     "text": [
      "\r",
      " 24%|███████████████████▎                                                           | 514/2101 [00:41<02:09, 12.23it/s]"
     ]
    },
    {
     "name": "stdout",
     "output_type": "stream",
     "text": [
      "(256, 512)\n",
      "(256, 512)\n"
     ]
    },
    {
     "name": "stderr",
     "output_type": "stream",
     "text": [
      "\r",
      " 25%|███████████████████▍                                                           | 516/2101 [00:41<02:09, 12.27it/s]"
     ]
    },
    {
     "name": "stdout",
     "output_type": "stream",
     "text": [
      "(256, 512)\n",
      "(256, 512)\n"
     ]
    },
    {
     "name": "stderr",
     "output_type": "stream",
     "text": [
      "\r",
      " 25%|███████████████████▍                                                           | 518/2101 [00:42<02:08, 12.36it/s]"
     ]
    },
    {
     "name": "stdout",
     "output_type": "stream",
     "text": [
      "(256, 512)\n",
      "(256, 512)\n"
     ]
    },
    {
     "name": "stderr",
     "output_type": "stream",
     "text": [
      "\r",
      " 25%|███████████████████▌                                                           | 520/2101 [00:42<02:08, 12.27it/s]"
     ]
    },
    {
     "name": "stdout",
     "output_type": "stream",
     "text": [
      "(256, 512)\n",
      "(256, 512)\n"
     ]
    },
    {
     "name": "stderr",
     "output_type": "stream",
     "text": [
      "\r",
      " 25%|███████████████████▋                                                           | 522/2101 [00:42<02:08, 12.26it/s]"
     ]
    },
    {
     "name": "stdout",
     "output_type": "stream",
     "text": [
      "(256, 512)\n",
      "(256, 512)\n"
     ]
    },
    {
     "name": "stderr",
     "output_type": "stream",
     "text": [
      "\r",
      " 25%|███████████████████▋                                                           | 524/2101 [00:42<02:08, 12.30it/s]"
     ]
    },
    {
     "name": "stdout",
     "output_type": "stream",
     "text": [
      "(256, 512)\n",
      "(256, 512)\n"
     ]
    },
    {
     "name": "stderr",
     "output_type": "stream",
     "text": [
      "\r",
      " 25%|███████████████████▊                                                           | 526/2101 [00:42<02:08, 12.26it/s]"
     ]
    },
    {
     "name": "stdout",
     "output_type": "stream",
     "text": [
      "(256, 512)\n",
      "(256, 512)\n"
     ]
    },
    {
     "name": "stderr",
     "output_type": "stream",
     "text": [
      "\r",
      " 25%|███████████████████▊                                                           | 528/2101 [00:42<02:07, 12.37it/s]"
     ]
    },
    {
     "name": "stdout",
     "output_type": "stream",
     "text": [
      "(256, 512)\n",
      "(256, 512)\n"
     ]
    },
    {
     "name": "stderr",
     "output_type": "stream",
     "text": [
      "\r",
      " 25%|███████████████████▉                                                           | 530/2101 [00:43<02:07, 12.28it/s]"
     ]
    },
    {
     "name": "stdout",
     "output_type": "stream",
     "text": [
      "(256, 512)\n",
      "(256, 512)\n"
     ]
    },
    {
     "name": "stderr",
     "output_type": "stream",
     "text": [
      "\r",
      " 25%|████████████████████                                                           | 532/2101 [00:43<02:07, 12.29it/s]"
     ]
    },
    {
     "name": "stdout",
     "output_type": "stream",
     "text": [
      "(256, 512)\n",
      "(256, 512)\n"
     ]
    },
    {
     "name": "stderr",
     "output_type": "stream",
     "text": [
      "\r",
      " 25%|████████████████████                                                           | 534/2101 [00:43<02:05, 12.53it/s]"
     ]
    },
    {
     "name": "stdout",
     "output_type": "stream",
     "text": [
      "(256, 512)\n",
      "(256, 512)\n"
     ]
    },
    {
     "name": "stderr",
     "output_type": "stream",
     "text": [
      "\r",
      " 26%|████████████████████▏                                                          | 536/2101 [00:43<02:04, 12.59it/s]"
     ]
    },
    {
     "name": "stdout",
     "output_type": "stream",
     "text": [
      "(256, 512)\n",
      "(256, 512)\n"
     ]
    },
    {
     "name": "stderr",
     "output_type": "stream",
     "text": [
      "\r",
      " 26%|████████████████████▏                                                          | 538/2101 [00:43<02:06, 12.39it/s]"
     ]
    },
    {
     "name": "stdout",
     "output_type": "stream",
     "text": [
      "(256, 512)\n",
      "(256, 512)\n"
     ]
    },
    {
     "name": "stderr",
     "output_type": "stream",
     "text": [
      "\r",
      " 26%|████████████████████▎                                                          | 540/2101 [00:43<02:06, 12.37it/s]"
     ]
    },
    {
     "name": "stdout",
     "output_type": "stream",
     "text": [
      "(256, 512)\n",
      "(256, 512)\n"
     ]
    },
    {
     "name": "stderr",
     "output_type": "stream",
     "text": [
      "\r",
      " 26%|████████████████████▍                                                          | 542/2101 [00:44<02:07, 12.23it/s]"
     ]
    },
    {
     "name": "stdout",
     "output_type": "stream",
     "text": [
      "(256, 512)\n",
      "(256, 512)\n"
     ]
    },
    {
     "name": "stderr",
     "output_type": "stream",
     "text": [
      "\r",
      " 26%|████████████████████▍                                                          | 544/2101 [00:44<02:06, 12.33it/s]"
     ]
    },
    {
     "name": "stdout",
     "output_type": "stream",
     "text": [
      "(256, 512)\n",
      "(256, 512)\n"
     ]
    },
    {
     "name": "stderr",
     "output_type": "stream",
     "text": [
      "\r",
      " 26%|████████████████████▌                                                          | 546/2101 [00:44<02:06, 12.28it/s]"
     ]
    },
    {
     "name": "stdout",
     "output_type": "stream",
     "text": [
      "(256, 512)\n",
      "(256, 512)\n"
     ]
    },
    {
     "name": "stderr",
     "output_type": "stream",
     "text": [
      "\r",
      " 26%|████████████████████▌                                                          | 548/2101 [00:44<02:06, 12.26it/s]"
     ]
    },
    {
     "name": "stdout",
     "output_type": "stream",
     "text": [
      "(256, 512)\n",
      "(256, 512)\n"
     ]
    },
    {
     "name": "stderr",
     "output_type": "stream",
     "text": [
      "\r",
      " 26%|████████████████████▋                                                          | 550/2101 [00:44<02:07, 12.20it/s]"
     ]
    },
    {
     "name": "stdout",
     "output_type": "stream",
     "text": [
      "(256, 512)\n",
      "(256, 512)\n"
     ]
    },
    {
     "name": "stderr",
     "output_type": "stream",
     "text": [
      "\r",
      " 26%|████████████████████▊                                                          | 552/2101 [00:44<02:06, 12.26it/s]"
     ]
    },
    {
     "name": "stdout",
     "output_type": "stream",
     "text": [
      "(256, 512)\n",
      "(256, 512)\n"
     ]
    },
    {
     "name": "stderr",
     "output_type": "stream",
     "text": [
      "\r",
      " 26%|████████████████████▊                                                          | 554/2101 [00:45<02:04, 12.39it/s]"
     ]
    },
    {
     "name": "stdout",
     "output_type": "stream",
     "text": [
      "(256, 512)\n",
      "(256, 512)\n"
     ]
    },
    {
     "name": "stderr",
     "output_type": "stream",
     "text": [
      "\r",
      " 26%|████████████████████▉                                                          | 556/2101 [00:45<02:03, 12.47it/s]"
     ]
    },
    {
     "name": "stdout",
     "output_type": "stream",
     "text": [
      "(256, 512)\n",
      "(256, 512)\n"
     ]
    },
    {
     "name": "stderr",
     "output_type": "stream",
     "text": [
      "\r",
      " 27%|████████████████████▉                                                          | 558/2101 [00:45<02:03, 12.45it/s]"
     ]
    },
    {
     "name": "stdout",
     "output_type": "stream",
     "text": [
      "(256, 512)\n",
      "(256, 512)\n"
     ]
    },
    {
     "name": "stderr",
     "output_type": "stream",
     "text": [
      "\r",
      " 27%|█████████████████████                                                          | 560/2101 [00:45<02:03, 12.43it/s]"
     ]
    },
    {
     "name": "stdout",
     "output_type": "stream",
     "text": [
      "(256, 512)\n",
      "(256, 512)\n"
     ]
    },
    {
     "name": "stderr",
     "output_type": "stream",
     "text": [
      "\r",
      " 27%|█████████████████████▏                                                         | 562/2101 [00:45<02:03, 12.42it/s]"
     ]
    },
    {
     "name": "stdout",
     "output_type": "stream",
     "text": [
      "(256, 512)\n",
      "(256, 512)\n"
     ]
    },
    {
     "name": "stderr",
     "output_type": "stream",
     "text": [
      "\r",
      " 27%|█████████████████████▏                                                         | 564/2101 [00:45<02:02, 12.50it/s]"
     ]
    },
    {
     "name": "stdout",
     "output_type": "stream",
     "text": [
      "(256, 512)\n",
      "(256, 512)\n"
     ]
    },
    {
     "name": "stderr",
     "output_type": "stream",
     "text": [
      "\r",
      " 27%|█████████████████████▎                                                         | 566/2101 [00:46<02:03, 12.47it/s]"
     ]
    },
    {
     "name": "stdout",
     "output_type": "stream",
     "text": [
      "(256, 512)\n",
      "(256, 512)\n"
     ]
    },
    {
     "name": "stderr",
     "output_type": "stream",
     "text": [
      "\r",
      " 27%|█████████████████████▎                                                         | 568/2101 [00:46<02:04, 12.32it/s]"
     ]
    },
    {
     "name": "stdout",
     "output_type": "stream",
     "text": [
      "(256, 512)\n",
      "(256, 512)\n"
     ]
    },
    {
     "name": "stderr",
     "output_type": "stream",
     "text": [
      "\r",
      " 27%|█████████████████████▍                                                         | 570/2101 [00:46<02:05, 12.23it/s]"
     ]
    },
    {
     "name": "stdout",
     "output_type": "stream",
     "text": [
      "(256, 512)\n",
      "(256, 512)\n"
     ]
    },
    {
     "name": "stderr",
     "output_type": "stream",
     "text": [
      "\r",
      " 27%|█████████████████████▌                                                         | 572/2101 [00:46<02:04, 12.25it/s]"
     ]
    },
    {
     "name": "stdout",
     "output_type": "stream",
     "text": [
      "(256, 512)\n",
      "(256, 512)\n"
     ]
    },
    {
     "name": "stderr",
     "output_type": "stream",
     "text": [
      "\r",
      " 27%|█████████████████████▌                                                         | 574/2101 [00:46<02:05, 12.21it/s]"
     ]
    },
    {
     "name": "stdout",
     "output_type": "stream",
     "text": [
      "(256, 512)\n",
      "(256, 512)\n"
     ]
    },
    {
     "name": "stderr",
     "output_type": "stream",
     "text": [
      "\r",
      " 27%|█████████████████████▋                                                         | 576/2101 [00:46<02:04, 12.27it/s]"
     ]
    },
    {
     "name": "stdout",
     "output_type": "stream",
     "text": [
      "(256, 512)\n",
      "(256, 512)\n"
     ]
    },
    {
     "name": "stderr",
     "output_type": "stream",
     "text": [
      "\r",
      " 28%|█████████████████████▋                                                         | 578/2101 [00:47<02:02, 12.45it/s]"
     ]
    },
    {
     "name": "stdout",
     "output_type": "stream",
     "text": [
      "(256, 512)\n",
      "(256, 512)\n"
     ]
    },
    {
     "name": "stderr",
     "output_type": "stream",
     "text": [
      "\r",
      " 28%|█████████████████████▊                                                         | 580/2101 [00:47<02:02, 12.40it/s]"
     ]
    },
    {
     "name": "stdout",
     "output_type": "stream",
     "text": [
      "(256, 512)\n",
      "(256, 512)\n"
     ]
    },
    {
     "name": "stderr",
     "output_type": "stream",
     "text": [
      "\r",
      " 28%|█████████████████████▉                                                         | 582/2101 [00:47<02:03, 12.31it/s]"
     ]
    },
    {
     "name": "stdout",
     "output_type": "stream",
     "text": [
      "(256, 512)\n",
      "(256, 512)\n"
     ]
    },
    {
     "name": "stderr",
     "output_type": "stream",
     "text": [
      "\r",
      " 28%|█████████████████████▉                                                         | 584/2101 [00:47<02:03, 12.25it/s]"
     ]
    },
    {
     "name": "stdout",
     "output_type": "stream",
     "text": [
      "(256, 512)\n",
      "(256, 512)\n"
     ]
    },
    {
     "name": "stderr",
     "output_type": "stream",
     "text": [
      "\r",
      " 28%|██████████████████████                                                         | 586/2101 [00:47<02:03, 12.26it/s]"
     ]
    },
    {
     "name": "stdout",
     "output_type": "stream",
     "text": [
      "(256, 512)\n",
      "(256, 512)\n"
     ]
    },
    {
     "name": "stderr",
     "output_type": "stream",
     "text": [
      "\r",
      " 28%|██████████████████████                                                         | 588/2101 [00:47<02:02, 12.35it/s]"
     ]
    },
    {
     "name": "stdout",
     "output_type": "stream",
     "text": [
      "(256, 512)\n",
      "(256, 512)\n"
     ]
    },
    {
     "name": "stderr",
     "output_type": "stream",
     "text": [
      "\r",
      " 28%|██████████████████████▏                                                        | 590/2101 [00:47<02:01, 12.39it/s]"
     ]
    },
    {
     "name": "stdout",
     "output_type": "stream",
     "text": [
      "(256, 512)\n",
      "(256, 512)\n"
     ]
    },
    {
     "name": "stderr",
     "output_type": "stream",
     "text": [
      "\r",
      " 28%|██████████████████████▎                                                        | 592/2101 [00:48<02:01, 12.38it/s]"
     ]
    },
    {
     "name": "stdout",
     "output_type": "stream",
     "text": [
      "(256, 512)\n",
      "(256, 512)\n"
     ]
    },
    {
     "name": "stderr",
     "output_type": "stream",
     "text": [
      "\r",
      " 28%|██████████████████████▎                                                        | 594/2101 [00:48<02:01, 12.38it/s]"
     ]
    },
    {
     "name": "stdout",
     "output_type": "stream",
     "text": [
      "(256, 512)\n",
      "(256, 512)\n"
     ]
    },
    {
     "name": "stderr",
     "output_type": "stream",
     "text": [
      "\r",
      " 28%|██████████████████████▍                                                        | 596/2101 [00:48<02:01, 12.40it/s]"
     ]
    },
    {
     "name": "stdout",
     "output_type": "stream",
     "text": [
      "(256, 512)\n",
      "(256, 512)\n"
     ]
    },
    {
     "name": "stderr",
     "output_type": "stream",
     "text": [
      "\r",
      " 28%|██████████████████████▍                                                        | 598/2101 [00:48<02:01, 12.33it/s]"
     ]
    },
    {
     "name": "stdout",
     "output_type": "stream",
     "text": [
      "(256, 512)\n",
      "(256, 512)\n"
     ]
    },
    {
     "name": "stderr",
     "output_type": "stream",
     "text": [
      "\r",
      " 29%|██████████████████████▌                                                        | 600/2101 [00:48<02:01, 12.32it/s]"
     ]
    },
    {
     "name": "stdout",
     "output_type": "stream",
     "text": [
      "(256, 512)\n",
      "(256, 512)\n"
     ]
    },
    {
     "name": "stderr",
     "output_type": "stream",
     "text": [
      "\r",
      " 29%|██████████████████████▋                                                        | 602/2101 [00:48<02:01, 12.35it/s]"
     ]
    },
    {
     "name": "stdout",
     "output_type": "stream",
     "text": [
      "(256, 512)\n",
      "(256, 512)\n"
     ]
    },
    {
     "name": "stderr",
     "output_type": "stream",
     "text": [
      "\r",
      " 29%|██████████████████████▋                                                        | 604/2101 [00:49<02:00, 12.38it/s]"
     ]
    },
    {
     "name": "stdout",
     "output_type": "stream",
     "text": [
      "(256, 512)\n",
      "(256, 512)\n"
     ]
    },
    {
     "name": "stderr",
     "output_type": "stream",
     "text": [
      "\r",
      " 29%|██████████████████████▊                                                        | 606/2101 [00:49<02:01, 12.30it/s]"
     ]
    },
    {
     "name": "stdout",
     "output_type": "stream",
     "text": [
      "(256, 512)\n",
      "(256, 512)\n"
     ]
    },
    {
     "name": "stderr",
     "output_type": "stream",
     "text": [
      "\r",
      " 29%|██████████████████████▊                                                        | 608/2101 [00:49<02:00, 12.35it/s]"
     ]
    },
    {
     "name": "stdout",
     "output_type": "stream",
     "text": [
      "(256, 512)\n",
      "(256, 512)\n"
     ]
    },
    {
     "name": "stderr",
     "output_type": "stream",
     "text": [
      "\r",
      " 29%|██████████████████████▉                                                        | 610/2101 [00:49<02:00, 12.36it/s]"
     ]
    },
    {
     "name": "stdout",
     "output_type": "stream",
     "text": [
      "(256, 512)\n",
      "(256, 512)\n"
     ]
    },
    {
     "name": "stderr",
     "output_type": "stream",
     "text": [
      "\r",
      " 29%|███████████████████████                                                        | 612/2101 [00:49<01:59, 12.44it/s]"
     ]
    },
    {
     "name": "stdout",
     "output_type": "stream",
     "text": [
      "(256, 512)\n",
      "(256, 512)\n"
     ]
    },
    {
     "name": "stderr",
     "output_type": "stream",
     "text": [
      "\r",
      " 29%|███████████████████████                                                        | 614/2101 [00:49<02:00, 12.35it/s]"
     ]
    },
    {
     "name": "stdout",
     "output_type": "stream",
     "text": [
      "(256, 512)\n",
      "(256, 512)\n"
     ]
    },
    {
     "name": "stderr",
     "output_type": "stream",
     "text": [
      "\r",
      " 29%|███████████████████████▏                                                       | 616/2101 [00:50<01:59, 12.39it/s]"
     ]
    },
    {
     "name": "stdout",
     "output_type": "stream",
     "text": [
      "(256, 512)\n",
      "(256, 512)\n"
     ]
    },
    {
     "name": "stderr",
     "output_type": "stream",
     "text": [
      "\r",
      " 29%|███████████████████████▏                                                       | 618/2101 [00:50<02:00, 12.26it/s]"
     ]
    },
    {
     "name": "stdout",
     "output_type": "stream",
     "text": [
      "(256, 512)\n",
      "(256, 512)\n"
     ]
    },
    {
     "name": "stderr",
     "output_type": "stream",
     "text": [
      "\r",
      " 30%|███████████████████████▎                                                       | 620/2101 [00:50<02:01, 12.22it/s]"
     ]
    },
    {
     "name": "stdout",
     "output_type": "stream",
     "text": [
      "(256, 512)\n",
      "(256, 512)\n"
     ]
    },
    {
     "name": "stderr",
     "output_type": "stream",
     "text": [
      "\r",
      " 30%|███████████████████████▍                                                       | 622/2101 [00:50<02:00, 12.24it/s]"
     ]
    },
    {
     "name": "stdout",
     "output_type": "stream",
     "text": [
      "(256, 512)\n",
      "(256, 512)\n"
     ]
    },
    {
     "name": "stderr",
     "output_type": "stream",
     "text": [
      "\r",
      " 30%|███████████████████████▍                                                       | 624/2101 [00:50<02:01, 12.18it/s]"
     ]
    },
    {
     "name": "stdout",
     "output_type": "stream",
     "text": [
      "(256, 512)\n",
      "(256, 512)\n"
     ]
    },
    {
     "name": "stderr",
     "output_type": "stream",
     "text": [
      "\r",
      " 30%|███████████████████████▌                                                       | 626/2101 [00:50<01:59, 12.38it/s]"
     ]
    },
    {
     "name": "stdout",
     "output_type": "stream",
     "text": [
      "(256, 512)\n",
      "(256, 512)\n"
     ]
    },
    {
     "name": "stderr",
     "output_type": "stream",
     "text": [
      "\r",
      " 30%|███████████████████████▌                                                       | 628/2101 [00:51<01:59, 12.32it/s]"
     ]
    },
    {
     "name": "stdout",
     "output_type": "stream",
     "text": [
      "(256, 512)\n",
      "(256, 512)\n"
     ]
    },
    {
     "name": "stderr",
     "output_type": "stream",
     "text": [
      "\r",
      " 30%|███████████████████████▋                                                       | 630/2101 [00:51<01:58, 12.41it/s]"
     ]
    },
    {
     "name": "stdout",
     "output_type": "stream",
     "text": [
      "(256, 512)\n",
      "(256, 512)\n"
     ]
    },
    {
     "name": "stderr",
     "output_type": "stream",
     "text": [
      "\r",
      " 30%|███████████████████████▊                                                       | 632/2101 [00:51<01:58, 12.40it/s]"
     ]
    },
    {
     "name": "stdout",
     "output_type": "stream",
     "text": [
      "(256, 512)\n",
      "(256, 512)\n"
     ]
    },
    {
     "name": "stderr",
     "output_type": "stream",
     "text": [
      "\r",
      " 30%|███████████████████████▊                                                       | 634/2101 [00:51<01:59, 12.33it/s]"
     ]
    },
    {
     "name": "stdout",
     "output_type": "stream",
     "text": [
      "(256, 512)\n",
      "(256, 512)\n"
     ]
    },
    {
     "name": "stderr",
     "output_type": "stream",
     "text": [
      "\r",
      " 30%|███████████████████████▉                                                       | 636/2101 [00:51<01:57, 12.45it/s]"
     ]
    },
    {
     "name": "stdout",
     "output_type": "stream",
     "text": [
      "(256, 512)\n",
      "(256, 512)\n"
     ]
    },
    {
     "name": "stderr",
     "output_type": "stream",
     "text": [
      "\r",
      " 30%|███████████████████████▉                                                       | 638/2101 [00:51<01:57, 12.43it/s]"
     ]
    },
    {
     "name": "stdout",
     "output_type": "stream",
     "text": [
      "(256, 512)\n",
      "(256, 512)\n"
     ]
    },
    {
     "name": "stderr",
     "output_type": "stream",
     "text": [
      "\r",
      " 30%|████████████████████████                                                       | 640/2101 [00:52<01:57, 12.48it/s]"
     ]
    },
    {
     "name": "stdout",
     "output_type": "stream",
     "text": [
      "(256, 512)\n",
      "(256, 512)\n"
     ]
    },
    {
     "name": "stderr",
     "output_type": "stream",
     "text": [
      "\r",
      " 31%|████████████████████████▏                                                      | 642/2101 [00:52<01:56, 12.49it/s]"
     ]
    },
    {
     "name": "stdout",
     "output_type": "stream",
     "text": [
      "(256, 512)\n",
      "(256, 512)\n"
     ]
    },
    {
     "name": "stderr",
     "output_type": "stream",
     "text": [
      "\r",
      " 31%|████████████████████████▏                                                      | 644/2101 [00:52<01:58, 12.34it/s]"
     ]
    },
    {
     "name": "stdout",
     "output_type": "stream",
     "text": [
      "(256, 512)\n",
      "(256, 512)\n"
     ]
    },
    {
     "name": "stderr",
     "output_type": "stream",
     "text": [
      "\r",
      " 31%|████████████████████████▎                                                      | 646/2101 [00:52<01:58, 12.30it/s]"
     ]
    },
    {
     "name": "stdout",
     "output_type": "stream",
     "text": [
      "(256, 512)\n",
      "(256, 512)\n"
     ]
    },
    {
     "name": "stderr",
     "output_type": "stream",
     "text": [
      "\r",
      " 31%|████████████████████████▎                                                      | 648/2101 [00:52<01:58, 12.25it/s]"
     ]
    },
    {
     "name": "stdout",
     "output_type": "stream",
     "text": [
      "(256, 512)\n",
      "(256, 512)\n"
     ]
    },
    {
     "name": "stderr",
     "output_type": "stream",
     "text": [
      "\r",
      " 31%|████████████████████████▍                                                      | 650/2101 [00:52<01:58, 12.21it/s]"
     ]
    },
    {
     "name": "stdout",
     "output_type": "stream",
     "text": [
      "(256, 512)\n",
      "(256, 512)\n"
     ]
    },
    {
     "name": "stderr",
     "output_type": "stream",
     "text": [
      "\r",
      " 31%|████████████████████████▌                                                      | 652/2101 [00:53<01:58, 12.26it/s]"
     ]
    },
    {
     "name": "stdout",
     "output_type": "stream",
     "text": [
      "(256, 512)\n",
      "(256, 512)\n"
     ]
    },
    {
     "name": "stderr",
     "output_type": "stream",
     "text": [
      "\r",
      " 31%|████████████████████████▌                                                      | 654/2101 [00:53<01:57, 12.29it/s]"
     ]
    },
    {
     "name": "stdout",
     "output_type": "stream",
     "text": [
      "(256, 512)\n",
      "(256, 512)\n"
     ]
    },
    {
     "name": "stderr",
     "output_type": "stream",
     "text": [
      "\r",
      " 31%|████████████████████████▋                                                      | 656/2101 [00:53<01:57, 12.31it/s]"
     ]
    },
    {
     "name": "stdout",
     "output_type": "stream",
     "text": [
      "(256, 512)\n",
      "(256, 512)\n"
     ]
    },
    {
     "name": "stderr",
     "output_type": "stream",
     "text": [
      "\r",
      " 31%|████████████████████████▋                                                      | 658/2101 [00:53<01:58, 12.16it/s]"
     ]
    },
    {
     "name": "stdout",
     "output_type": "stream",
     "text": [
      "(256, 512)\n",
      "(256, 512)\n"
     ]
    },
    {
     "name": "stderr",
     "output_type": "stream",
     "text": [
      "\r",
      " 31%|████████████████████████▊                                                      | 660/2101 [00:53<01:57, 12.22it/s]"
     ]
    },
    {
     "name": "stdout",
     "output_type": "stream",
     "text": [
      "(256, 512)\n",
      "(256, 512)\n"
     ]
    },
    {
     "name": "stderr",
     "output_type": "stream",
     "text": [
      "\r",
      " 32%|████████████████████████▉                                                      | 662/2101 [00:53<01:57, 12.26it/s]"
     ]
    },
    {
     "name": "stdout",
     "output_type": "stream",
     "text": [
      "(256, 512)\n",
      "(256, 512)\n"
     ]
    },
    {
     "name": "stderr",
     "output_type": "stream",
     "text": [
      "\r",
      " 32%|████████████████████████▉                                                      | 664/2101 [00:53<01:56, 12.33it/s]"
     ]
    },
    {
     "name": "stdout",
     "output_type": "stream",
     "text": [
      "(256, 512)\n",
      "(256, 512)\n"
     ]
    },
    {
     "name": "stderr",
     "output_type": "stream",
     "text": [
      "\r",
      " 32%|█████████████████████████                                                      | 666/2101 [00:54<01:55, 12.43it/s]"
     ]
    },
    {
     "name": "stdout",
     "output_type": "stream",
     "text": [
      "(256, 512)\n",
      "(256, 512)\n"
     ]
    },
    {
     "name": "stderr",
     "output_type": "stream",
     "text": [
      "\r",
      " 32%|█████████████████████████                                                      | 668/2101 [00:54<01:56, 12.34it/s]"
     ]
    },
    {
     "name": "stdout",
     "output_type": "stream",
     "text": [
      "(256, 512)\n",
      "(256, 512)\n"
     ]
    },
    {
     "name": "stderr",
     "output_type": "stream",
     "text": [
      "\r",
      " 32%|█████████████████████████▏                                                     | 670/2101 [00:54<01:56, 12.26it/s]"
     ]
    },
    {
     "name": "stdout",
     "output_type": "stream",
     "text": [
      "(256, 512)\n",
      "(256, 512)\n"
     ]
    },
    {
     "name": "stderr",
     "output_type": "stream",
     "text": [
      "\r",
      " 32%|█████████████████████████▎                                                     | 672/2101 [00:54<01:56, 12.28it/s]"
     ]
    },
    {
     "name": "stdout",
     "output_type": "stream",
     "text": [
      "(256, 512)\n",
      "(256, 512)\n"
     ]
    },
    {
     "name": "stderr",
     "output_type": "stream",
     "text": [
      "\r",
      " 32%|█████████████████████████▎                                                     | 674/2101 [00:54<01:54, 12.44it/s]"
     ]
    },
    {
     "name": "stdout",
     "output_type": "stream",
     "text": [
      "(256, 512)\n",
      "(256, 512)\n"
     ]
    },
    {
     "name": "stderr",
     "output_type": "stream",
     "text": [
      "\r",
      " 32%|█████████████████████████▍                                                     | 676/2101 [00:54<01:54, 12.48it/s]"
     ]
    },
    {
     "name": "stdout",
     "output_type": "stream",
     "text": [
      "(256, 512)\n",
      "(256, 512)\n"
     ]
    },
    {
     "name": "stderr",
     "output_type": "stream",
     "text": [
      "\r",
      " 32%|█████████████████████████▍                                                     | 678/2101 [00:55<01:54, 12.39it/s]"
     ]
    },
    {
     "name": "stdout",
     "output_type": "stream",
     "text": [
      "(256, 512)\n",
      "(256, 512)\n"
     ]
    },
    {
     "name": "stderr",
     "output_type": "stream",
     "text": [
      "\r",
      " 32%|█████████████████████████▌                                                     | 680/2101 [00:55<01:55, 12.33it/s]"
     ]
    },
    {
     "name": "stdout",
     "output_type": "stream",
     "text": [
      "(256, 512)\n",
      "(256, 512)\n"
     ]
    },
    {
     "name": "stderr",
     "output_type": "stream",
     "text": [
      "\r",
      " 32%|█████████████████████████▋                                                     | 682/2101 [00:55<01:54, 12.37it/s]"
     ]
    },
    {
     "name": "stdout",
     "output_type": "stream",
     "text": [
      "(256, 512)\n",
      "(256, 512)\n"
     ]
    },
    {
     "name": "stderr",
     "output_type": "stream",
     "text": [
      "\r",
      " 33%|█████████████████████████▋                                                     | 684/2101 [00:55<01:54, 12.36it/s]"
     ]
    },
    {
     "name": "stdout",
     "output_type": "stream",
     "text": [
      "(256, 512)\n",
      "(256, 512)\n"
     ]
    },
    {
     "name": "stderr",
     "output_type": "stream",
     "text": [
      "\r",
      " 33%|█████████████████████████▊                                                     | 686/2101 [00:55<01:54, 12.39it/s]"
     ]
    },
    {
     "name": "stdout",
     "output_type": "stream",
     "text": [
      "(256, 512)\n",
      "(256, 512)\n"
     ]
    },
    {
     "name": "stderr",
     "output_type": "stream",
     "text": [
      "\r",
      " 33%|█████████████████████████▊                                                     | 688/2101 [00:55<01:54, 12.31it/s]"
     ]
    },
    {
     "name": "stdout",
     "output_type": "stream",
     "text": [
      "(256, 512)\n",
      "(256, 512)\n"
     ]
    },
    {
     "name": "stderr",
     "output_type": "stream",
     "text": [
      "\r",
      " 33%|█████████████████████████▉                                                     | 690/2101 [00:56<01:54, 12.33it/s]"
     ]
    },
    {
     "name": "stdout",
     "output_type": "stream",
     "text": [
      "(256, 512)\n",
      "(256, 512)\n"
     ]
    },
    {
     "name": "stderr",
     "output_type": "stream",
     "text": [
      "\r",
      " 33%|██████████████████████████                                                     | 692/2101 [00:56<01:54, 12.34it/s]"
     ]
    },
    {
     "name": "stdout",
     "output_type": "stream",
     "text": [
      "(256, 512)\n",
      "(256, 512)\n"
     ]
    },
    {
     "name": "stderr",
     "output_type": "stream",
     "text": [
      "\r",
      " 33%|██████████████████████████                                                     | 694/2101 [00:56<01:54, 12.26it/s]"
     ]
    },
    {
     "name": "stdout",
     "output_type": "stream",
     "text": [
      "(256, 512)\n",
      "(256, 512)\n"
     ]
    },
    {
     "name": "stderr",
     "output_type": "stream",
     "text": [
      "\r",
      " 33%|██████████████████████████▏                                                    | 696/2101 [00:56<01:53, 12.34it/s]"
     ]
    },
    {
     "name": "stdout",
     "output_type": "stream",
     "text": [
      "(256, 512)\n",
      "(256, 512)\n"
     ]
    },
    {
     "name": "stderr",
     "output_type": "stream",
     "text": [
      "\r",
      " 33%|██████████████████████████▏                                                    | 698/2101 [00:56<01:53, 12.39it/s]"
     ]
    },
    {
     "name": "stdout",
     "output_type": "stream",
     "text": [
      "(256, 512)\n",
      "(256, 512)\n"
     ]
    },
    {
     "name": "stderr",
     "output_type": "stream",
     "text": [
      "\r",
      " 33%|██████████████████████████▎                                                    | 700/2101 [00:56<01:53, 12.39it/s]"
     ]
    },
    {
     "name": "stdout",
     "output_type": "stream",
     "text": [
      "(256, 512)\n",
      "(256, 512)\n"
     ]
    },
    {
     "name": "stderr",
     "output_type": "stream",
     "text": [
      "\r",
      " 33%|██████████████████████████▍                                                    | 702/2101 [00:57<01:53, 12.31it/s]"
     ]
    },
    {
     "name": "stdout",
     "output_type": "stream",
     "text": [
      "(256, 512)\n",
      "(256, 512)\n"
     ]
    },
    {
     "name": "stderr",
     "output_type": "stream",
     "text": [
      "\r",
      " 34%|██████████████████████████▍                                                    | 704/2101 [00:57<01:53, 12.28it/s]"
     ]
    },
    {
     "name": "stdout",
     "output_type": "stream",
     "text": [
      "(256, 512)\n",
      "(256, 512)\n"
     ]
    },
    {
     "name": "stderr",
     "output_type": "stream",
     "text": [
      "\r",
      " 34%|██████████████████████████▌                                                    | 706/2101 [00:57<01:53, 12.28it/s]"
     ]
    },
    {
     "name": "stdout",
     "output_type": "stream",
     "text": [
      "(256, 512)\n",
      "(256, 512)\n"
     ]
    },
    {
     "name": "stderr",
     "output_type": "stream",
     "text": [
      "\r",
      " 34%|██████████████████████████▌                                                    | 708/2101 [00:57<01:53, 12.32it/s]"
     ]
    },
    {
     "name": "stdout",
     "output_type": "stream",
     "text": [
      "(256, 512)\n",
      "(256, 512)\n"
     ]
    },
    {
     "name": "stderr",
     "output_type": "stream",
     "text": [
      "\r",
      " 34%|██████████████████████████▋                                                    | 710/2101 [00:57<01:53, 12.25it/s]"
     ]
    },
    {
     "name": "stdout",
     "output_type": "stream",
     "text": [
      "(256, 512)\n",
      "(256, 512)\n"
     ]
    },
    {
     "name": "stderr",
     "output_type": "stream",
     "text": [
      "\r",
      " 34%|██████████████████████████▊                                                    | 712/2101 [00:57<01:52, 12.35it/s]"
     ]
    },
    {
     "name": "stdout",
     "output_type": "stream",
     "text": [
      "(256, 512)\n",
      "(256, 512)\n"
     ]
    },
    {
     "name": "stderr",
     "output_type": "stream",
     "text": [
      "\r",
      " 34%|██████████████████████████▊                                                    | 714/2101 [00:58<01:52, 12.34it/s]"
     ]
    },
    {
     "name": "stdout",
     "output_type": "stream",
     "text": [
      "(256, 512)\n",
      "(256, 512)\n"
     ]
    },
    {
     "name": "stderr",
     "output_type": "stream",
     "text": [
      "\r",
      " 34%|██████████████████████████▉                                                    | 716/2101 [00:58<01:51, 12.38it/s]"
     ]
    },
    {
     "name": "stdout",
     "output_type": "stream",
     "text": [
      "(256, 512)\n",
      "(256, 512)\n"
     ]
    },
    {
     "name": "stderr",
     "output_type": "stream",
     "text": [
      "\r",
      " 34%|██████████████████████████▉                                                    | 718/2101 [00:58<01:52, 12.34it/s]"
     ]
    },
    {
     "name": "stdout",
     "output_type": "stream",
     "text": [
      "(256, 512)\n",
      "(256, 512)\n"
     ]
    },
    {
     "name": "stderr",
     "output_type": "stream",
     "text": [
      "\r",
      " 34%|███████████████████████████                                                    | 720/2101 [00:58<01:52, 12.24it/s]"
     ]
    },
    {
     "name": "stdout",
     "output_type": "stream",
     "text": [
      "(256, 512)\n",
      "(256, 512)\n"
     ]
    },
    {
     "name": "stderr",
     "output_type": "stream",
     "text": [
      "\r",
      " 34%|███████████████████████████▏                                                   | 722/2101 [00:58<01:51, 12.32it/s]"
     ]
    },
    {
     "name": "stdout",
     "output_type": "stream",
     "text": [
      "(256, 512)\n",
      "(256, 512)\n"
     ]
    },
    {
     "name": "stderr",
     "output_type": "stream",
     "text": [
      "\r",
      " 34%|███████████████████████████▏                                                   | 724/2101 [00:58<01:52, 12.19it/s]"
     ]
    },
    {
     "name": "stdout",
     "output_type": "stream",
     "text": [
      "(256, 512)\n",
      "(256, 512)\n"
     ]
    },
    {
     "name": "stderr",
     "output_type": "stream",
     "text": [
      "\r",
      " 35%|███████████████████████████▎                                                   | 726/2101 [00:59<01:52, 12.24it/s]"
     ]
    },
    {
     "name": "stdout",
     "output_type": "stream",
     "text": [
      "(256, 512)\n",
      "(256, 512)\n"
     ]
    },
    {
     "name": "stderr",
     "output_type": "stream",
     "text": [
      "\r",
      " 35%|███████████████████████████▎                                                   | 728/2101 [00:59<01:52, 12.22it/s]"
     ]
    },
    {
     "name": "stdout",
     "output_type": "stream",
     "text": [
      "(256, 512)\n",
      "(256, 512)\n"
     ]
    },
    {
     "name": "stderr",
     "output_type": "stream",
     "text": [
      "\r",
      " 35%|███████████████████████████▍                                                   | 730/2101 [00:59<01:52, 12.21it/s]"
     ]
    },
    {
     "name": "stdout",
     "output_type": "stream",
     "text": [
      "(256, 512)\n",
      "(256, 512)\n"
     ]
    },
    {
     "name": "stderr",
     "output_type": "stream",
     "text": [
      "\r",
      " 35%|███████████████████████████▌                                                   | 732/2101 [00:59<01:52, 12.19it/s]"
     ]
    },
    {
     "name": "stdout",
     "output_type": "stream",
     "text": [
      "(256, 512)\n",
      "(256, 512)\n"
     ]
    },
    {
     "name": "stderr",
     "output_type": "stream",
     "text": [
      "\r",
      " 35%|███████████████████████████▌                                                   | 734/2101 [00:59<01:51, 12.27it/s]"
     ]
    },
    {
     "name": "stdout",
     "output_type": "stream",
     "text": [
      "(256, 512)\n",
      "(256, 512)\n"
     ]
    },
    {
     "name": "stderr",
     "output_type": "stream",
     "text": [
      "\r",
      " 35%|███████████████████████████▋                                                   | 736/2101 [00:59<01:50, 12.38it/s]"
     ]
    },
    {
     "name": "stdout",
     "output_type": "stream",
     "text": [
      "(256, 512)\n",
      "(256, 512)\n"
     ]
    },
    {
     "name": "stderr",
     "output_type": "stream",
     "text": [
      "\r",
      " 35%|███████████████████████████▋                                                   | 738/2101 [00:59<01:49, 12.47it/s]"
     ]
    },
    {
     "name": "stdout",
     "output_type": "stream",
     "text": [
      "(256, 512)\n",
      "(256, 512)\n"
     ]
    },
    {
     "name": "stderr",
     "output_type": "stream",
     "text": [
      "\r",
      " 35%|███████████████████████████▊                                                   | 740/2101 [01:00<01:49, 12.47it/s]"
     ]
    },
    {
     "name": "stdout",
     "output_type": "stream",
     "text": [
      "(256, 512)\n",
      "(256, 512)\n"
     ]
    },
    {
     "name": "stderr",
     "output_type": "stream",
     "text": [
      "\r",
      " 35%|███████████████████████████▉                                                   | 742/2101 [01:00<01:49, 12.44it/s]"
     ]
    },
    {
     "name": "stdout",
     "output_type": "stream",
     "text": [
      "(256, 512)\n",
      "(256, 512)\n"
     ]
    },
    {
     "name": "stderr",
     "output_type": "stream",
     "text": [
      "\r",
      " 35%|███████████████████████████▉                                                   | 744/2101 [01:00<01:49, 12.43it/s]"
     ]
    },
    {
     "name": "stdout",
     "output_type": "stream",
     "text": [
      "(256, 512)\n",
      "(256, 512)\n"
     ]
    },
    {
     "name": "stderr",
     "output_type": "stream",
     "text": [
      "\r",
      " 36%|████████████████████████████                                                   | 746/2101 [01:00<01:49, 12.34it/s]"
     ]
    },
    {
     "name": "stdout",
     "output_type": "stream",
     "text": [
      "(256, 512)\n",
      "(256, 512)\n"
     ]
    },
    {
     "name": "stderr",
     "output_type": "stream",
     "text": [
      "\r",
      " 36%|████████████████████████████▏                                                  | 748/2101 [01:00<01:50, 12.20it/s]"
     ]
    },
    {
     "name": "stdout",
     "output_type": "stream",
     "text": [
      "(256, 512)\n",
      "(256, 512)\n"
     ]
    },
    {
     "name": "stderr",
     "output_type": "stream",
     "text": [
      "\r",
      " 36%|████████████████████████████▏                                                  | 750/2101 [01:00<01:51, 12.11it/s]"
     ]
    },
    {
     "name": "stdout",
     "output_type": "stream",
     "text": [
      "(256, 512)\n",
      "(256, 512)\n"
     ]
    },
    {
     "name": "stderr",
     "output_type": "stream",
     "text": [
      "\r",
      " 36%|████████████████████████████▎                                                  | 752/2101 [01:01<01:50, 12.17it/s]"
     ]
    },
    {
     "name": "stdout",
     "output_type": "stream",
     "text": [
      "(256, 512)\n",
      "(256, 512)\n"
     ]
    },
    {
     "name": "stderr",
     "output_type": "stream",
     "text": [
      "\r",
      " 36%|████████████████████████████▎                                                  | 754/2101 [01:01<01:50, 12.21it/s]"
     ]
    },
    {
     "name": "stdout",
     "output_type": "stream",
     "text": [
      "(256, 512)\n",
      "(256, 512)\n"
     ]
    },
    {
     "name": "stderr",
     "output_type": "stream",
     "text": [
      "\r",
      " 36%|████████████████████████████▍                                                  | 756/2101 [01:01<01:49, 12.25it/s]"
     ]
    },
    {
     "name": "stdout",
     "output_type": "stream",
     "text": [
      "(256, 512)\n",
      "(256, 512)\n"
     ]
    },
    {
     "name": "stderr",
     "output_type": "stream",
     "text": [
      "\r",
      " 36%|████████████████████████████▌                                                  | 758/2101 [01:01<01:49, 12.21it/s]"
     ]
    },
    {
     "name": "stdout",
     "output_type": "stream",
     "text": [
      "(256, 512)\n",
      "(256, 512)\n"
     ]
    },
    {
     "name": "stderr",
     "output_type": "stream",
     "text": [
      "\r",
      " 36%|████████████████████████████▌                                                  | 760/2101 [01:01<01:49, 12.22it/s]"
     ]
    },
    {
     "name": "stdout",
     "output_type": "stream",
     "text": [
      "(256, 512)\n",
      "(256, 512)\n"
     ]
    },
    {
     "name": "stderr",
     "output_type": "stream",
     "text": [
      "\r",
      " 36%|████████████████████████████▋                                                  | 762/2101 [01:01<01:50, 12.12it/s]"
     ]
    },
    {
     "name": "stdout",
     "output_type": "stream",
     "text": [
      "(256, 512)\n",
      "(256, 512)\n"
     ]
    },
    {
     "name": "stderr",
     "output_type": "stream",
     "text": [
      "\r",
      " 36%|████████████████████████████▋                                                  | 764/2101 [01:02<01:49, 12.22it/s]"
     ]
    },
    {
     "name": "stdout",
     "output_type": "stream",
     "text": [
      "(256, 512)\n",
      "(256, 512)\n"
     ]
    },
    {
     "name": "stderr",
     "output_type": "stream",
     "text": [
      "\r",
      " 36%|████████████████████████████▊                                                  | 766/2101 [01:02<01:49, 12.22it/s]"
     ]
    },
    {
     "name": "stdout",
     "output_type": "stream",
     "text": [
      "(256, 512)\n",
      "(256, 512)\n"
     ]
    },
    {
     "name": "stderr",
     "output_type": "stream",
     "text": [
      "\r",
      " 37%|████████████████████████████▉                                                  | 768/2101 [01:02<01:48, 12.24it/s]"
     ]
    },
    {
     "name": "stdout",
     "output_type": "stream",
     "text": [
      "(256, 512)\n",
      "(256, 512)\n"
     ]
    },
    {
     "name": "stderr",
     "output_type": "stream",
     "text": [
      "\r",
      " 37%|████████████████████████████▉                                                  | 770/2101 [01:02<01:49, 12.17it/s]"
     ]
    },
    {
     "name": "stdout",
     "output_type": "stream",
     "text": [
      "(256, 512)\n",
      "(256, 512)\n"
     ]
    },
    {
     "name": "stderr",
     "output_type": "stream",
     "text": [
      "\r",
      " 37%|█████████████████████████████                                                  | 772/2101 [01:02<01:48, 12.22it/s]"
     ]
    },
    {
     "name": "stdout",
     "output_type": "stream",
     "text": [
      "(256, 512)\n",
      "(256, 512)\n"
     ]
    },
    {
     "name": "stderr",
     "output_type": "stream",
     "text": [
      "\r",
      " 37%|█████████████████████████████                                                  | 774/2101 [01:02<01:48, 12.24it/s]"
     ]
    },
    {
     "name": "stdout",
     "output_type": "stream",
     "text": [
      "(256, 512)\n",
      "(256, 512)\n"
     ]
    },
    {
     "name": "stderr",
     "output_type": "stream",
     "text": [
      "\r",
      " 37%|█████████████████████████████▏                                                 | 776/2101 [01:03<01:47, 12.27it/s]"
     ]
    },
    {
     "name": "stdout",
     "output_type": "stream",
     "text": [
      "(256, 512)\n",
      "(256, 512)\n"
     ]
    },
    {
     "name": "stderr",
     "output_type": "stream",
     "text": [
      "\r",
      " 37%|█████████████████████████████▎                                                 | 778/2101 [01:03<01:48, 12.24it/s]"
     ]
    },
    {
     "name": "stdout",
     "output_type": "stream",
     "text": [
      "(256, 512)\n",
      "(256, 512)\n"
     ]
    },
    {
     "name": "stderr",
     "output_type": "stream",
     "text": [
      "\r",
      " 37%|█████████████████████████████▎                                                 | 780/2101 [01:03<01:49, 12.11it/s]"
     ]
    },
    {
     "name": "stdout",
     "output_type": "stream",
     "text": [
      "(256, 512)\n",
      "(256, 512)\n"
     ]
    },
    {
     "name": "stderr",
     "output_type": "stream",
     "text": [
      "\r",
      " 37%|█████████████████████████████▍                                                 | 782/2101 [01:03<01:49, 12.03it/s]"
     ]
    },
    {
     "name": "stdout",
     "output_type": "stream",
     "text": [
      "(256, 512)\n",
      "(256, 512)\n"
     ]
    },
    {
     "name": "stderr",
     "output_type": "stream",
     "text": [
      "\r",
      " 37%|█████████████████████████████▍                                                 | 784/2101 [01:03<01:49, 12.03it/s]"
     ]
    },
    {
     "name": "stdout",
     "output_type": "stream",
     "text": [
      "(256, 512)\n",
      "(256, 512)\n"
     ]
    },
    {
     "name": "stderr",
     "output_type": "stream",
     "text": [
      "\r",
      " 37%|█████████████████████████████▌                                                 | 786/2101 [01:03<01:48, 12.16it/s]"
     ]
    },
    {
     "name": "stdout",
     "output_type": "stream",
     "text": [
      "(256, 512)\n",
      "(256, 512)\n"
     ]
    },
    {
     "name": "stderr",
     "output_type": "stream",
     "text": [
      "\r",
      " 38%|█████████████████████████████▋                                                 | 788/2101 [01:04<01:47, 12.21it/s]"
     ]
    },
    {
     "name": "stdout",
     "output_type": "stream",
     "text": [
      "(256, 512)\n",
      "(256, 512)\n"
     ]
    },
    {
     "name": "stderr",
     "output_type": "stream",
     "text": [
      "\r",
      " 38%|█████████████████████████████▋                                                 | 790/2101 [01:04<01:47, 12.21it/s]"
     ]
    },
    {
     "name": "stdout",
     "output_type": "stream",
     "text": [
      "(256, 512)\n",
      "(256, 512)\n"
     ]
    },
    {
     "name": "stderr",
     "output_type": "stream",
     "text": [
      "\r",
      " 38%|█████████████████████████████▊                                                 | 792/2101 [01:04<01:46, 12.29it/s]"
     ]
    },
    {
     "name": "stdout",
     "output_type": "stream",
     "text": [
      "(256, 512)\n",
      "(256, 512)\n"
     ]
    },
    {
     "name": "stderr",
     "output_type": "stream",
     "text": [
      "\r",
      " 38%|█████████████████████████████▊                                                 | 794/2101 [01:04<01:46, 12.30it/s]"
     ]
    },
    {
     "name": "stdout",
     "output_type": "stream",
     "text": [
      "(256, 512)\n",
      "(256, 512)\n"
     ]
    },
    {
     "name": "stderr",
     "output_type": "stream",
     "text": [
      "\r",
      " 38%|█████████████████████████████▉                                                 | 796/2101 [01:04<01:44, 12.49it/s]"
     ]
    },
    {
     "name": "stdout",
     "output_type": "stream",
     "text": [
      "(256, 512)\n",
      "(256, 512)\n"
     ]
    },
    {
     "name": "stderr",
     "output_type": "stream",
     "text": [
      "\r",
      " 38%|██████████████████████████████                                                 | 798/2101 [01:04<01:45, 12.40it/s]"
     ]
    },
    {
     "name": "stdout",
     "output_type": "stream",
     "text": [
      "(256, 512)\n",
      "(256, 512)\n"
     ]
    },
    {
     "name": "stderr",
     "output_type": "stream",
     "text": [
      "\r",
      " 38%|██████████████████████████████                                                 | 800/2101 [01:05<01:45, 12.36it/s]"
     ]
    },
    {
     "name": "stdout",
     "output_type": "stream",
     "text": [
      "(256, 512)\n",
      "(256, 512)\n"
     ]
    },
    {
     "name": "stderr",
     "output_type": "stream",
     "text": [
      "\r",
      " 38%|██████████████████████████████▏                                                | 802/2101 [01:05<01:45, 12.34it/s]"
     ]
    },
    {
     "name": "stdout",
     "output_type": "stream",
     "text": [
      "(256, 512)\n",
      "(256, 512)\n"
     ]
    },
    {
     "name": "stderr",
     "output_type": "stream",
     "text": [
      "\r",
      " 38%|██████████████████████████████▏                                                | 804/2101 [01:05<01:46, 12.19it/s]"
     ]
    },
    {
     "name": "stdout",
     "output_type": "stream",
     "text": [
      "(256, 512)\n",
      "(256, 512)\n"
     ]
    },
    {
     "name": "stderr",
     "output_type": "stream",
     "text": [
      "\r",
      " 38%|██████████████████████████████▎                                                | 806/2101 [01:05<01:45, 12.32it/s]"
     ]
    },
    {
     "name": "stdout",
     "output_type": "stream",
     "text": [
      "(256, 512)\n",
      "(256, 512)\n"
     ]
    },
    {
     "name": "stderr",
     "output_type": "stream",
     "text": [
      "\r",
      " 38%|██████████████████████████████▍                                                | 808/2101 [01:05<01:44, 12.35it/s]"
     ]
    },
    {
     "name": "stdout",
     "output_type": "stream",
     "text": [
      "(256, 512)\n",
      "(256, 512)\n"
     ]
    },
    {
     "name": "stderr",
     "output_type": "stream",
     "text": [
      "\r",
      " 39%|██████████████████████████████▍                                                | 810/2101 [01:05<01:43, 12.44it/s]"
     ]
    },
    {
     "name": "stdout",
     "output_type": "stream",
     "text": [
      "(256, 512)\n",
      "(256, 512)\n"
     ]
    },
    {
     "name": "stderr",
     "output_type": "stream",
     "text": [
      "\r",
      " 39%|██████████████████████████████▌                                                | 812/2101 [01:06<01:43, 12.40it/s]"
     ]
    },
    {
     "name": "stdout",
     "output_type": "stream",
     "text": [
      "(256, 512)\n",
      "(256, 512)\n"
     ]
    },
    {
     "name": "stderr",
     "output_type": "stream",
     "text": [
      "\r",
      " 39%|██████████████████████████████▌                                                | 814/2101 [01:06<01:44, 12.31it/s]"
     ]
    },
    {
     "name": "stdout",
     "output_type": "stream",
     "text": [
      "(256, 512)\n",
      "(256, 512)\n"
     ]
    },
    {
     "name": "stderr",
     "output_type": "stream",
     "text": [
      "\r",
      " 39%|██████████████████████████████▋                                                | 816/2101 [01:06<01:44, 12.27it/s]"
     ]
    },
    {
     "name": "stdout",
     "output_type": "stream",
     "text": [
      "(256, 512)\n",
      "(256, 512)\n"
     ]
    },
    {
     "name": "stderr",
     "output_type": "stream",
     "text": [
      "\r",
      " 39%|██████████████████████████████▊                                                | 818/2101 [01:06<01:45, 12.17it/s]"
     ]
    },
    {
     "name": "stdout",
     "output_type": "stream",
     "text": [
      "(256, 512)\n",
      "(256, 512)\n"
     ]
    },
    {
     "name": "stderr",
     "output_type": "stream",
     "text": [
      "\r",
      " 39%|██████████████████████████████▊                                                | 820/2101 [01:06<01:45, 12.13it/s]"
     ]
    },
    {
     "name": "stdout",
     "output_type": "stream",
     "text": [
      "(256, 512)\n",
      "(256, 512)\n"
     ]
    },
    {
     "name": "stderr",
     "output_type": "stream",
     "text": [
      "\r",
      " 39%|██████████████████████████████▉                                                | 822/2101 [01:06<01:45, 12.15it/s]"
     ]
    },
    {
     "name": "stdout",
     "output_type": "stream",
     "text": [
      "(256, 512)\n",
      "(256, 512)\n"
     ]
    },
    {
     "name": "stderr",
     "output_type": "stream",
     "text": [
      "\r",
      " 39%|██████████████████████████████▉                                                | 824/2101 [01:07<01:44, 12.20it/s]"
     ]
    },
    {
     "name": "stdout",
     "output_type": "stream",
     "text": [
      "(256, 512)\n",
      "(256, 512)\n"
     ]
    },
    {
     "name": "stderr",
     "output_type": "stream",
     "text": [
      "\r",
      " 39%|███████████████████████████████                                                | 826/2101 [01:07<01:45, 12.14it/s]"
     ]
    },
    {
     "name": "stdout",
     "output_type": "stream",
     "text": [
      "(256, 512)\n",
      "(256, 512)\n"
     ]
    },
    {
     "name": "stderr",
     "output_type": "stream",
     "text": [
      "\r",
      " 39%|███████████████████████████████▏                                               | 828/2101 [01:07<01:44, 12.16it/s]"
     ]
    },
    {
     "name": "stdout",
     "output_type": "stream",
     "text": [
      "(256, 512)\n",
      "(256, 512)\n"
     ]
    },
    {
     "name": "stderr",
     "output_type": "stream",
     "text": [
      "\r",
      " 40%|███████████████████████████████▏                                               | 830/2101 [01:07<01:43, 12.26it/s]"
     ]
    },
    {
     "name": "stdout",
     "output_type": "stream",
     "text": [
      "(256, 512)\n",
      "(256, 512)\n"
     ]
    },
    {
     "name": "stderr",
     "output_type": "stream",
     "text": [
      "\r",
      " 40%|███████████████████████████████▎                                               | 832/2101 [01:07<01:44, 12.19it/s]"
     ]
    },
    {
     "name": "stdout",
     "output_type": "stream",
     "text": [
      "(256, 512)\n",
      "(256, 512)\n"
     ]
    },
    {
     "name": "stderr",
     "output_type": "stream",
     "text": [
      "\r",
      " 40%|███████████████████████████████▎                                               | 834/2101 [01:07<01:44, 12.13it/s]"
     ]
    },
    {
     "name": "stdout",
     "output_type": "stream",
     "text": [
      "(256, 512)\n",
      "(256, 512)\n"
     ]
    },
    {
     "name": "stderr",
     "output_type": "stream",
     "text": [
      "\r",
      " 40%|███████████████████████████████▍                                               | 836/2101 [01:08<01:43, 12.18it/s]"
     ]
    },
    {
     "name": "stdout",
     "output_type": "stream",
     "text": [
      "(256, 512)\n",
      "(256, 512)\n"
     ]
    },
    {
     "name": "stderr",
     "output_type": "stream",
     "text": [
      "\r",
      " 40%|███████████████████████████████▌                                               | 838/2101 [01:08<01:42, 12.29it/s]"
     ]
    },
    {
     "name": "stdout",
     "output_type": "stream",
     "text": [
      "(256, 512)\n",
      "(256, 512)\n"
     ]
    },
    {
     "name": "stderr",
     "output_type": "stream",
     "text": [
      "\r",
      " 40%|███████████████████████████████▌                                               | 840/2101 [01:08<01:43, 12.20it/s]"
     ]
    },
    {
     "name": "stdout",
     "output_type": "stream",
     "text": [
      "(256, 512)\n",
      "(256, 512)\n"
     ]
    },
    {
     "name": "stderr",
     "output_type": "stream",
     "text": [
      "\r",
      " 40%|███████████████████████████████▋                                               | 842/2101 [01:08<01:42, 12.26it/s]"
     ]
    },
    {
     "name": "stdout",
     "output_type": "stream",
     "text": [
      "(256, 512)\n",
      "(256, 512)\n"
     ]
    },
    {
     "name": "stderr",
     "output_type": "stream",
     "text": [
      "\r",
      " 40%|███████████████████████████████▋                                               | 844/2101 [01:08<01:42, 12.30it/s]"
     ]
    },
    {
     "name": "stdout",
     "output_type": "stream",
     "text": [
      "(256, 512)\n",
      "(256, 512)\n"
     ]
    },
    {
     "name": "stderr",
     "output_type": "stream",
     "text": [
      "\r",
      " 40%|███████████████████████████████▊                                               | 846/2101 [01:08<01:42, 12.27it/s]"
     ]
    },
    {
     "name": "stdout",
     "output_type": "stream",
     "text": [
      "(256, 512)\n",
      "(256, 512)\n"
     ]
    },
    {
     "name": "stderr",
     "output_type": "stream",
     "text": [
      "\r",
      " 40%|███████████████████████████████▉                                               | 848/2101 [01:08<01:41, 12.32it/s]"
     ]
    },
    {
     "name": "stdout",
     "output_type": "stream",
     "text": [
      "(256, 512)\n",
      "(256, 512)\n"
     ]
    },
    {
     "name": "stderr",
     "output_type": "stream",
     "text": [
      "\r",
      " 40%|███████████████████████████████▉                                               | 850/2101 [01:09<01:42, 12.23it/s]"
     ]
    },
    {
     "name": "stdout",
     "output_type": "stream",
     "text": [
      "(256, 512)\n",
      "(256, 512)\n"
     ]
    },
    {
     "name": "stderr",
     "output_type": "stream",
     "text": [
      "\r",
      " 41%|████████████████████████████████                                               | 852/2101 [01:09<01:42, 12.24it/s]"
     ]
    },
    {
     "name": "stdout",
     "output_type": "stream",
     "text": [
      "(256, 512)\n",
      "(256, 512)\n"
     ]
    },
    {
     "name": "stderr",
     "output_type": "stream",
     "text": [
      "\r",
      " 41%|████████████████████████████████                                               | 854/2101 [01:09<01:41, 12.32it/s]"
     ]
    },
    {
     "name": "stdout",
     "output_type": "stream",
     "text": [
      "(256, 512)\n",
      "(256, 512)\n"
     ]
    },
    {
     "name": "stderr",
     "output_type": "stream",
     "text": [
      "\r",
      " 41%|████████████████████████████████▏                                              | 856/2101 [01:09<01:40, 12.33it/s]"
     ]
    },
    {
     "name": "stdout",
     "output_type": "stream",
     "text": [
      "(256, 512)\n",
      "(256, 512)\n"
     ]
    },
    {
     "name": "stderr",
     "output_type": "stream",
     "text": [
      "\r",
      " 41%|████████████████████████████████▎                                              | 858/2101 [01:09<01:41, 12.30it/s]"
     ]
    },
    {
     "name": "stdout",
     "output_type": "stream",
     "text": [
      "(256, 512)\n",
      "(256, 512)\n"
     ]
    },
    {
     "name": "stderr",
     "output_type": "stream",
     "text": [
      "\r",
      " 41%|████████████████████████████████▎                                              | 860/2101 [01:09<01:40, 12.29it/s]"
     ]
    },
    {
     "name": "stdout",
     "output_type": "stream",
     "text": [
      "(256, 512)\n",
      "(256, 512)\n"
     ]
    },
    {
     "name": "stderr",
     "output_type": "stream",
     "text": [
      "\r",
      " 41%|████████████████████████████████▍                                              | 862/2101 [01:10<01:40, 12.37it/s]"
     ]
    },
    {
     "name": "stdout",
     "output_type": "stream",
     "text": [
      "(256, 512)\n",
      "(256, 512)\n"
     ]
    },
    {
     "name": "stderr",
     "output_type": "stream",
     "text": [
      "\r",
      " 41%|████████████████████████████████▍                                              | 864/2101 [01:10<01:39, 12.42it/s]"
     ]
    },
    {
     "name": "stdout",
     "output_type": "stream",
     "text": [
      "(256, 512)\n",
      "(256, 512)\n"
     ]
    },
    {
     "name": "stderr",
     "output_type": "stream",
     "text": [
      "\r",
      " 41%|████████████████████████████████▌                                              | 866/2101 [01:10<01:40, 12.28it/s]"
     ]
    },
    {
     "name": "stdout",
     "output_type": "stream",
     "text": [
      "(256, 512)\n",
      "(256, 512)\n"
     ]
    },
    {
     "name": "stderr",
     "output_type": "stream",
     "text": [
      "\r",
      " 41%|████████████████████████████████▋                                              | 868/2101 [01:10<01:40, 12.30it/s]"
     ]
    },
    {
     "name": "stdout",
     "output_type": "stream",
     "text": [
      "(256, 512)\n",
      "(256, 512)\n"
     ]
    },
    {
     "name": "stderr",
     "output_type": "stream",
     "text": [
      "\r",
      " 41%|████████████████████████████████▋                                              | 870/2101 [01:10<01:39, 12.34it/s]"
     ]
    },
    {
     "name": "stdout",
     "output_type": "stream",
     "text": [
      "(256, 512)\n",
      "(256, 512)\n"
     ]
    },
    {
     "name": "stderr",
     "output_type": "stream",
     "text": [
      "\r",
      " 42%|████████████████████████████████▊                                              | 872/2101 [01:10<01:39, 12.32it/s]"
     ]
    },
    {
     "name": "stdout",
     "output_type": "stream",
     "text": [
      "(256, 512)\n",
      "(256, 512)\n"
     ]
    },
    {
     "name": "stderr",
     "output_type": "stream",
     "text": [
      "\r",
      " 42%|████████████████████████████████▊                                              | 874/2101 [01:11<01:40, 12.25it/s]"
     ]
    },
    {
     "name": "stdout",
     "output_type": "stream",
     "text": [
      "(256, 512)\n",
      "(256, 512)\n"
     ]
    },
    {
     "name": "stderr",
     "output_type": "stream",
     "text": [
      "\r",
      " 42%|████████████████████████████████▉                                              | 876/2101 [01:11<01:39, 12.30it/s]"
     ]
    },
    {
     "name": "stdout",
     "output_type": "stream",
     "text": [
      "(256, 512)\n",
      "(256, 512)\n"
     ]
    },
    {
     "name": "stderr",
     "output_type": "stream",
     "text": [
      "\r",
      " 42%|█████████████████████████████████                                              | 878/2101 [01:11<01:39, 12.26it/s]"
     ]
    },
    {
     "name": "stdout",
     "output_type": "stream",
     "text": [
      "(256, 512)\n",
      "(256, 512)\n"
     ]
    },
    {
     "name": "stderr",
     "output_type": "stream",
     "text": [
      "\r",
      " 42%|█████████████████████████████████                                              | 880/2101 [01:11<01:39, 12.30it/s]"
     ]
    },
    {
     "name": "stdout",
     "output_type": "stream",
     "text": [
      "(256, 512)\n",
      "(256, 512)\n"
     ]
    },
    {
     "name": "stderr",
     "output_type": "stream",
     "text": [
      "\r",
      " 42%|█████████████████████████████████▏                                             | 882/2101 [01:11<01:39, 12.28it/s]"
     ]
    },
    {
     "name": "stdout",
     "output_type": "stream",
     "text": [
      "(256, 512)\n",
      "(256, 512)\n"
     ]
    },
    {
     "name": "stderr",
     "output_type": "stream",
     "text": [
      "\r",
      " 42%|█████████████████████████████████▏                                             | 884/2101 [01:11<01:38, 12.32it/s]"
     ]
    },
    {
     "name": "stdout",
     "output_type": "stream",
     "text": [
      "(256, 512)\n",
      "(256, 512)\n"
     ]
    },
    {
     "name": "stderr",
     "output_type": "stream",
     "text": [
      "\r",
      " 42%|█████████████████████████████████▎                                             | 886/2101 [01:12<01:39, 12.22it/s]"
     ]
    },
    {
     "name": "stdout",
     "output_type": "stream",
     "text": [
      "(256, 512)\n",
      "(256, 512)\n"
     ]
    },
    {
     "name": "stderr",
     "output_type": "stream",
     "text": [
      "\r",
      " 42%|█████████████████████████████████▍                                             | 888/2101 [01:12<01:38, 12.36it/s]"
     ]
    },
    {
     "name": "stdout",
     "output_type": "stream",
     "text": [
      "(256, 512)\n",
      "(256, 512)\n"
     ]
    },
    {
     "name": "stderr",
     "output_type": "stream",
     "text": [
      "\r",
      " 42%|█████████████████████████████████▍                                             | 890/2101 [01:12<01:37, 12.36it/s]"
     ]
    },
    {
     "name": "stdout",
     "output_type": "stream",
     "text": [
      "(256, 512)\n",
      "(256, 512)\n"
     ]
    },
    {
     "name": "stderr",
     "output_type": "stream",
     "text": [
      "\r",
      " 42%|█████████████████████████████████▌                                             | 892/2101 [01:12<01:38, 12.30it/s]"
     ]
    },
    {
     "name": "stdout",
     "output_type": "stream",
     "text": [
      "(256, 512)\n",
      "(256, 512)\n"
     ]
    },
    {
     "name": "stderr",
     "output_type": "stream",
     "text": [
      "\r",
      " 43%|█████████████████████████████████▌                                             | 894/2101 [01:12<01:38, 12.25it/s]"
     ]
    },
    {
     "name": "stdout",
     "output_type": "stream",
     "text": [
      "(256, 512)\n",
      "(256, 512)\n"
     ]
    },
    {
     "name": "stderr",
     "output_type": "stream",
     "text": [
      "\r",
      " 43%|█████████████████████████████████▋                                             | 896/2101 [01:12<01:37, 12.35it/s]"
     ]
    },
    {
     "name": "stdout",
     "output_type": "stream",
     "text": [
      "(256, 512)\n",
      "(256, 512)\n"
     ]
    },
    {
     "name": "stderr",
     "output_type": "stream",
     "text": [
      "\r",
      " 43%|█████████████████████████████████▊                                             | 898/2101 [01:13<01:38, 12.25it/s]"
     ]
    },
    {
     "name": "stdout",
     "output_type": "stream",
     "text": [
      "(256, 512)\n",
      "(256, 512)\n"
     ]
    },
    {
     "name": "stderr",
     "output_type": "stream",
     "text": [
      "\r",
      " 43%|█████████████████████████████████▊                                             | 900/2101 [01:13<01:38, 12.24it/s]"
     ]
    },
    {
     "name": "stdout",
     "output_type": "stream",
     "text": [
      "(256, 512)\n",
      "(256, 512)\n"
     ]
    },
    {
     "name": "stderr",
     "output_type": "stream",
     "text": [
      "\r",
      " 43%|█████████████████████████████████▉                                             | 902/2101 [01:13<01:38, 12.20it/s]"
     ]
    },
    {
     "name": "stdout",
     "output_type": "stream",
     "text": [
      "(256, 512)\n",
      "(256, 512)\n"
     ]
    },
    {
     "name": "stderr",
     "output_type": "stream",
     "text": [
      "\r",
      " 43%|█████████████████████████████████▉                                             | 904/2101 [01:13<01:38, 12.21it/s]"
     ]
    },
    {
     "name": "stdout",
     "output_type": "stream",
     "text": [
      "(256, 512)\n",
      "(256, 512)\n"
     ]
    },
    {
     "name": "stderr",
     "output_type": "stream",
     "text": [
      "\r",
      " 43%|██████████████████████████████████                                             | 906/2101 [01:13<01:39, 12.02it/s]"
     ]
    },
    {
     "name": "stdout",
     "output_type": "stream",
     "text": [
      "(256, 512)\n",
      "(256, 512)\n"
     ]
    },
    {
     "name": "stderr",
     "output_type": "stream",
     "text": [
      "\r",
      " 43%|██████████████████████████████████▏                                            | 908/2101 [01:13<01:39, 11.95it/s]"
     ]
    },
    {
     "name": "stdout",
     "output_type": "stream",
     "text": [
      "(256, 512)\n",
      "(256, 512)\n"
     ]
    },
    {
     "name": "stderr",
     "output_type": "stream",
     "text": [
      "\r",
      " 43%|██████████████████████████████████▏                                            | 910/2101 [01:14<01:40, 11.89it/s]"
     ]
    },
    {
     "name": "stdout",
     "output_type": "stream",
     "text": [
      "(256, 512)\n",
      "(256, 512)\n"
     ]
    },
    {
     "name": "stderr",
     "output_type": "stream",
     "text": [
      "\r",
      " 43%|██████████████████████████████████▎                                            | 912/2101 [01:14<01:39, 11.94it/s]"
     ]
    },
    {
     "name": "stdout",
     "output_type": "stream",
     "text": [
      "(256, 512)\n",
      "(256, 512)\n"
     ]
    },
    {
     "name": "stderr",
     "output_type": "stream",
     "text": [
      "\r",
      " 44%|██████████████████████████████████▎                                            | 914/2101 [01:14<01:38, 12.03it/s]"
     ]
    },
    {
     "name": "stdout",
     "output_type": "stream",
     "text": [
      "(256, 512)\n",
      "(256, 512)\n"
     ]
    },
    {
     "name": "stderr",
     "output_type": "stream",
     "text": [
      "\r",
      " 44%|██████████████████████████████████▍                                            | 916/2101 [01:14<01:38, 12.08it/s]"
     ]
    },
    {
     "name": "stdout",
     "output_type": "stream",
     "text": [
      "(256, 512)\n",
      "(256, 512)\n"
     ]
    },
    {
     "name": "stderr",
     "output_type": "stream",
     "text": [
      "\r",
      " 44%|██████████████████████████████████▌                                            | 918/2101 [01:14<01:37, 12.11it/s]"
     ]
    },
    {
     "name": "stdout",
     "output_type": "stream",
     "text": [
      "(256, 512)\n",
      "(256, 512)\n"
     ]
    },
    {
     "name": "stderr",
     "output_type": "stream",
     "text": [
      "\r",
      " 44%|██████████████████████████████████▌                                            | 920/2101 [01:14<01:37, 12.17it/s]"
     ]
    },
    {
     "name": "stdout",
     "output_type": "stream",
     "text": [
      "(256, 512)\n",
      "(256, 512)\n"
     ]
    },
    {
     "name": "stderr",
     "output_type": "stream",
     "text": [
      "\r",
      " 44%|██████████████████████████████████▋                                            | 922/2101 [01:15<01:35, 12.29it/s]"
     ]
    },
    {
     "name": "stdout",
     "output_type": "stream",
     "text": [
      "(256, 512)\n",
      "(256, 512)\n"
     ]
    },
    {
     "name": "stderr",
     "output_type": "stream",
     "text": [
      "\r",
      " 44%|██████████████████████████████████▋                                            | 924/2101 [01:15<01:35, 12.26it/s]"
     ]
    },
    {
     "name": "stdout",
     "output_type": "stream",
     "text": [
      "(256, 512)\n",
      "(256, 512)\n"
     ]
    },
    {
     "name": "stderr",
     "output_type": "stream",
     "text": [
      "\r",
      " 44%|██████████████████████████████████▊                                            | 926/2101 [01:15<01:35, 12.28it/s]"
     ]
    },
    {
     "name": "stdout",
     "output_type": "stream",
     "text": [
      "(256, 512)\n",
      "(256, 512)\n"
     ]
    },
    {
     "name": "stderr",
     "output_type": "stream",
     "text": [
      "\r",
      " 44%|██████████████████████████████████▉                                            | 928/2101 [01:15<01:35, 12.22it/s]"
     ]
    },
    {
     "name": "stdout",
     "output_type": "stream",
     "text": [
      "(256, 512)\n",
      "(256, 512)\n"
     ]
    },
    {
     "name": "stderr",
     "output_type": "stream",
     "text": [
      "\r",
      " 44%|██████████████████████████████████▉                                            | 930/2101 [01:15<01:35, 12.29it/s]"
     ]
    },
    {
     "name": "stdout",
     "output_type": "stream",
     "text": [
      "(256, 512)\n",
      "(256, 512)\n"
     ]
    },
    {
     "name": "stderr",
     "output_type": "stream",
     "text": [
      "\r",
      " 44%|███████████████████████████████████                                            | 932/2101 [01:15<01:34, 12.33it/s]"
     ]
    },
    {
     "name": "stdout",
     "output_type": "stream",
     "text": [
      "(256, 512)\n",
      "(256, 512)\n"
     ]
    },
    {
     "name": "stderr",
     "output_type": "stream",
     "text": [
      "\r",
      " 44%|███████████████████████████████████                                            | 934/2101 [01:16<01:34, 12.29it/s]"
     ]
    },
    {
     "name": "stdout",
     "output_type": "stream",
     "text": [
      "(256, 512)\n",
      "(256, 512)\n"
     ]
    },
    {
     "name": "stderr",
     "output_type": "stream",
     "text": [
      "\r",
      " 45%|███████████████████████████████████▏                                           | 936/2101 [01:16<01:34, 12.30it/s]"
     ]
    },
    {
     "name": "stdout",
     "output_type": "stream",
     "text": [
      "(256, 512)\n",
      "(256, 512)\n"
     ]
    },
    {
     "name": "stderr",
     "output_type": "stream",
     "text": [
      "\r",
      " 45%|███████████████████████████████████▎                                           | 938/2101 [01:16<01:34, 12.25it/s]"
     ]
    },
    {
     "name": "stdout",
     "output_type": "stream",
     "text": [
      "(256, 512)\n",
      "(256, 512)\n"
     ]
    },
    {
     "name": "stderr",
     "output_type": "stream",
     "text": [
      "\r",
      " 45%|███████████████████████████████████▎                                           | 940/2101 [01:16<01:33, 12.42it/s]"
     ]
    },
    {
     "name": "stdout",
     "output_type": "stream",
     "text": [
      "(256, 512)\n",
      "(256, 512)\n"
     ]
    },
    {
     "name": "stderr",
     "output_type": "stream",
     "text": [
      "\r",
      " 45%|███████████████████████████████████▍                                           | 942/2101 [01:16<01:33, 12.38it/s]"
     ]
    },
    {
     "name": "stdout",
     "output_type": "stream",
     "text": [
      "(256, 512)\n",
      "(256, 512)\n"
     ]
    },
    {
     "name": "stderr",
     "output_type": "stream",
     "text": [
      "\r",
      " 45%|███████████████████████████████████▍                                           | 944/2101 [01:16<01:34, 12.30it/s]"
     ]
    },
    {
     "name": "stdout",
     "output_type": "stream",
     "text": [
      "(256, 512)\n",
      "(256, 512)\n"
     ]
    },
    {
     "name": "stderr",
     "output_type": "stream",
     "text": [
      "\r",
      " 45%|███████████████████████████████████▌                                           | 946/2101 [01:16<01:33, 12.30it/s]"
     ]
    },
    {
     "name": "stdout",
     "output_type": "stream",
     "text": [
      "(256, 512)\n",
      "(256, 512)\n"
     ]
    },
    {
     "name": "stderr",
     "output_type": "stream",
     "text": [
      "\r",
      " 45%|███████████████████████████████████▋                                           | 948/2101 [01:17<01:33, 12.31it/s]"
     ]
    },
    {
     "name": "stdout",
     "output_type": "stream",
     "text": [
      "(256, 512)\n",
      "(256, 512)\n"
     ]
    },
    {
     "name": "stderr",
     "output_type": "stream",
     "text": [
      "\r",
      " 45%|███████████████████████████████████▋                                           | 950/2101 [01:17<01:33, 12.30it/s]"
     ]
    },
    {
     "name": "stdout",
     "output_type": "stream",
     "text": [
      "(256, 512)\n",
      "(256, 512)\n"
     ]
    },
    {
     "name": "stderr",
     "output_type": "stream",
     "text": [
      "\r",
      " 45%|███████████████████████████████████▊                                           | 952/2101 [01:17<01:34, 12.21it/s]"
     ]
    },
    {
     "name": "stdout",
     "output_type": "stream",
     "text": [
      "(256, 512)\n",
      "(256, 512)\n"
     ]
    },
    {
     "name": "stderr",
     "output_type": "stream",
     "text": [
      "\r",
      " 45%|███████████████████████████████████▊                                           | 954/2101 [01:17<01:32, 12.37it/s]"
     ]
    },
    {
     "name": "stdout",
     "output_type": "stream",
     "text": [
      "(256, 512)\n",
      "(256, 512)\n"
     ]
    },
    {
     "name": "stderr",
     "output_type": "stream",
     "text": [
      "\r",
      " 46%|███████████████████████████████████▉                                           | 956/2101 [01:17<01:32, 12.33it/s]"
     ]
    },
    {
     "name": "stdout",
     "output_type": "stream",
     "text": [
      "(256, 512)\n",
      "(256, 512)\n"
     ]
    },
    {
     "name": "stderr",
     "output_type": "stream",
     "text": [
      "\r",
      " 46%|████████████████████████████████████                                           | 958/2101 [01:17<01:33, 12.26it/s]"
     ]
    },
    {
     "name": "stdout",
     "output_type": "stream",
     "text": [
      "(256, 512)\n",
      "(256, 512)\n"
     ]
    },
    {
     "name": "stderr",
     "output_type": "stream",
     "text": [
      "\r",
      " 46%|████████████████████████████████████                                           | 960/2101 [01:18<01:33, 12.19it/s]"
     ]
    },
    {
     "name": "stdout",
     "output_type": "stream",
     "text": [
      "(256, 512)\n",
      "(256, 512)\n"
     ]
    },
    {
     "name": "stderr",
     "output_type": "stream",
     "text": [
      "\r",
      " 46%|████████████████████████████████████▏                                          | 962/2101 [01:18<01:33, 12.22it/s]"
     ]
    },
    {
     "name": "stdout",
     "output_type": "stream",
     "text": [
      "(256, 512)\n",
      "(256, 512)\n"
     ]
    },
    {
     "name": "stderr",
     "output_type": "stream",
     "text": [
      "\r",
      " 46%|████████████████████████████████████▏                                          | 964/2101 [01:18<01:32, 12.25it/s]"
     ]
    },
    {
     "name": "stdout",
     "output_type": "stream",
     "text": [
      "(256, 512)\n",
      "(256, 512)\n"
     ]
    },
    {
     "name": "stderr",
     "output_type": "stream",
     "text": [
      "\r",
      " 46%|████████████████████████████████████▎                                          | 966/2101 [01:18<01:32, 12.33it/s]"
     ]
    },
    {
     "name": "stdout",
     "output_type": "stream",
     "text": [
      "(256, 512)\n",
      "(256, 512)\n"
     ]
    },
    {
     "name": "stderr",
     "output_type": "stream",
     "text": [
      "\r",
      " 46%|████████████████████████████████████▍                                          | 968/2101 [01:18<01:31, 12.32it/s]"
     ]
    },
    {
     "name": "stdout",
     "output_type": "stream",
     "text": [
      "(256, 512)\n",
      "(256, 512)\n"
     ]
    },
    {
     "name": "stderr",
     "output_type": "stream",
     "text": [
      "\r",
      " 46%|████████████████████████████████████▍                                          | 970/2101 [01:18<01:31, 12.40it/s]"
     ]
    },
    {
     "name": "stdout",
     "output_type": "stream",
     "text": [
      "(256, 512)\n",
      "(256, 512)\n"
     ]
    },
    {
     "name": "stderr",
     "output_type": "stream",
     "text": [
      "\r",
      " 46%|████████████████████████████████████▌                                          | 972/2101 [01:19<01:31, 12.38it/s]"
     ]
    },
    {
     "name": "stdout",
     "output_type": "stream",
     "text": [
      "(256, 512)\n",
      "(256, 512)\n"
     ]
    },
    {
     "name": "stderr",
     "output_type": "stream",
     "text": [
      "\r",
      " 46%|████████████████████████████████████▌                                          | 974/2101 [01:19<01:31, 12.37it/s]"
     ]
    },
    {
     "name": "stdout",
     "output_type": "stream",
     "text": [
      "(256, 512)\n",
      "(256, 512)\n"
     ]
    },
    {
     "name": "stderr",
     "output_type": "stream",
     "text": [
      "\r",
      " 46%|████████████████████████████████████▋                                          | 976/2101 [01:19<01:31, 12.27it/s]"
     ]
    },
    {
     "name": "stdout",
     "output_type": "stream",
     "text": [
      "(256, 512)\n",
      "(256, 512)\n"
     ]
    },
    {
     "name": "stderr",
     "output_type": "stream",
     "text": [
      "\r",
      " 47%|████████████████████████████████████▊                                          | 978/2101 [01:19<01:31, 12.26it/s]"
     ]
    },
    {
     "name": "stdout",
     "output_type": "stream",
     "text": [
      "(256, 512)\n",
      "(256, 512)\n"
     ]
    },
    {
     "name": "stderr",
     "output_type": "stream",
     "text": [
      "\r",
      " 47%|████████████████████████████████████▊                                          | 980/2101 [01:19<01:31, 12.25it/s]"
     ]
    },
    {
     "name": "stdout",
     "output_type": "stream",
     "text": [
      "(256, 512)\n",
      "(256, 512)\n"
     ]
    },
    {
     "name": "stderr",
     "output_type": "stream",
     "text": [
      "\r",
      " 47%|████████████████████████████████████▉                                          | 982/2101 [01:19<01:31, 12.22it/s]"
     ]
    },
    {
     "name": "stdout",
     "output_type": "stream",
     "text": [
      "(256, 512)\n",
      "(256, 512)\n"
     ]
    },
    {
     "name": "stderr",
     "output_type": "stream",
     "text": [
      "\r",
      " 47%|████████████████████████████████████▉                                          | 984/2101 [01:20<01:30, 12.29it/s]"
     ]
    },
    {
     "name": "stdout",
     "output_type": "stream",
     "text": [
      "(256, 512)\n",
      "(256, 512)\n"
     ]
    },
    {
     "name": "stderr",
     "output_type": "stream",
     "text": [
      "\r",
      " 47%|█████████████████████████████████████                                          | 986/2101 [01:20<01:30, 12.36it/s]"
     ]
    },
    {
     "name": "stdout",
     "output_type": "stream",
     "text": [
      "(256, 512)\n",
      "(256, 512)\n"
     ]
    },
    {
     "name": "stderr",
     "output_type": "stream",
     "text": [
      "\r",
      " 47%|█████████████████████████████████████▏                                         | 988/2101 [01:20<01:30, 12.28it/s]"
     ]
    },
    {
     "name": "stdout",
     "output_type": "stream",
     "text": [
      "(256, 512)\n",
      "(256, 512)\n"
     ]
    },
    {
     "name": "stderr",
     "output_type": "stream",
     "text": [
      "\r",
      " 47%|█████████████████████████████████████▏                                         | 990/2101 [01:20<01:30, 12.29it/s]"
     ]
    },
    {
     "name": "stdout",
     "output_type": "stream",
     "text": [
      "(256, 512)\n",
      "(256, 512)\n"
     ]
    },
    {
     "name": "stderr",
     "output_type": "stream",
     "text": [
      "\r",
      " 47%|█████████████████████████████████████▎                                         | 992/2101 [01:20<01:30, 12.25it/s]"
     ]
    },
    {
     "name": "stdout",
     "output_type": "stream",
     "text": [
      "(256, 512)\n",
      "(256, 512)\n"
     ]
    },
    {
     "name": "stderr",
     "output_type": "stream",
     "text": [
      "\r",
      " 47%|█████████████████████████████████████▍                                         | 994/2101 [01:20<01:30, 12.27it/s]"
     ]
    },
    {
     "name": "stdout",
     "output_type": "stream",
     "text": [
      "(256, 512)\n",
      "(256, 512)\n"
     ]
    },
    {
     "name": "stderr",
     "output_type": "stream",
     "text": [
      "\r",
      " 47%|█████████████████████████████████████▍                                         | 996/2101 [01:21<01:29, 12.37it/s]"
     ]
    },
    {
     "name": "stdout",
     "output_type": "stream",
     "text": [
      "(256, 512)\n",
      "(256, 512)\n"
     ]
    },
    {
     "name": "stderr",
     "output_type": "stream",
     "text": [
      "\r",
      " 48%|█████████████████████████████████████▌                                         | 998/2101 [01:21<01:29, 12.30it/s]"
     ]
    },
    {
     "name": "stdout",
     "output_type": "stream",
     "text": [
      "(256, 512)\n",
      "(256, 512)\n"
     ]
    },
    {
     "name": "stderr",
     "output_type": "stream",
     "text": [
      "\r",
      " 48%|█████████████████████████████████████▏                                        | 1000/2101 [01:21<01:29, 12.33it/s]"
     ]
    },
    {
     "name": "stdout",
     "output_type": "stream",
     "text": [
      "(256, 512)\n",
      "(256, 512)\n"
     ]
    },
    {
     "name": "stderr",
     "output_type": "stream",
     "text": [
      "\r",
      " 48%|█████████████████████████████████████▏                                        | 1002/2101 [01:21<01:29, 12.26it/s]"
     ]
    },
    {
     "name": "stdout",
     "output_type": "stream",
     "text": [
      "(256, 512)\n",
      "(256, 512)\n"
     ]
    },
    {
     "name": "stderr",
     "output_type": "stream",
     "text": [
      "\r",
      " 48%|█████████████████████████████████████▎                                        | 1004/2101 [01:21<01:29, 12.24it/s]"
     ]
    },
    {
     "name": "stdout",
     "output_type": "stream",
     "text": [
      "(256, 512)\n",
      "(256, 512)\n"
     ]
    },
    {
     "name": "stderr",
     "output_type": "stream",
     "text": [
      "\r",
      " 48%|█████████████████████████████████████▎                                        | 1006/2101 [01:21<01:29, 12.23it/s]"
     ]
    },
    {
     "name": "stdout",
     "output_type": "stream",
     "text": [
      "(256, 512)\n",
      "(256, 512)\n"
     ]
    },
    {
     "name": "stderr",
     "output_type": "stream",
     "text": [
      "\r",
      " 48%|█████████████████████████████████████▍                                        | 1008/2101 [01:22<01:29, 12.23it/s]"
     ]
    },
    {
     "name": "stdout",
     "output_type": "stream",
     "text": [
      "(256, 512)\n",
      "(256, 512)\n"
     ]
    },
    {
     "name": "stderr",
     "output_type": "stream",
     "text": [
      "\r",
      " 48%|█████████████████████████████████████▍                                        | 1010/2101 [01:22<01:29, 12.17it/s]"
     ]
    },
    {
     "name": "stdout",
     "output_type": "stream",
     "text": [
      "(256, 512)\n",
      "(256, 512)\n"
     ]
    },
    {
     "name": "stderr",
     "output_type": "stream",
     "text": [
      "\r",
      " 48%|█████████████████████████████████████▌                                        | 1012/2101 [01:22<01:30, 12.04it/s]"
     ]
    },
    {
     "name": "stdout",
     "output_type": "stream",
     "text": [
      "(256, 512)\n",
      "(256, 512)\n"
     ]
    },
    {
     "name": "stderr",
     "output_type": "stream",
     "text": [
      "\r",
      " 48%|█████████████████████████████████████▋                                        | 1014/2101 [01:22<01:31, 11.87it/s]"
     ]
    },
    {
     "name": "stdout",
     "output_type": "stream",
     "text": [
      "(256, 512)\n",
      "(256, 512)\n"
     ]
    },
    {
     "name": "stderr",
     "output_type": "stream",
     "text": [
      "\r",
      " 48%|█████████████████████████████████████▋                                        | 1016/2101 [01:22<01:30, 11.98it/s]"
     ]
    },
    {
     "name": "stdout",
     "output_type": "stream",
     "text": [
      "(256, 512)\n",
      "(256, 512)\n"
     ]
    },
    {
     "name": "stderr",
     "output_type": "stream",
     "text": [
      "\r",
      " 48%|█████████████████████████████████████▊                                        | 1018/2101 [01:22<01:29, 12.10it/s]"
     ]
    },
    {
     "name": "stdout",
     "output_type": "stream",
     "text": [
      "(256, 512)\n",
      "(256, 512)\n"
     ]
    },
    {
     "name": "stderr",
     "output_type": "stream",
     "text": [
      "\r",
      " 49%|█████████████████████████████████████▊                                        | 1020/2101 [01:23<01:29, 12.04it/s]"
     ]
    },
    {
     "name": "stdout",
     "output_type": "stream",
     "text": [
      "(256, 512)\n",
      "(256, 512)\n"
     ]
    },
    {
     "name": "stderr",
     "output_type": "stream",
     "text": [
      "\r",
      " 49%|█████████████████████████████████████▉                                        | 1022/2101 [01:23<01:29, 12.08it/s]"
     ]
    },
    {
     "name": "stdout",
     "output_type": "stream",
     "text": [
      "(256, 512)\n",
      "(256, 512)\n"
     ]
    },
    {
     "name": "stderr",
     "output_type": "stream",
     "text": [
      "\r",
      " 49%|██████████████████████████████████████                                        | 1024/2101 [01:23<01:29, 12.07it/s]"
     ]
    },
    {
     "name": "stdout",
     "output_type": "stream",
     "text": [
      "(256, 512)\n",
      "(256, 512)\n"
     ]
    },
    {
     "name": "stderr",
     "output_type": "stream",
     "text": [
      "\r",
      " 49%|██████████████████████████████████████                                        | 1026/2101 [01:23<01:28, 12.19it/s]"
     ]
    },
    {
     "name": "stdout",
     "output_type": "stream",
     "text": [
      "(256, 512)\n",
      "(256, 512)\n"
     ]
    },
    {
     "name": "stderr",
     "output_type": "stream",
     "text": [
      "\r",
      " 49%|██████████████████████████████████████▏                                       | 1028/2101 [01:23<01:27, 12.23it/s]"
     ]
    },
    {
     "name": "stdout",
     "output_type": "stream",
     "text": [
      "(256, 512)\n",
      "(256, 512)\n"
     ]
    },
    {
     "name": "stderr",
     "output_type": "stream",
     "text": [
      "\r",
      " 49%|██████████████████████████████████████▏                                       | 1030/2101 [01:23<01:27, 12.31it/s]"
     ]
    },
    {
     "name": "stdout",
     "output_type": "stream",
     "text": [
      "(256, 512)\n",
      "(256, 512)\n"
     ]
    },
    {
     "name": "stderr",
     "output_type": "stream",
     "text": [
      "\r",
      " 49%|██████████████████████████████████████▎                                       | 1032/2101 [01:24<01:26, 12.32it/s]"
     ]
    },
    {
     "name": "stdout",
     "output_type": "stream",
     "text": [
      "(256, 512)\n",
      "(256, 512)\n"
     ]
    },
    {
     "name": "stderr",
     "output_type": "stream",
     "text": [
      "\r",
      " 49%|██████████████████████████████████████▍                                       | 1034/2101 [01:24<01:26, 12.39it/s]"
     ]
    },
    {
     "name": "stdout",
     "output_type": "stream",
     "text": [
      "(256, 512)\n",
      "(256, 512)\n"
     ]
    },
    {
     "name": "stderr",
     "output_type": "stream",
     "text": [
      "\r",
      " 49%|██████████████████████████████████████▍                                       | 1036/2101 [01:24<01:25, 12.39it/s]"
     ]
    },
    {
     "name": "stdout",
     "output_type": "stream",
     "text": [
      "(256, 512)\n",
      "(256, 512)\n"
     ]
    },
    {
     "name": "stderr",
     "output_type": "stream",
     "text": [
      "\r",
      " 49%|██████████████████████████████████████▌                                       | 1038/2101 [01:24<01:25, 12.38it/s]"
     ]
    },
    {
     "name": "stdout",
     "output_type": "stream",
     "text": [
      "(256, 512)\n",
      "(256, 512)\n"
     ]
    },
    {
     "name": "stderr",
     "output_type": "stream",
     "text": [
      "\r",
      " 50%|██████████████████████████████████████▌                                       | 1040/2101 [01:24<01:26, 12.30it/s]"
     ]
    },
    {
     "name": "stdout",
     "output_type": "stream",
     "text": [
      "(256, 512)\n",
      "(256, 512)\n"
     ]
    },
    {
     "name": "stderr",
     "output_type": "stream",
     "text": [
      "\r",
      " 50%|██████████████████████████████████████▋                                       | 1042/2101 [01:24<01:25, 12.32it/s]"
     ]
    },
    {
     "name": "stdout",
     "output_type": "stream",
     "text": [
      "(256, 512)\n",
      "(256, 512)\n"
     ]
    },
    {
     "name": "stderr",
     "output_type": "stream",
     "text": [
      "\r",
      " 50%|██████████████████████████████████████▊                                       | 1044/2101 [01:24<01:25, 12.38it/s]"
     ]
    },
    {
     "name": "stdout",
     "output_type": "stream",
     "text": [
      "(256, 512)\n",
      "(256, 512)\n"
     ]
    },
    {
     "name": "stderr",
     "output_type": "stream",
     "text": [
      "\r",
      " 50%|██████████████████████████████████████▊                                       | 1046/2101 [01:25<01:24, 12.44it/s]"
     ]
    },
    {
     "name": "stdout",
     "output_type": "stream",
     "text": [
      "(256, 512)\n",
      "(256, 512)\n"
     ]
    },
    {
     "name": "stderr",
     "output_type": "stream",
     "text": [
      "\r",
      " 50%|██████████████████████████████████████▉                                       | 1048/2101 [01:25<01:24, 12.49it/s]"
     ]
    },
    {
     "name": "stdout",
     "output_type": "stream",
     "text": [
      "(256, 512)\n",
      "(256, 512)\n"
     ]
    },
    {
     "name": "stderr",
     "output_type": "stream",
     "text": [
      "\r",
      " 50%|██████████████████████████████████████▉                                       | 1050/2101 [01:25<01:24, 12.40it/s]"
     ]
    },
    {
     "name": "stdout",
     "output_type": "stream",
     "text": [
      "(256, 512)\n",
      "(256, 512)\n"
     ]
    },
    {
     "name": "stderr",
     "output_type": "stream",
     "text": [
      "\r",
      " 50%|███████████████████████████████████████                                       | 1052/2101 [01:25<01:25, 12.31it/s]"
     ]
    },
    {
     "name": "stdout",
     "output_type": "stream",
     "text": [
      "(256, 512)\n",
      "(256, 512)\n"
     ]
    },
    {
     "name": "stderr",
     "output_type": "stream",
     "text": [
      "\r",
      " 50%|███████████████████████████████████████▏                                      | 1054/2101 [01:25<01:24, 12.35it/s]"
     ]
    },
    {
     "name": "stdout",
     "output_type": "stream",
     "text": [
      "(256, 512)\n",
      "(256, 512)\n"
     ]
    },
    {
     "name": "stderr",
     "output_type": "stream",
     "text": [
      "\r",
      " 50%|███████████████████████████████████████▏                                      | 1056/2101 [01:25<01:24, 12.37it/s]"
     ]
    },
    {
     "name": "stdout",
     "output_type": "stream",
     "text": [
      "(256, 512)\n",
      "(256, 512)\n"
     ]
    },
    {
     "name": "stderr",
     "output_type": "stream",
     "text": [
      "\r",
      " 50%|███████████████████████████████████████▎                                      | 1058/2101 [01:26<01:24, 12.31it/s]"
     ]
    },
    {
     "name": "stdout",
     "output_type": "stream",
     "text": [
      "(256, 512)\n",
      "(256, 512)\n"
     ]
    },
    {
     "name": "stderr",
     "output_type": "stream",
     "text": [
      "\r",
      " 50%|███████████████████████████████████████▎                                      | 1060/2101 [01:26<01:24, 12.28it/s]"
     ]
    },
    {
     "name": "stdout",
     "output_type": "stream",
     "text": [
      "(256, 512)\n",
      "(256, 512)\n"
     ]
    },
    {
     "name": "stderr",
     "output_type": "stream",
     "text": [
      "\r",
      " 51%|███████████████████████████████████████▍                                      | 1062/2101 [01:26<01:23, 12.40it/s]"
     ]
    },
    {
     "name": "stdout",
     "output_type": "stream",
     "text": [
      "(256, 512)\n",
      "(256, 512)\n"
     ]
    },
    {
     "name": "stderr",
     "output_type": "stream",
     "text": [
      "\r",
      " 51%|███████████████████████████████████████▌                                      | 1064/2101 [01:26<01:23, 12.39it/s]"
     ]
    },
    {
     "name": "stdout",
     "output_type": "stream",
     "text": [
      "(256, 512)\n",
      "(256, 512)\n"
     ]
    },
    {
     "name": "stderr",
     "output_type": "stream",
     "text": [
      "\r",
      " 51%|███████████████████████████████████████▌                                      | 1066/2101 [01:26<01:23, 12.38it/s]"
     ]
    },
    {
     "name": "stdout",
     "output_type": "stream",
     "text": [
      "(256, 512)\n",
      "(256, 512)\n"
     ]
    },
    {
     "name": "stderr",
     "output_type": "stream",
     "text": [
      "\r",
      " 51%|███████████████████████████████████████▋                                      | 1068/2101 [01:26<01:23, 12.33it/s]"
     ]
    },
    {
     "name": "stdout",
     "output_type": "stream",
     "text": [
      "(256, 512)\n",
      "(256, 512)\n"
     ]
    },
    {
     "name": "stderr",
     "output_type": "stream",
     "text": [
      "\r",
      " 51%|███████████████████████████████████████▋                                      | 1070/2101 [01:27<01:23, 12.38it/s]"
     ]
    },
    {
     "name": "stdout",
     "output_type": "stream",
     "text": [
      "(256, 512)\n",
      "(256, 512)\n"
     ]
    },
    {
     "name": "stderr",
     "output_type": "stream",
     "text": [
      "\r",
      " 51%|███████████████████████████████████████▊                                      | 1072/2101 [01:27<01:23, 12.37it/s]"
     ]
    },
    {
     "name": "stdout",
     "output_type": "stream",
     "text": [
      "(256, 512)\n",
      "(256, 512)\n"
     ]
    },
    {
     "name": "stderr",
     "output_type": "stream",
     "text": [
      "\r",
      " 51%|███████████████████████████████████████▊                                      | 1074/2101 [01:27<01:22, 12.39it/s]"
     ]
    },
    {
     "name": "stdout",
     "output_type": "stream",
     "text": [
      "(256, 512)\n",
      "(256, 512)\n"
     ]
    },
    {
     "name": "stderr",
     "output_type": "stream",
     "text": [
      "\r",
      " 51%|███████████████████████████████████████▉                                      | 1076/2101 [01:27<01:23, 12.30it/s]"
     ]
    },
    {
     "name": "stdout",
     "output_type": "stream",
     "text": [
      "(256, 512)\n",
      "(256, 512)\n"
     ]
    },
    {
     "name": "stderr",
     "output_type": "stream",
     "text": [
      "\r",
      " 51%|████████████████████████████████████████                                      | 1078/2101 [01:27<01:23, 12.30it/s]"
     ]
    },
    {
     "name": "stdout",
     "output_type": "stream",
     "text": [
      "(256, 512)\n",
      "(256, 512)\n"
     ]
    },
    {
     "name": "stderr",
     "output_type": "stream",
     "text": [
      "\r",
      " 51%|████████████████████████████████████████                                      | 1080/2101 [01:27<01:23, 12.21it/s]"
     ]
    },
    {
     "name": "stdout",
     "output_type": "stream",
     "text": [
      "(256, 512)\n",
      "(256, 512)\n"
     ]
    },
    {
     "name": "stderr",
     "output_type": "stream",
     "text": [
      "\r",
      " 51%|████████████████████████████████████████▏                                     | 1082/2101 [01:28<01:23, 12.22it/s]"
     ]
    },
    {
     "name": "stdout",
     "output_type": "stream",
     "text": [
      "(256, 512)\n",
      "(256, 512)\n"
     ]
    },
    {
     "name": "stderr",
     "output_type": "stream",
     "text": [
      "\r",
      " 52%|████████████████████████████████████████▏                                     | 1084/2101 [01:28<01:23, 12.15it/s]"
     ]
    },
    {
     "name": "stdout",
     "output_type": "stream",
     "text": [
      "(256, 512)\n",
      "(256, 512)\n"
     ]
    },
    {
     "name": "stderr",
     "output_type": "stream",
     "text": [
      "\r",
      " 52%|████████████████████████████████████████▎                                     | 1086/2101 [01:28<01:24, 12.01it/s]"
     ]
    },
    {
     "name": "stdout",
     "output_type": "stream",
     "text": [
      "(256, 512)\n",
      "(256, 512)\n"
     ]
    },
    {
     "name": "stderr",
     "output_type": "stream",
     "text": [
      "\r",
      " 52%|████████████████████████████████████████▍                                     | 1088/2101 [01:28<01:23, 12.19it/s]"
     ]
    },
    {
     "name": "stdout",
     "output_type": "stream",
     "text": [
      "(256, 512)\n",
      "(256, 512)\n"
     ]
    },
    {
     "name": "stderr",
     "output_type": "stream",
     "text": [
      "\r",
      " 52%|████████████████████████████████████████▍                                     | 1090/2101 [01:28<01:22, 12.20it/s]"
     ]
    },
    {
     "name": "stdout",
     "output_type": "stream",
     "text": [
      "(256, 512)\n",
      "(256, 512)\n"
     ]
    },
    {
     "name": "stderr",
     "output_type": "stream",
     "text": [
      "\r",
      " 52%|████████████████████████████████████████▌                                     | 1092/2101 [01:28<01:22, 12.30it/s]"
     ]
    },
    {
     "name": "stdout",
     "output_type": "stream",
     "text": [
      "(256, 512)\n",
      "(256, 512)\n"
     ]
    },
    {
     "name": "stderr",
     "output_type": "stream",
     "text": [
      "\r",
      " 52%|████████████████████████████████████████▌                                     | 1094/2101 [01:29<01:22, 12.27it/s]"
     ]
    },
    {
     "name": "stdout",
     "output_type": "stream",
     "text": [
      "(256, 512)\n",
      "(256, 512)\n"
     ]
    },
    {
     "name": "stderr",
     "output_type": "stream",
     "text": [
      "\r",
      " 52%|████████████████████████████████████████▋                                     | 1096/2101 [01:29<01:22, 12.23it/s]"
     ]
    },
    {
     "name": "stdout",
     "output_type": "stream",
     "text": [
      "(256, 512)\n",
      "(256, 512)\n"
     ]
    },
    {
     "name": "stderr",
     "output_type": "stream",
     "text": [
      "\r",
      " 52%|████████████████████████████████████████▊                                     | 1098/2101 [01:29<01:22, 12.20it/s]"
     ]
    },
    {
     "name": "stdout",
     "output_type": "stream",
     "text": [
      "(256, 512)\n",
      "(256, 512)\n"
     ]
    },
    {
     "name": "stderr",
     "output_type": "stream",
     "text": [
      "\r",
      " 52%|████████████████████████████████████████▊                                     | 1100/2101 [01:29<01:21, 12.25it/s]"
     ]
    },
    {
     "name": "stdout",
     "output_type": "stream",
     "text": [
      "(256, 512)\n",
      "(256, 512)\n"
     ]
    },
    {
     "name": "stderr",
     "output_type": "stream",
     "text": [
      "\r",
      " 52%|████████████████████████████████████████▉                                     | 1102/2101 [01:29<01:21, 12.29it/s]"
     ]
    },
    {
     "name": "stdout",
     "output_type": "stream",
     "text": [
      "(256, 512)\n",
      "(256, 512)\n"
     ]
    },
    {
     "name": "stderr",
     "output_type": "stream",
     "text": [
      "\r",
      " 53%|████████████████████████████████████████▉                                     | 1104/2101 [01:29<01:21, 12.24it/s]"
     ]
    },
    {
     "name": "stdout",
     "output_type": "stream",
     "text": [
      "(256, 512)\n",
      "(256, 512)\n"
     ]
    },
    {
     "name": "stderr",
     "output_type": "stream",
     "text": [
      "\r",
      " 53%|█████████████████████████████████████████                                     | 1106/2101 [01:30<01:20, 12.32it/s]"
     ]
    },
    {
     "name": "stdout",
     "output_type": "stream",
     "text": [
      "(256, 512)\n",
      "(256, 512)\n"
     ]
    },
    {
     "name": "stderr",
     "output_type": "stream",
     "text": [
      "\r",
      " 53%|█████████████████████████████████████████▏                                    | 1108/2101 [01:30<01:21, 12.25it/s]"
     ]
    },
    {
     "name": "stdout",
     "output_type": "stream",
     "text": [
      "(256, 512)\n",
      "(256, 512)\n"
     ]
    },
    {
     "name": "stderr",
     "output_type": "stream",
     "text": [
      "\r",
      " 53%|█████████████████████████████████████████▏                                    | 1110/2101 [01:30<01:21, 12.21it/s]"
     ]
    },
    {
     "name": "stdout",
     "output_type": "stream",
     "text": [
      "(256, 512)\n",
      "(256, 512)\n"
     ]
    },
    {
     "name": "stderr",
     "output_type": "stream",
     "text": [
      "\r",
      " 53%|█████████████████████████████████████████▎                                    | 1112/2101 [01:30<01:20, 12.25it/s]"
     ]
    },
    {
     "name": "stdout",
     "output_type": "stream",
     "text": [
      "(256, 512)\n",
      "(256, 512)\n"
     ]
    },
    {
     "name": "stderr",
     "output_type": "stream",
     "text": [
      "\r",
      " 53%|█████████████████████████████████████████▎                                    | 1114/2101 [01:30<01:20, 12.25it/s]"
     ]
    },
    {
     "name": "stdout",
     "output_type": "stream",
     "text": [
      "(256, 512)\n",
      "(256, 512)\n"
     ]
    },
    {
     "name": "stderr",
     "output_type": "stream",
     "text": [
      "\r",
      " 53%|█████████████████████████████████████████▍                                    | 1116/2101 [01:30<01:20, 12.23it/s]"
     ]
    },
    {
     "name": "stdout",
     "output_type": "stream",
     "text": [
      "(256, 512)\n",
      "(256, 512)\n"
     ]
    },
    {
     "name": "stderr",
     "output_type": "stream",
     "text": [
      "\r",
      " 53%|█████████████████████████████████████████▌                                    | 1118/2101 [01:31<01:21, 12.13it/s]"
     ]
    },
    {
     "name": "stdout",
     "output_type": "stream",
     "text": [
      "(256, 512)\n",
      "(256, 512)\n"
     ]
    },
    {
     "name": "stderr",
     "output_type": "stream",
     "text": [
      "\r",
      " 53%|█████████████████████████████████████████▌                                    | 1120/2101 [01:31<01:20, 12.18it/s]"
     ]
    },
    {
     "name": "stdout",
     "output_type": "stream",
     "text": [
      "(256, 512)\n",
      "(256, 512)\n"
     ]
    },
    {
     "name": "stderr",
     "output_type": "stream",
     "text": [
      "\r",
      " 53%|█████████████████████████████████████████▋                                    | 1122/2101 [01:31<01:20, 12.19it/s]"
     ]
    },
    {
     "name": "stdout",
     "output_type": "stream",
     "text": [
      "(256, 512)\n",
      "(256, 512)\n"
     ]
    },
    {
     "name": "stderr",
     "output_type": "stream",
     "text": [
      "\r",
      " 53%|█████████████████████████████████████████▋                                    | 1124/2101 [01:31<01:19, 12.22it/s]"
     ]
    },
    {
     "name": "stdout",
     "output_type": "stream",
     "text": [
      "(256, 512)\n",
      "(256, 512)\n"
     ]
    },
    {
     "name": "stderr",
     "output_type": "stream",
     "text": [
      "\r",
      " 54%|█████████████████████████████████████████▊                                    | 1126/2101 [01:31<01:20, 12.13it/s]"
     ]
    },
    {
     "name": "stdout",
     "output_type": "stream",
     "text": [
      "(256, 512)\n",
      "(256, 512)\n"
     ]
    },
    {
     "name": "stderr",
     "output_type": "stream",
     "text": [
      "\r",
      " 54%|█████████████████████████████████████████▉                                    | 1128/2101 [01:31<01:19, 12.23it/s]"
     ]
    },
    {
     "name": "stdout",
     "output_type": "stream",
     "text": [
      "(256, 512)\n",
      "(256, 512)\n"
     ]
    },
    {
     "name": "stderr",
     "output_type": "stream",
     "text": [
      "\r",
      " 54%|█████████████████████████████████████████▉                                    | 1130/2101 [01:31<01:18, 12.29it/s]"
     ]
    },
    {
     "name": "stdout",
     "output_type": "stream",
     "text": [
      "(256, 512)\n",
      "(256, 512)\n"
     ]
    },
    {
     "name": "stderr",
     "output_type": "stream",
     "text": [
      "\r",
      " 54%|██████████████████████████████████████████                                    | 1132/2101 [01:32<01:17, 12.43it/s]"
     ]
    },
    {
     "name": "stdout",
     "output_type": "stream",
     "text": [
      "(256, 512)\n",
      "(256, 512)\n"
     ]
    },
    {
     "name": "stderr",
     "output_type": "stream",
     "text": [
      "\r",
      " 54%|██████████████████████████████████████████                                    | 1134/2101 [01:32<01:17, 12.49it/s]"
     ]
    },
    {
     "name": "stdout",
     "output_type": "stream",
     "text": [
      "(256, 512)\n",
      "(256, 512)\n"
     ]
    },
    {
     "name": "stderr",
     "output_type": "stream",
     "text": [
      "\r",
      " 54%|██████████████████████████████████████████▏                                   | 1136/2101 [01:32<01:16, 12.54it/s]"
     ]
    },
    {
     "name": "stdout",
     "output_type": "stream",
     "text": [
      "(256, 512)\n",
      "(256, 512)\n"
     ]
    },
    {
     "name": "stderr",
     "output_type": "stream",
     "text": [
      "\r",
      " 54%|██████████████████████████████████████████▏                                   | 1138/2101 [01:32<01:18, 12.29it/s]"
     ]
    },
    {
     "name": "stdout",
     "output_type": "stream",
     "text": [
      "(256, 512)\n",
      "(256, 512)\n"
     ]
    },
    {
     "name": "stderr",
     "output_type": "stream",
     "text": [
      "\r",
      " 54%|██████████████████████████████████████████▎                                   | 1140/2101 [01:32<01:18, 12.26it/s]"
     ]
    },
    {
     "name": "stdout",
     "output_type": "stream",
     "text": [
      "(256, 512)\n",
      "(256, 512)\n"
     ]
    },
    {
     "name": "stderr",
     "output_type": "stream",
     "text": [
      "\r",
      " 54%|██████████████████████████████████████████▍                                   | 1142/2101 [01:32<01:18, 12.22it/s]"
     ]
    },
    {
     "name": "stdout",
     "output_type": "stream",
     "text": [
      "(256, 512)\n",
      "(256, 512)\n"
     ]
    },
    {
     "name": "stderr",
     "output_type": "stream",
     "text": [
      "\r",
      " 54%|██████████████████████████████████████████▍                                   | 1144/2101 [01:33<01:18, 12.18it/s]"
     ]
    },
    {
     "name": "stdout",
     "output_type": "stream",
     "text": [
      "(256, 512)\n",
      "(256, 512)\n"
     ]
    },
    {
     "name": "stderr",
     "output_type": "stream",
     "text": [
      "\r",
      " 55%|██████████████████████████████████████████▌                                   | 1146/2101 [01:33<01:18, 12.23it/s]"
     ]
    },
    {
     "name": "stdout",
     "output_type": "stream",
     "text": [
      "(256, 512)\n",
      "(256, 512)\n"
     ]
    },
    {
     "name": "stderr",
     "output_type": "stream",
     "text": [
      "\r",
      " 55%|██████████████████████████████████████████▌                                   | 1148/2101 [01:33<01:17, 12.30it/s]"
     ]
    },
    {
     "name": "stdout",
     "output_type": "stream",
     "text": [
      "(256, 512)\n",
      "(256, 512)\n"
     ]
    },
    {
     "name": "stderr",
     "output_type": "stream",
     "text": [
      "\r",
      " 55%|██████████████████████████████████████████▋                                   | 1150/2101 [01:33<01:17, 12.20it/s]"
     ]
    },
    {
     "name": "stdout",
     "output_type": "stream",
     "text": [
      "(256, 512)\n",
      "(256, 512)\n"
     ]
    },
    {
     "name": "stderr",
     "output_type": "stream",
     "text": [
      "\r",
      " 55%|██████████████████████████████████████████▊                                   | 1152/2101 [01:33<01:17, 12.23it/s]"
     ]
    },
    {
     "name": "stdout",
     "output_type": "stream",
     "text": [
      "(256, 512)\n",
      "(256, 512)\n"
     ]
    },
    {
     "name": "stderr",
     "output_type": "stream",
     "text": [
      "\r",
      " 55%|██████████████████████████████████████████▊                                   | 1154/2101 [01:33<01:17, 12.23it/s]"
     ]
    },
    {
     "name": "stdout",
     "output_type": "stream",
     "text": [
      "(256, 512)\n",
      "(256, 512)\n"
     ]
    },
    {
     "name": "stderr",
     "output_type": "stream",
     "text": [
      "\r",
      " 55%|██████████████████████████████████████████▉                                   | 1156/2101 [01:34<01:16, 12.38it/s]"
     ]
    },
    {
     "name": "stdout",
     "output_type": "stream",
     "text": [
      "(256, 512)\n",
      "(256, 512)\n"
     ]
    },
    {
     "name": "stderr",
     "output_type": "stream",
     "text": [
      "\r",
      " 55%|██████████████████████████████████████████▉                                   | 1158/2101 [01:34<01:16, 12.37it/s]"
     ]
    },
    {
     "name": "stdout",
     "output_type": "stream",
     "text": [
      "(256, 512)\n",
      "(256, 512)\n"
     ]
    },
    {
     "name": "stderr",
     "output_type": "stream",
     "text": [
      "\r",
      " 55%|███████████████████████████████████████████                                   | 1160/2101 [01:34<01:16, 12.33it/s]"
     ]
    },
    {
     "name": "stdout",
     "output_type": "stream",
     "text": [
      "(256, 512)\n",
      "(256, 512)\n"
     ]
    },
    {
     "name": "stderr",
     "output_type": "stream",
     "text": [
      "\r",
      " 55%|███████████████████████████████████████████▏                                  | 1162/2101 [01:34<01:16, 12.27it/s]"
     ]
    },
    {
     "name": "stdout",
     "output_type": "stream",
     "text": [
      "(256, 512)\n",
      "(256, 512)\n"
     ]
    },
    {
     "name": "stderr",
     "output_type": "stream",
     "text": [
      "\r",
      " 55%|███████████████████████████████████████████▏                                  | 1164/2101 [01:34<01:16, 12.30it/s]"
     ]
    },
    {
     "name": "stdout",
     "output_type": "stream",
     "text": [
      "(256, 512)\n",
      "(256, 512)\n"
     ]
    },
    {
     "name": "stderr",
     "output_type": "stream",
     "text": [
      "\r",
      " 55%|███████████████████████████████████████████▎                                  | 1166/2101 [01:34<01:16, 12.27it/s]"
     ]
    },
    {
     "name": "stdout",
     "output_type": "stream",
     "text": [
      "(256, 512)\n",
      "(256, 512)\n"
     ]
    },
    {
     "name": "stderr",
     "output_type": "stream",
     "text": [
      "\r",
      " 56%|███████████████████████████████████████████▎                                  | 1168/2101 [01:35<01:16, 12.22it/s]"
     ]
    },
    {
     "name": "stdout",
     "output_type": "stream",
     "text": [
      "(256, 512)\n",
      "(256, 512)\n"
     ]
    },
    {
     "name": "stderr",
     "output_type": "stream",
     "text": [
      "\r",
      " 56%|███████████████████████████████████████████▍                                  | 1170/2101 [01:35<01:16, 12.17it/s]"
     ]
    },
    {
     "name": "stdout",
     "output_type": "stream",
     "text": [
      "(256, 512)\n",
      "(256, 512)\n"
     ]
    },
    {
     "name": "stderr",
     "output_type": "stream",
     "text": [
      "\r",
      " 56%|███████████████████████████████████████████▌                                  | 1172/2101 [01:35<01:15, 12.24it/s]"
     ]
    },
    {
     "name": "stdout",
     "output_type": "stream",
     "text": [
      "(256, 512)\n",
      "(256, 512)\n"
     ]
    },
    {
     "name": "stderr",
     "output_type": "stream",
     "text": [
      "\r",
      " 56%|███████████████████████████████████████████▌                                  | 1174/2101 [01:35<01:14, 12.42it/s]"
     ]
    },
    {
     "name": "stdout",
     "output_type": "stream",
     "text": [
      "(256, 512)\n",
      "(256, 512)\n"
     ]
    },
    {
     "name": "stderr",
     "output_type": "stream",
     "text": [
      "\r",
      " 56%|███████████████████████████████████████████▋                                  | 1176/2101 [01:35<01:15, 12.30it/s]"
     ]
    },
    {
     "name": "stdout",
     "output_type": "stream",
     "text": [
      "(256, 512)\n",
      "(256, 512)\n"
     ]
    },
    {
     "name": "stderr",
     "output_type": "stream",
     "text": [
      "\r",
      " 56%|███████████████████████████████████████████▋                                  | 1178/2101 [01:35<01:15, 12.17it/s]"
     ]
    },
    {
     "name": "stdout",
     "output_type": "stream",
     "text": [
      "(256, 512)\n",
      "(256, 512)\n"
     ]
    },
    {
     "name": "stderr",
     "output_type": "stream",
     "text": [
      "\r",
      " 56%|███████████████████████████████████████████▊                                  | 1180/2101 [01:36<01:15, 12.20it/s]"
     ]
    },
    {
     "name": "stdout",
     "output_type": "stream",
     "text": [
      "(256, 512)\n",
      "(256, 512)\n"
     ]
    },
    {
     "name": "stderr",
     "output_type": "stream",
     "text": [
      "\r",
      " 56%|███████████████████████████████████████████▉                                  | 1182/2101 [01:36<01:15, 12.11it/s]"
     ]
    },
    {
     "name": "stdout",
     "output_type": "stream",
     "text": [
      "(256, 512)\n",
      "(256, 512)\n"
     ]
    },
    {
     "name": "stderr",
     "output_type": "stream",
     "text": [
      "\r",
      " 56%|███████████████████████████████████████████▉                                  | 1184/2101 [01:36<01:15, 12.13it/s]"
     ]
    },
    {
     "name": "stdout",
     "output_type": "stream",
     "text": [
      "(256, 512)\n",
      "(256, 512)\n"
     ]
    },
    {
     "name": "stderr",
     "output_type": "stream",
     "text": [
      "\r",
      " 56%|████████████████████████████████████████████                                  | 1186/2101 [01:36<01:14, 12.22it/s]"
     ]
    },
    {
     "name": "stdout",
     "output_type": "stream",
     "text": [
      "(256, 512)\n",
      "(256, 512)\n"
     ]
    },
    {
     "name": "stderr",
     "output_type": "stream",
     "text": [
      "\r",
      " 57%|████████████████████████████████████████████                                  | 1188/2101 [01:36<01:14, 12.20it/s]"
     ]
    },
    {
     "name": "stdout",
     "output_type": "stream",
     "text": [
      "(256, 512)\n",
      "(256, 512)\n"
     ]
    },
    {
     "name": "stderr",
     "output_type": "stream",
     "text": [
      "\r",
      " 57%|████████████████████████████████████████████▏                                 | 1190/2101 [01:36<01:15, 12.13it/s]"
     ]
    },
    {
     "name": "stdout",
     "output_type": "stream",
     "text": [
      "(256, 512)\n",
      "(256, 512)\n"
     ]
    },
    {
     "name": "stderr",
     "output_type": "stream",
     "text": [
      "\r",
      " 57%|████████████████████████████████████████████▎                                 | 1192/2101 [01:37<01:15, 12.12it/s]"
     ]
    },
    {
     "name": "stdout",
     "output_type": "stream",
     "text": [
      "(256, 512)\n",
      "(256, 512)\n"
     ]
    },
    {
     "name": "stderr",
     "output_type": "stream",
     "text": [
      "\r",
      " 57%|████████████████████████████████████████████▎                                 | 1194/2101 [01:37<01:14, 12.21it/s]"
     ]
    },
    {
     "name": "stdout",
     "output_type": "stream",
     "text": [
      "(256, 512)\n",
      "(256, 512)\n"
     ]
    },
    {
     "name": "stderr",
     "output_type": "stream",
     "text": [
      "\r",
      " 57%|████████████████████████████████████████████▍                                 | 1196/2101 [01:37<01:13, 12.36it/s]"
     ]
    },
    {
     "name": "stdout",
     "output_type": "stream",
     "text": [
      "(256, 512)\n",
      "(256, 512)\n"
     ]
    },
    {
     "name": "stderr",
     "output_type": "stream",
     "text": [
      "\r",
      " 57%|████████████████████████████████████████████▍                                 | 1198/2101 [01:37<01:12, 12.38it/s]"
     ]
    },
    {
     "name": "stdout",
     "output_type": "stream",
     "text": [
      "(256, 512)\n",
      "(256, 512)\n"
     ]
    },
    {
     "name": "stderr",
     "output_type": "stream",
     "text": [
      "\r",
      " 57%|████████████████████████████████████████████▌                                 | 1200/2101 [01:37<01:12, 12.40it/s]"
     ]
    },
    {
     "name": "stdout",
     "output_type": "stream",
     "text": [
      "(256, 512)\n",
      "(256, 512)\n"
     ]
    },
    {
     "name": "stderr",
     "output_type": "stream",
     "text": [
      "\r",
      " 57%|████████████████████████████████████████████▌                                 | 1202/2101 [01:37<01:12, 12.40it/s]"
     ]
    },
    {
     "name": "stdout",
     "output_type": "stream",
     "text": [
      "(256, 512)\n",
      "(256, 512)\n"
     ]
    },
    {
     "name": "stderr",
     "output_type": "stream",
     "text": [
      "\r",
      " 57%|████████████████████████████████████████████▋                                 | 1204/2101 [01:38<01:12, 12.36it/s]"
     ]
    },
    {
     "name": "stdout",
     "output_type": "stream",
     "text": [
      "(256, 512)\n",
      "(256, 512)\n"
     ]
    },
    {
     "name": "stderr",
     "output_type": "stream",
     "text": [
      "\r",
      " 57%|████████████████████████████████████████████▊                                 | 1206/2101 [01:38<01:12, 12.34it/s]"
     ]
    },
    {
     "name": "stdout",
     "output_type": "stream",
     "text": [
      "(256, 512)\n",
      "(256, 512)\n"
     ]
    },
    {
     "name": "stderr",
     "output_type": "stream",
     "text": [
      "\r",
      " 57%|████████████████████████████████████████████▊                                 | 1208/2101 [01:38<01:12, 12.34it/s]"
     ]
    },
    {
     "name": "stdout",
     "output_type": "stream",
     "text": [
      "(256, 512)\n",
      "(256, 512)\n"
     ]
    },
    {
     "name": "stderr",
     "output_type": "stream",
     "text": [
      "\r",
      " 58%|████████████████████████████████████████████▉                                 | 1210/2101 [01:38<01:11, 12.40it/s]"
     ]
    },
    {
     "name": "stdout",
     "output_type": "stream",
     "text": [
      "(256, 512)\n",
      "(256, 512)\n"
     ]
    },
    {
     "name": "stderr",
     "output_type": "stream",
     "text": [
      "\r",
      " 58%|████████████████████████████████████████████▉                                 | 1212/2101 [01:38<01:12, 12.27it/s]"
     ]
    },
    {
     "name": "stdout",
     "output_type": "stream",
     "text": [
      "(256, 512)\n",
      "(256, 512)\n"
     ]
    },
    {
     "name": "stderr",
     "output_type": "stream",
     "text": [
      "\r",
      " 58%|█████████████████████████████████████████████                                 | 1214/2101 [01:38<01:12, 12.31it/s]"
     ]
    },
    {
     "name": "stdout",
     "output_type": "stream",
     "text": [
      "(256, 512)\n",
      "(256, 512)\n"
     ]
    },
    {
     "name": "stderr",
     "output_type": "stream",
     "text": [
      "\r",
      " 58%|█████████████████████████████████████████████▏                                | 1216/2101 [01:38<01:12, 12.21it/s]"
     ]
    },
    {
     "name": "stdout",
     "output_type": "stream",
     "text": [
      "(256, 512)\n",
      "(256, 512)\n"
     ]
    },
    {
     "name": "stderr",
     "output_type": "stream",
     "text": [
      "\r",
      " 58%|█████████████████████████████████████████████▏                                | 1218/2101 [01:39<01:13, 12.02it/s]"
     ]
    },
    {
     "name": "stdout",
     "output_type": "stream",
     "text": [
      "(256, 512)\n",
      "(256, 512)\n"
     ]
    },
    {
     "name": "stderr",
     "output_type": "stream",
     "text": [
      "\r",
      " 58%|█████████████████████████████████████████████▎                                | 1220/2101 [01:39<01:12, 12.10it/s]"
     ]
    },
    {
     "name": "stdout",
     "output_type": "stream",
     "text": [
      "(256, 512)\n",
      "(256, 512)\n"
     ]
    },
    {
     "name": "stderr",
     "output_type": "stream",
     "text": [
      "\r",
      " 58%|█████████████████████████████████████████████▎                                | 1222/2101 [01:39<01:12, 12.10it/s]"
     ]
    },
    {
     "name": "stdout",
     "output_type": "stream",
     "text": [
      "(256, 512)\n",
      "(256, 512)\n"
     ]
    },
    {
     "name": "stderr",
     "output_type": "stream",
     "text": [
      "\r",
      " 58%|█████████████████████████████████████████████▍                                | 1224/2101 [01:39<01:12, 12.09it/s]"
     ]
    },
    {
     "name": "stdout",
     "output_type": "stream",
     "text": [
      "(256, 512)\n",
      "(256, 512)\n"
     ]
    },
    {
     "name": "stderr",
     "output_type": "stream",
     "text": [
      "\r",
      " 58%|█████████████████████████████████████████████▌                                | 1226/2101 [01:39<01:12, 12.10it/s]"
     ]
    },
    {
     "name": "stdout",
     "output_type": "stream",
     "text": [
      "(256, 512)\n",
      "(256, 512)\n"
     ]
    },
    {
     "name": "stderr",
     "output_type": "stream",
     "text": [
      "\r",
      " 58%|█████████████████████████████████████████████▌                                | 1228/2101 [01:39<01:11, 12.13it/s]"
     ]
    },
    {
     "name": "stdout",
     "output_type": "stream",
     "text": [
      "(256, 512)\n",
      "(256, 512)\n"
     ]
    },
    {
     "name": "stderr",
     "output_type": "stream",
     "text": [
      "\r",
      " 59%|█████████████████████████████████████████████▋                                | 1230/2101 [01:40<01:11, 12.20it/s]"
     ]
    },
    {
     "name": "stdout",
     "output_type": "stream",
     "text": [
      "(256, 512)\n",
      "(256, 512)\n"
     ]
    },
    {
     "name": "stderr",
     "output_type": "stream",
     "text": [
      "\r",
      " 59%|█████████████████████████████████████████████▋                                | 1232/2101 [01:40<01:10, 12.26it/s]"
     ]
    },
    {
     "name": "stdout",
     "output_type": "stream",
     "text": [
      "(256, 512)\n",
      "(256, 512)\n"
     ]
    },
    {
     "name": "stderr",
     "output_type": "stream",
     "text": [
      "\r",
      " 59%|█████████████████████████████████████████████▊                                | 1234/2101 [01:40<01:10, 12.25it/s]"
     ]
    },
    {
     "name": "stdout",
     "output_type": "stream",
     "text": [
      "(256, 512)\n",
      "(256, 512)\n"
     ]
    },
    {
     "name": "stderr",
     "output_type": "stream",
     "text": [
      "\r",
      " 59%|█████████████████████████████████████████████▉                                | 1236/2101 [01:40<01:09, 12.40it/s]"
     ]
    },
    {
     "name": "stdout",
     "output_type": "stream",
     "text": [
      "(256, 512)\n",
      "(256, 512)\n"
     ]
    },
    {
     "name": "stderr",
     "output_type": "stream",
     "text": [
      "\r",
      " 59%|█████████████████████████████████████████████▉                                | 1238/2101 [01:40<01:10, 12.28it/s]"
     ]
    },
    {
     "name": "stdout",
     "output_type": "stream",
     "text": [
      "(256, 512)\n",
      "(256, 512)\n"
     ]
    },
    {
     "name": "stderr",
     "output_type": "stream",
     "text": [
      "\r",
      " 59%|██████████████████████████████████████████████                                | 1240/2101 [01:40<01:09, 12.33it/s]"
     ]
    },
    {
     "name": "stdout",
     "output_type": "stream",
     "text": [
      "(256, 512)\n",
      "(256, 512)\n"
     ]
    },
    {
     "name": "stderr",
     "output_type": "stream",
     "text": [
      "\r",
      " 59%|██████████████████████████████████████████████                                | 1242/2101 [01:41<01:09, 12.34it/s]"
     ]
    },
    {
     "name": "stdout",
     "output_type": "stream",
     "text": [
      "(256, 512)\n",
      "(256, 512)\n"
     ]
    },
    {
     "name": "stderr",
     "output_type": "stream",
     "text": [
      "\r",
      " 59%|██████████████████████████████████████████████▏                               | 1244/2101 [01:41<01:10, 12.21it/s]"
     ]
    },
    {
     "name": "stdout",
     "output_type": "stream",
     "text": [
      "(256, 512)\n",
      "(256, 512)\n"
     ]
    },
    {
     "name": "stderr",
     "output_type": "stream",
     "text": [
      "\r",
      " 59%|██████████████████████████████████████████████▎                               | 1246/2101 [01:41<01:10, 12.17it/s]"
     ]
    },
    {
     "name": "stdout",
     "output_type": "stream",
     "text": [
      "(256, 512)\n",
      "(256, 512)\n"
     ]
    },
    {
     "name": "stderr",
     "output_type": "stream",
     "text": [
      "\r",
      " 59%|██████████████████████████████████████████████▎                               | 1248/2101 [01:41<01:09, 12.22it/s]"
     ]
    },
    {
     "name": "stdout",
     "output_type": "stream",
     "text": [
      "(256, 512)\n",
      "(256, 512)\n"
     ]
    },
    {
     "name": "stderr",
     "output_type": "stream",
     "text": [
      "\r",
      " 59%|██████████████████████████████████████████████▍                               | 1250/2101 [01:41<01:09, 12.26it/s]"
     ]
    },
    {
     "name": "stdout",
     "output_type": "stream",
     "text": [
      "(256, 512)\n",
      "(256, 512)\n"
     ]
    },
    {
     "name": "stderr",
     "output_type": "stream",
     "text": [
      "\r",
      " 60%|██████████████████████████████████████████████▍                               | 1252/2101 [01:41<01:09, 12.24it/s]"
     ]
    },
    {
     "name": "stdout",
     "output_type": "stream",
     "text": [
      "(256, 512)\n",
      "(256, 512)\n"
     ]
    },
    {
     "name": "stderr",
     "output_type": "stream",
     "text": [
      "\r",
      " 60%|██████████████████████████████████████████████▌                               | 1254/2101 [01:42<01:09, 12.27it/s]"
     ]
    },
    {
     "name": "stdout",
     "output_type": "stream",
     "text": [
      "(256, 512)\n",
      "(256, 512)\n"
     ]
    },
    {
     "name": "stderr",
     "output_type": "stream",
     "text": [
      "\r",
      " 60%|██████████████████████████████████████████████▋                               | 1256/2101 [01:42<01:09, 12.23it/s]"
     ]
    },
    {
     "name": "stdout",
     "output_type": "stream",
     "text": [
      "(256, 512)\n",
      "(256, 512)\n"
     ]
    },
    {
     "name": "stderr",
     "output_type": "stream",
     "text": [
      "\r",
      " 60%|██████████████████████████████████████████████▋                               | 1258/2101 [01:42<01:09, 12.22it/s]"
     ]
    },
    {
     "name": "stdout",
     "output_type": "stream",
     "text": [
      "(256, 512)\n",
      "(256, 512)\n"
     ]
    },
    {
     "name": "stderr",
     "output_type": "stream",
     "text": [
      "\r",
      " 60%|██████████████████████████████████████████████▊                               | 1260/2101 [01:42<01:08, 12.20it/s]"
     ]
    },
    {
     "name": "stdout",
     "output_type": "stream",
     "text": [
      "(256, 512)\n",
      "(256, 512)\n"
     ]
    },
    {
     "name": "stderr",
     "output_type": "stream",
     "text": [
      "\r",
      " 60%|██████████████████████████████████████████████▊                               | 1262/2101 [01:42<01:08, 12.25it/s]"
     ]
    },
    {
     "name": "stdout",
     "output_type": "stream",
     "text": [
      "(256, 512)\n",
      "(256, 512)\n"
     ]
    },
    {
     "name": "stderr",
     "output_type": "stream",
     "text": [
      "\r",
      " 60%|██████████████████████████████████████████████▉                               | 1264/2101 [01:42<01:08, 12.28it/s]"
     ]
    },
    {
     "name": "stdout",
     "output_type": "stream",
     "text": [
      "(256, 512)\n",
      "(256, 512)\n"
     ]
    },
    {
     "name": "stderr",
     "output_type": "stream",
     "text": [
      "\r",
      " 60%|███████████████████████████████████████████████                               | 1266/2101 [01:43<01:07, 12.28it/s]"
     ]
    },
    {
     "name": "stdout",
     "output_type": "stream",
     "text": [
      "(256, 512)\n",
      "(256, 512)\n"
     ]
    },
    {
     "name": "stderr",
     "output_type": "stream",
     "text": [
      "\r",
      " 60%|███████████████████████████████████████████████                               | 1268/2101 [01:43<01:08, 12.24it/s]"
     ]
    },
    {
     "name": "stdout",
     "output_type": "stream",
     "text": [
      "(256, 512)\n",
      "(256, 512)\n"
     ]
    },
    {
     "name": "stderr",
     "output_type": "stream",
     "text": [
      "\r",
      " 60%|███████████████████████████████████████████████▏                              | 1270/2101 [01:43<01:07, 12.31it/s]"
     ]
    },
    {
     "name": "stdout",
     "output_type": "stream",
     "text": [
      "(256, 512)\n",
      "(256, 512)\n"
     ]
    },
    {
     "name": "stderr",
     "output_type": "stream",
     "text": [
      "\r",
      " 61%|███████████████████████████████████████████████▏                              | 1272/2101 [01:43<01:07, 12.37it/s]"
     ]
    },
    {
     "name": "stdout",
     "output_type": "stream",
     "text": [
      "(256, 512)\n",
      "(256, 512)\n"
     ]
    },
    {
     "name": "stderr",
     "output_type": "stream",
     "text": [
      "\r",
      " 61%|███████████████████████████████████████████████▎                              | 1274/2101 [01:43<01:07, 12.31it/s]"
     ]
    },
    {
     "name": "stdout",
     "output_type": "stream",
     "text": [
      "(256, 512)\n",
      "(256, 512)\n"
     ]
    },
    {
     "name": "stderr",
     "output_type": "stream",
     "text": [
      "\r",
      " 61%|███████████████████████████████████████████████▎                              | 1276/2101 [01:43<01:06, 12.35it/s]"
     ]
    },
    {
     "name": "stdout",
     "output_type": "stream",
     "text": [
      "(256, 512)\n",
      "(256, 512)\n"
     ]
    },
    {
     "name": "stderr",
     "output_type": "stream",
     "text": [
      "\r",
      " 61%|███████████████████████████████████████████████▍                              | 1278/2101 [01:44<01:06, 12.39it/s]"
     ]
    },
    {
     "name": "stdout",
     "output_type": "stream",
     "text": [
      "(256, 512)\n",
      "(256, 512)\n"
     ]
    },
    {
     "name": "stderr",
     "output_type": "stream",
     "text": [
      "\r",
      " 61%|███████████████████████████████████████████████▌                              | 1280/2101 [01:44<01:05, 12.55it/s]"
     ]
    },
    {
     "name": "stdout",
     "output_type": "stream",
     "text": [
      "(256, 512)\n",
      "(256, 512)\n"
     ]
    },
    {
     "name": "stderr",
     "output_type": "stream",
     "text": [
      "\r",
      " 61%|███████████████████████████████████████████████▌                              | 1282/2101 [01:44<01:05, 12.59it/s]"
     ]
    },
    {
     "name": "stdout",
     "output_type": "stream",
     "text": [
      "(256, 512)\n",
      "(256, 512)\n"
     ]
    },
    {
     "name": "stderr",
     "output_type": "stream",
     "text": [
      "\r",
      " 61%|███████████████████████████████████████████████▋                              | 1284/2101 [01:44<01:05, 12.46it/s]"
     ]
    },
    {
     "name": "stdout",
     "output_type": "stream",
     "text": [
      "(256, 512)\n",
      "(256, 512)\n"
     ]
    },
    {
     "name": "stderr",
     "output_type": "stream",
     "text": [
      "\r",
      " 61%|███████████████████████████████████████████████▋                              | 1286/2101 [01:44<01:06, 12.30it/s]"
     ]
    },
    {
     "name": "stdout",
     "output_type": "stream",
     "text": [
      "(256, 512)\n",
      "(256, 512)\n"
     ]
    },
    {
     "name": "stderr",
     "output_type": "stream",
     "text": [
      "\r",
      " 61%|███████████████████████████████████████████████▊                              | 1288/2101 [01:44<01:06, 12.28it/s]"
     ]
    },
    {
     "name": "stdout",
     "output_type": "stream",
     "text": [
      "(256, 512)\n",
      "(256, 512)\n"
     ]
    },
    {
     "name": "stderr",
     "output_type": "stream",
     "text": [
      "\r",
      " 61%|███████████████████████████████████████████████▉                              | 1290/2101 [01:45<01:05, 12.30it/s]"
     ]
    },
    {
     "name": "stdout",
     "output_type": "stream",
     "text": [
      "(256, 512)\n",
      "(256, 512)\n"
     ]
    },
    {
     "name": "stderr",
     "output_type": "stream",
     "text": [
      "\r",
      " 61%|███████████████████████████████████████████████▉                              | 1292/2101 [01:45<01:05, 12.34it/s]"
     ]
    },
    {
     "name": "stdout",
     "output_type": "stream",
     "text": [
      "(256, 512)\n",
      "(256, 512)\n"
     ]
    },
    {
     "name": "stderr",
     "output_type": "stream",
     "text": [
      "\r",
      " 62%|████████████████████████████████████████████████                              | 1294/2101 [01:45<01:05, 12.26it/s]"
     ]
    },
    {
     "name": "stdout",
     "output_type": "stream",
     "text": [
      "(256, 512)\n",
      "(256, 512)\n"
     ]
    },
    {
     "name": "stderr",
     "output_type": "stream",
     "text": [
      "\r",
      " 62%|████████████████████████████████████████████████                              | 1296/2101 [01:45<01:05, 12.26it/s]"
     ]
    },
    {
     "name": "stdout",
     "output_type": "stream",
     "text": [
      "(256, 512)\n",
      "(256, 512)\n"
     ]
    },
    {
     "name": "stderr",
     "output_type": "stream",
     "text": [
      "\r",
      " 62%|████████████████████████████████████████████████▏                             | 1298/2101 [01:45<01:05, 12.28it/s]"
     ]
    },
    {
     "name": "stdout",
     "output_type": "stream",
     "text": [
      "(256, 512)\n",
      "(256, 512)\n"
     ]
    },
    {
     "name": "stderr",
     "output_type": "stream",
     "text": [
      "\r",
      " 62%|████████████████████████████████████████████████▎                             | 1300/2101 [01:45<01:05, 12.26it/s]"
     ]
    },
    {
     "name": "stdout",
     "output_type": "stream",
     "text": [
      "(256, 512)\n",
      "(256, 512)\n"
     ]
    },
    {
     "name": "stderr",
     "output_type": "stream",
     "text": [
      "\r",
      " 62%|████████████████████████████████████████████████▎                             | 1302/2101 [01:45<01:05, 12.25it/s]"
     ]
    },
    {
     "name": "stdout",
     "output_type": "stream",
     "text": [
      "(256, 512)\n",
      "(256, 512)\n"
     ]
    },
    {
     "name": "stderr",
     "output_type": "stream",
     "text": [
      "\r",
      " 62%|████████████████████████████████████████████████▍                             | 1304/2101 [01:46<01:05, 12.19it/s]"
     ]
    },
    {
     "name": "stdout",
     "output_type": "stream",
     "text": [
      "(256, 512)\n",
      "(256, 512)\n"
     ]
    },
    {
     "name": "stderr",
     "output_type": "stream",
     "text": [
      "\r",
      " 62%|████████████████████████████████████████████████▍                             | 1306/2101 [01:46<01:05, 12.17it/s]"
     ]
    },
    {
     "name": "stdout",
     "output_type": "stream",
     "text": [
      "(256, 512)\n",
      "(256, 512)\n"
     ]
    },
    {
     "name": "stderr",
     "output_type": "stream",
     "text": [
      "\r",
      " 62%|████████████████████████████████████████████████▌                             | 1308/2101 [01:46<01:04, 12.21it/s]"
     ]
    },
    {
     "name": "stdout",
     "output_type": "stream",
     "text": [
      "(256, 512)\n",
      "(256, 512)\n"
     ]
    },
    {
     "name": "stderr",
     "output_type": "stream",
     "text": [
      "\r",
      " 62%|████████████████████████████████████████████████▋                             | 1310/2101 [01:46<01:04, 12.27it/s]"
     ]
    },
    {
     "name": "stdout",
     "output_type": "stream",
     "text": [
      "(256, 512)\n",
      "(256, 512)\n"
     ]
    },
    {
     "name": "stderr",
     "output_type": "stream",
     "text": [
      "\r",
      " 62%|████████████████████████████████████████████████▋                             | 1312/2101 [01:46<01:03, 12.33it/s]"
     ]
    },
    {
     "name": "stdout",
     "output_type": "stream",
     "text": [
      "(256, 512)\n",
      "(256, 512)\n"
     ]
    },
    {
     "name": "stderr",
     "output_type": "stream",
     "text": [
      "\r",
      " 63%|████████████████████████████████████████████████▊                             | 1314/2101 [01:46<01:03, 12.38it/s]"
     ]
    },
    {
     "name": "stdout",
     "output_type": "stream",
     "text": [
      "(256, 512)\n",
      "(256, 512)\n"
     ]
    },
    {
     "name": "stderr",
     "output_type": "stream",
     "text": [
      "\r",
      " 63%|████████████████████████████████████████████████▊                             | 1316/2101 [01:47<01:03, 12.36it/s]"
     ]
    },
    {
     "name": "stdout",
     "output_type": "stream",
     "text": [
      "(256, 512)\n",
      "(256, 512)\n"
     ]
    },
    {
     "name": "stderr",
     "output_type": "stream",
     "text": [
      "\r",
      " 63%|████████████████████████████████████████████████▉                             | 1318/2101 [01:47<01:03, 12.35it/s]"
     ]
    },
    {
     "name": "stdout",
     "output_type": "stream",
     "text": [
      "(256, 512)\n",
      "(256, 512)\n"
     ]
    },
    {
     "name": "stderr",
     "output_type": "stream",
     "text": [
      "\r",
      " 63%|█████████████████████████████████████████████████                             | 1320/2101 [01:47<01:03, 12.27it/s]"
     ]
    },
    {
     "name": "stdout",
     "output_type": "stream",
     "text": [
      "(256, 512)\n",
      "(256, 512)\n"
     ]
    },
    {
     "name": "stderr",
     "output_type": "stream",
     "text": [
      "\r",
      " 63%|█████████████████████████████████████████████████                             | 1322/2101 [01:47<01:03, 12.29it/s]"
     ]
    },
    {
     "name": "stdout",
     "output_type": "stream",
     "text": [
      "(256, 512)\n",
      "(256, 512)\n"
     ]
    },
    {
     "name": "stderr",
     "output_type": "stream",
     "text": [
      "\r",
      " 63%|█████████████████████████████████████████████████▏                            | 1324/2101 [01:47<01:03, 12.26it/s]"
     ]
    },
    {
     "name": "stdout",
     "output_type": "stream",
     "text": [
      "(256, 512)\n",
      "(256, 512)\n"
     ]
    },
    {
     "name": "stderr",
     "output_type": "stream",
     "text": [
      "\r",
      " 63%|█████████████████████████████████████████████████▏                            | 1326/2101 [01:47<01:03, 12.19it/s]"
     ]
    },
    {
     "name": "stdout",
     "output_type": "stream",
     "text": [
      "(256, 512)\n",
      "(256, 512)\n"
     ]
    },
    {
     "name": "stderr",
     "output_type": "stream",
     "text": [
      "\r",
      " 63%|█████████████████████████████████████████████████▎                            | 1328/2101 [01:48<01:03, 12.20it/s]"
     ]
    },
    {
     "name": "stdout",
     "output_type": "stream",
     "text": [
      "(256, 512)\n",
      "(256, 512)\n"
     ]
    },
    {
     "name": "stderr",
     "output_type": "stream",
     "text": [
      "\r",
      " 63%|█████████████████████████████████████████████████▍                            | 1330/2101 [01:48<01:03, 12.16it/s]"
     ]
    },
    {
     "name": "stdout",
     "output_type": "stream",
     "text": [
      "(256, 512)\n",
      "(256, 512)\n"
     ]
    },
    {
     "name": "stderr",
     "output_type": "stream",
     "text": [
      "\r",
      " 63%|█████████████████████████████████████████████████▍                            | 1332/2101 [01:48<01:03, 12.13it/s]"
     ]
    },
    {
     "name": "stdout",
     "output_type": "stream",
     "text": [
      "(256, 512)\n",
      "(256, 512)\n"
     ]
    },
    {
     "name": "stderr",
     "output_type": "stream",
     "text": [
      "\r",
      " 63%|█████████████████████████████████████████████████▌                            | 1334/2101 [01:48<01:03, 12.01it/s]"
     ]
    },
    {
     "name": "stdout",
     "output_type": "stream",
     "text": [
      "(256, 512)\n",
      "(256, 512)\n"
     ]
    },
    {
     "name": "stderr",
     "output_type": "stream",
     "text": [
      "\r",
      " 64%|█████████████████████████████████████████████████▌                            | 1336/2101 [01:48<01:03, 12.01it/s]"
     ]
    },
    {
     "name": "stdout",
     "output_type": "stream",
     "text": [
      "(256, 512)\n",
      "(256, 512)\n"
     ]
    },
    {
     "name": "stderr",
     "output_type": "stream",
     "text": [
      "\r",
      " 64%|█████████████████████████████████████████████████▋                            | 1338/2101 [01:48<01:03, 11.97it/s]"
     ]
    },
    {
     "name": "stdout",
     "output_type": "stream",
     "text": [
      "(256, 512)\n",
      "(256, 512)\n"
     ]
    },
    {
     "name": "stderr",
     "output_type": "stream",
     "text": [
      "\r",
      " 64%|█████████████████████████████████████████████████▋                            | 1340/2101 [01:49<01:05, 11.71it/s]"
     ]
    },
    {
     "name": "stdout",
     "output_type": "stream",
     "text": [
      "(256, 512)\n",
      "(256, 512)\n"
     ]
    },
    {
     "name": "stderr",
     "output_type": "stream",
     "text": [
      "\r",
      " 64%|█████████████████████████████████████████████████▊                            | 1342/2101 [01:49<01:03, 11.87it/s]"
     ]
    },
    {
     "name": "stdout",
     "output_type": "stream",
     "text": [
      "(256, 512)\n",
      "(256, 512)\n"
     ]
    },
    {
     "name": "stderr",
     "output_type": "stream",
     "text": [
      "\r",
      " 64%|█████████████████████████████████████████████████▉                            | 1344/2101 [01:49<01:02, 12.11it/s]"
     ]
    },
    {
     "name": "stdout",
     "output_type": "stream",
     "text": [
      "(256, 512)\n",
      "(256, 512)\n"
     ]
    },
    {
     "name": "stderr",
     "output_type": "stream",
     "text": [
      "\r",
      " 64%|█████████████████████████████████████████████████▉                            | 1346/2101 [01:49<01:01, 12.22it/s]"
     ]
    },
    {
     "name": "stdout",
     "output_type": "stream",
     "text": [
      "(256, 512)\n",
      "(256, 512)\n"
     ]
    },
    {
     "name": "stderr",
     "output_type": "stream",
     "text": [
      "\r",
      " 64%|██████████████████████████████████████████████████                            | 1348/2101 [01:49<01:01, 12.23it/s]"
     ]
    },
    {
     "name": "stdout",
     "output_type": "stream",
     "text": [
      "(256, 512)\n",
      "(256, 512)\n"
     ]
    },
    {
     "name": "stderr",
     "output_type": "stream",
     "text": [
      "\r",
      " 64%|██████████████████████████████████████████████████                            | 1350/2101 [01:49<01:01, 12.30it/s]"
     ]
    },
    {
     "name": "stdout",
     "output_type": "stream",
     "text": [
      "(256, 512)\n",
      "(256, 512)\n"
     ]
    },
    {
     "name": "stderr",
     "output_type": "stream",
     "text": [
      "\r",
      " 64%|██████████████████████████████████████████████████▏                           | 1352/2101 [01:50<01:01, 12.23it/s]"
     ]
    },
    {
     "name": "stdout",
     "output_type": "stream",
     "text": [
      "(256, 512)\n",
      "(256, 512)\n"
     ]
    },
    {
     "name": "stderr",
     "output_type": "stream",
     "text": [
      "\r",
      " 64%|██████████████████████████████████████████████████▎                           | 1354/2101 [01:50<01:01, 12.17it/s]"
     ]
    },
    {
     "name": "stdout",
     "output_type": "stream",
     "text": [
      "(256, 512)\n",
      "(256, 512)\n"
     ]
    },
    {
     "name": "stderr",
     "output_type": "stream",
     "text": [
      "\r",
      " 65%|██████████████████████████████████████████████████▎                           | 1356/2101 [01:50<01:02, 11.84it/s]"
     ]
    },
    {
     "name": "stdout",
     "output_type": "stream",
     "text": [
      "(256, 512)\n",
      "(256, 512)\n"
     ]
    },
    {
     "name": "stderr",
     "output_type": "stream",
     "text": [
      "\r",
      " 65%|██████████████████████████████████████████████████▍                           | 1358/2101 [01:50<01:04, 11.48it/s]"
     ]
    },
    {
     "name": "stdout",
     "output_type": "stream",
     "text": [
      "(256, 512)\n",
      "(256, 512)\n"
     ]
    },
    {
     "name": "stderr",
     "output_type": "stream",
     "text": [
      "\r",
      " 65%|██████████████████████████████████████████████████▍                           | 1360/2101 [01:50<01:06, 11.21it/s]"
     ]
    },
    {
     "name": "stdout",
     "output_type": "stream",
     "text": [
      "(256, 512)\n",
      "(256, 512)\n"
     ]
    },
    {
     "name": "stderr",
     "output_type": "stream",
     "text": [
      "\r",
      " 65%|██████████████████████████████████████████████████▌                           | 1362/2101 [01:51<01:05, 11.24it/s]"
     ]
    },
    {
     "name": "stdout",
     "output_type": "stream",
     "text": [
      "(256, 512)\n",
      "(256, 512)\n"
     ]
    },
    {
     "name": "stderr",
     "output_type": "stream",
     "text": [
      "\r",
      " 65%|██████████████████████████████████████████████████▋                           | 1364/2101 [01:51<01:05, 11.32it/s]"
     ]
    },
    {
     "name": "stdout",
     "output_type": "stream",
     "text": [
      "(256, 512)\n",
      "(256, 512)\n"
     ]
    },
    {
     "name": "stderr",
     "output_type": "stream",
     "text": [
      "\r",
      " 65%|██████████████████████████████████████████████████▋                           | 1366/2101 [01:51<01:05, 11.23it/s]"
     ]
    },
    {
     "name": "stdout",
     "output_type": "stream",
     "text": [
      "(256, 512)\n",
      "(256, 512)\n"
     ]
    },
    {
     "name": "stderr",
     "output_type": "stream",
     "text": [
      "\r",
      " 65%|██████████████████████████████████████████████████▊                           | 1368/2101 [01:51<01:06, 11.09it/s]"
     ]
    },
    {
     "name": "stdout",
     "output_type": "stream",
     "text": [
      "(256, 512)\n",
      "(256, 512)\n"
     ]
    },
    {
     "name": "stderr",
     "output_type": "stream",
     "text": [
      "\r",
      " 65%|██████████████████████████████████████████████████▊                           | 1370/2101 [01:51<01:07, 10.84it/s]"
     ]
    },
    {
     "name": "stdout",
     "output_type": "stream",
     "text": [
      "(256, 512)\n",
      "(256, 512)\n"
     ]
    },
    {
     "name": "stderr",
     "output_type": "stream",
     "text": [
      "\r",
      " 65%|██████████████████████████████████████████████████▉                           | 1372/2101 [01:51<01:05, 11.17it/s]"
     ]
    },
    {
     "name": "stdout",
     "output_type": "stream",
     "text": [
      "(256, 512)\n",
      "(256, 512)\n"
     ]
    },
    {
     "name": "stderr",
     "output_type": "stream",
     "text": [
      "\r",
      " 65%|███████████████████████████████████████████████████                           | 1374/2101 [01:52<01:04, 11.31it/s]"
     ]
    },
    {
     "name": "stdout",
     "output_type": "stream",
     "text": [
      "(256, 512)\n",
      "(256, 512)\n"
     ]
    },
    {
     "name": "stderr",
     "output_type": "stream",
     "text": [
      "\r",
      " 65%|███████████████████████████████████████████████████                           | 1376/2101 [01:52<01:02, 11.53it/s]"
     ]
    },
    {
     "name": "stdout",
     "output_type": "stream",
     "text": [
      "(256, 512)\n",
      "(256, 512)\n"
     ]
    },
    {
     "name": "stderr",
     "output_type": "stream",
     "text": [
      "\r",
      " 66%|███████████████████████████████████████████████████▏                          | 1378/2101 [01:52<01:01, 11.72it/s]"
     ]
    },
    {
     "name": "stdout",
     "output_type": "stream",
     "text": [
      "(256, 512)\n",
      "(256, 512)\n"
     ]
    },
    {
     "name": "stderr",
     "output_type": "stream",
     "text": [
      "\r",
      " 66%|███████████████████████████████████████████████████▏                          | 1380/2101 [01:52<01:00, 11.88it/s]"
     ]
    },
    {
     "name": "stdout",
     "output_type": "stream",
     "text": [
      "(256, 512)\n",
      "(256, 512)\n"
     ]
    },
    {
     "name": "stderr",
     "output_type": "stream",
     "text": [
      "\r",
      " 66%|███████████████████████████████████████████████████▎                          | 1382/2101 [01:52<00:59, 12.06it/s]"
     ]
    },
    {
     "name": "stdout",
     "output_type": "stream",
     "text": [
      "(256, 512)\n",
      "(256, 512)\n"
     ]
    },
    {
     "name": "stderr",
     "output_type": "stream",
     "text": [
      "\r",
      " 66%|███████████████████████████████████████████████████▍                          | 1384/2101 [01:52<00:58, 12.16it/s]"
     ]
    },
    {
     "name": "stdout",
     "output_type": "stream",
     "text": [
      "(256, 512)\n",
      "(256, 512)\n"
     ]
    },
    {
     "name": "stderr",
     "output_type": "stream",
     "text": [
      "\r",
      " 66%|███████████████████████████████████████████████████▍                          | 1386/2101 [01:53<00:58, 12.21it/s]"
     ]
    },
    {
     "name": "stdout",
     "output_type": "stream",
     "text": [
      "(256, 512)\n",
      "(256, 512)\n"
     ]
    },
    {
     "name": "stderr",
     "output_type": "stream",
     "text": [
      "\r",
      " 66%|███████████████████████████████████████████████████▌                          | 1388/2101 [01:53<00:58, 12.22it/s]"
     ]
    },
    {
     "name": "stdout",
     "output_type": "stream",
     "text": [
      "(256, 512)\n",
      "(256, 512)\n"
     ]
    },
    {
     "name": "stderr",
     "output_type": "stream",
     "text": [
      "\r",
      " 66%|███████████████████████████████████████████████████▌                          | 1390/2101 [01:53<00:57, 12.31it/s]"
     ]
    },
    {
     "name": "stdout",
     "output_type": "stream",
     "text": [
      "(256, 512)\n",
      "(256, 512)\n"
     ]
    },
    {
     "name": "stderr",
     "output_type": "stream",
     "text": [
      "\r",
      " 66%|███████████████████████████████████████████████████▋                          | 1392/2101 [01:53<00:56, 12.46it/s]"
     ]
    },
    {
     "name": "stdout",
     "output_type": "stream",
     "text": [
      "(256, 512)\n",
      "(256, 512)\n"
     ]
    },
    {
     "name": "stderr",
     "output_type": "stream",
     "text": [
      "\r",
      " 66%|███████████████████████████████████████████████████▊                          | 1394/2101 [01:53<00:56, 12.47it/s]"
     ]
    },
    {
     "name": "stdout",
     "output_type": "stream",
     "text": [
      "(256, 512)\n",
      "(256, 512)\n"
     ]
    },
    {
     "name": "stderr",
     "output_type": "stream",
     "text": [
      "\r",
      " 66%|███████████████████████████████████████████████████▊                          | 1396/2101 [01:53<00:56, 12.39it/s]"
     ]
    },
    {
     "name": "stdout",
     "output_type": "stream",
     "text": [
      "(256, 512)\n",
      "(256, 512)\n"
     ]
    },
    {
     "name": "stderr",
     "output_type": "stream",
     "text": [
      "\r",
      " 67%|███████████████████████████████████████████████████▉                          | 1398/2101 [01:54<00:56, 12.43it/s]"
     ]
    },
    {
     "name": "stdout",
     "output_type": "stream",
     "text": [
      "(256, 512)\n",
      "(256, 512)\n"
     ]
    },
    {
     "name": "stderr",
     "output_type": "stream",
     "text": [
      "\r",
      " 67%|███████████████████████████████████████████████████▉                          | 1400/2101 [01:54<00:57, 12.27it/s]"
     ]
    },
    {
     "name": "stdout",
     "output_type": "stream",
     "text": [
      "(256, 512)\n",
      "(256, 512)\n"
     ]
    },
    {
     "name": "stderr",
     "output_type": "stream",
     "text": [
      "\r",
      " 67%|████████████████████████████████████████████████████                          | 1402/2101 [01:54<00:56, 12.27it/s]"
     ]
    },
    {
     "name": "stdout",
     "output_type": "stream",
     "text": [
      "(256, 512)\n",
      "(256, 512)\n"
     ]
    },
    {
     "name": "stderr",
     "output_type": "stream",
     "text": [
      "\r",
      " 67%|████████████████████████████████████████████████████                          | 1404/2101 [01:54<00:56, 12.37it/s]"
     ]
    },
    {
     "name": "stdout",
     "output_type": "stream",
     "text": [
      "(256, 512)\n",
      "(256, 512)\n"
     ]
    },
    {
     "name": "stderr",
     "output_type": "stream",
     "text": [
      "\r",
      " 67%|████████████████████████████████████████████████████▏                         | 1406/2101 [01:54<00:57, 12.12it/s]"
     ]
    },
    {
     "name": "stdout",
     "output_type": "stream",
     "text": [
      "(256, 512)\n",
      "(256, 512)\n"
     ]
    },
    {
     "name": "stderr",
     "output_type": "stream",
     "text": [
      "\r",
      " 67%|████████████████████████████████████████████████████▎                         | 1408/2101 [01:54<00:56, 12.26it/s]"
     ]
    },
    {
     "name": "stdout",
     "output_type": "stream",
     "text": [
      "(256, 512)\n",
      "(256, 512)\n"
     ]
    },
    {
     "name": "stderr",
     "output_type": "stream",
     "text": [
      "\r",
      " 67%|████████████████████████████████████████████████████▎                         | 1410/2101 [01:54<00:56, 12.30it/s]"
     ]
    },
    {
     "name": "stdout",
     "output_type": "stream",
     "text": [
      "(256, 512)\n",
      "(256, 512)\n"
     ]
    },
    {
     "name": "stderr",
     "output_type": "stream",
     "text": [
      "\r",
      " 67%|████████████████████████████████████████████████████▍                         | 1412/2101 [01:55<00:56, 12.15it/s]"
     ]
    },
    {
     "name": "stdout",
     "output_type": "stream",
     "text": [
      "(256, 512)\n",
      "(256, 512)\n"
     ]
    },
    {
     "name": "stderr",
     "output_type": "stream",
     "text": [
      "\r",
      " 67%|████████████████████████████████████████████████████▍                         | 1414/2101 [01:55<00:56, 12.14it/s]"
     ]
    },
    {
     "name": "stdout",
     "output_type": "stream",
     "text": [
      "(256, 512)\n",
      "(256, 512)\n"
     ]
    },
    {
     "name": "stderr",
     "output_type": "stream",
     "text": [
      "\r",
      " 67%|████████████████████████████████████████████████████▌                         | 1416/2101 [01:55<00:56, 12.09it/s]"
     ]
    },
    {
     "name": "stdout",
     "output_type": "stream",
     "text": [
      "(256, 512)\n",
      "(256, 512)\n"
     ]
    },
    {
     "name": "stderr",
     "output_type": "stream",
     "text": [
      "\r",
      " 67%|████████████████████████████████████████████████████▋                         | 1418/2101 [01:55<00:56, 12.15it/s]"
     ]
    },
    {
     "name": "stdout",
     "output_type": "stream",
     "text": [
      "(256, 512)\n",
      "(256, 512)\n"
     ]
    },
    {
     "name": "stderr",
     "output_type": "stream",
     "text": [
      "\r",
      " 68%|████████████████████████████████████████████████████▋                         | 1420/2101 [01:55<00:55, 12.18it/s]"
     ]
    },
    {
     "name": "stdout",
     "output_type": "stream",
     "text": [
      "(256, 512)\n",
      "(256, 512)\n"
     ]
    },
    {
     "name": "stderr",
     "output_type": "stream",
     "text": [
      "\r",
      " 68%|████████████████████████████████████████████████████▊                         | 1422/2101 [01:55<00:56, 12.11it/s]"
     ]
    },
    {
     "name": "stdout",
     "output_type": "stream",
     "text": [
      "(256, 512)\n",
      "(256, 512)\n"
     ]
    },
    {
     "name": "stderr",
     "output_type": "stream",
     "text": [
      "\r",
      " 68%|████████████████████████████████████████████████████▊                         | 1424/2101 [01:56<00:55, 12.16it/s]"
     ]
    },
    {
     "name": "stdout",
     "output_type": "stream",
     "text": [
      "(256, 512)\n",
      "(256, 512)\n"
     ]
    },
    {
     "name": "stderr",
     "output_type": "stream",
     "text": [
      "\r",
      " 68%|████████████████████████████████████████████████████▉                         | 1426/2101 [01:56<00:55, 12.06it/s]"
     ]
    },
    {
     "name": "stdout",
     "output_type": "stream",
     "text": [
      "(256, 512)\n",
      "(256, 512)\n"
     ]
    },
    {
     "name": "stderr",
     "output_type": "stream",
     "text": [
      "\r",
      " 68%|█████████████████████████████████████████████████████                         | 1428/2101 [01:56<00:55, 12.13it/s]"
     ]
    },
    {
     "name": "stdout",
     "output_type": "stream",
     "text": [
      "(256, 512)\n",
      "(256, 512)\n"
     ]
    },
    {
     "name": "stderr",
     "output_type": "stream",
     "text": [
      "\r",
      " 68%|█████████████████████████████████████████████████████                         | 1430/2101 [01:56<00:54, 12.21it/s]"
     ]
    },
    {
     "name": "stdout",
     "output_type": "stream",
     "text": [
      "(256, 512)\n",
      "(256, 512)\n"
     ]
    },
    {
     "name": "stderr",
     "output_type": "stream",
     "text": [
      "\r",
      " 68%|█████████████████████████████████████████████████████▏                        | 1432/2101 [01:56<00:54, 12.21it/s]"
     ]
    },
    {
     "name": "stdout",
     "output_type": "stream",
     "text": [
      "(256, 512)\n",
      "(256, 512)\n"
     ]
    },
    {
     "name": "stderr",
     "output_type": "stream",
     "text": [
      "\r",
      " 68%|█████████████████████████████████████████████████████▏                        | 1434/2101 [01:56<00:53, 12.42it/s]"
     ]
    },
    {
     "name": "stdout",
     "output_type": "stream",
     "text": [
      "(256, 512)\n",
      "(256, 512)\n"
     ]
    },
    {
     "name": "stderr",
     "output_type": "stream",
     "text": [
      "\r",
      " 68%|█████████████████████████████████████████████████████▎                        | 1436/2101 [01:57<00:53, 12.37it/s]"
     ]
    },
    {
     "name": "stdout",
     "output_type": "stream",
     "text": [
      "(256, 512)\n",
      "(256, 512)\n"
     ]
    },
    {
     "name": "stderr",
     "output_type": "stream",
     "text": [
      "\r",
      " 68%|█████████████████████████████████████████████████████▍                        | 1438/2101 [01:57<00:54, 12.16it/s]"
     ]
    },
    {
     "name": "stdout",
     "output_type": "stream",
     "text": [
      "(256, 512)\n",
      "(256, 512)\n"
     ]
    },
    {
     "name": "stderr",
     "output_type": "stream",
     "text": [
      "\r",
      " 69%|█████████████████████████████████████████████████████▍                        | 1440/2101 [01:57<00:54, 12.15it/s]"
     ]
    },
    {
     "name": "stdout",
     "output_type": "stream",
     "text": [
      "(256, 512)\n",
      "(256, 512)\n"
     ]
    },
    {
     "name": "stderr",
     "output_type": "stream",
     "text": [
      "\r",
      " 69%|█████████████████████████████████████████████████████▌                        | 1442/2101 [01:57<00:54, 12.07it/s]"
     ]
    },
    {
     "name": "stdout",
     "output_type": "stream",
     "text": [
      "(256, 512)\n",
      "(256, 512)\n"
     ]
    },
    {
     "name": "stderr",
     "output_type": "stream",
     "text": [
      "\r",
      " 69%|█████████████████████████████████████████████████████▌                        | 1444/2101 [01:57<00:55, 11.86it/s]"
     ]
    },
    {
     "name": "stdout",
     "output_type": "stream",
     "text": [
      "(256, 512)\n",
      "(256, 512)\n"
     ]
    },
    {
     "name": "stderr",
     "output_type": "stream",
     "text": [
      "\r",
      " 69%|█████████████████████████████████████████████████████▋                        | 1446/2101 [01:57<00:55, 11.86it/s]"
     ]
    },
    {
     "name": "stdout",
     "output_type": "stream",
     "text": [
      "(256, 512)\n",
      "(256, 512)\n"
     ]
    },
    {
     "name": "stderr",
     "output_type": "stream",
     "text": [
      "\r",
      " 69%|█████████████████████████████████████████████████████▊                        | 1448/2101 [01:58<00:54, 12.01it/s]"
     ]
    },
    {
     "name": "stdout",
     "output_type": "stream",
     "text": [
      "(256, 512)\n",
      "(256, 512)\n"
     ]
    },
    {
     "name": "stderr",
     "output_type": "stream",
     "text": [
      "\r",
      " 69%|█████████████████████████████████████████████████████▊                        | 1450/2101 [01:58<00:54, 12.02it/s]"
     ]
    },
    {
     "name": "stdout",
     "output_type": "stream",
     "text": [
      "(256, 512)\n",
      "(256, 512)\n"
     ]
    },
    {
     "name": "stderr",
     "output_type": "stream",
     "text": [
      "\r",
      " 69%|█████████████████████████████████████████████████████▉                        | 1452/2101 [01:58<00:54, 12.01it/s]"
     ]
    },
    {
     "name": "stdout",
     "output_type": "stream",
     "text": [
      "(256, 512)\n",
      "(256, 512)\n"
     ]
    },
    {
     "name": "stderr",
     "output_type": "stream",
     "text": [
      "\r",
      " 69%|█████████████████████████████████████████████████████▉                        | 1454/2101 [01:58<00:53, 12.04it/s]"
     ]
    },
    {
     "name": "stdout",
     "output_type": "stream",
     "text": [
      "(256, 512)\n",
      "(256, 512)\n"
     ]
    },
    {
     "name": "stderr",
     "output_type": "stream",
     "text": [
      "\r",
      " 69%|██████████████████████████████████████████████████████                        | 1456/2101 [01:58<00:54, 11.90it/s]"
     ]
    },
    {
     "name": "stdout",
     "output_type": "stream",
     "text": [
      "(256, 512)\n",
      "(256, 512)\n"
     ]
    },
    {
     "name": "stderr",
     "output_type": "stream",
     "text": [
      "\r",
      " 69%|██████████████████████████████████████████████████████▏                       | 1458/2101 [01:58<00:53, 11.92it/s]"
     ]
    },
    {
     "name": "stdout",
     "output_type": "stream",
     "text": [
      "(256, 512)\n",
      "(256, 512)\n"
     ]
    },
    {
     "name": "stderr",
     "output_type": "stream",
     "text": [
      "\r",
      " 69%|██████████████████████████████████████████████████████▏                       | 1460/2101 [01:59<00:54, 11.74it/s]"
     ]
    },
    {
     "name": "stdout",
     "output_type": "stream",
     "text": [
      "(256, 512)\n",
      "(256, 512)\n"
     ]
    },
    {
     "name": "stderr",
     "output_type": "stream",
     "text": [
      "\r",
      " 70%|██████████████████████████████████████████████████████▎                       | 1462/2101 [01:59<00:54, 11.82it/s]"
     ]
    },
    {
     "name": "stdout",
     "output_type": "stream",
     "text": [
      "(256, 512)\n",
      "(256, 512)\n"
     ]
    },
    {
     "name": "stderr",
     "output_type": "stream",
     "text": [
      "\r",
      " 70%|██████████████████████████████████████████████████████▎                       | 1464/2101 [01:59<00:54, 11.72it/s]"
     ]
    },
    {
     "name": "stdout",
     "output_type": "stream",
     "text": [
      "(256, 512)\n",
      "(256, 512)\n"
     ]
    },
    {
     "name": "stderr",
     "output_type": "stream",
     "text": [
      "\r",
      " 70%|██████████████████████████████████████████████████████▍                       | 1466/2101 [01:59<00:54, 11.68it/s]"
     ]
    },
    {
     "name": "stdout",
     "output_type": "stream",
     "text": [
      "(256, 512)\n",
      "(256, 512)\n"
     ]
    },
    {
     "name": "stderr",
     "output_type": "stream",
     "text": [
      "\r",
      " 70%|██████████████████████████████████████████████████████▍                       | 1468/2101 [01:59<00:52, 11.96it/s]"
     ]
    },
    {
     "name": "stdout",
     "output_type": "stream",
     "text": [
      "(256, 512)\n",
      "(256, 512)\n"
     ]
    },
    {
     "name": "stderr",
     "output_type": "stream",
     "text": [
      "\r",
      " 70%|██████████████████████████████████████████████████████▌                       | 1470/2101 [01:59<00:52, 11.99it/s]"
     ]
    },
    {
     "name": "stdout",
     "output_type": "stream",
     "text": [
      "(256, 512)\n",
      "(256, 512)\n"
     ]
    },
    {
     "name": "stderr",
     "output_type": "stream",
     "text": [
      "\r",
      " 70%|██████████████████████████████████████████████████████▋                       | 1472/2101 [02:00<00:52, 12.07it/s]"
     ]
    },
    {
     "name": "stdout",
     "output_type": "stream",
     "text": [
      "(256, 512)\n",
      "(256, 512)\n"
     ]
    },
    {
     "name": "stderr",
     "output_type": "stream",
     "text": [
      "\r",
      " 70%|██████████████████████████████████████████████████████▋                       | 1474/2101 [02:00<00:51, 12.16it/s]"
     ]
    },
    {
     "name": "stdout",
     "output_type": "stream",
     "text": [
      "(256, 512)\n",
      "(256, 512)\n"
     ]
    },
    {
     "name": "stderr",
     "output_type": "stream",
     "text": [
      "\r",
      " 70%|██████████████████████████████████████████████████████▊                       | 1476/2101 [02:00<00:52, 11.88it/s]"
     ]
    },
    {
     "name": "stdout",
     "output_type": "stream",
     "text": [
      "(256, 512)\n",
      "(256, 512)\n"
     ]
    },
    {
     "name": "stderr",
     "output_type": "stream",
     "text": [
      "\r",
      " 70%|██████████████████████████████████████████████████████▊                       | 1478/2101 [02:00<00:52, 11.94it/s]"
     ]
    },
    {
     "name": "stdout",
     "output_type": "stream",
     "text": [
      "(256, 512)\n",
      "(256, 512)\n"
     ]
    },
    {
     "name": "stderr",
     "output_type": "stream",
     "text": [
      "\r",
      " 70%|██████████████████████████████████████████████████████▉                       | 1480/2101 [02:00<00:52, 11.86it/s]"
     ]
    },
    {
     "name": "stdout",
     "output_type": "stream",
     "text": [
      "(256, 512)\n",
      "(256, 512)\n"
     ]
    },
    {
     "name": "stderr",
     "output_type": "stream",
     "text": [
      "\r",
      " 71%|███████████████████████████████████████████████████████                       | 1482/2101 [02:00<00:51, 11.93it/s]"
     ]
    },
    {
     "name": "stdout",
     "output_type": "stream",
     "text": [
      "(256, 512)\n",
      "(256, 512)\n"
     ]
    },
    {
     "name": "stderr",
     "output_type": "stream",
     "text": [
      "\r",
      " 71%|███████████████████████████████████████████████████████                       | 1484/2101 [02:01<00:51, 12.04it/s]"
     ]
    },
    {
     "name": "stdout",
     "output_type": "stream",
     "text": [
      "(256, 512)\n",
      "(256, 512)\n"
     ]
    },
    {
     "name": "stderr",
     "output_type": "stream",
     "text": [
      "\r",
      " 71%|███████████████████████████████████████████████████████▏                      | 1486/2101 [02:01<00:50, 12.20it/s]"
     ]
    },
    {
     "name": "stdout",
     "output_type": "stream",
     "text": [
      "(256, 512)\n",
      "(256, 512)\n"
     ]
    },
    {
     "name": "stderr",
     "output_type": "stream",
     "text": [
      "\r",
      " 71%|███████████████████████████████████████████████████████▏                      | 1488/2101 [02:01<00:50, 12.08it/s]"
     ]
    },
    {
     "name": "stdout",
     "output_type": "stream",
     "text": [
      "(256, 512)\n",
      "(256, 512)\n"
     ]
    },
    {
     "name": "stderr",
     "output_type": "stream",
     "text": [
      "\r",
      " 71%|███████████████████████████████████████████████████████▎                      | 1490/2101 [02:01<00:51, 11.82it/s]"
     ]
    },
    {
     "name": "stdout",
     "output_type": "stream",
     "text": [
      "(256, 512)\n",
      "(256, 512)\n"
     ]
    },
    {
     "name": "stderr",
     "output_type": "stream",
     "text": [
      "\r",
      " 71%|███████████████████████████████████████████████████████▍                      | 1492/2101 [02:01<00:51, 11.77it/s]"
     ]
    },
    {
     "name": "stdout",
     "output_type": "stream",
     "text": [
      "(256, 512)\n",
      "(256, 512)\n"
     ]
    },
    {
     "name": "stderr",
     "output_type": "stream",
     "text": [
      "\r",
      " 71%|███████████████████████████████████████████████████████▍                      | 1494/2101 [02:02<00:52, 11.67it/s]"
     ]
    },
    {
     "name": "stdout",
     "output_type": "stream",
     "text": [
      "(256, 512)\n",
      "(256, 512)\n"
     ]
    },
    {
     "name": "stderr",
     "output_type": "stream",
     "text": [
      "\r",
      " 71%|███████████████████████████████████████████████████████▌                      | 1496/2101 [02:02<00:52, 11.61it/s]"
     ]
    },
    {
     "name": "stdout",
     "output_type": "stream",
     "text": [
      "(256, 512)\n",
      "(256, 512)\n"
     ]
    },
    {
     "name": "stderr",
     "output_type": "stream",
     "text": [
      "\r",
      " 71%|███████████████████████████████████████████████████████▌                      | 1498/2101 [02:02<00:51, 11.70it/s]"
     ]
    },
    {
     "name": "stdout",
     "output_type": "stream",
     "text": [
      "(256, 512)\n",
      "(256, 512)\n"
     ]
    },
    {
     "name": "stderr",
     "output_type": "stream",
     "text": [
      "\r",
      " 71%|███████████████████████████████████████████████████████▋                      | 1500/2101 [02:02<00:51, 11.68it/s]"
     ]
    },
    {
     "name": "stdout",
     "output_type": "stream",
     "text": [
      "(256, 512)\n",
      "(256, 512)\n"
     ]
    },
    {
     "name": "stderr",
     "output_type": "stream",
     "text": [
      "\r",
      " 71%|███████████████████████████████████████████████████████▊                      | 1502/2101 [02:02<00:51, 11.58it/s]"
     ]
    },
    {
     "name": "stdout",
     "output_type": "stream",
     "text": [
      "(256, 512)\n",
      "(256, 512)\n"
     ]
    },
    {
     "name": "stderr",
     "output_type": "stream",
     "text": [
      "\r",
      " 72%|███████████████████████████████████████████████████████▊                      | 1504/2101 [02:02<00:51, 11.64it/s]"
     ]
    },
    {
     "name": "stdout",
     "output_type": "stream",
     "text": [
      "(256, 512)\n",
      "(256, 512)\n"
     ]
    },
    {
     "name": "stderr",
     "output_type": "stream",
     "text": [
      "\r",
      " 72%|███████████████████████████████████████████████████████▉                      | 1506/2101 [02:03<00:51, 11.56it/s]"
     ]
    },
    {
     "name": "stdout",
     "output_type": "stream",
     "text": [
      "(256, 512)\n",
      "(256, 512)\n"
     ]
    },
    {
     "name": "stderr",
     "output_type": "stream",
     "text": [
      "\r",
      " 72%|███████████████████████████████████████████████████████▉                      | 1508/2101 [02:03<00:52, 11.30it/s]"
     ]
    },
    {
     "name": "stdout",
     "output_type": "stream",
     "text": [
      "(256, 512)\n",
      "(256, 512)\n"
     ]
    },
    {
     "name": "stderr",
     "output_type": "stream",
     "text": [
      "\r",
      " 72%|████████████████████████████████████████████████████████                      | 1510/2101 [02:03<00:52, 11.34it/s]"
     ]
    },
    {
     "name": "stdout",
     "output_type": "stream",
     "text": [
      "(256, 512)\n",
      "(256, 512)\n"
     ]
    },
    {
     "name": "stderr",
     "output_type": "stream",
     "text": [
      "\r",
      " 72%|████████████████████████████████████████████████████████▏                     | 1512/2101 [02:03<00:51, 11.42it/s]"
     ]
    },
    {
     "name": "stdout",
     "output_type": "stream",
     "text": [
      "(256, 512)\n",
      "(256, 512)\n"
     ]
    },
    {
     "name": "stderr",
     "output_type": "stream",
     "text": [
      "\r",
      " 72%|████████████████████████████████████████████████████████▏                     | 1514/2101 [02:03<00:50, 11.60it/s]"
     ]
    },
    {
     "name": "stdout",
     "output_type": "stream",
     "text": [
      "(256, 512)\n",
      "(256, 512)\n"
     ]
    },
    {
     "name": "stderr",
     "output_type": "stream",
     "text": [
      "\r",
      " 72%|████████████████████████████████████████████████████████▎                     | 1516/2101 [02:03<00:50, 11.70it/s]"
     ]
    },
    {
     "name": "stdout",
     "output_type": "stream",
     "text": [
      "(256, 512)\n",
      "(256, 512)\n"
     ]
    },
    {
     "name": "stderr",
     "output_type": "stream",
     "text": [
      "\r",
      " 72%|████████████████████████████████████████████████████████▎                     | 1518/2101 [02:04<00:49, 11.74it/s]"
     ]
    },
    {
     "name": "stdout",
     "output_type": "stream",
     "text": [
      "(256, 512)\n",
      "(256, 512)\n"
     ]
    },
    {
     "name": "stderr",
     "output_type": "stream",
     "text": [
      "\r",
      " 72%|████████████████████████████████████████████████████████▍                     | 1520/2101 [02:04<00:49, 11.78it/s]"
     ]
    },
    {
     "name": "stdout",
     "output_type": "stream",
     "text": [
      "(256, 512)\n",
      "(256, 512)\n"
     ]
    },
    {
     "name": "stderr",
     "output_type": "stream",
     "text": [
      "\r",
      " 72%|████████████████████████████████████████████████████████▌                     | 1522/2101 [02:04<00:49, 11.79it/s]"
     ]
    },
    {
     "name": "stdout",
     "output_type": "stream",
     "text": [
      "(256, 512)\n",
      "(256, 512)\n"
     ]
    },
    {
     "name": "stderr",
     "output_type": "stream",
     "text": [
      "\r",
      " 73%|████████████████████████████████████████████████████████▌                     | 1524/2101 [02:04<00:49, 11.73it/s]"
     ]
    },
    {
     "name": "stdout",
     "output_type": "stream",
     "text": [
      "(256, 512)\n",
      "(256, 512)\n"
     ]
    },
    {
     "name": "stderr",
     "output_type": "stream",
     "text": [
      "\r",
      " 73%|████████████████████████████████████████████████████████▋                     | 1526/2101 [02:04<00:49, 11.71it/s]"
     ]
    },
    {
     "name": "stdout",
     "output_type": "stream",
     "text": [
      "(256, 512)\n",
      "(256, 512)\n"
     ]
    },
    {
     "name": "stderr",
     "output_type": "stream",
     "text": [
      "\r",
      " 73%|████████████████████████████████████████████████████████▋                     | 1528/2101 [02:04<00:49, 11.50it/s]"
     ]
    },
    {
     "name": "stdout",
     "output_type": "stream",
     "text": [
      "(256, 512)\n",
      "(256, 512)\n"
     ]
    },
    {
     "name": "stderr",
     "output_type": "stream",
     "text": [
      "\r",
      " 73%|████████████████████████████████████████████████████████▊                     | 1530/2101 [02:05<00:49, 11.64it/s]"
     ]
    },
    {
     "name": "stdout",
     "output_type": "stream",
     "text": [
      "(256, 512)\n",
      "(256, 512)\n"
     ]
    },
    {
     "name": "stderr",
     "output_type": "stream",
     "text": [
      "\r",
      " 73%|████████████████████████████████████████████████████████▉                     | 1532/2101 [02:05<00:48, 11.84it/s]"
     ]
    },
    {
     "name": "stdout",
     "output_type": "stream",
     "text": [
      "(256, 512)\n",
      "(256, 512)\n"
     ]
    },
    {
     "name": "stderr",
     "output_type": "stream",
     "text": [
      "\r",
      " 73%|████████████████████████████████████████████████████████▉                     | 1534/2101 [02:05<00:47, 11.94it/s]"
     ]
    },
    {
     "name": "stdout",
     "output_type": "stream",
     "text": [
      "(256, 512)\n",
      "(256, 512)\n"
     ]
    },
    {
     "name": "stderr",
     "output_type": "stream",
     "text": [
      "\r",
      " 73%|█████████████████████████████████████████████████████████                     | 1536/2101 [02:05<00:47, 11.96it/s]"
     ]
    },
    {
     "name": "stdout",
     "output_type": "stream",
     "text": [
      "(256, 512)\n",
      "(256, 512)\n"
     ]
    },
    {
     "name": "stderr",
     "output_type": "stream",
     "text": [
      "\r",
      " 73%|█████████████████████████████████████████████████████████                     | 1538/2101 [02:05<00:46, 12.14it/s]"
     ]
    },
    {
     "name": "stdout",
     "output_type": "stream",
     "text": [
      "(256, 512)\n",
      "(256, 512)\n"
     ]
    },
    {
     "name": "stderr",
     "output_type": "stream",
     "text": [
      "\r",
      " 73%|█████████████████████████████████████████████████████████▏                    | 1540/2101 [02:05<00:46, 11.98it/s]"
     ]
    },
    {
     "name": "stdout",
     "output_type": "stream",
     "text": [
      "(256, 512)\n",
      "(256, 512)\n"
     ]
    },
    {
     "name": "stderr",
     "output_type": "stream",
     "text": [
      "\r",
      " 73%|█████████████████████████████████████████████████████████▏                    | 1542/2101 [02:06<00:46, 12.02it/s]"
     ]
    },
    {
     "name": "stdout",
     "output_type": "stream",
     "text": [
      "(256, 512)\n",
      "(256, 512)\n"
     ]
    },
    {
     "name": "stderr",
     "output_type": "stream",
     "text": [
      "\r",
      " 73%|█████████████████████████████████████████████████████████▎                    | 1544/2101 [02:06<00:46, 12.07it/s]"
     ]
    },
    {
     "name": "stdout",
     "output_type": "stream",
     "text": [
      "(256, 512)\n",
      "(256, 512)\n"
     ]
    },
    {
     "name": "stderr",
     "output_type": "stream",
     "text": [
      "\r",
      " 74%|█████████████████████████████████████████████████████████▍                    | 1546/2101 [02:06<00:45, 12.12it/s]"
     ]
    },
    {
     "name": "stdout",
     "output_type": "stream",
     "text": [
      "(256, 512)\n",
      "(256, 512)\n"
     ]
    },
    {
     "name": "stderr",
     "output_type": "stream",
     "text": [
      "\r",
      " 74%|█████████████████████████████████████████████████████████▍                    | 1548/2101 [02:06<00:45, 12.19it/s]"
     ]
    },
    {
     "name": "stdout",
     "output_type": "stream",
     "text": [
      "(256, 512)\n",
      "(256, 512)\n"
     ]
    },
    {
     "name": "stderr",
     "output_type": "stream",
     "text": [
      "\r",
      " 74%|█████████████████████████████████████████████████████████▌                    | 1550/2101 [02:06<00:45, 12.18it/s]"
     ]
    },
    {
     "name": "stdout",
     "output_type": "stream",
     "text": [
      "(256, 512)\n",
      "(256, 512)\n"
     ]
    },
    {
     "name": "stderr",
     "output_type": "stream",
     "text": [
      "\r",
      " 74%|█████████████████████████████████████████████████████████▌                    | 1552/2101 [02:06<00:45, 12.19it/s]"
     ]
    },
    {
     "name": "stdout",
     "output_type": "stream",
     "text": [
      "(256, 512)\n",
      "(256, 512)\n"
     ]
    },
    {
     "name": "stderr",
     "output_type": "stream",
     "text": [
      "\r",
      " 74%|█████████████████████████████████████████████████████████▋                    | 1554/2101 [02:07<00:44, 12.17it/s]"
     ]
    },
    {
     "name": "stdout",
     "output_type": "stream",
     "text": [
      "(256, 512)\n",
      "(256, 512)\n"
     ]
    },
    {
     "name": "stderr",
     "output_type": "stream",
     "text": [
      "\r",
      " 74%|█████████████████████████████████████████████████████████▊                    | 1556/2101 [02:07<00:44, 12.35it/s]"
     ]
    },
    {
     "name": "stdout",
     "output_type": "stream",
     "text": [
      "(256, 512)\n",
      "(256, 512)\n"
     ]
    },
    {
     "name": "stderr",
     "output_type": "stream",
     "text": [
      "\r",
      " 74%|█████████████████████████████████████████████████████████▊                    | 1558/2101 [02:07<00:43, 12.37it/s]"
     ]
    },
    {
     "name": "stdout",
     "output_type": "stream",
     "text": [
      "(256, 512)\n",
      "(256, 512)\n"
     ]
    },
    {
     "name": "stderr",
     "output_type": "stream",
     "text": [
      "\r",
      " 74%|█████████████████████████████████████████████████████████▉                    | 1560/2101 [02:07<00:43, 12.42it/s]"
     ]
    },
    {
     "name": "stdout",
     "output_type": "stream",
     "text": [
      "(256, 512)\n",
      "(256, 512)\n"
     ]
    },
    {
     "name": "stderr",
     "output_type": "stream",
     "text": [
      "\r",
      " 74%|█████████████████████████████████████████████████████████▉                    | 1562/2101 [02:07<00:43, 12.44it/s]"
     ]
    },
    {
     "name": "stdout",
     "output_type": "stream",
     "text": [
      "(256, 512)\n",
      "(256, 512)\n"
     ]
    },
    {
     "name": "stderr",
     "output_type": "stream",
     "text": [
      "\r",
      " 74%|██████████████████████████████████████████████████████████                    | 1564/2101 [02:07<00:43, 12.38it/s]"
     ]
    },
    {
     "name": "stdout",
     "output_type": "stream",
     "text": [
      "(256, 512)\n",
      "(256, 512)\n"
     ]
    },
    {
     "name": "stderr",
     "output_type": "stream",
     "text": [
      "\r",
      " 75%|██████████████████████████████████████████████████████████▏                   | 1566/2101 [02:08<00:42, 12.52it/s]"
     ]
    },
    {
     "name": "stdout",
     "output_type": "stream",
     "text": [
      "(256, 512)\n",
      "(256, 512)\n"
     ]
    },
    {
     "name": "stderr",
     "output_type": "stream",
     "text": [
      "\r",
      " 75%|██████████████████████████████████████████████████████████▏                   | 1568/2101 [02:08<00:43, 12.32it/s]"
     ]
    },
    {
     "name": "stdout",
     "output_type": "stream",
     "text": [
      "(256, 512)\n",
      "(256, 512)\n"
     ]
    },
    {
     "name": "stderr",
     "output_type": "stream",
     "text": [
      "\r",
      " 75%|██████████████████████████████████████████████████████████▎                   | 1570/2101 [02:08<00:43, 12.34it/s]"
     ]
    },
    {
     "name": "stdout",
     "output_type": "stream",
     "text": [
      "(256, 512)\n",
      "(256, 512)\n"
     ]
    },
    {
     "name": "stderr",
     "output_type": "stream",
     "text": [
      "\r",
      " 75%|██████████████████████████████████████████████████████████▎                   | 1572/2101 [02:08<00:43, 12.29it/s]"
     ]
    },
    {
     "name": "stdout",
     "output_type": "stream",
     "text": [
      "(256, 512)\n",
      "(256, 512)\n"
     ]
    },
    {
     "name": "stderr",
     "output_type": "stream",
     "text": [
      "\r",
      " 75%|██████████████████████████████████████████████████████████▍                   | 1574/2101 [02:08<00:43, 12.18it/s]"
     ]
    },
    {
     "name": "stdout",
     "output_type": "stream",
     "text": [
      "(256, 512)\n",
      "(256, 512)\n"
     ]
    },
    {
     "name": "stderr",
     "output_type": "stream",
     "text": [
      "\r",
      " 75%|██████████████████████████████████████████████████████████▌                   | 1576/2101 [02:08<00:43, 12.15it/s]"
     ]
    },
    {
     "name": "stdout",
     "output_type": "stream",
     "text": [
      "(256, 512)\n",
      "(256, 512)\n"
     ]
    },
    {
     "name": "stderr",
     "output_type": "stream",
     "text": [
      "\r",
      " 75%|██████████████████████████████████████████████████████████▌                   | 1578/2101 [02:09<00:42, 12.24it/s]"
     ]
    },
    {
     "name": "stdout",
     "output_type": "stream",
     "text": [
      "(256, 512)\n",
      "(256, 512)\n"
     ]
    },
    {
     "name": "stderr",
     "output_type": "stream",
     "text": [
      "\r",
      " 75%|██████████████████████████████████████████████████████████▋                   | 1580/2101 [02:09<00:42, 12.19it/s]"
     ]
    },
    {
     "name": "stdout",
     "output_type": "stream",
     "text": [
      "(256, 512)\n",
      "(256, 512)\n"
     ]
    },
    {
     "name": "stderr",
     "output_type": "stream",
     "text": [
      "\r",
      " 75%|██████████████████████████████████████████████████████████▋                   | 1582/2101 [02:09<00:42, 12.22it/s]"
     ]
    },
    {
     "name": "stdout",
     "output_type": "stream",
     "text": [
      "(256, 512)\n",
      "(256, 512)\n"
     ]
    },
    {
     "name": "stderr",
     "output_type": "stream",
     "text": [
      "\r",
      " 75%|██████████████████████████████████████████████████████████▊                   | 1584/2101 [02:09<00:42, 12.18it/s]"
     ]
    },
    {
     "name": "stdout",
     "output_type": "stream",
     "text": [
      "(256, 512)\n",
      "(256, 512)\n"
     ]
    },
    {
     "name": "stderr",
     "output_type": "stream",
     "text": [
      "\r",
      " 75%|██████████████████████████████████████████████████████████▉                   | 1586/2101 [02:09<00:41, 12.32it/s]"
     ]
    },
    {
     "name": "stdout",
     "output_type": "stream",
     "text": [
      "(256, 512)\n",
      "(256, 512)\n"
     ]
    },
    {
     "name": "stderr",
     "output_type": "stream",
     "text": [
      "\r",
      " 76%|██████████████████████████████████████████████████████████▉                   | 1588/2101 [02:09<00:41, 12.50it/s]"
     ]
    },
    {
     "name": "stdout",
     "output_type": "stream",
     "text": [
      "(256, 512)\n",
      "(256, 512)\n"
     ]
    },
    {
     "name": "stderr",
     "output_type": "stream",
     "text": [
      "\r",
      " 76%|███████████████████████████████████████████████████████████                   | 1590/2101 [02:09<00:41, 12.45it/s]"
     ]
    },
    {
     "name": "stdout",
     "output_type": "stream",
     "text": [
      "(256, 512)\n",
      "(256, 512)\n"
     ]
    },
    {
     "name": "stderr",
     "output_type": "stream",
     "text": [
      "\r",
      " 76%|███████████████████████████████████████████████████████████                   | 1592/2101 [02:10<00:40, 12.46it/s]"
     ]
    },
    {
     "name": "stdout",
     "output_type": "stream",
     "text": [
      "(256, 512)\n",
      "(256, 512)\n"
     ]
    },
    {
     "name": "stderr",
     "output_type": "stream",
     "text": [
      "\r",
      " 76%|███████████████████████████████████████████████████████████▏                  | 1594/2101 [02:10<00:40, 12.57it/s]"
     ]
    },
    {
     "name": "stdout",
     "output_type": "stream",
     "text": [
      "(256, 512)\n",
      "(256, 512)\n"
     ]
    },
    {
     "name": "stderr",
     "output_type": "stream",
     "text": [
      "\r",
      " 76%|███████████████████████████████████████████████████████████▎                  | 1596/2101 [02:10<00:40, 12.55it/s]"
     ]
    },
    {
     "name": "stdout",
     "output_type": "stream",
     "text": [
      "(256, 512)\n",
      "(256, 512)\n"
     ]
    },
    {
     "name": "stderr",
     "output_type": "stream",
     "text": [
      "\r",
      " 76%|███████████████████████████████████████████████████████████▎                  | 1598/2101 [02:10<00:39, 12.62it/s]"
     ]
    },
    {
     "name": "stdout",
     "output_type": "stream",
     "text": [
      "(256, 512)\n",
      "(256, 512)\n"
     ]
    },
    {
     "name": "stderr",
     "output_type": "stream",
     "text": [
      "\r",
      " 76%|███████████████████████████████████████████████████████████▍                  | 1600/2101 [02:10<00:40, 12.41it/s]"
     ]
    },
    {
     "name": "stdout",
     "output_type": "stream",
     "text": [
      "(256, 512)\n",
      "(256, 512)\n"
     ]
    },
    {
     "name": "stderr",
     "output_type": "stream",
     "text": [
      "\r",
      " 76%|███████████████████████████████████████████████████████████▍                  | 1602/2101 [02:10<00:40, 12.22it/s]"
     ]
    },
    {
     "name": "stdout",
     "output_type": "stream",
     "text": [
      "(256, 512)\n",
      "(256, 512)\n"
     ]
    },
    {
     "name": "stderr",
     "output_type": "stream",
     "text": [
      "\r",
      " 76%|███████████████████████████████████████████████████████████▌                  | 1604/2101 [02:11<00:40, 12.32it/s]"
     ]
    },
    {
     "name": "stdout",
     "output_type": "stream",
     "text": [
      "(256, 512)\n",
      "(256, 512)\n"
     ]
    },
    {
     "name": "stderr",
     "output_type": "stream",
     "text": [
      "\r",
      " 76%|███████████████████████████████████████████████████████████▌                  | 1606/2101 [02:11<00:40, 12.33it/s]"
     ]
    },
    {
     "name": "stdout",
     "output_type": "stream",
     "text": [
      "(256, 512)\n",
      "(256, 512)\n"
     ]
    },
    {
     "name": "stderr",
     "output_type": "stream",
     "text": [
      "\r",
      " 77%|███████████████████████████████████████████████████████████▋                  | 1608/2101 [02:11<00:39, 12.34it/s]"
     ]
    },
    {
     "name": "stdout",
     "output_type": "stream",
     "text": [
      "(256, 512)\n",
      "(256, 512)\n"
     ]
    },
    {
     "name": "stderr",
     "output_type": "stream",
     "text": [
      "\r",
      " 77%|███████████████████████████████████████████████████████████▊                  | 1610/2101 [02:11<00:39, 12.36it/s]"
     ]
    },
    {
     "name": "stdout",
     "output_type": "stream",
     "text": [
      "(256, 512)\n",
      "(256, 512)\n"
     ]
    },
    {
     "name": "stderr",
     "output_type": "stream",
     "text": [
      "\r",
      " 77%|███████████████████████████████████████████████████████████▊                  | 1612/2101 [02:11<00:39, 12.39it/s]"
     ]
    },
    {
     "name": "stdout",
     "output_type": "stream",
     "text": [
      "(256, 512)\n",
      "(256, 512)\n"
     ]
    },
    {
     "name": "stderr",
     "output_type": "stream",
     "text": [
      "\r",
      " 77%|███████████████████████████████████████████████████████████▉                  | 1614/2101 [02:11<00:39, 12.43it/s]"
     ]
    },
    {
     "name": "stdout",
     "output_type": "stream",
     "text": [
      "(256, 512)\n",
      "(256, 512)\n"
     ]
    },
    {
     "name": "stderr",
     "output_type": "stream",
     "text": [
      "\r",
      " 77%|███████████████████████████████████████████████████████████▉                  | 1616/2101 [02:12<00:39, 12.36it/s]"
     ]
    },
    {
     "name": "stdout",
     "output_type": "stream",
     "text": [
      "(256, 512)\n",
      "(256, 512)\n"
     ]
    },
    {
     "name": "stderr",
     "output_type": "stream",
     "text": [
      "\r",
      " 77%|████████████████████████████████████████████████████████████                  | 1618/2101 [02:12<00:38, 12.41it/s]"
     ]
    },
    {
     "name": "stdout",
     "output_type": "stream",
     "text": [
      "(256, 512)\n",
      "(256, 512)\n"
     ]
    },
    {
     "name": "stderr",
     "output_type": "stream",
     "text": [
      "\r",
      " 77%|████████████████████████████████████████████████████████████▏                 | 1620/2101 [02:12<00:38, 12.43it/s]"
     ]
    },
    {
     "name": "stdout",
     "output_type": "stream",
     "text": [
      "(256, 512)\n",
      "(256, 512)\n"
     ]
    },
    {
     "name": "stderr",
     "output_type": "stream",
     "text": [
      "\r",
      " 77%|████████████████████████████████████████████████████████████▏                 | 1622/2101 [02:12<00:38, 12.39it/s]"
     ]
    },
    {
     "name": "stdout",
     "output_type": "stream",
     "text": [
      "(256, 512)\n",
      "(256, 512)\n"
     ]
    },
    {
     "name": "stderr",
     "output_type": "stream",
     "text": [
      "\r",
      " 77%|████████████████████████████████████████████████████████████▎                 | 1624/2101 [02:12<00:38, 12.39it/s]"
     ]
    },
    {
     "name": "stdout",
     "output_type": "stream",
     "text": [
      "(256, 512)\n",
      "(256, 512)\n"
     ]
    },
    {
     "name": "stderr",
     "output_type": "stream",
     "text": [
      "\r",
      " 77%|████████████████████████████████████████████████████████████▎                 | 1626/2101 [02:12<00:38, 12.33it/s]"
     ]
    },
    {
     "name": "stdout",
     "output_type": "stream",
     "text": [
      "(256, 512)\n",
      "(256, 512)\n"
     ]
    },
    {
     "name": "stderr",
     "output_type": "stream",
     "text": [
      "\r",
      " 77%|████████████████████████████████████████████████████████████▍                 | 1628/2101 [02:13<00:38, 12.32it/s]"
     ]
    },
    {
     "name": "stdout",
     "output_type": "stream",
     "text": [
      "(256, 512)\n",
      "(256, 512)\n"
     ]
    },
    {
     "name": "stderr",
     "output_type": "stream",
     "text": [
      "\r",
      " 78%|████████████████████████████████████████████████████████████▌                 | 1630/2101 [02:13<00:38, 12.21it/s]"
     ]
    },
    {
     "name": "stdout",
     "output_type": "stream",
     "text": [
      "(256, 512)\n",
      "(256, 512)\n"
     ]
    },
    {
     "name": "stderr",
     "output_type": "stream",
     "text": [
      "\r",
      " 78%|████████████████████████████████████████████████████████████▌                 | 1632/2101 [02:13<00:38, 12.16it/s]"
     ]
    },
    {
     "name": "stdout",
     "output_type": "stream",
     "text": [
      "(256, 512)\n",
      "(256, 512)\n"
     ]
    },
    {
     "name": "stderr",
     "output_type": "stream",
     "text": [
      "\r",
      " 78%|████████████████████████████████████████████████████████████▋                 | 1634/2101 [02:13<00:39, 11.95it/s]"
     ]
    },
    {
     "name": "stdout",
     "output_type": "stream",
     "text": [
      "(256, 512)\n",
      "(256, 512)\n"
     ]
    },
    {
     "name": "stderr",
     "output_type": "stream",
     "text": [
      "\r",
      " 78%|████████████████████████████████████████████████████████████▋                 | 1636/2101 [02:13<00:39, 11.91it/s]"
     ]
    },
    {
     "name": "stdout",
     "output_type": "stream",
     "text": [
      "(256, 512)\n",
      "(256, 512)\n"
     ]
    },
    {
     "name": "stderr",
     "output_type": "stream",
     "text": [
      "\r",
      " 78%|████████████████████████████████████████████████████████████▊                 | 1638/2101 [02:13<00:38, 11.92it/s]"
     ]
    },
    {
     "name": "stdout",
     "output_type": "stream",
     "text": [
      "(256, 512)\n",
      "(256, 512)\n"
     ]
    },
    {
     "name": "stderr",
     "output_type": "stream",
     "text": [
      "\r",
      " 78%|████████████████████████████████████████████████████████████▉                 | 1640/2101 [02:14<00:38, 11.99it/s]"
     ]
    },
    {
     "name": "stdout",
     "output_type": "stream",
     "text": [
      "(256, 512)\n",
      "(256, 512)\n"
     ]
    },
    {
     "name": "stderr",
     "output_type": "stream",
     "text": [
      "\r",
      " 78%|████████████████████████████████████████████████████████████▉                 | 1642/2101 [02:14<00:38, 12.03it/s]"
     ]
    },
    {
     "name": "stdout",
     "output_type": "stream",
     "text": [
      "(256, 512)\n",
      "(256, 512)\n"
     ]
    },
    {
     "name": "stderr",
     "output_type": "stream",
     "text": [
      "\r",
      " 78%|█████████████████████████████████████████████████████████████                 | 1644/2101 [02:14<00:37, 12.13it/s]"
     ]
    },
    {
     "name": "stdout",
     "output_type": "stream",
     "text": [
      "(256, 512)\n",
      "(256, 512)\n"
     ]
    },
    {
     "name": "stderr",
     "output_type": "stream",
     "text": [
      "\r",
      " 78%|█████████████████████████████████████████████████████████████                 | 1646/2101 [02:14<00:37, 12.21it/s]"
     ]
    },
    {
     "name": "stdout",
     "output_type": "stream",
     "text": [
      "(256, 512)\n",
      "(256, 512)\n"
     ]
    },
    {
     "name": "stderr",
     "output_type": "stream",
     "text": [
      "\r",
      " 78%|█████████████████████████████████████████████████████████████▏                | 1648/2101 [02:14<00:37, 12.19it/s]"
     ]
    },
    {
     "name": "stdout",
     "output_type": "stream",
     "text": [
      "(256, 512)\n",
      "(256, 512)\n"
     ]
    },
    {
     "name": "stderr",
     "output_type": "stream",
     "text": [
      "\r",
      " 79%|█████████████████████████████████████████████████████████████▎                | 1650/2101 [02:14<00:37, 11.99it/s]"
     ]
    },
    {
     "name": "stdout",
     "output_type": "stream",
     "text": [
      "(256, 512)\n",
      "(256, 512)\n"
     ]
    },
    {
     "name": "stderr",
     "output_type": "stream",
     "text": [
      "\r",
      " 79%|█████████████████████████████████████████████████████████████▎                | 1652/2101 [02:15<00:37, 11.99it/s]"
     ]
    },
    {
     "name": "stdout",
     "output_type": "stream",
     "text": [
      "(256, 512)\n",
      "(256, 512)\n"
     ]
    },
    {
     "name": "stderr",
     "output_type": "stream",
     "text": [
      "\r",
      " 79%|█████████████████████████████████████████████████████████████▍                | 1654/2101 [02:15<00:36, 12.09it/s]"
     ]
    },
    {
     "name": "stdout",
     "output_type": "stream",
     "text": [
      "(256, 512)\n",
      "(256, 512)\n"
     ]
    },
    {
     "name": "stderr",
     "output_type": "stream",
     "text": [
      "\r",
      " 79%|█████████████████████████████████████████████████████████████▍                | 1656/2101 [02:15<00:36, 12.21it/s]"
     ]
    },
    {
     "name": "stdout",
     "output_type": "stream",
     "text": [
      "(256, 512)\n",
      "(256, 512)\n"
     ]
    },
    {
     "name": "stderr",
     "output_type": "stream",
     "text": [
      "\r",
      " 79%|█████████████████████████████████████████████████████████████▌                | 1658/2101 [02:15<00:36, 12.17it/s]"
     ]
    },
    {
     "name": "stdout",
     "output_type": "stream",
     "text": [
      "(256, 512)\n",
      "(256, 512)\n"
     ]
    },
    {
     "name": "stderr",
     "output_type": "stream",
     "text": [
      "\r",
      " 79%|█████████████████████████████████████████████████████████████▋                | 1660/2101 [02:15<00:36, 12.18it/s]"
     ]
    },
    {
     "name": "stdout",
     "output_type": "stream",
     "text": [
      "(256, 512)\n",
      "(256, 512)\n"
     ]
    },
    {
     "name": "stderr",
     "output_type": "stream",
     "text": [
      "\r",
      " 79%|█████████████████████████████████████████████████████████████▋                | 1662/2101 [02:15<00:35, 12.30it/s]"
     ]
    },
    {
     "name": "stdout",
     "output_type": "stream",
     "text": [
      "(256, 512)\n",
      "(256, 512)\n"
     ]
    },
    {
     "name": "stderr",
     "output_type": "stream",
     "text": [
      "\r",
      " 79%|█████████████████████████████████████████████████████████████▊                | 1664/2101 [02:16<00:35, 12.36it/s]"
     ]
    },
    {
     "name": "stdout",
     "output_type": "stream",
     "text": [
      "(256, 512)\n",
      "(256, 512)\n"
     ]
    },
    {
     "name": "stderr",
     "output_type": "stream",
     "text": [
      "\r",
      " 79%|█████████████████████████████████████████████████████████████▊                | 1666/2101 [02:16<00:34, 12.44it/s]"
     ]
    },
    {
     "name": "stdout",
     "output_type": "stream",
     "text": [
      "(256, 512)\n",
      "(256, 512)\n"
     ]
    },
    {
     "name": "stderr",
     "output_type": "stream",
     "text": [
      "\r",
      " 79%|█████████████████████████████████████████████████████████████▉                | 1668/2101 [02:16<00:34, 12.43it/s]"
     ]
    },
    {
     "name": "stdout",
     "output_type": "stream",
     "text": [
      "(256, 512)\n",
      "(256, 512)\n"
     ]
    },
    {
     "name": "stderr",
     "output_type": "stream",
     "text": [
      "\r",
      " 79%|█████████████████████████████████████████████████████████████▉                | 1670/2101 [02:16<00:34, 12.49it/s]"
     ]
    },
    {
     "name": "stdout",
     "output_type": "stream",
     "text": [
      "(256, 512)\n",
      "(256, 512)\n"
     ]
    },
    {
     "name": "stderr",
     "output_type": "stream",
     "text": [
      "\r",
      " 80%|██████████████████████████████████████████████████████████████                | 1672/2101 [02:16<00:34, 12.60it/s]"
     ]
    },
    {
     "name": "stdout",
     "output_type": "stream",
     "text": [
      "(256, 512)\n",
      "(256, 512)\n"
     ]
    },
    {
     "name": "stderr",
     "output_type": "stream",
     "text": [
      "\r",
      " 80%|██████████████████████████████████████████████████████████████▏               | 1674/2101 [02:16<00:34, 12.44it/s]"
     ]
    },
    {
     "name": "stdout",
     "output_type": "stream",
     "text": [
      "(256, 512)\n",
      "(256, 512)\n"
     ]
    },
    {
     "name": "stderr",
     "output_type": "stream",
     "text": [
      "\r",
      " 80%|██████████████████████████████████████████████████████████████▏               | 1676/2101 [02:16<00:34, 12.41it/s]"
     ]
    },
    {
     "name": "stdout",
     "output_type": "stream",
     "text": [
      "(256, 512)\n",
      "(256, 512)\n"
     ]
    },
    {
     "name": "stderr",
     "output_type": "stream",
     "text": [
      "\r",
      " 80%|██████████████████████████████████████████████████████████████▎               | 1678/2101 [02:17<00:34, 12.30it/s]"
     ]
    },
    {
     "name": "stdout",
     "output_type": "stream",
     "text": [
      "(256, 512)\n",
      "(256, 512)\n"
     ]
    },
    {
     "name": "stderr",
     "output_type": "stream",
     "text": [
      "\r",
      " 80%|██████████████████████████████████████████████████████████████▎               | 1680/2101 [02:17<00:34, 12.33it/s]"
     ]
    },
    {
     "name": "stdout",
     "output_type": "stream",
     "text": [
      "(256, 512)\n",
      "(256, 512)\n"
     ]
    },
    {
     "name": "stderr",
     "output_type": "stream",
     "text": [
      "\r",
      " 80%|██████████████████████████████████████████████████████████████▍               | 1682/2101 [02:17<00:33, 12.35it/s]"
     ]
    },
    {
     "name": "stdout",
     "output_type": "stream",
     "text": [
      "(256, 512)\n",
      "(256, 512)\n"
     ]
    },
    {
     "name": "stderr",
     "output_type": "stream",
     "text": [
      "\r",
      " 80%|██████████████████████████████████████████████████████████████▌               | 1684/2101 [02:17<00:33, 12.37it/s]"
     ]
    },
    {
     "name": "stdout",
     "output_type": "stream",
     "text": [
      "(256, 512)\n",
      "(256, 512)\n"
     ]
    },
    {
     "name": "stderr",
     "output_type": "stream",
     "text": [
      "\r",
      " 80%|██████████████████████████████████████████████████████████████▌               | 1686/2101 [02:17<00:33, 12.46it/s]"
     ]
    },
    {
     "name": "stdout",
     "output_type": "stream",
     "text": [
      "(256, 512)\n",
      "(256, 512)\n"
     ]
    },
    {
     "name": "stderr",
     "output_type": "stream",
     "text": [
      "\r",
      " 80%|██████████████████████████████████████████████████████████████▋               | 1688/2101 [02:17<00:32, 12.52it/s]"
     ]
    },
    {
     "name": "stdout",
     "output_type": "stream",
     "text": [
      "(256, 512)\n",
      "(256, 512)\n"
     ]
    },
    {
     "name": "stderr",
     "output_type": "stream",
     "text": [
      "\r",
      " 80%|██████████████████████████████████████████████████████████████▋               | 1690/2101 [02:18<00:32, 12.49it/s]"
     ]
    },
    {
     "name": "stdout",
     "output_type": "stream",
     "text": [
      "(256, 512)\n",
      "(256, 512)\n"
     ]
    },
    {
     "name": "stderr",
     "output_type": "stream",
     "text": [
      "\r",
      " 81%|██████████████████████████████████████████████████████████████▊               | 1692/2101 [02:18<00:32, 12.49it/s]"
     ]
    },
    {
     "name": "stdout",
     "output_type": "stream",
     "text": [
      "(256, 512)\n",
      "(256, 512)\n"
     ]
    },
    {
     "name": "stderr",
     "output_type": "stream",
     "text": [
      "\r",
      " 81%|██████████████████████████████████████████████████████████████▉               | 1694/2101 [02:18<00:32, 12.42it/s]"
     ]
    },
    {
     "name": "stdout",
     "output_type": "stream",
     "text": [
      "(256, 512)\n",
      "(256, 512)\n"
     ]
    },
    {
     "name": "stderr",
     "output_type": "stream",
     "text": [
      "\r",
      " 81%|██████████████████████████████████████████████████████████████▉               | 1696/2101 [02:18<00:32, 12.33it/s]"
     ]
    },
    {
     "name": "stdout",
     "output_type": "stream",
     "text": [
      "(256, 512)\n",
      "(256, 512)\n"
     ]
    },
    {
     "name": "stderr",
     "output_type": "stream",
     "text": [
      "\r",
      " 81%|███████████████████████████████████████████████████████████████               | 1698/2101 [02:18<00:32, 12.31it/s]"
     ]
    },
    {
     "name": "stdout",
     "output_type": "stream",
     "text": [
      "(256, 512)\n",
      "(256, 512)\n"
     ]
    },
    {
     "name": "stderr",
     "output_type": "stream",
     "text": [
      "\r",
      " 81%|███████████████████████████████████████████████████████████████               | 1700/2101 [02:18<00:32, 12.28it/s]"
     ]
    },
    {
     "name": "stdout",
     "output_type": "stream",
     "text": [
      "(256, 512)\n",
      "(256, 512)\n"
     ]
    },
    {
     "name": "stderr",
     "output_type": "stream",
     "text": [
      "\r",
      " 81%|███████████████████████████████████████████████████████████████▏              | 1702/2101 [02:19<00:32, 12.27it/s]"
     ]
    },
    {
     "name": "stdout",
     "output_type": "stream",
     "text": [
      "(256, 512)\n",
      "(256, 512)\n"
     ]
    },
    {
     "name": "stderr",
     "output_type": "stream",
     "text": [
      "\r",
      " 81%|███████████████████████████████████████████████████████████████▎              | 1704/2101 [02:19<00:32, 12.17it/s]"
     ]
    },
    {
     "name": "stdout",
     "output_type": "stream",
     "text": [
      "(256, 512)\n",
      "(256, 512)\n"
     ]
    },
    {
     "name": "stderr",
     "output_type": "stream",
     "text": [
      "\r",
      " 81%|███████████████████████████████████████████████████████████████▎              | 1706/2101 [02:19<00:31, 12.43it/s]"
     ]
    },
    {
     "name": "stdout",
     "output_type": "stream",
     "text": [
      "(256, 512)\n",
      "(256, 512)\n"
     ]
    },
    {
     "name": "stderr",
     "output_type": "stream",
     "text": [
      "\r",
      " 81%|███████████████████████████████████████████████████████████████▍              | 1708/2101 [02:19<00:31, 12.38it/s]"
     ]
    },
    {
     "name": "stdout",
     "output_type": "stream",
     "text": [
      "(256, 512)\n",
      "(256, 512)\n"
     ]
    },
    {
     "name": "stderr",
     "output_type": "stream",
     "text": [
      "\r",
      " 81%|███████████████████████████████████████████████████████████████▍              | 1710/2101 [02:19<00:31, 12.44it/s]"
     ]
    },
    {
     "name": "stdout",
     "output_type": "stream",
     "text": [
      "(256, 512)\n",
      "(256, 512)\n"
     ]
    },
    {
     "name": "stderr",
     "output_type": "stream",
     "text": [
      "\r",
      " 81%|███████████████████████████████████████████████████████████████▌              | 1712/2101 [02:19<00:31, 12.46it/s]"
     ]
    },
    {
     "name": "stdout",
     "output_type": "stream",
     "text": [
      "(256, 512)\n",
      "(256, 512)\n"
     ]
    },
    {
     "name": "stderr",
     "output_type": "stream",
     "text": [
      "\r",
      " 82%|███████████████████████████████████████████████████████████████▋              | 1714/2101 [02:20<00:31, 12.42it/s]"
     ]
    },
    {
     "name": "stdout",
     "output_type": "stream",
     "text": [
      "(256, 512)\n",
      "(256, 512)\n"
     ]
    },
    {
     "name": "stderr",
     "output_type": "stream",
     "text": [
      "\r",
      " 82%|███████████████████████████████████████████████████████████████▋              | 1716/2101 [02:20<00:30, 12.42it/s]"
     ]
    },
    {
     "name": "stdout",
     "output_type": "stream",
     "text": [
      "(256, 512)\n",
      "(256, 512)\n"
     ]
    },
    {
     "name": "stderr",
     "output_type": "stream",
     "text": [
      "\r",
      " 82%|███████████████████████████████████████████████████████████████▊              | 1718/2101 [02:20<00:30, 12.63it/s]"
     ]
    },
    {
     "name": "stdout",
     "output_type": "stream",
     "text": [
      "(256, 512)\n",
      "(256, 512)\n"
     ]
    },
    {
     "name": "stderr",
     "output_type": "stream",
     "text": [
      "\r",
      " 82%|███████████████████████████████████████████████████████████████▊              | 1720/2101 [02:20<00:30, 12.64it/s]"
     ]
    },
    {
     "name": "stdout",
     "output_type": "stream",
     "text": [
      "(256, 512)\n",
      "(256, 512)\n"
     ]
    },
    {
     "name": "stderr",
     "output_type": "stream",
     "text": [
      "\r",
      " 82%|███████████████████████████████████████████████████████████████▉              | 1722/2101 [02:20<00:29, 12.69it/s]"
     ]
    },
    {
     "name": "stdout",
     "output_type": "stream",
     "text": [
      "(256, 512)\n",
      "(256, 512)\n"
     ]
    },
    {
     "name": "stderr",
     "output_type": "stream",
     "text": [
      "\r",
      " 82%|████████████████████████████████████████████████████████████████              | 1724/2101 [02:20<00:29, 12.81it/s]"
     ]
    },
    {
     "name": "stdout",
     "output_type": "stream",
     "text": [
      "(256, 512)\n",
      "(256, 512)\n"
     ]
    },
    {
     "name": "stderr",
     "output_type": "stream",
     "text": [
      "\r",
      " 82%|████████████████████████████████████████████████████████████████              | 1726/2101 [02:21<00:29, 12.71it/s]"
     ]
    },
    {
     "name": "stdout",
     "output_type": "stream",
     "text": [
      "(256, 512)\n",
      "(256, 512)\n"
     ]
    },
    {
     "name": "stderr",
     "output_type": "stream",
     "text": [
      "\r",
      " 82%|████████████████████████████████████████████████████████████████▏             | 1728/2101 [02:21<00:29, 12.64it/s]"
     ]
    },
    {
     "name": "stdout",
     "output_type": "stream",
     "text": [
      "(256, 512)\n",
      "(256, 512)\n"
     ]
    },
    {
     "name": "stderr",
     "output_type": "stream",
     "text": [
      "\r",
      " 82%|████████████████████████████████████████████████████████████████▏             | 1730/2101 [02:21<00:29, 12.58it/s]"
     ]
    },
    {
     "name": "stdout",
     "output_type": "stream",
     "text": [
      "(256, 512)\n",
      "(256, 512)\n"
     ]
    },
    {
     "name": "stderr",
     "output_type": "stream",
     "text": [
      "\r",
      " 82%|████████████████████████████████████████████████████████████████▎             | 1732/2101 [02:21<00:29, 12.55it/s]"
     ]
    },
    {
     "name": "stdout",
     "output_type": "stream",
     "text": [
      "(256, 512)\n",
      "(256, 512)\n"
     ]
    },
    {
     "name": "stderr",
     "output_type": "stream",
     "text": [
      "\r",
      " 83%|████████████████████████████████████████████████████████████████▍             | 1734/2101 [02:21<00:29, 12.54it/s]"
     ]
    },
    {
     "name": "stdout",
     "output_type": "stream",
     "text": [
      "(256, 512)\n",
      "(256, 512)\n"
     ]
    },
    {
     "name": "stderr",
     "output_type": "stream",
     "text": [
      "\r",
      " 83%|████████████████████████████████████████████████████████████████▍             | 1736/2101 [02:21<00:29, 12.25it/s]"
     ]
    },
    {
     "name": "stdout",
     "output_type": "stream",
     "text": [
      "(256, 512)\n",
      "(256, 512)\n"
     ]
    },
    {
     "name": "stderr",
     "output_type": "stream",
     "text": [
      "\r",
      " 83%|████████████████████████████████████████████████████████████████▌             | 1738/2101 [02:21<00:29, 12.36it/s]"
     ]
    },
    {
     "name": "stdout",
     "output_type": "stream",
     "text": [
      "(256, 512)\n",
      "(256, 512)\n"
     ]
    },
    {
     "name": "stderr",
     "output_type": "stream",
     "text": [
      "\r",
      " 83%|████████████████████████████████████████████████████████████████▌             | 1740/2101 [02:22<00:29, 12.43it/s]"
     ]
    },
    {
     "name": "stdout",
     "output_type": "stream",
     "text": [
      "(256, 512)\n",
      "(256, 512)\n"
     ]
    },
    {
     "name": "stderr",
     "output_type": "stream",
     "text": [
      "\r",
      " 83%|████████████████████████████████████████████████████████████████▋             | 1742/2101 [02:22<00:28, 12.47it/s]"
     ]
    },
    {
     "name": "stdout",
     "output_type": "stream",
     "text": [
      "(256, 512)\n",
      "(256, 512)\n"
     ]
    },
    {
     "name": "stderr",
     "output_type": "stream",
     "text": [
      "\r",
      " 83%|████████████████████████████████████████████████████████████████▋             | 1744/2101 [02:22<00:28, 12.55it/s]"
     ]
    },
    {
     "name": "stdout",
     "output_type": "stream",
     "text": [
      "(256, 512)\n",
      "(256, 512)\n"
     ]
    },
    {
     "name": "stderr",
     "output_type": "stream",
     "text": [
      "\r",
      " 83%|████████████████████████████████████████████████████████████████▊             | 1746/2101 [02:22<00:28, 12.54it/s]"
     ]
    },
    {
     "name": "stdout",
     "output_type": "stream",
     "text": [
      "(256, 512)\n",
      "(256, 512)\n"
     ]
    },
    {
     "name": "stderr",
     "output_type": "stream",
     "text": [
      "\r",
      " 83%|████████████████████████████████████████████████████████████████▉             | 1748/2101 [02:22<00:28, 12.48it/s]"
     ]
    },
    {
     "name": "stdout",
     "output_type": "stream",
     "text": [
      "(256, 512)\n",
      "(256, 512)\n"
     ]
    },
    {
     "name": "stderr",
     "output_type": "stream",
     "text": [
      "\r",
      " 83%|████████████████████████████████████████████████████████████████▉             | 1750/2101 [02:22<00:28, 12.41it/s]"
     ]
    },
    {
     "name": "stdout",
     "output_type": "stream",
     "text": [
      "(256, 512)\n",
      "(256, 512)\n"
     ]
    },
    {
     "name": "stderr",
     "output_type": "stream",
     "text": [
      "\r",
      " 83%|█████████████████████████████████████████████████████████████████             | 1752/2101 [02:23<00:28, 12.37it/s]"
     ]
    },
    {
     "name": "stdout",
     "output_type": "stream",
     "text": [
      "(256, 512)\n",
      "(256, 512)\n"
     ]
    },
    {
     "name": "stderr",
     "output_type": "stream",
     "text": [
      "\r",
      " 83%|█████████████████████████████████████████████████████████████████             | 1754/2101 [02:23<00:28, 12.32it/s]"
     ]
    },
    {
     "name": "stdout",
     "output_type": "stream",
     "text": [
      "(256, 512)\n",
      "(256, 512)\n"
     ]
    },
    {
     "name": "stderr",
     "output_type": "stream",
     "text": [
      "\r",
      " 84%|█████████████████████████████████████████████████████████████████▏            | 1756/2101 [02:23<00:28, 12.26it/s]"
     ]
    },
    {
     "name": "stdout",
     "output_type": "stream",
     "text": [
      "(256, 512)\n",
      "(256, 512)\n"
     ]
    },
    {
     "name": "stderr",
     "output_type": "stream",
     "text": [
      "\r",
      " 84%|█████████████████████████████████████████████████████████████████▎            | 1758/2101 [02:23<00:27, 12.28it/s]"
     ]
    },
    {
     "name": "stdout",
     "output_type": "stream",
     "text": [
      "(256, 512)\n",
      "(256, 512)\n"
     ]
    },
    {
     "name": "stderr",
     "output_type": "stream",
     "text": [
      "\r",
      " 84%|█████████████████████████████████████████████████████████████████▎            | 1760/2101 [02:23<00:27, 12.46it/s]"
     ]
    },
    {
     "name": "stdout",
     "output_type": "stream",
     "text": [
      "(256, 512)\n",
      "(256, 512)\n"
     ]
    },
    {
     "name": "stderr",
     "output_type": "stream",
     "text": [
      "\r",
      " 84%|█████████████████████████████████████████████████████████████████▍            | 1762/2101 [02:23<00:27, 12.47it/s]"
     ]
    },
    {
     "name": "stdout",
     "output_type": "stream",
     "text": [
      "(256, 512)\n",
      "(256, 512)\n"
     ]
    },
    {
     "name": "stderr",
     "output_type": "stream",
     "text": [
      "\r",
      " 84%|█████████████████████████████████████████████████████████████████▍            | 1764/2101 [02:24<00:27, 12.44it/s]"
     ]
    },
    {
     "name": "stdout",
     "output_type": "stream",
     "text": [
      "(256, 512)\n",
      "(256, 512)\n"
     ]
    },
    {
     "name": "stderr",
     "output_type": "stream",
     "text": [
      "\r",
      " 84%|█████████████████████████████████████████████████████████████████▌            | 1766/2101 [02:24<00:26, 12.45it/s]"
     ]
    },
    {
     "name": "stdout",
     "output_type": "stream",
     "text": [
      "(256, 512)\n",
      "(256, 512)\n"
     ]
    },
    {
     "name": "stderr",
     "output_type": "stream",
     "text": [
      "\r",
      " 84%|█████████████████████████████████████████████████████████████████▋            | 1768/2101 [02:24<00:26, 12.49it/s]"
     ]
    },
    {
     "name": "stdout",
     "output_type": "stream",
     "text": [
      "(256, 512)\n",
      "(256, 512)\n"
     ]
    },
    {
     "name": "stderr",
     "output_type": "stream",
     "text": [
      "\r",
      " 84%|█████████████████████████████████████████████████████████████████▋            | 1770/2101 [02:24<00:26, 12.42it/s]"
     ]
    },
    {
     "name": "stdout",
     "output_type": "stream",
     "text": [
      "(256, 512)\n",
      "(256, 512)\n"
     ]
    },
    {
     "name": "stderr",
     "output_type": "stream",
     "text": [
      "\r",
      " 84%|█████████████████████████████████████████████████████████████████▊            | 1772/2101 [02:24<00:26, 12.35it/s]"
     ]
    },
    {
     "name": "stdout",
     "output_type": "stream",
     "text": [
      "(256, 512)\n",
      "(256, 512)\n"
     ]
    },
    {
     "name": "stderr",
     "output_type": "stream",
     "text": [
      "\r",
      " 84%|█████████████████████████████████████████████████████████████████▊            | 1774/2101 [02:24<00:26, 12.42it/s]"
     ]
    },
    {
     "name": "stdout",
     "output_type": "stream",
     "text": [
      "(256, 512)\n",
      "(256, 512)\n"
     ]
    },
    {
     "name": "stderr",
     "output_type": "stream",
     "text": [
      "\r",
      " 85%|█████████████████████████████████████████████████████████████████▉            | 1776/2101 [02:25<00:26, 12.42it/s]"
     ]
    },
    {
     "name": "stdout",
     "output_type": "stream",
     "text": [
      "(256, 512)\n",
      "(256, 512)\n"
     ]
    },
    {
     "name": "stderr",
     "output_type": "stream",
     "text": [
      "\r",
      " 85%|██████████████████████████████████████████████████████████████████            | 1778/2101 [02:25<00:26, 12.40it/s]"
     ]
    },
    {
     "name": "stdout",
     "output_type": "stream",
     "text": [
      "(256, 512)\n",
      "(256, 512)\n"
     ]
    },
    {
     "name": "stderr",
     "output_type": "stream",
     "text": [
      "\r",
      " 85%|██████████████████████████████████████████████████████████████████            | 1780/2101 [02:25<00:25, 12.48it/s]"
     ]
    },
    {
     "name": "stdout",
     "output_type": "stream",
     "text": [
      "(256, 512)\n",
      "(256, 512)\n"
     ]
    },
    {
     "name": "stderr",
     "output_type": "stream",
     "text": [
      "\r",
      " 85%|██████████████████████████████████████████████████████████████████▏           | 1782/2101 [02:25<00:25, 12.51it/s]"
     ]
    },
    {
     "name": "stdout",
     "output_type": "stream",
     "text": [
      "(256, 512)\n",
      "(256, 512)\n"
     ]
    },
    {
     "name": "stderr",
     "output_type": "stream",
     "text": [
      "\r",
      " 85%|██████████████████████████████████████████████████████████████████▏           | 1784/2101 [02:25<00:25, 12.43it/s]"
     ]
    },
    {
     "name": "stdout",
     "output_type": "stream",
     "text": [
      "(256, 512)\n",
      "(256, 512)\n"
     ]
    },
    {
     "name": "stderr",
     "output_type": "stream",
     "text": [
      "\r",
      " 85%|██████████████████████████████████████████████████████████████████▎           | 1786/2101 [02:25<00:25, 12.43it/s]"
     ]
    },
    {
     "name": "stdout",
     "output_type": "stream",
     "text": [
      "(256, 512)\n",
      "(256, 512)\n"
     ]
    },
    {
     "name": "stderr",
     "output_type": "stream",
     "text": [
      "\r",
      " 85%|██████████████████████████████████████████████████████████████████▍           | 1788/2101 [02:25<00:25, 12.45it/s]"
     ]
    },
    {
     "name": "stdout",
     "output_type": "stream",
     "text": [
      "(256, 512)\n",
      "(256, 512)\n"
     ]
    },
    {
     "name": "stderr",
     "output_type": "stream",
     "text": [
      "\r",
      " 85%|██████████████████████████████████████████████████████████████████▍           | 1790/2101 [02:26<00:25, 12.32it/s]"
     ]
    },
    {
     "name": "stdout",
     "output_type": "stream",
     "text": [
      "(256, 512)\n",
      "(256, 512)\n"
     ]
    },
    {
     "name": "stderr",
     "output_type": "stream",
     "text": [
      "\r",
      " 85%|██████████████████████████████████████████████████████████████████▌           | 1792/2101 [02:26<00:26, 11.84it/s]"
     ]
    },
    {
     "name": "stdout",
     "output_type": "stream",
     "text": [
      "(256, 512)\n",
      "(256, 512)\n"
     ]
    },
    {
     "name": "stderr",
     "output_type": "stream",
     "text": [
      "\r",
      " 85%|██████████████████████████████████████████████████████████████████▌           | 1794/2101 [02:26<00:25, 11.92it/s]"
     ]
    },
    {
     "name": "stdout",
     "output_type": "stream",
     "text": [
      "(256, 512)\n",
      "(256, 512)\n"
     ]
    },
    {
     "name": "stderr",
     "output_type": "stream",
     "text": [
      "\r",
      " 85%|██████████████████████████████████████████████████████████████████▋           | 1796/2101 [02:26<00:25, 11.93it/s]"
     ]
    },
    {
     "name": "stdout",
     "output_type": "stream",
     "text": [
      "(256, 512)\n",
      "(256, 512)\n"
     ]
    },
    {
     "name": "stderr",
     "output_type": "stream",
     "text": [
      "\r",
      " 86%|██████████████████████████████████████████████████████████████████▊           | 1798/2101 [02:26<00:25, 12.06it/s]"
     ]
    },
    {
     "name": "stdout",
     "output_type": "stream",
     "text": [
      "(256, 512)\n",
      "(256, 512)\n"
     ]
    },
    {
     "name": "stderr",
     "output_type": "stream",
     "text": [
      "\r",
      " 86%|██████████████████████████████████████████████████████████████████▊           | 1800/2101 [02:27<00:25, 11.87it/s]"
     ]
    },
    {
     "name": "stdout",
     "output_type": "stream",
     "text": [
      "(256, 512)\n",
      "(256, 512)\n"
     ]
    },
    {
     "name": "stderr",
     "output_type": "stream",
     "text": [
      "\r",
      " 86%|██████████████████████████████████████████████████████████████████▉           | 1802/2101 [02:27<00:24, 12.00it/s]"
     ]
    },
    {
     "name": "stdout",
     "output_type": "stream",
     "text": [
      "(256, 512)\n",
      "(256, 512)\n"
     ]
    },
    {
     "name": "stderr",
     "output_type": "stream",
     "text": [
      "\r",
      " 86%|██████████████████████████████████████████████████████████████████▉           | 1804/2101 [02:27<00:24, 12.10it/s]"
     ]
    },
    {
     "name": "stdout",
     "output_type": "stream",
     "text": [
      "(256, 512)\n",
      "(256, 512)\n"
     ]
    },
    {
     "name": "stderr",
     "output_type": "stream",
     "text": [
      "\r",
      " 86%|███████████████████████████████████████████████████████████████████           | 1806/2101 [02:27<00:24, 12.12it/s]"
     ]
    },
    {
     "name": "stdout",
     "output_type": "stream",
     "text": [
      "(256, 512)\n",
      "(256, 512)\n"
     ]
    },
    {
     "name": "stderr",
     "output_type": "stream",
     "text": [
      "\r",
      " 86%|███████████████████████████████████████████████████████████████████           | 1808/2101 [02:27<00:24, 11.74it/s]"
     ]
    },
    {
     "name": "stdout",
     "output_type": "stream",
     "text": [
      "(256, 512)\n",
      "(256, 512)\n"
     ]
    },
    {
     "name": "stderr",
     "output_type": "stream",
     "text": [
      "\r",
      " 86%|███████████████████████████████████████████████████████████████████▏          | 1810/2101 [02:27<00:24, 11.89it/s]"
     ]
    },
    {
     "name": "stdout",
     "output_type": "stream",
     "text": [
      "(256, 512)\n",
      "(256, 512)\n"
     ]
    },
    {
     "name": "stderr",
     "output_type": "stream",
     "text": [
      "\r",
      " 86%|███████████████████████████████████████████████████████████████████▎          | 1812/2101 [02:28<00:24, 11.91it/s]"
     ]
    },
    {
     "name": "stdout",
     "output_type": "stream",
     "text": [
      "(256, 512)\n",
      "(256, 512)\n"
     ]
    },
    {
     "name": "stderr",
     "output_type": "stream",
     "text": [
      "\r",
      " 86%|███████████████████████████████████████████████████████████████████▎          | 1814/2101 [02:28<00:24, 11.95it/s]"
     ]
    },
    {
     "name": "stdout",
     "output_type": "stream",
     "text": [
      "(256, 512)\n",
      "(256, 512)\n"
     ]
    },
    {
     "name": "stderr",
     "output_type": "stream",
     "text": [
      "\r",
      " 86%|███████████████████████████████████████████████████████████████████▍          | 1816/2101 [02:28<00:23, 12.01it/s]"
     ]
    },
    {
     "name": "stdout",
     "output_type": "stream",
     "text": [
      "(256, 512)\n",
      "(256, 512)\n"
     ]
    },
    {
     "name": "stderr",
     "output_type": "stream",
     "text": [
      "\r",
      " 87%|███████████████████████████████████████████████████████████████████▍          | 1818/2101 [02:28<00:23, 12.00it/s]"
     ]
    },
    {
     "name": "stdout",
     "output_type": "stream",
     "text": [
      "(256, 512)\n",
      "(256, 512)\n"
     ]
    },
    {
     "name": "stderr",
     "output_type": "stream",
     "text": [
      "\r",
      " 87%|███████████████████████████████████████████████████████████████████▌          | 1820/2101 [02:28<00:23, 12.04it/s]"
     ]
    },
    {
     "name": "stdout",
     "output_type": "stream",
     "text": [
      "(256, 512)\n",
      "(256, 512)\n"
     ]
    },
    {
     "name": "stderr",
     "output_type": "stream",
     "text": [
      "\r",
      " 87%|███████████████████████████████████████████████████████████████████▋          | 1822/2101 [02:28<00:23, 12.00it/s]"
     ]
    },
    {
     "name": "stdout",
     "output_type": "stream",
     "text": [
      "(256, 512)\n",
      "(256, 512)\n"
     ]
    },
    {
     "name": "stderr",
     "output_type": "stream",
     "text": [
      "\r",
      " 87%|███████████████████████████████████████████████████████████████████▋          | 1824/2101 [02:29<00:23, 11.90it/s]"
     ]
    },
    {
     "name": "stdout",
     "output_type": "stream",
     "text": [
      "(256, 512)\n",
      "(256, 512)\n"
     ]
    },
    {
     "name": "stderr",
     "output_type": "stream",
     "text": [
      "\r",
      " 87%|███████████████████████████████████████████████████████████████████▊          | 1826/2101 [02:29<00:23, 11.67it/s]"
     ]
    },
    {
     "name": "stdout",
     "output_type": "stream",
     "text": [
      "(256, 512)\n",
      "(256, 512)\n"
     ]
    },
    {
     "name": "stderr",
     "output_type": "stream",
     "text": [
      "\r",
      " 87%|███████████████████████████████████████████████████████████████████▊          | 1828/2101 [02:29<00:23, 11.81it/s]"
     ]
    },
    {
     "name": "stdout",
     "output_type": "stream",
     "text": [
      "(256, 512)\n",
      "(256, 512)\n"
     ]
    },
    {
     "name": "stderr",
     "output_type": "stream",
     "text": [
      "\r",
      " 87%|███████████████████████████████████████████████████████████████████▉          | 1830/2101 [02:29<00:22, 11.85it/s]"
     ]
    },
    {
     "name": "stdout",
     "output_type": "stream",
     "text": [
      "(256, 512)\n",
      "(256, 512)\n"
     ]
    },
    {
     "name": "stderr",
     "output_type": "stream",
     "text": [
      "\r",
      " 87%|████████████████████████████████████████████████████████████████████          | 1832/2101 [02:29<00:22, 12.01it/s]"
     ]
    },
    {
     "name": "stdout",
     "output_type": "stream",
     "text": [
      "(256, 512)\n",
      "(256, 512)\n"
     ]
    },
    {
     "name": "stderr",
     "output_type": "stream",
     "text": [
      "\r",
      " 87%|████████████████████████████████████████████████████████████████████          | 1834/2101 [02:29<00:21, 12.19it/s]"
     ]
    },
    {
     "name": "stdout",
     "output_type": "stream",
     "text": [
      "(256, 512)\n",
      "(256, 512)\n"
     ]
    },
    {
     "name": "stderr",
     "output_type": "stream",
     "text": [
      "\r",
      " 87%|████████████████████████████████████████████████████████████████████▏         | 1836/2101 [02:30<00:21, 12.27it/s]"
     ]
    },
    {
     "name": "stdout",
     "output_type": "stream",
     "text": [
      "(256, 512)\n",
      "(256, 512)\n"
     ]
    },
    {
     "name": "stderr",
     "output_type": "stream",
     "text": [
      "\r",
      " 87%|████████████████████████████████████████████████████████████████████▏         | 1838/2101 [02:30<00:21, 12.36it/s]"
     ]
    },
    {
     "name": "stdout",
     "output_type": "stream",
     "text": [
      "(256, 512)\n",
      "(256, 512)\n"
     ]
    },
    {
     "name": "stderr",
     "output_type": "stream",
     "text": [
      "\r",
      " 88%|████████████████████████████████████████████████████████████████████▎         | 1840/2101 [02:30<00:21, 12.33it/s]"
     ]
    },
    {
     "name": "stdout",
     "output_type": "stream",
     "text": [
      "(256, 512)\n",
      "(256, 512)\n"
     ]
    },
    {
     "name": "stderr",
     "output_type": "stream",
     "text": [
      "\r",
      " 88%|████████████████████████████████████████████████████████████████████▍         | 1842/2101 [02:30<00:20, 12.45it/s]"
     ]
    },
    {
     "name": "stdout",
     "output_type": "stream",
     "text": [
      "(256, 512)\n",
      "(256, 512)\n"
     ]
    },
    {
     "name": "stderr",
     "output_type": "stream",
     "text": [
      "\r",
      " 88%|████████████████████████████████████████████████████████████████████▍         | 1844/2101 [02:30<00:20, 12.46it/s]"
     ]
    },
    {
     "name": "stdout",
     "output_type": "stream",
     "text": [
      "(256, 512)\n",
      "(256, 512)\n"
     ]
    },
    {
     "name": "stderr",
     "output_type": "stream",
     "text": [
      "\r",
      " 88%|████████████████████████████████████████████████████████████████████▌         | 1846/2101 [02:30<00:20, 12.56it/s]"
     ]
    },
    {
     "name": "stdout",
     "output_type": "stream",
     "text": [
      "(256, 512)\n",
      "(256, 512)\n"
     ]
    },
    {
     "name": "stderr",
     "output_type": "stream",
     "text": [
      "\r",
      " 88%|████████████████████████████████████████████████████████████████████▌         | 1848/2101 [02:30<00:20, 12.53it/s]"
     ]
    },
    {
     "name": "stdout",
     "output_type": "stream",
     "text": [
      "(256, 512)\n",
      "(256, 512)\n"
     ]
    },
    {
     "name": "stderr",
     "output_type": "stream",
     "text": [
      "\r",
      " 88%|████████████████████████████████████████████████████████████████████▋         | 1850/2101 [02:31<00:20, 12.48it/s]"
     ]
    },
    {
     "name": "stdout",
     "output_type": "stream",
     "text": [
      "(256, 512)\n",
      "(256, 512)\n"
     ]
    },
    {
     "name": "stderr",
     "output_type": "stream",
     "text": [
      "\r",
      " 88%|████████████████████████████████████████████████████████████████████▊         | 1852/2101 [02:31<00:19, 12.52it/s]"
     ]
    },
    {
     "name": "stdout",
     "output_type": "stream",
     "text": [
      "(256, 512)\n",
      "(256, 512)\n"
     ]
    },
    {
     "name": "stderr",
     "output_type": "stream",
     "text": [
      "\r",
      " 88%|████████████████████████████████████████████████████████████████████▊         | 1854/2101 [02:31<00:19, 12.44it/s]"
     ]
    },
    {
     "name": "stdout",
     "output_type": "stream",
     "text": [
      "(256, 512)\n",
      "(256, 512)\n"
     ]
    },
    {
     "name": "stderr",
     "output_type": "stream",
     "text": [
      "\r",
      " 88%|████████████████████████████████████████████████████████████████████▉         | 1856/2101 [02:31<00:19, 12.42it/s]"
     ]
    },
    {
     "name": "stdout",
     "output_type": "stream",
     "text": [
      "(256, 512)\n",
      "(256, 512)\n"
     ]
    },
    {
     "name": "stderr",
     "output_type": "stream",
     "text": [
      "\r",
      " 88%|████████████████████████████████████████████████████████████████████▉         | 1858/2101 [02:31<00:19, 12.49it/s]"
     ]
    },
    {
     "name": "stdout",
     "output_type": "stream",
     "text": [
      "(256, 512)\n",
      "(256, 512)\n"
     ]
    },
    {
     "name": "stderr",
     "output_type": "stream",
     "text": [
      "\r",
      " 89%|█████████████████████████████████████████████████████████████████████         | 1860/2101 [02:31<00:19, 12.52it/s]"
     ]
    },
    {
     "name": "stdout",
     "output_type": "stream",
     "text": [
      "(256, 512)\n",
      "(256, 512)\n"
     ]
    },
    {
     "name": "stderr",
     "output_type": "stream",
     "text": [
      "\r",
      " 89%|█████████████████████████████████████████████████████████████████████▏        | 1862/2101 [02:32<00:19, 12.51it/s]"
     ]
    },
    {
     "name": "stdout",
     "output_type": "stream",
     "text": [
      "(256, 512)\n",
      "(256, 512)\n"
     ]
    },
    {
     "name": "stderr",
     "output_type": "stream",
     "text": [
      "\r",
      " 89%|█████████████████████████████████████████████████████████████████████▏        | 1864/2101 [02:32<00:19, 12.40it/s]"
     ]
    },
    {
     "name": "stdout",
     "output_type": "stream",
     "text": [
      "(256, 512)\n",
      "(256, 512)\n"
     ]
    },
    {
     "name": "stderr",
     "output_type": "stream",
     "text": [
      "\r",
      " 89%|█████████████████████████████████████████████████████████████████████▎        | 1866/2101 [02:32<00:19, 12.30it/s]"
     ]
    },
    {
     "name": "stdout",
     "output_type": "stream",
     "text": [
      "(256, 512)\n",
      "(256, 512)\n"
     ]
    },
    {
     "name": "stderr",
     "output_type": "stream",
     "text": [
      "\r",
      " 89%|█████████████████████████████████████████████████████████████████████▎        | 1868/2101 [02:32<00:18, 12.31it/s]"
     ]
    },
    {
     "name": "stdout",
     "output_type": "stream",
     "text": [
      "(256, 512)\n",
      "(256, 512)\n"
     ]
    },
    {
     "name": "stderr",
     "output_type": "stream",
     "text": [
      "\r",
      " 89%|█████████████████████████████████████████████████████████████████████▍        | 1870/2101 [02:32<00:18, 12.40it/s]"
     ]
    },
    {
     "name": "stdout",
     "output_type": "stream",
     "text": [
      "(256, 512)\n",
      "(256, 512)\n"
     ]
    },
    {
     "name": "stderr",
     "output_type": "stream",
     "text": [
      "\r",
      " 89%|█████████████████████████████████████████████████████████████████████▍        | 1872/2101 [02:32<00:18, 12.34it/s]"
     ]
    },
    {
     "name": "stdout",
     "output_type": "stream",
     "text": [
      "(256, 512)\n",
      "(256, 512)\n"
     ]
    },
    {
     "name": "stderr",
     "output_type": "stream",
     "text": [
      "\r",
      " 89%|█████████████████████████████████████████████████████████████████████▌        | 1874/2101 [02:33<00:18, 12.32it/s]"
     ]
    },
    {
     "name": "stdout",
     "output_type": "stream",
     "text": [
      "(256, 512)\n",
      "(256, 512)\n"
     ]
    },
    {
     "name": "stderr",
     "output_type": "stream",
     "text": [
      "\r",
      " 89%|█████████████████████████████████████████████████████████████████████▋        | 1876/2101 [02:33<00:18, 12.35it/s]"
     ]
    },
    {
     "name": "stdout",
     "output_type": "stream",
     "text": [
      "(256, 512)\n",
      "(256, 512)\n"
     ]
    },
    {
     "name": "stderr",
     "output_type": "stream",
     "text": [
      "\r",
      " 89%|█████████████████████████████████████████████████████████████████████▋        | 1878/2101 [02:33<00:18, 12.35it/s]"
     ]
    },
    {
     "name": "stdout",
     "output_type": "stream",
     "text": [
      "(256, 512)\n",
      "(256, 512)\n"
     ]
    },
    {
     "name": "stderr",
     "output_type": "stream",
     "text": [
      "\r",
      " 89%|█████████████████████████████████████████████████████████████████████▊        | 1880/2101 [02:33<00:17, 12.31it/s]"
     ]
    },
    {
     "name": "stdout",
     "output_type": "stream",
     "text": [
      "(256, 512)\n",
      "(256, 512)\n"
     ]
    },
    {
     "name": "stderr",
     "output_type": "stream",
     "text": [
      "\r",
      " 90%|█████████████████████████████████████████████████████████████████████▊        | 1882/2101 [02:33<00:17, 12.34it/s]"
     ]
    },
    {
     "name": "stdout",
     "output_type": "stream",
     "text": [
      "(256, 512)\n",
      "(256, 512)\n"
     ]
    },
    {
     "name": "stderr",
     "output_type": "stream",
     "text": [
      "\r",
      " 90%|█████████████████████████████████████████████████████████████████████▉        | 1884/2101 [02:33<00:17, 12.34it/s]"
     ]
    },
    {
     "name": "stdout",
     "output_type": "stream",
     "text": [
      "(256, 512)\n",
      "(256, 512)\n"
     ]
    },
    {
     "name": "stderr",
     "output_type": "stream",
     "text": [
      "\r",
      " 90%|██████████████████████████████████████████████████████████████████████        | 1886/2101 [02:34<00:17, 12.31it/s]"
     ]
    },
    {
     "name": "stdout",
     "output_type": "stream",
     "text": [
      "(256, 512)\n",
      "(256, 512)\n"
     ]
    },
    {
     "name": "stderr",
     "output_type": "stream",
     "text": [
      "\r",
      " 90%|██████████████████████████████████████████████████████████████████████        | 1888/2101 [02:34<00:17, 12.33it/s]"
     ]
    },
    {
     "name": "stdout",
     "output_type": "stream",
     "text": [
      "(256, 512)\n",
      "(256, 512)\n"
     ]
    },
    {
     "name": "stderr",
     "output_type": "stream",
     "text": [
      "\r",
      " 90%|██████████████████████████████████████████████████████████████████████▏       | 1890/2101 [02:34<00:16, 12.45it/s]"
     ]
    },
    {
     "name": "stdout",
     "output_type": "stream",
     "text": [
      "(256, 512)\n",
      "(256, 512)\n"
     ]
    },
    {
     "name": "stderr",
     "output_type": "stream",
     "text": [
      "\r",
      " 90%|██████████████████████████████████████████████████████████████████████▏       | 1892/2101 [02:34<00:16, 12.42it/s]"
     ]
    },
    {
     "name": "stdout",
     "output_type": "stream",
     "text": [
      "(256, 512)\n",
      "(256, 512)\n"
     ]
    },
    {
     "name": "stderr",
     "output_type": "stream",
     "text": [
      "\r",
      " 90%|██████████████████████████████████████████████████████████████████████▎       | 1894/2101 [02:34<00:16, 12.47it/s]"
     ]
    },
    {
     "name": "stdout",
     "output_type": "stream",
     "text": [
      "(256, 512)\n",
      "(256, 512)\n"
     ]
    },
    {
     "name": "stderr",
     "output_type": "stream",
     "text": [
      "\r",
      " 90%|██████████████████████████████████████████████████████████████████████▍       | 1896/2101 [02:34<00:16, 12.40it/s]"
     ]
    },
    {
     "name": "stdout",
     "output_type": "stream",
     "text": [
      "(256, 512)\n",
      "(256, 512)\n"
     ]
    },
    {
     "name": "stderr",
     "output_type": "stream",
     "text": [
      "\r",
      " 90%|██████████████████████████████████████████████████████████████████████▍       | 1898/2101 [02:35<00:16, 12.27it/s]"
     ]
    },
    {
     "name": "stdout",
     "output_type": "stream",
     "text": [
      "(256, 512)\n",
      "(256, 512)\n"
     ]
    },
    {
     "name": "stderr",
     "output_type": "stream",
     "text": [
      "\r",
      " 90%|██████████████████████████████████████████████████████████████████████▌       | 1900/2101 [02:35<00:16, 12.31it/s]"
     ]
    },
    {
     "name": "stdout",
     "output_type": "stream",
     "text": [
      "(256, 512)\n",
      "(256, 512)\n"
     ]
    },
    {
     "name": "stderr",
     "output_type": "stream",
     "text": [
      "\r",
      " 91%|██████████████████████████████████████████████████████████████████████▌       | 1902/2101 [02:35<00:16, 12.36it/s]"
     ]
    },
    {
     "name": "stdout",
     "output_type": "stream",
     "text": [
      "(256, 512)\n",
      "(256, 512)\n"
     ]
    },
    {
     "name": "stderr",
     "output_type": "stream",
     "text": [
      "\r",
      " 91%|██████████████████████████████████████████████████████████████████████▋       | 1904/2101 [02:35<00:15, 12.32it/s]"
     ]
    },
    {
     "name": "stdout",
     "output_type": "stream",
     "text": [
      "(256, 512)\n",
      "(256, 512)\n"
     ]
    },
    {
     "name": "stderr",
     "output_type": "stream",
     "text": [
      "\r",
      " 91%|██████████████████████████████████████████████████████████████████████▊       | 1906/2101 [02:35<00:15, 12.40it/s]"
     ]
    },
    {
     "name": "stdout",
     "output_type": "stream",
     "text": [
      "(256, 512)\n",
      "(256, 512)\n"
     ]
    },
    {
     "name": "stderr",
     "output_type": "stream",
     "text": [
      "\r",
      " 91%|██████████████████████████████████████████████████████████████████████▊       | 1908/2101 [02:35<00:15, 12.38it/s]"
     ]
    },
    {
     "name": "stdout",
     "output_type": "stream",
     "text": [
      "(256, 512)\n",
      "(256, 512)\n"
     ]
    },
    {
     "name": "stderr",
     "output_type": "stream",
     "text": [
      "\r",
      " 91%|██████████████████████████████████████████████████████████████████████▉       | 1910/2101 [02:35<00:15, 12.36it/s]"
     ]
    },
    {
     "name": "stdout",
     "output_type": "stream",
     "text": [
      "(256, 512)\n",
      "(256, 512)\n"
     ]
    },
    {
     "name": "stderr",
     "output_type": "stream",
     "text": [
      "\r",
      " 91%|██████████████████████████████████████████████████████████████████████▉       | 1912/2101 [02:36<00:15, 12.37it/s]"
     ]
    },
    {
     "name": "stdout",
     "output_type": "stream",
     "text": [
      "(256, 512)\n",
      "(256, 512)\n"
     ]
    },
    {
     "name": "stderr",
     "output_type": "stream",
     "text": [
      "\r",
      " 91%|███████████████████████████████████████████████████████████████████████       | 1914/2101 [02:36<00:15, 12.34it/s]"
     ]
    },
    {
     "name": "stdout",
     "output_type": "stream",
     "text": [
      "(256, 512)\n",
      "(256, 512)\n"
     ]
    },
    {
     "name": "stderr",
     "output_type": "stream",
     "text": [
      "\r",
      " 91%|███████████████████████████████████████████████████████████████████████▏      | 1916/2101 [02:36<00:15, 12.29it/s]"
     ]
    },
    {
     "name": "stdout",
     "output_type": "stream",
     "text": [
      "(256, 512)\n",
      "(256, 512)\n"
     ]
    },
    {
     "name": "stderr",
     "output_type": "stream",
     "text": [
      "\r",
      " 91%|███████████████████████████████████████████████████████████████████████▏      | 1918/2101 [02:36<00:14, 12.22it/s]"
     ]
    },
    {
     "name": "stdout",
     "output_type": "stream",
     "text": [
      "(256, 512)\n",
      "(256, 512)\n"
     ]
    },
    {
     "name": "stderr",
     "output_type": "stream",
     "text": [
      "\r",
      " 91%|███████████████████████████████████████████████████████████████████████▎      | 1920/2101 [02:36<00:14, 12.19it/s]"
     ]
    },
    {
     "name": "stdout",
     "output_type": "stream",
     "text": [
      "(256, 512)\n",
      "(256, 512)\n"
     ]
    },
    {
     "name": "stderr",
     "output_type": "stream",
     "text": [
      "\r",
      " 91%|███████████████████████████████████████████████████████████████████████▎      | 1922/2101 [02:36<00:14, 12.27it/s]"
     ]
    },
    {
     "name": "stdout",
     "output_type": "stream",
     "text": [
      "(256, 512)\n",
      "(256, 512)\n"
     ]
    },
    {
     "name": "stderr",
     "output_type": "stream",
     "text": [
      "\r",
      " 92%|███████████████████████████████████████████████████████████████████████▍      | 1924/2101 [02:37<00:14, 12.28it/s]"
     ]
    },
    {
     "name": "stdout",
     "output_type": "stream",
     "text": [
      "(256, 512)\n",
      "(256, 512)\n"
     ]
    },
    {
     "name": "stderr",
     "output_type": "stream",
     "text": [
      "\r",
      " 92%|███████████████████████████████████████████████████████████████████████▌      | 1926/2101 [02:37<00:14, 12.31it/s]"
     ]
    },
    {
     "name": "stdout",
     "output_type": "stream",
     "text": [
      "(256, 512)\n",
      "(256, 512)\n"
     ]
    },
    {
     "name": "stderr",
     "output_type": "stream",
     "text": [
      "\r",
      " 92%|███████████████████████████████████████████████████████████████████████▌      | 1928/2101 [02:37<00:14, 12.32it/s]"
     ]
    },
    {
     "name": "stdout",
     "output_type": "stream",
     "text": [
      "(256, 512)\n",
      "(256, 512)\n"
     ]
    },
    {
     "name": "stderr",
     "output_type": "stream",
     "text": [
      "\r",
      " 92%|███████████████████████████████████████████████████████████████████████▋      | 1930/2101 [02:37<00:13, 12.28it/s]"
     ]
    },
    {
     "name": "stdout",
     "output_type": "stream",
     "text": [
      "(256, 512)\n",
      "(256, 512)\n"
     ]
    },
    {
     "name": "stderr",
     "output_type": "stream",
     "text": [
      "\r",
      " 92%|███████████████████████████████████████████████████████████████████████▋      | 1932/2101 [02:37<00:13, 12.33it/s]"
     ]
    },
    {
     "name": "stdout",
     "output_type": "stream",
     "text": [
      "(256, 512)\n",
      "(256, 512)\n"
     ]
    },
    {
     "name": "stderr",
     "output_type": "stream",
     "text": [
      "\r",
      " 92%|███████████████████████████████████████████████████████████████████████▊      | 1934/2101 [02:37<00:13, 12.25it/s]"
     ]
    },
    {
     "name": "stdout",
     "output_type": "stream",
     "text": [
      "(256, 512)\n",
      "(256, 512)\n"
     ]
    },
    {
     "name": "stderr",
     "output_type": "stream",
     "text": [
      "\r",
      " 92%|███████████████████████████████████████████████████████████████████████▊      | 1936/2101 [02:38<00:13, 12.19it/s]"
     ]
    },
    {
     "name": "stdout",
     "output_type": "stream",
     "text": [
      "(256, 512)\n",
      "(256, 512)\n"
     ]
    },
    {
     "name": "stderr",
     "output_type": "stream",
     "text": [
      "\r",
      " 92%|███████████████████████████████████████████████████████████████████████▉      | 1938/2101 [02:38<00:13, 12.18it/s]"
     ]
    },
    {
     "name": "stdout",
     "output_type": "stream",
     "text": [
      "(256, 512)\n",
      "(256, 512)\n"
     ]
    },
    {
     "name": "stderr",
     "output_type": "stream",
     "text": [
      "\r",
      " 92%|████████████████████████████████████████████████████████████████████████      | 1940/2101 [02:38<00:13, 12.07it/s]"
     ]
    },
    {
     "name": "stdout",
     "output_type": "stream",
     "text": [
      "(256, 512)\n",
      "(256, 512)\n"
     ]
    },
    {
     "name": "stderr",
     "output_type": "stream",
     "text": [
      "\r",
      " 92%|████████████████████████████████████████████████████████████████████████      | 1942/2101 [02:38<00:13, 12.18it/s]"
     ]
    },
    {
     "name": "stdout",
     "output_type": "stream",
     "text": [
      "(256, 512)\n",
      "(256, 512)\n"
     ]
    },
    {
     "name": "stderr",
     "output_type": "stream",
     "text": [
      "\r",
      " 93%|████████████████████████████████████████████████████████████████████████▏     | 1944/2101 [02:38<00:12, 12.18it/s]"
     ]
    },
    {
     "name": "stdout",
     "output_type": "stream",
     "text": [
      "(256, 512)\n",
      "(256, 512)\n"
     ]
    },
    {
     "name": "stderr",
     "output_type": "stream",
     "text": [
      "\r",
      " 93%|████████████████████████████████████████████████████████████████████████▏     | 1946/2101 [02:38<00:12, 12.25it/s]"
     ]
    },
    {
     "name": "stdout",
     "output_type": "stream",
     "text": [
      "(256, 512)\n",
      "(256, 512)\n"
     ]
    },
    {
     "name": "stderr",
     "output_type": "stream",
     "text": [
      "\r",
      " 93%|████████████████████████████████████████████████████████████████████████▎     | 1948/2101 [02:39<00:12, 12.35it/s]"
     ]
    },
    {
     "name": "stdout",
     "output_type": "stream",
     "text": [
      "(256, 512)\n",
      "(256, 512)\n"
     ]
    },
    {
     "name": "stderr",
     "output_type": "stream",
     "text": [
      "\r",
      " 93%|████████████████████████████████████████████████████████████████████████▍     | 1950/2101 [02:39<00:12, 12.20it/s]"
     ]
    },
    {
     "name": "stdout",
     "output_type": "stream",
     "text": [
      "(256, 512)\n",
      "(256, 512)\n"
     ]
    },
    {
     "name": "stderr",
     "output_type": "stream",
     "text": [
      "\r",
      " 93%|████████████████████████████████████████████████████████████████████████▍     | 1952/2101 [02:39<00:12, 12.18it/s]"
     ]
    },
    {
     "name": "stdout",
     "output_type": "stream",
     "text": [
      "(256, 512)\n",
      "(256, 512)\n"
     ]
    },
    {
     "name": "stderr",
     "output_type": "stream",
     "text": [
      "\r",
      " 93%|████████████████████████████████████████████████████████████████████████▌     | 1954/2101 [02:39<00:12, 12.24it/s]"
     ]
    },
    {
     "name": "stdout",
     "output_type": "stream",
     "text": [
      "(256, 512)\n",
      "(256, 512)\n"
     ]
    },
    {
     "name": "stderr",
     "output_type": "stream",
     "text": [
      "\r",
      " 93%|████████████████████████████████████████████████████████████████████████▌     | 1956/2101 [02:39<00:11, 12.29it/s]"
     ]
    },
    {
     "name": "stdout",
     "output_type": "stream",
     "text": [
      "(256, 512)\n",
      "(256, 512)\n"
     ]
    },
    {
     "name": "stderr",
     "output_type": "stream",
     "text": [
      "\r",
      " 93%|████████████████████████████████████████████████████████████████████████▋     | 1958/2101 [02:39<00:11, 12.35it/s]"
     ]
    },
    {
     "name": "stdout",
     "output_type": "stream",
     "text": [
      "(256, 512)\n",
      "(256, 512)\n"
     ]
    },
    {
     "name": "stderr",
     "output_type": "stream",
     "text": [
      "\r",
      " 93%|████████████████████████████████████████████████████████████████████████▊     | 1960/2101 [02:40<00:11, 12.22it/s]"
     ]
    },
    {
     "name": "stdout",
     "output_type": "stream",
     "text": [
      "(256, 512)\n",
      "(256, 512)\n"
     ]
    },
    {
     "name": "stderr",
     "output_type": "stream",
     "text": [
      "\r",
      " 93%|████████████████████████████████████████████████████████████████████████▊     | 1962/2101 [02:40<00:11, 12.09it/s]"
     ]
    },
    {
     "name": "stdout",
     "output_type": "stream",
     "text": [
      "(256, 512)\n",
      "(256, 512)\n"
     ]
    },
    {
     "name": "stderr",
     "output_type": "stream",
     "text": [
      "\r",
      " 93%|████████████████████████████████████████████████████████████████████████▉     | 1964/2101 [02:40<00:11, 12.09it/s]"
     ]
    },
    {
     "name": "stdout",
     "output_type": "stream",
     "text": [
      "(256, 512)\n",
      "(256, 512)\n"
     ]
    },
    {
     "name": "stderr",
     "output_type": "stream",
     "text": [
      "\r",
      " 94%|████████████████████████████████████████████████████████████████████████▉     | 1966/2101 [02:40<00:11, 12.09it/s]"
     ]
    },
    {
     "name": "stdout",
     "output_type": "stream",
     "text": [
      "(256, 512)\n",
      "(256, 512)\n"
     ]
    },
    {
     "name": "stderr",
     "output_type": "stream",
     "text": [
      "\r",
      " 94%|█████████████████████████████████████████████████████████████████████████     | 1968/2101 [02:40<00:10, 12.17it/s]"
     ]
    },
    {
     "name": "stdout",
     "output_type": "stream",
     "text": [
      "(256, 512)\n",
      "(256, 512)\n"
     ]
    },
    {
     "name": "stderr",
     "output_type": "stream",
     "text": [
      "\r",
      " 94%|█████████████████████████████████████████████████████████████████████████▏    | 1970/2101 [02:40<00:10, 12.26it/s]"
     ]
    },
    {
     "name": "stdout",
     "output_type": "stream",
     "text": [
      "(256, 512)\n",
      "(256, 512)\n"
     ]
    },
    {
     "name": "stderr",
     "output_type": "stream",
     "text": [
      "\r",
      " 94%|█████████████████████████████████████████████████████████████████████████▏    | 1972/2101 [02:41<00:10, 12.22it/s]"
     ]
    },
    {
     "name": "stdout",
     "output_type": "stream",
     "text": [
      "(256, 512)\n",
      "(256, 512)\n"
     ]
    },
    {
     "name": "stderr",
     "output_type": "stream",
     "text": [
      "\r",
      " 94%|█████████████████████████████████████████████████████████████████████████▎    | 1974/2101 [02:41<00:10, 12.27it/s]"
     ]
    },
    {
     "name": "stdout",
     "output_type": "stream",
     "text": [
      "(256, 512)\n",
      "(256, 512)\n"
     ]
    },
    {
     "name": "stderr",
     "output_type": "stream",
     "text": [
      "\r",
      " 94%|█████████████████████████████████████████████████████████████████████████▎    | 1976/2101 [02:41<00:10, 12.15it/s]"
     ]
    },
    {
     "name": "stdout",
     "output_type": "stream",
     "text": [
      "(256, 512)\n",
      "(256, 512)\n"
     ]
    },
    {
     "name": "stderr",
     "output_type": "stream",
     "text": [
      "\r",
      " 94%|█████████████████████████████████████████████████████████████████████████▍    | 1978/2101 [02:41<00:09, 12.33it/s]"
     ]
    },
    {
     "name": "stdout",
     "output_type": "stream",
     "text": [
      "(256, 512)\n",
      "(256, 512)\n"
     ]
    },
    {
     "name": "stderr",
     "output_type": "stream",
     "text": [
      "\r",
      " 94%|█████████████████████████████████████████████████████████████████████████▌    | 1980/2101 [02:41<00:09, 12.24it/s]"
     ]
    },
    {
     "name": "stdout",
     "output_type": "stream",
     "text": [
      "(256, 512)\n",
      "(256, 512)\n"
     ]
    },
    {
     "name": "stderr",
     "output_type": "stream",
     "text": [
      "\r",
      " 94%|█████████████████████████████████████████████████████████████████████████▌    | 1982/2101 [02:41<00:09, 12.14it/s]"
     ]
    },
    {
     "name": "stdout",
     "output_type": "stream",
     "text": [
      "(256, 512)\n",
      "(256, 512)\n"
     ]
    },
    {
     "name": "stderr",
     "output_type": "stream",
     "text": [
      "\r",
      " 94%|█████████████████████████████████████████████████████████████████████████▋    | 1984/2101 [02:42<00:09, 12.14it/s]"
     ]
    },
    {
     "name": "stdout",
     "output_type": "stream",
     "text": [
      "(256, 512)\n",
      "(256, 512)\n"
     ]
    },
    {
     "name": "stderr",
     "output_type": "stream",
     "text": [
      "\r",
      " 95%|█████████████████████████████████████████████████████████████████████████▋    | 1986/2101 [02:42<00:09, 12.13it/s]"
     ]
    },
    {
     "name": "stdout",
     "output_type": "stream",
     "text": [
      "(256, 512)\n",
      "(256, 512)\n"
     ]
    },
    {
     "name": "stderr",
     "output_type": "stream",
     "text": [
      "\r",
      " 95%|█████████████████████████████████████████████████████████████████████████▊    | 1988/2101 [02:42<00:09, 12.21it/s]"
     ]
    },
    {
     "name": "stdout",
     "output_type": "stream",
     "text": [
      "(256, 512)\n",
      "(256, 512)\n"
     ]
    },
    {
     "name": "stderr",
     "output_type": "stream",
     "text": [
      "\r",
      " 95%|█████████████████████████████████████████████████████████████████████████▉    | 1990/2101 [02:42<00:09, 12.26it/s]"
     ]
    },
    {
     "name": "stdout",
     "output_type": "stream",
     "text": [
      "(256, 512)\n",
      "(256, 512)\n"
     ]
    },
    {
     "name": "stderr",
     "output_type": "stream",
     "text": [
      "\r",
      " 95%|█████████████████████████████████████████████████████████████████████████▉    | 1992/2101 [02:42<00:08, 12.18it/s]"
     ]
    },
    {
     "name": "stdout",
     "output_type": "stream",
     "text": [
      "(256, 512)\n",
      "(256, 512)\n"
     ]
    },
    {
     "name": "stderr",
     "output_type": "stream",
     "text": [
      "\r",
      " 95%|██████████████████████████████████████████████████████████████████████████    | 1994/2101 [02:42<00:08, 12.35it/s]"
     ]
    },
    {
     "name": "stdout",
     "output_type": "stream",
     "text": [
      "(256, 512)\n",
      "(256, 512)\n"
     ]
    },
    {
     "name": "stderr",
     "output_type": "stream",
     "text": [
      "\r",
      " 95%|██████████████████████████████████████████████████████████████████████████    | 1996/2101 [02:43<00:08, 12.32it/s]"
     ]
    },
    {
     "name": "stdout",
     "output_type": "stream",
     "text": [
      "(256, 512)\n",
      "(256, 512)\n"
     ]
    },
    {
     "name": "stderr",
     "output_type": "stream",
     "text": [
      "\r",
      " 95%|██████████████████████████████████████████████████████████████████████████▏   | 1998/2101 [02:43<00:08, 12.22it/s]"
     ]
    },
    {
     "name": "stdout",
     "output_type": "stream",
     "text": [
      "(256, 512)\n",
      "(256, 512)\n"
     ]
    },
    {
     "name": "stderr",
     "output_type": "stream",
     "text": [
      "\r",
      " 95%|██████████████████████████████████████████████████████████████████████████▎   | 2000/2101 [02:43<00:08, 12.33it/s]"
     ]
    },
    {
     "name": "stdout",
     "output_type": "stream",
     "text": [
      "(256, 512)\n",
      "(256, 512)\n"
     ]
    },
    {
     "name": "stderr",
     "output_type": "stream",
     "text": [
      "\r",
      " 95%|██████████████████████████████████████████████████████████████████████████▎   | 2002/2101 [02:43<00:08, 12.29it/s]"
     ]
    },
    {
     "name": "stdout",
     "output_type": "stream",
     "text": [
      "(256, 512)\n",
      "(256, 512)\n"
     ]
    },
    {
     "name": "stderr",
     "output_type": "stream",
     "text": [
      "\r",
      " 95%|██████████████████████████████████████████████████████████████████████████▍   | 2004/2101 [02:43<00:07, 12.28it/s]"
     ]
    },
    {
     "name": "stdout",
     "output_type": "stream",
     "text": [
      "(256, 512)\n",
      "(256, 512)\n"
     ]
    },
    {
     "name": "stderr",
     "output_type": "stream",
     "text": [
      "\r",
      " 95%|██████████████████████████████████████████████████████████████████████████▍   | 2006/2101 [02:43<00:07, 12.18it/s]"
     ]
    },
    {
     "name": "stdout",
     "output_type": "stream",
     "text": [
      "(256, 512)\n",
      "(256, 512)\n"
     ]
    },
    {
     "name": "stderr",
     "output_type": "stream",
     "text": [
      "\r",
      " 96%|██████████████████████████████████████████████████████████████████████████▌   | 2008/2101 [02:43<00:07, 12.23it/s]"
     ]
    },
    {
     "name": "stdout",
     "output_type": "stream",
     "text": [
      "(256, 512)\n",
      "(256, 512)\n"
     ]
    },
    {
     "name": "stderr",
     "output_type": "stream",
     "text": [
      "\r",
      " 96%|██████████████████████████████████████████████████████████████████████████▌   | 2010/2101 [02:44<00:07, 12.20it/s]"
     ]
    },
    {
     "name": "stdout",
     "output_type": "stream",
     "text": [
      "(256, 512)\n",
      "(256, 512)\n"
     ]
    },
    {
     "name": "stderr",
     "output_type": "stream",
     "text": [
      "\r",
      " 96%|██████████████████████████████████████████████████████████████████████████▋   | 2012/2101 [02:44<00:07, 12.24it/s]"
     ]
    },
    {
     "name": "stdout",
     "output_type": "stream",
     "text": [
      "(256, 512)\n",
      "(256, 512)\n"
     ]
    },
    {
     "name": "stderr",
     "output_type": "stream",
     "text": [
      "\r",
      " 96%|██████████████████████████████████████████████████████████████████████████▊   | 2014/2101 [02:44<00:07, 12.28it/s]"
     ]
    },
    {
     "name": "stdout",
     "output_type": "stream",
     "text": [
      "(256, 512)\n",
      "(256, 512)\n"
     ]
    },
    {
     "name": "stderr",
     "output_type": "stream",
     "text": [
      "\r",
      " 96%|██████████████████████████████████████████████████████████████████████████▊   | 2016/2101 [02:44<00:06, 12.31it/s]"
     ]
    },
    {
     "name": "stdout",
     "output_type": "stream",
     "text": [
      "(256, 512)\n",
      "(256, 512)\n"
     ]
    },
    {
     "name": "stderr",
     "output_type": "stream",
     "text": [
      "\r",
      " 96%|██████████████████████████████████████████████████████████████████████████▉   | 2018/2101 [02:44<00:06, 12.24it/s]"
     ]
    },
    {
     "name": "stdout",
     "output_type": "stream",
     "text": [
      "(256, 512)\n",
      "(256, 512)\n"
     ]
    },
    {
     "name": "stderr",
     "output_type": "stream",
     "text": [
      "\r",
      " 96%|██████████████████████████████████████████████████████████████████████████▉   | 2020/2101 [02:44<00:06, 12.32it/s]"
     ]
    },
    {
     "name": "stdout",
     "output_type": "stream",
     "text": [
      "(256, 512)\n",
      "(256, 512)\n"
     ]
    },
    {
     "name": "stderr",
     "output_type": "stream",
     "text": [
      "\r",
      " 96%|███████████████████████████████████████████████████████████████████████████   | 2022/2101 [02:45<00:06, 12.30it/s]"
     ]
    },
    {
     "name": "stdout",
     "output_type": "stream",
     "text": [
      "(256, 512)\n",
      "(256, 512)\n"
     ]
    },
    {
     "name": "stderr",
     "output_type": "stream",
     "text": [
      "\r",
      " 96%|███████████████████████████████████████████████████████████████████████████▏  | 2024/2101 [02:45<00:06, 12.38it/s]"
     ]
    },
    {
     "name": "stdout",
     "output_type": "stream",
     "text": [
      "(256, 512)\n",
      "(256, 512)\n"
     ]
    },
    {
     "name": "stderr",
     "output_type": "stream",
     "text": [
      "\r",
      " 96%|███████████████████████████████████████████████████████████████████████████▏  | 2026/2101 [02:45<00:06, 12.36it/s]"
     ]
    },
    {
     "name": "stdout",
     "output_type": "stream",
     "text": [
      "(256, 512)\n",
      "(256, 512)\n"
     ]
    },
    {
     "name": "stderr",
     "output_type": "stream",
     "text": [
      "\r",
      " 97%|███████████████████████████████████████████████████████████████████████████▎  | 2028/2101 [02:45<00:05, 12.40it/s]"
     ]
    },
    {
     "name": "stdout",
     "output_type": "stream",
     "text": [
      "(256, 512)\n",
      "(256, 512)\n"
     ]
    },
    {
     "name": "stderr",
     "output_type": "stream",
     "text": [
      "\r",
      " 97%|███████████████████████████████████████████████████████████████████████████▎  | 2030/2101 [02:45<00:05, 12.32it/s]"
     ]
    },
    {
     "name": "stdout",
     "output_type": "stream",
     "text": [
      "(256, 512)\n",
      "(256, 512)\n"
     ]
    },
    {
     "name": "stderr",
     "output_type": "stream",
     "text": [
      "\r",
      " 97%|███████████████████████████████████████████████████████████████████████████▍  | 2032/2101 [02:45<00:05, 12.32it/s]"
     ]
    },
    {
     "name": "stdout",
     "output_type": "stream",
     "text": [
      "(256, 512)\n",
      "(256, 512)\n"
     ]
    },
    {
     "name": "stderr",
     "output_type": "stream",
     "text": [
      "\r",
      " 97%|███████████████████████████████████████████████████████████████████████████▌  | 2034/2101 [02:46<00:05, 12.26it/s]"
     ]
    },
    {
     "name": "stdout",
     "output_type": "stream",
     "text": [
      "(256, 512)\n",
      "(256, 512)\n"
     ]
    },
    {
     "name": "stderr",
     "output_type": "stream",
     "text": [
      "\r",
      " 97%|███████████████████████████████████████████████████████████████████████████▌  | 2036/2101 [02:46<00:05, 12.32it/s]"
     ]
    },
    {
     "name": "stdout",
     "output_type": "stream",
     "text": [
      "(256, 512)\n",
      "(256, 512)\n"
     ]
    },
    {
     "name": "stderr",
     "output_type": "stream",
     "text": [
      "\r",
      " 97%|███████████████████████████████████████████████████████████████████████████▋  | 2038/2101 [02:46<00:05, 12.05it/s]"
     ]
    },
    {
     "name": "stdout",
     "output_type": "stream",
     "text": [
      "(256, 512)\n",
      "(256, 512)\n"
     ]
    },
    {
     "name": "stderr",
     "output_type": "stream",
     "text": [
      "\r",
      " 97%|███████████████████████████████████████████████████████████████████████████▋  | 2040/2101 [02:46<00:04, 12.21it/s]"
     ]
    },
    {
     "name": "stdout",
     "output_type": "stream",
     "text": [
      "(256, 512)\n",
      "(256, 512)\n"
     ]
    },
    {
     "name": "stderr",
     "output_type": "stream",
     "text": [
      "\r",
      " 97%|███████████████████████████████████████████████████████████████████████████▊  | 2042/2101 [02:46<00:04, 12.30it/s]"
     ]
    },
    {
     "name": "stdout",
     "output_type": "stream",
     "text": [
      "(256, 512)\n",
      "(256, 512)\n"
     ]
    },
    {
     "name": "stderr",
     "output_type": "stream",
     "text": [
      "\r",
      " 97%|███████████████████████████████████████████████████████████████████████████▉  | 2044/2101 [02:46<00:04, 12.31it/s]"
     ]
    },
    {
     "name": "stdout",
     "output_type": "stream",
     "text": [
      "(256, 512)\n",
      "(256, 512)\n"
     ]
    },
    {
     "name": "stderr",
     "output_type": "stream",
     "text": [
      "\r",
      " 97%|███████████████████████████████████████████████████████████████████████████▉  | 2046/2101 [02:47<00:04, 12.24it/s]"
     ]
    },
    {
     "name": "stdout",
     "output_type": "stream",
     "text": [
      "(256, 512)\n",
      "(256, 512)\n"
     ]
    },
    {
     "name": "stderr",
     "output_type": "stream",
     "text": [
      "\r",
      " 97%|████████████████████████████████████████████████████████████████████████████  | 2048/2101 [02:47<00:04, 12.16it/s]"
     ]
    },
    {
     "name": "stdout",
     "output_type": "stream",
     "text": [
      "(256, 512)\n",
      "(256, 512)\n"
     ]
    },
    {
     "name": "stderr",
     "output_type": "stream",
     "text": [
      "\r",
      " 98%|████████████████████████████████████████████████████████████████████████████  | 2050/2101 [02:47<00:04, 12.27it/s]"
     ]
    },
    {
     "name": "stdout",
     "output_type": "stream",
     "text": [
      "(256, 512)\n",
      "(256, 512)\n"
     ]
    },
    {
     "name": "stderr",
     "output_type": "stream",
     "text": [
      "\r",
      " 98%|████████████████████████████████████████████████████████████████████████████▏ | 2052/2101 [02:47<00:03, 12.34it/s]"
     ]
    },
    {
     "name": "stdout",
     "output_type": "stream",
     "text": [
      "(256, 512)\n",
      "(256, 512)\n"
     ]
    },
    {
     "name": "stderr",
     "output_type": "stream",
     "text": [
      "\r",
      " 98%|████████████████████████████████████████████████████████████████████████████▎ | 2054/2101 [02:47<00:03, 12.25it/s]"
     ]
    },
    {
     "name": "stdout",
     "output_type": "stream",
     "text": [
      "(256, 512)\n",
      "(256, 512)\n"
     ]
    },
    {
     "name": "stderr",
     "output_type": "stream",
     "text": [
      "\r",
      " 98%|████████████████████████████████████████████████████████████████████████████▎ | 2056/2101 [02:47<00:03, 12.17it/s]"
     ]
    },
    {
     "name": "stdout",
     "output_type": "stream",
     "text": [
      "(256, 512)\n",
      "(256, 512)\n"
     ]
    },
    {
     "name": "stderr",
     "output_type": "stream",
     "text": [
      "\r",
      " 98%|████████████████████████████████████████████████████████████████████████████▍ | 2058/2101 [02:48<00:03, 12.26it/s]"
     ]
    },
    {
     "name": "stdout",
     "output_type": "stream",
     "text": [
      "(256, 512)\n",
      "(256, 512)\n"
     ]
    },
    {
     "name": "stderr",
     "output_type": "stream",
     "text": [
      "\r",
      " 98%|████████████████████████████████████████████████████████████████████████████▍ | 2060/2101 [02:48<00:03, 12.29it/s]"
     ]
    },
    {
     "name": "stdout",
     "output_type": "stream",
     "text": [
      "(256, 512)\n",
      "(256, 512)\n"
     ]
    },
    {
     "name": "stderr",
     "output_type": "stream",
     "text": [
      "\r",
      " 98%|████████████████████████████████████████████████████████████████████████████▌ | 2062/2101 [02:48<00:03, 12.30it/s]"
     ]
    },
    {
     "name": "stdout",
     "output_type": "stream",
     "text": [
      "(256, 512)\n",
      "(256, 512)\n"
     ]
    },
    {
     "name": "stderr",
     "output_type": "stream",
     "text": [
      "\r",
      " 98%|████████████████████████████████████████████████████████████████████████████▋ | 2064/2101 [02:48<00:03, 12.27it/s]"
     ]
    },
    {
     "name": "stdout",
     "output_type": "stream",
     "text": [
      "(256, 512)\n",
      "(256, 512)\n"
     ]
    },
    {
     "name": "stderr",
     "output_type": "stream",
     "text": [
      "\r",
      " 98%|████████████████████████████████████████████████████████████████████████████▋ | 2066/2101 [02:48<00:02, 12.30it/s]"
     ]
    },
    {
     "name": "stdout",
     "output_type": "stream",
     "text": [
      "(256, 512)\n",
      "(256, 512)\n"
     ]
    },
    {
     "name": "stderr",
     "output_type": "stream",
     "text": [
      "\r",
      " 98%|████████████████████████████████████████████████████████████████████████████▊ | 2068/2101 [02:48<00:02, 12.30it/s]"
     ]
    },
    {
     "name": "stdout",
     "output_type": "stream",
     "text": [
      "(256, 512)\n",
      "(256, 512)\n"
     ]
    },
    {
     "name": "stderr",
     "output_type": "stream",
     "text": [
      "\r",
      " 99%|████████████████████████████████████████████████████████████████████████████▊ | 2070/2101 [02:49<00:02, 12.15it/s]"
     ]
    },
    {
     "name": "stdout",
     "output_type": "stream",
     "text": [
      "(256, 512)\n",
      "(256, 512)\n"
     ]
    },
    {
     "name": "stderr",
     "output_type": "stream",
     "text": [
      "\r",
      " 99%|████████████████████████████████████████████████████████████████████████████▉ | 2072/2101 [02:49<00:02, 12.22it/s]"
     ]
    },
    {
     "name": "stdout",
     "output_type": "stream",
     "text": [
      "(256, 512)\n",
      "(256, 512)\n"
     ]
    },
    {
     "name": "stderr",
     "output_type": "stream",
     "text": [
      "\r",
      " 99%|████████████████████████████████████████████████████████████████████████████▉ | 2074/2101 [02:49<00:02, 12.19it/s]"
     ]
    },
    {
     "name": "stdout",
     "output_type": "stream",
     "text": [
      "(256, 512)\n",
      "(256, 512)\n"
     ]
    },
    {
     "name": "stderr",
     "output_type": "stream",
     "text": [
      "\r",
      " 99%|█████████████████████████████████████████████████████████████████████████████ | 2076/2101 [02:49<00:02, 12.20it/s]"
     ]
    },
    {
     "name": "stdout",
     "output_type": "stream",
     "text": [
      "(256, 512)\n",
      "(256, 512)\n"
     ]
    },
    {
     "name": "stderr",
     "output_type": "stream",
     "text": [
      "\r",
      " 99%|█████████████████████████████████████████████████████████████████████████████▏| 2078/2101 [02:49<00:01, 12.23it/s]"
     ]
    },
    {
     "name": "stdout",
     "output_type": "stream",
     "text": [
      "(256, 512)\n",
      "(256, 512)\n"
     ]
    },
    {
     "name": "stderr",
     "output_type": "stream",
     "text": [
      "\r",
      " 99%|█████████████████████████████████████████████████████████████████████████████▏| 2080/2101 [02:49<00:01, 12.30it/s]"
     ]
    },
    {
     "name": "stdout",
     "output_type": "stream",
     "text": [
      "(256, 512)\n",
      "(256, 512)\n"
     ]
    },
    {
     "name": "stderr",
     "output_type": "stream",
     "text": [
      "\r",
      " 99%|█████████████████████████████████████████████████████████████████████████████▎| 2082/2101 [02:50<00:01, 12.28it/s]"
     ]
    },
    {
     "name": "stdout",
     "output_type": "stream",
     "text": [
      "(256, 512)\n",
      "(256, 512)\n"
     ]
    },
    {
     "name": "stderr",
     "output_type": "stream",
     "text": [
      "\r",
      " 99%|█████████████████████████████████████████████████████████████████████████████▎| 2084/2101 [02:50<00:01, 12.26it/s]"
     ]
    },
    {
     "name": "stdout",
     "output_type": "stream",
     "text": [
      "(256, 512)\n",
      "(256, 512)\n"
     ]
    },
    {
     "name": "stderr",
     "output_type": "stream",
     "text": [
      "\r",
      " 99%|█████████████████████████████████████████████████████████████████████████████▍| 2086/2101 [02:50<00:01, 12.31it/s]"
     ]
    },
    {
     "name": "stdout",
     "output_type": "stream",
     "text": [
      "(256, 512)\n",
      "(256, 512)\n"
     ]
    },
    {
     "name": "stderr",
     "output_type": "stream",
     "text": [
      "\r",
      " 99%|█████████████████████████████████████████████████████████████████████████████▌| 2088/2101 [02:50<00:01, 12.26it/s]"
     ]
    },
    {
     "name": "stdout",
     "output_type": "stream",
     "text": [
      "(256, 512)\n",
      "(256, 512)\n"
     ]
    },
    {
     "name": "stderr",
     "output_type": "stream",
     "text": [
      "\r",
      " 99%|█████████████████████████████████████████████████████████████████████████████▌| 2090/2101 [02:50<00:00, 12.26it/s]"
     ]
    },
    {
     "name": "stdout",
     "output_type": "stream",
     "text": [
      "(256, 512)\n",
      "(256, 512)\n"
     ]
    },
    {
     "name": "stderr",
     "output_type": "stream",
     "text": [
      "\r",
      "100%|█████████████████████████████████████████████████████████████████████████████▋| 2092/2101 [02:50<00:00, 12.33it/s]"
     ]
    },
    {
     "name": "stdout",
     "output_type": "stream",
     "text": [
      "(256, 512)\n",
      "(256, 512)\n"
     ]
    },
    {
     "name": "stderr",
     "output_type": "stream",
     "text": [
      "\r",
      "100%|█████████████████████████████████████████████████████████████████████████████▋| 2094/2101 [02:50<00:00, 12.34it/s]"
     ]
    },
    {
     "name": "stdout",
     "output_type": "stream",
     "text": [
      "(256, 512)\n",
      "(256, 512)\n"
     ]
    },
    {
     "name": "stderr",
     "output_type": "stream",
     "text": [
      "\r",
      "100%|█████████████████████████████████████████████████████████████████████████████▊| 2096/2101 [02:51<00:00, 12.42it/s]"
     ]
    },
    {
     "name": "stdout",
     "output_type": "stream",
     "text": [
      "(256, 512)\n",
      "(256, 512)\n"
     ]
    },
    {
     "name": "stderr",
     "output_type": "stream",
     "text": [
      "\r",
      "100%|█████████████████████████████████████████████████████████████████████████████▉| 2098/2101 [02:51<00:00, 12.45it/s]"
     ]
    },
    {
     "name": "stdout",
     "output_type": "stream",
     "text": [
      "(256, 512)\n",
      "(256, 512)\n"
     ]
    },
    {
     "name": "stderr",
     "output_type": "stream",
     "text": [
      "\r",
      "100%|█████████████████████████████████████████████████████████████████████████████▉| 2100/2101 [02:51<00:00, 12.49it/s]"
     ]
    },
    {
     "name": "stdout",
     "output_type": "stream",
     "text": [
      "(256, 512)\n"
     ]
    },
    {
     "name": "stderr",
     "output_type": "stream",
     "text": [
      "100%|██████████████████████████████████████████████████████████████████████████████| 2101/2101 [02:51<00:00, 12.25it/s]\n"
     ]
    },
    {
     "name": "stdout",
     "output_type": "stream",
     "text": [
      "[MoviePy] Done.\n",
      "[MoviePy] >>>> Video ready: output_video2.mp4 \n",
      "\n"
     ]
    }
   ],
   "source": [
    "image = process('2.mp4', '')"
   ]
  },
  {
   "cell_type": "code",
   "execution_count": 39,
   "metadata": {},
   "outputs": [
    {
     "name": "stdout",
     "output_type": "stream",
     "text": [
      "D:\\data\\leftImg8bit_trainvaltest\\leftImg8bit\n"
     ]
    }
   ],
   "source": [
    "import os\n",
    "data_dir = 'D:\\data\\leftImg8bit_trainvaltest'\n",
    "from glob import glob\n",
    "\n",
    "\n",
    "\n",
    "c = os.path.join(data_dir, 'leftImg8bit')\n",
    "\n",
    "print(c)"
   ]
  },
  {
   "cell_type": "code",
   "execution_count": 41,
   "metadata": {},
   "outputs": [
    {
     "name": "stdout",
     "output_type": "stream",
     "text": [
      "D:\\data\\leftImg8bit_trainvaltest\\leftImg8bit\n"
     ]
    }
   ],
   "source": [
    "print(c)\n",
    "\n",
    "a = glob(os.path.join(c, 'test/*/', '*.png'))"
   ]
  },
  {
   "cell_type": "code",
   "execution_count": 42,
   "metadata": {},
   "outputs": [
    {
     "name": "stdout",
     "output_type": "stream",
     "text": [
      "['D:\\\\data\\\\leftImg8bit_trainvaltest\\\\leftImg8bit\\\\test\\\\berlin\\\\berlin_000000_000019_leftImg8bit.png', 'D:\\\\data\\\\leftImg8bit_trainvaltest\\\\leftImg8bit\\\\test\\\\berlin\\\\berlin_000001_000019_leftImg8bit.png', 'D:\\\\data\\\\leftImg8bit_trainvaltest\\\\leftImg8bit\\\\test\\\\berlin\\\\berlin_000002_000019_leftImg8bit.png', 'D:\\\\data\\\\leftImg8bit_trainvaltest\\\\leftImg8bit\\\\test\\\\berlin\\\\berlin_000003_000019_leftImg8bit.png', 'D:\\\\data\\\\leftImg8bit_trainvaltest\\\\leftImg8bit\\\\test\\\\berlin\\\\berlin_000004_000019_leftImg8bit.png', 'D:\\\\data\\\\leftImg8bit_trainvaltest\\\\leftImg8bit\\\\test\\\\berlin\\\\berlin_000005_000019_leftImg8bit.png', 'D:\\\\data\\\\leftImg8bit_trainvaltest\\\\leftImg8bit\\\\test\\\\berlin\\\\berlin_000006_000019_leftImg8bit.png', 'D:\\\\data\\\\leftImg8bit_trainvaltest\\\\leftImg8bit\\\\test\\\\berlin\\\\berlin_000007_000019_leftImg8bit.png', 'D:\\\\data\\\\leftImg8bit_trainvaltest\\\\leftImg8bit\\\\test\\\\berlin\\\\berlin_000008_000019_leftImg8bit.png', 'D:\\\\data\\\\leftImg8bit_trainvaltest\\\\leftImg8bit\\\\test\\\\berlin\\\\berlin_000009_000019_leftImg8bit.png', 'D:\\\\data\\\\leftImg8bit_trainvaltest\\\\leftImg8bit\\\\test\\\\berlin\\\\berlin_000010_000019_leftImg8bit.png', 'D:\\\\data\\\\leftImg8bit_trainvaltest\\\\leftImg8bit\\\\test\\\\berlin\\\\berlin_000011_000019_leftImg8bit.png', 'D:\\\\data\\\\leftImg8bit_trainvaltest\\\\leftImg8bit\\\\test\\\\berlin\\\\berlin_000012_000019_leftImg8bit.png', 'D:\\\\data\\\\leftImg8bit_trainvaltest\\\\leftImg8bit\\\\test\\\\berlin\\\\berlin_000013_000019_leftImg8bit.png', 'D:\\\\data\\\\leftImg8bit_trainvaltest\\\\leftImg8bit\\\\test\\\\berlin\\\\berlin_000014_000019_leftImg8bit.png', 'D:\\\\data\\\\leftImg8bit_trainvaltest\\\\leftImg8bit\\\\test\\\\berlin\\\\berlin_000015_000019_leftImg8bit.png', 'D:\\\\data\\\\leftImg8bit_trainvaltest\\\\leftImg8bit\\\\test\\\\berlin\\\\berlin_000016_000019_leftImg8bit.png', 'D:\\\\data\\\\leftImg8bit_trainvaltest\\\\leftImg8bit\\\\test\\\\berlin\\\\berlin_000017_000019_leftImg8bit.png', 'D:\\\\data\\\\leftImg8bit_trainvaltest\\\\leftImg8bit\\\\test\\\\berlin\\\\berlin_000018_000019_leftImg8bit.png', 'D:\\\\data\\\\leftImg8bit_trainvaltest\\\\leftImg8bit\\\\test\\\\berlin\\\\berlin_000019_000019_leftImg8bit.png', 'D:\\\\data\\\\leftImg8bit_trainvaltest\\\\leftImg8bit\\\\test\\\\berlin\\\\berlin_000020_000019_leftImg8bit.png', 'D:\\\\data\\\\leftImg8bit_trainvaltest\\\\leftImg8bit\\\\test\\\\berlin\\\\berlin_000021_000019_leftImg8bit.png', 'D:\\\\data\\\\leftImg8bit_trainvaltest\\\\leftImg8bit\\\\test\\\\berlin\\\\berlin_000022_000019_leftImg8bit.png', 'D:\\\\data\\\\leftImg8bit_trainvaltest\\\\leftImg8bit\\\\test\\\\berlin\\\\berlin_000023_000019_leftImg8bit.png', 'D:\\\\data\\\\leftImg8bit_trainvaltest\\\\leftImg8bit\\\\test\\\\berlin\\\\berlin_000024_000019_leftImg8bit.png', 'D:\\\\data\\\\leftImg8bit_trainvaltest\\\\leftImg8bit\\\\test\\\\berlin\\\\berlin_000025_000019_leftImg8bit.png', 'D:\\\\data\\\\leftImg8bit_trainvaltest\\\\leftImg8bit\\\\test\\\\berlin\\\\berlin_000026_000019_leftImg8bit.png', 'D:\\\\data\\\\leftImg8bit_trainvaltest\\\\leftImg8bit\\\\test\\\\berlin\\\\berlin_000027_000019_leftImg8bit.png', 'D:\\\\data\\\\leftImg8bit_trainvaltest\\\\leftImg8bit\\\\test\\\\berlin\\\\berlin_000028_000019_leftImg8bit.png', 'D:\\\\data\\\\leftImg8bit_trainvaltest\\\\leftImg8bit\\\\test\\\\berlin\\\\berlin_000029_000019_leftImg8bit.png', 'D:\\\\data\\\\leftImg8bit_trainvaltest\\\\leftImg8bit\\\\test\\\\berlin\\\\berlin_000030_000019_leftImg8bit.png', 'D:\\\\data\\\\leftImg8bit_trainvaltest\\\\leftImg8bit\\\\test\\\\berlin\\\\berlin_000031_000019_leftImg8bit.png', 'D:\\\\data\\\\leftImg8bit_trainvaltest\\\\leftImg8bit\\\\test\\\\berlin\\\\berlin_000032_000019_leftImg8bit.png', 'D:\\\\data\\\\leftImg8bit_trainvaltest\\\\leftImg8bit\\\\test\\\\berlin\\\\berlin_000033_000019_leftImg8bit.png', 'D:\\\\data\\\\leftImg8bit_trainvaltest\\\\leftImg8bit\\\\test\\\\berlin\\\\berlin_000034_000019_leftImg8bit.png', 'D:\\\\data\\\\leftImg8bit_trainvaltest\\\\leftImg8bit\\\\test\\\\berlin\\\\berlin_000035_000019_leftImg8bit.png', 'D:\\\\data\\\\leftImg8bit_trainvaltest\\\\leftImg8bit\\\\test\\\\berlin\\\\berlin_000036_000019_leftImg8bit.png', 'D:\\\\data\\\\leftImg8bit_trainvaltest\\\\leftImg8bit\\\\test\\\\berlin\\\\berlin_000037_000019_leftImg8bit.png', 'D:\\\\data\\\\leftImg8bit_trainvaltest\\\\leftImg8bit\\\\test\\\\berlin\\\\berlin_000038_000019_leftImg8bit.png', 'D:\\\\data\\\\leftImg8bit_trainvaltest\\\\leftImg8bit\\\\test\\\\berlin\\\\berlin_000039_000019_leftImg8bit.png', 'D:\\\\data\\\\leftImg8bit_trainvaltest\\\\leftImg8bit\\\\test\\\\berlin\\\\berlin_000040_000019_leftImg8bit.png', 'D:\\\\data\\\\leftImg8bit_trainvaltest\\\\leftImg8bit\\\\test\\\\berlin\\\\berlin_000041_000019_leftImg8bit.png', 'D:\\\\data\\\\leftImg8bit_trainvaltest\\\\leftImg8bit\\\\test\\\\berlin\\\\berlin_000042_000019_leftImg8bit.png', 'D:\\\\data\\\\leftImg8bit_trainvaltest\\\\leftImg8bit\\\\test\\\\berlin\\\\berlin_000043_000019_leftImg8bit.png', 'D:\\\\data\\\\leftImg8bit_trainvaltest\\\\leftImg8bit\\\\test\\\\berlin\\\\berlin_000044_000019_leftImg8bit.png', 'D:\\\\data\\\\leftImg8bit_trainvaltest\\\\leftImg8bit\\\\test\\\\berlin\\\\berlin_000045_000019_leftImg8bit.png', 'D:\\\\data\\\\leftImg8bit_trainvaltest\\\\leftImg8bit\\\\test\\\\berlin\\\\berlin_000046_000019_leftImg8bit.png', 'D:\\\\data\\\\leftImg8bit_trainvaltest\\\\leftImg8bit\\\\test\\\\berlin\\\\berlin_000047_000019_leftImg8bit.png', 'D:\\\\data\\\\leftImg8bit_trainvaltest\\\\leftImg8bit\\\\test\\\\berlin\\\\berlin_000048_000019_leftImg8bit.png', 'D:\\\\data\\\\leftImg8bit_trainvaltest\\\\leftImg8bit\\\\test\\\\berlin\\\\berlin_000049_000019_leftImg8bit.png', 'D:\\\\data\\\\leftImg8bit_trainvaltest\\\\leftImg8bit\\\\test\\\\berlin\\\\berlin_000050_000019_leftImg8bit.png', 'D:\\\\data\\\\leftImg8bit_trainvaltest\\\\leftImg8bit\\\\test\\\\berlin\\\\berlin_000051_000019_leftImg8bit.png', 'D:\\\\data\\\\leftImg8bit_trainvaltest\\\\leftImg8bit\\\\test\\\\berlin\\\\berlin_000052_000019_leftImg8bit.png', 'D:\\\\data\\\\leftImg8bit_trainvaltest\\\\leftImg8bit\\\\test\\\\berlin\\\\berlin_000053_000019_leftImg8bit.png', 'D:\\\\data\\\\leftImg8bit_trainvaltest\\\\leftImg8bit\\\\test\\\\berlin\\\\berlin_000054_000019_leftImg8bit.png', 'D:\\\\data\\\\leftImg8bit_trainvaltest\\\\leftImg8bit\\\\test\\\\berlin\\\\berlin_000055_000019_leftImg8bit.png', 'D:\\\\data\\\\leftImg8bit_trainvaltest\\\\leftImg8bit\\\\test\\\\berlin\\\\berlin_000056_000019_leftImg8bit.png', 'D:\\\\data\\\\leftImg8bit_trainvaltest\\\\leftImg8bit\\\\test\\\\berlin\\\\berlin_000057_000019_leftImg8bit.png', 'D:\\\\data\\\\leftImg8bit_trainvaltest\\\\leftImg8bit\\\\test\\\\berlin\\\\berlin_000058_000019_leftImg8bit.png', 'D:\\\\data\\\\leftImg8bit_trainvaltest\\\\leftImg8bit\\\\test\\\\berlin\\\\berlin_000059_000019_leftImg8bit.png', 'D:\\\\data\\\\leftImg8bit_trainvaltest\\\\leftImg8bit\\\\test\\\\berlin\\\\berlin_000060_000019_leftImg8bit.png', 'D:\\\\data\\\\leftImg8bit_trainvaltest\\\\leftImg8bit\\\\test\\\\berlin\\\\berlin_000061_000019_leftImg8bit.png', 'D:\\\\data\\\\leftImg8bit_trainvaltest\\\\leftImg8bit\\\\test\\\\berlin\\\\berlin_000062_000019_leftImg8bit.png', 'D:\\\\data\\\\leftImg8bit_trainvaltest\\\\leftImg8bit\\\\test\\\\berlin\\\\berlin_000063_000019_leftImg8bit.png', 'D:\\\\data\\\\leftImg8bit_trainvaltest\\\\leftImg8bit\\\\test\\\\berlin\\\\berlin_000064_000019_leftImg8bit.png', 'D:\\\\data\\\\leftImg8bit_trainvaltest\\\\leftImg8bit\\\\test\\\\berlin\\\\berlin_000065_000019_leftImg8bit.png', 'D:\\\\data\\\\leftImg8bit_trainvaltest\\\\leftImg8bit\\\\test\\\\berlin\\\\berlin_000066_000019_leftImg8bit.png', 'D:\\\\data\\\\leftImg8bit_trainvaltest\\\\leftImg8bit\\\\test\\\\berlin\\\\berlin_000067_000019_leftImg8bit.png', 'D:\\\\data\\\\leftImg8bit_trainvaltest\\\\leftImg8bit\\\\test\\\\berlin\\\\berlin_000068_000019_leftImg8bit.png', 'D:\\\\data\\\\leftImg8bit_trainvaltest\\\\leftImg8bit\\\\test\\\\berlin\\\\berlin_000069_000019_leftImg8bit.png', 'D:\\\\data\\\\leftImg8bit_trainvaltest\\\\leftImg8bit\\\\test\\\\berlin\\\\berlin_000070_000019_leftImg8bit.png', 'D:\\\\data\\\\leftImg8bit_trainvaltest\\\\leftImg8bit\\\\test\\\\berlin\\\\berlin_000071_000019_leftImg8bit.png', 'D:\\\\data\\\\leftImg8bit_trainvaltest\\\\leftImg8bit\\\\test\\\\berlin\\\\berlin_000072_000019_leftImg8bit.png', 'D:\\\\data\\\\leftImg8bit_trainvaltest\\\\leftImg8bit\\\\test\\\\berlin\\\\berlin_000073_000019_leftImg8bit.png', 'D:\\\\data\\\\leftImg8bit_trainvaltest\\\\leftImg8bit\\\\test\\\\berlin\\\\berlin_000074_000019_leftImg8bit.png', 'D:\\\\data\\\\leftImg8bit_trainvaltest\\\\leftImg8bit\\\\test\\\\berlin\\\\berlin_000075_000019_leftImg8bit.png', 'D:\\\\data\\\\leftImg8bit_trainvaltest\\\\leftImg8bit\\\\test\\\\berlin\\\\berlin_000076_000019_leftImg8bit.png', 'D:\\\\data\\\\leftImg8bit_trainvaltest\\\\leftImg8bit\\\\test\\\\berlin\\\\berlin_000077_000019_leftImg8bit.png', 'D:\\\\data\\\\leftImg8bit_trainvaltest\\\\leftImg8bit\\\\test\\\\berlin\\\\berlin_000078_000019_leftImg8bit.png', 'D:\\\\data\\\\leftImg8bit_trainvaltest\\\\leftImg8bit\\\\test\\\\berlin\\\\berlin_000079_000019_leftImg8bit.png', 'D:\\\\data\\\\leftImg8bit_trainvaltest\\\\leftImg8bit\\\\test\\\\berlin\\\\berlin_000080_000019_leftImg8bit.png', 'D:\\\\data\\\\leftImg8bit_trainvaltest\\\\leftImg8bit\\\\test\\\\berlin\\\\berlin_000081_000019_leftImg8bit.png', 'D:\\\\data\\\\leftImg8bit_trainvaltest\\\\leftImg8bit\\\\test\\\\berlin\\\\berlin_000082_000019_leftImg8bit.png', 'D:\\\\data\\\\leftImg8bit_trainvaltest\\\\leftImg8bit\\\\test\\\\berlin\\\\berlin_000083_000019_leftImg8bit.png', 'D:\\\\data\\\\leftImg8bit_trainvaltest\\\\leftImg8bit\\\\test\\\\berlin\\\\berlin_000084_000019_leftImg8bit.png', 'D:\\\\data\\\\leftImg8bit_trainvaltest\\\\leftImg8bit\\\\test\\\\berlin\\\\berlin_000085_000019_leftImg8bit.png', 'D:\\\\data\\\\leftImg8bit_trainvaltest\\\\leftImg8bit\\\\test\\\\berlin\\\\berlin_000086_000019_leftImg8bit.png', 'D:\\\\data\\\\leftImg8bit_trainvaltest\\\\leftImg8bit\\\\test\\\\berlin\\\\berlin_000087_000019_leftImg8bit.png', 'D:\\\\data\\\\leftImg8bit_trainvaltest\\\\leftImg8bit\\\\test\\\\berlin\\\\berlin_000088_000019_leftImg8bit.png', 'D:\\\\data\\\\leftImg8bit_trainvaltest\\\\leftImg8bit\\\\test\\\\berlin\\\\berlin_000089_000019_leftImg8bit.png', 'D:\\\\data\\\\leftImg8bit_trainvaltest\\\\leftImg8bit\\\\test\\\\berlin\\\\berlin_000090_000019_leftImg8bit.png', 'D:\\\\data\\\\leftImg8bit_trainvaltest\\\\leftImg8bit\\\\test\\\\berlin\\\\berlin_000091_000019_leftImg8bit.png', 'D:\\\\data\\\\leftImg8bit_trainvaltest\\\\leftImg8bit\\\\test\\\\berlin\\\\berlin_000092_000019_leftImg8bit.png', 'D:\\\\data\\\\leftImg8bit_trainvaltest\\\\leftImg8bit\\\\test\\\\berlin\\\\berlin_000093_000019_leftImg8bit.png', 'D:\\\\data\\\\leftImg8bit_trainvaltest\\\\leftImg8bit\\\\test\\\\berlin\\\\berlin_000094_000019_leftImg8bit.png', 'D:\\\\data\\\\leftImg8bit_trainvaltest\\\\leftImg8bit\\\\test\\\\berlin\\\\berlin_000095_000019_leftImg8bit.png', 'D:\\\\data\\\\leftImg8bit_trainvaltest\\\\leftImg8bit\\\\test\\\\berlin\\\\berlin_000096_000019_leftImg8bit.png', 'D:\\\\data\\\\leftImg8bit_trainvaltest\\\\leftImg8bit\\\\test\\\\berlin\\\\berlin_000097_000019_leftImg8bit.png', 'D:\\\\data\\\\leftImg8bit_trainvaltest\\\\leftImg8bit\\\\test\\\\berlin\\\\berlin_000098_000019_leftImg8bit.png', 'D:\\\\data\\\\leftImg8bit_trainvaltest\\\\leftImg8bit\\\\test\\\\berlin\\\\berlin_000099_000019_leftImg8bit.png', 'D:\\\\data\\\\leftImg8bit_trainvaltest\\\\leftImg8bit\\\\test\\\\berlin\\\\berlin_000100_000019_leftImg8bit.png', 'D:\\\\data\\\\leftImg8bit_trainvaltest\\\\leftImg8bit\\\\test\\\\berlin\\\\berlin_000101_000019_leftImg8bit.png', 'D:\\\\data\\\\leftImg8bit_trainvaltest\\\\leftImg8bit\\\\test\\\\berlin\\\\berlin_000102_000019_leftImg8bit.png', 'D:\\\\data\\\\leftImg8bit_trainvaltest\\\\leftImg8bit\\\\test\\\\berlin\\\\berlin_000103_000019_leftImg8bit.png', 'D:\\\\data\\\\leftImg8bit_trainvaltest\\\\leftImg8bit\\\\test\\\\berlin\\\\berlin_000104_000019_leftImg8bit.png', 'D:\\\\data\\\\leftImg8bit_trainvaltest\\\\leftImg8bit\\\\test\\\\berlin\\\\berlin_000105_000019_leftImg8bit.png', 'D:\\\\data\\\\leftImg8bit_trainvaltest\\\\leftImg8bit\\\\test\\\\berlin\\\\berlin_000106_000019_leftImg8bit.png', 'D:\\\\data\\\\leftImg8bit_trainvaltest\\\\leftImg8bit\\\\test\\\\berlin\\\\berlin_000107_000019_leftImg8bit.png', 'D:\\\\data\\\\leftImg8bit_trainvaltest\\\\leftImg8bit\\\\test\\\\berlin\\\\berlin_000108_000019_leftImg8bit.png', 'D:\\\\data\\\\leftImg8bit_trainvaltest\\\\leftImg8bit\\\\test\\\\berlin\\\\berlin_000109_000019_leftImg8bit.png', 'D:\\\\data\\\\leftImg8bit_trainvaltest\\\\leftImg8bit\\\\test\\\\berlin\\\\berlin_000110_000019_leftImg8bit.png', 'D:\\\\data\\\\leftImg8bit_trainvaltest\\\\leftImg8bit\\\\test\\\\berlin\\\\berlin_000111_000019_leftImg8bit.png', 'D:\\\\data\\\\leftImg8bit_trainvaltest\\\\leftImg8bit\\\\test\\\\berlin\\\\berlin_000112_000019_leftImg8bit.png', 'D:\\\\data\\\\leftImg8bit_trainvaltest\\\\leftImg8bit\\\\test\\\\berlin\\\\berlin_000113_000019_leftImg8bit.png', 'D:\\\\data\\\\leftImg8bit_trainvaltest\\\\leftImg8bit\\\\test\\\\berlin\\\\berlin_000114_000019_leftImg8bit.png', 'D:\\\\data\\\\leftImg8bit_trainvaltest\\\\leftImg8bit\\\\test\\\\berlin\\\\berlin_000115_000019_leftImg8bit.png', 'D:\\\\data\\\\leftImg8bit_trainvaltest\\\\leftImg8bit\\\\test\\\\berlin\\\\berlin_000116_000019_leftImg8bit.png', 'D:\\\\data\\\\leftImg8bit_trainvaltest\\\\leftImg8bit\\\\test\\\\berlin\\\\berlin_000117_000019_leftImg8bit.png', 'D:\\\\data\\\\leftImg8bit_trainvaltest\\\\leftImg8bit\\\\test\\\\berlin\\\\berlin_000118_000019_leftImg8bit.png', 'D:\\\\data\\\\leftImg8bit_trainvaltest\\\\leftImg8bit\\\\test\\\\berlin\\\\berlin_000119_000019_leftImg8bit.png', 'D:\\\\data\\\\leftImg8bit_trainvaltest\\\\leftImg8bit\\\\test\\\\berlin\\\\berlin_000120_000019_leftImg8bit.png', 'D:\\\\data\\\\leftImg8bit_trainvaltest\\\\leftImg8bit\\\\test\\\\berlin\\\\berlin_000121_000019_leftImg8bit.png', 'D:\\\\data\\\\leftImg8bit_trainvaltest\\\\leftImg8bit\\\\test\\\\berlin\\\\berlin_000122_000019_leftImg8bit.png', 'D:\\\\data\\\\leftImg8bit_trainvaltest\\\\leftImg8bit\\\\test\\\\berlin\\\\berlin_000123_000019_leftImg8bit.png', 'D:\\\\data\\\\leftImg8bit_trainvaltest\\\\leftImg8bit\\\\test\\\\berlin\\\\berlin_000124_000019_leftImg8bit.png', 'D:\\\\data\\\\leftImg8bit_trainvaltest\\\\leftImg8bit\\\\test\\\\berlin\\\\berlin_000125_000019_leftImg8bit.png', 'D:\\\\data\\\\leftImg8bit_trainvaltest\\\\leftImg8bit\\\\test\\\\berlin\\\\berlin_000126_000019_leftImg8bit.png', 'D:\\\\data\\\\leftImg8bit_trainvaltest\\\\leftImg8bit\\\\test\\\\berlin\\\\berlin_000127_000019_leftImg8bit.png', 'D:\\\\data\\\\leftImg8bit_trainvaltest\\\\leftImg8bit\\\\test\\\\berlin\\\\berlin_000128_000019_leftImg8bit.png', 'D:\\\\data\\\\leftImg8bit_trainvaltest\\\\leftImg8bit\\\\test\\\\berlin\\\\berlin_000129_000019_leftImg8bit.png', 'D:\\\\data\\\\leftImg8bit_trainvaltest\\\\leftImg8bit\\\\test\\\\berlin\\\\berlin_000130_000019_leftImg8bit.png', 'D:\\\\data\\\\leftImg8bit_trainvaltest\\\\leftImg8bit\\\\test\\\\berlin\\\\berlin_000131_000019_leftImg8bit.png', 'D:\\\\data\\\\leftImg8bit_trainvaltest\\\\leftImg8bit\\\\test\\\\berlin\\\\berlin_000132_000019_leftImg8bit.png', 'D:\\\\data\\\\leftImg8bit_trainvaltest\\\\leftImg8bit\\\\test\\\\berlin\\\\berlin_000133_000019_leftImg8bit.png', 'D:\\\\data\\\\leftImg8bit_trainvaltest\\\\leftImg8bit\\\\test\\\\berlin\\\\berlin_000134_000019_leftImg8bit.png', 'D:\\\\data\\\\leftImg8bit_trainvaltest\\\\leftImg8bit\\\\test\\\\berlin\\\\berlin_000135_000019_leftImg8bit.png', 'D:\\\\data\\\\leftImg8bit_trainvaltest\\\\leftImg8bit\\\\test\\\\berlin\\\\berlin_000136_000019_leftImg8bit.png', 'D:\\\\data\\\\leftImg8bit_trainvaltest\\\\leftImg8bit\\\\test\\\\berlin\\\\berlin_000137_000019_leftImg8bit.png', 'D:\\\\data\\\\leftImg8bit_trainvaltest\\\\leftImg8bit\\\\test\\\\berlin\\\\berlin_000138_000019_leftImg8bit.png', 'D:\\\\data\\\\leftImg8bit_trainvaltest\\\\leftImg8bit\\\\test\\\\berlin\\\\berlin_000139_000019_leftImg8bit.png', 'D:\\\\data\\\\leftImg8bit_trainvaltest\\\\leftImg8bit\\\\test\\\\berlin\\\\berlin_000140_000019_leftImg8bit.png', 'D:\\\\data\\\\leftImg8bit_trainvaltest\\\\leftImg8bit\\\\test\\\\berlin\\\\berlin_000141_000019_leftImg8bit.png', 'D:\\\\data\\\\leftImg8bit_trainvaltest\\\\leftImg8bit\\\\test\\\\berlin\\\\berlin_000142_000019_leftImg8bit.png', 'D:\\\\data\\\\leftImg8bit_trainvaltest\\\\leftImg8bit\\\\test\\\\berlin\\\\berlin_000143_000019_leftImg8bit.png', 'D:\\\\data\\\\leftImg8bit_trainvaltest\\\\leftImg8bit\\\\test\\\\berlin\\\\berlin_000144_000019_leftImg8bit.png', 'D:\\\\data\\\\leftImg8bit_trainvaltest\\\\leftImg8bit\\\\test\\\\berlin\\\\berlin_000145_000019_leftImg8bit.png', 'D:\\\\data\\\\leftImg8bit_trainvaltest\\\\leftImg8bit\\\\test\\\\berlin\\\\berlin_000146_000019_leftImg8bit.png', 'D:\\\\data\\\\leftImg8bit_trainvaltest\\\\leftImg8bit\\\\test\\\\berlin\\\\berlin_000147_000019_leftImg8bit.png', 'D:\\\\data\\\\leftImg8bit_trainvaltest\\\\leftImg8bit\\\\test\\\\berlin\\\\berlin_000148_000019_leftImg8bit.png', 'D:\\\\data\\\\leftImg8bit_trainvaltest\\\\leftImg8bit\\\\test\\\\berlin\\\\berlin_000149_000019_leftImg8bit.png', 'D:\\\\data\\\\leftImg8bit_trainvaltest\\\\leftImg8bit\\\\test\\\\berlin\\\\berlin_000150_000019_leftImg8bit.png', 'D:\\\\data\\\\leftImg8bit_trainvaltest\\\\leftImg8bit\\\\test\\\\berlin\\\\berlin_000151_000019_leftImg8bit.png', 'D:\\\\data\\\\leftImg8bit_trainvaltest\\\\leftImg8bit\\\\test\\\\berlin\\\\berlin_000152_000019_leftImg8bit.png', 'D:\\\\data\\\\leftImg8bit_trainvaltest\\\\leftImg8bit\\\\test\\\\berlin\\\\berlin_000153_000019_leftImg8bit.png', 'D:\\\\data\\\\leftImg8bit_trainvaltest\\\\leftImg8bit\\\\test\\\\berlin\\\\berlin_000154_000019_leftImg8bit.png', 'D:\\\\data\\\\leftImg8bit_trainvaltest\\\\leftImg8bit\\\\test\\\\berlin\\\\berlin_000155_000019_leftImg8bit.png', 'D:\\\\data\\\\leftImg8bit_trainvaltest\\\\leftImg8bit\\\\test\\\\berlin\\\\berlin_000156_000019_leftImg8bit.png', 'D:\\\\data\\\\leftImg8bit_trainvaltest\\\\leftImg8bit\\\\test\\\\berlin\\\\berlin_000157_000019_leftImg8bit.png', 'D:\\\\data\\\\leftImg8bit_trainvaltest\\\\leftImg8bit\\\\test\\\\berlin\\\\berlin_000158_000019_leftImg8bit.png', 'D:\\\\data\\\\leftImg8bit_trainvaltest\\\\leftImg8bit\\\\test\\\\berlin\\\\berlin_000159_000019_leftImg8bit.png', 'D:\\\\data\\\\leftImg8bit_trainvaltest\\\\leftImg8bit\\\\test\\\\berlin\\\\berlin_000160_000019_leftImg8bit.png', 'D:\\\\data\\\\leftImg8bit_trainvaltest\\\\leftImg8bit\\\\test\\\\berlin\\\\berlin_000161_000019_leftImg8bit.png', 'D:\\\\data\\\\leftImg8bit_trainvaltest\\\\leftImg8bit\\\\test\\\\berlin\\\\berlin_000162_000019_leftImg8bit.png', 'D:\\\\data\\\\leftImg8bit_trainvaltest\\\\leftImg8bit\\\\test\\\\berlin\\\\berlin_000163_000019_leftImg8bit.png', 'D:\\\\data\\\\leftImg8bit_trainvaltest\\\\leftImg8bit\\\\test\\\\berlin\\\\berlin_000164_000019_leftImg8bit.png', 'D:\\\\data\\\\leftImg8bit_trainvaltest\\\\leftImg8bit\\\\test\\\\berlin\\\\berlin_000165_000019_leftImg8bit.png', 'D:\\\\data\\\\leftImg8bit_trainvaltest\\\\leftImg8bit\\\\test\\\\berlin\\\\berlin_000166_000019_leftImg8bit.png', 'D:\\\\data\\\\leftImg8bit_trainvaltest\\\\leftImg8bit\\\\test\\\\berlin\\\\berlin_000167_000019_leftImg8bit.png', 'D:\\\\data\\\\leftImg8bit_trainvaltest\\\\leftImg8bit\\\\test\\\\berlin\\\\berlin_000168_000019_leftImg8bit.png', 'D:\\\\data\\\\leftImg8bit_trainvaltest\\\\leftImg8bit\\\\test\\\\berlin\\\\berlin_000169_000019_leftImg8bit.png', 'D:\\\\data\\\\leftImg8bit_trainvaltest\\\\leftImg8bit\\\\test\\\\berlin\\\\berlin_000170_000019_leftImg8bit.png', 'D:\\\\data\\\\leftImg8bit_trainvaltest\\\\leftImg8bit\\\\test\\\\berlin\\\\berlin_000171_000019_leftImg8bit.png', 'D:\\\\data\\\\leftImg8bit_trainvaltest\\\\leftImg8bit\\\\test\\\\berlin\\\\berlin_000172_000019_leftImg8bit.png', 'D:\\\\data\\\\leftImg8bit_trainvaltest\\\\leftImg8bit\\\\test\\\\berlin\\\\berlin_000173_000019_leftImg8bit.png', 'D:\\\\data\\\\leftImg8bit_trainvaltest\\\\leftImg8bit\\\\test\\\\berlin\\\\berlin_000174_000019_leftImg8bit.png', 'D:\\\\data\\\\leftImg8bit_trainvaltest\\\\leftImg8bit\\\\test\\\\berlin\\\\berlin_000175_000019_leftImg8bit.png', 'D:\\\\data\\\\leftImg8bit_trainvaltest\\\\leftImg8bit\\\\test\\\\berlin\\\\berlin_000176_000019_leftImg8bit.png', 'D:\\\\data\\\\leftImg8bit_trainvaltest\\\\leftImg8bit\\\\test\\\\berlin\\\\berlin_000177_000019_leftImg8bit.png', 'D:\\\\data\\\\leftImg8bit_trainvaltest\\\\leftImg8bit\\\\test\\\\berlin\\\\berlin_000178_000019_leftImg8bit.png', 'D:\\\\data\\\\leftImg8bit_trainvaltest\\\\leftImg8bit\\\\test\\\\berlin\\\\berlin_000179_000019_leftImg8bit.png', 'D:\\\\data\\\\leftImg8bit_trainvaltest\\\\leftImg8bit\\\\test\\\\berlin\\\\berlin_000180_000019_leftImg8bit.png', 'D:\\\\data\\\\leftImg8bit_trainvaltest\\\\leftImg8bit\\\\test\\\\berlin\\\\berlin_000181_000019_leftImg8bit.png', 'D:\\\\data\\\\leftImg8bit_trainvaltest\\\\leftImg8bit\\\\test\\\\berlin\\\\berlin_000182_000019_leftImg8bit.png', 'D:\\\\data\\\\leftImg8bit_trainvaltest\\\\leftImg8bit\\\\test\\\\berlin\\\\berlin_000183_000019_leftImg8bit.png', 'D:\\\\data\\\\leftImg8bit_trainvaltest\\\\leftImg8bit\\\\test\\\\berlin\\\\berlin_000184_000019_leftImg8bit.png', 'D:\\\\data\\\\leftImg8bit_trainvaltest\\\\leftImg8bit\\\\test\\\\berlin\\\\berlin_000185_000019_leftImg8bit.png', 'D:\\\\data\\\\leftImg8bit_trainvaltest\\\\leftImg8bit\\\\test\\\\berlin\\\\berlin_000186_000019_leftImg8bit.png', 'D:\\\\data\\\\leftImg8bit_trainvaltest\\\\leftImg8bit\\\\test\\\\berlin\\\\berlin_000187_000019_leftImg8bit.png', 'D:\\\\data\\\\leftImg8bit_trainvaltest\\\\leftImg8bit\\\\test\\\\berlin\\\\berlin_000188_000019_leftImg8bit.png', 'D:\\\\data\\\\leftImg8bit_trainvaltest\\\\leftImg8bit\\\\test\\\\berlin\\\\berlin_000189_000019_leftImg8bit.png', 'D:\\\\data\\\\leftImg8bit_trainvaltest\\\\leftImg8bit\\\\test\\\\berlin\\\\berlin_000190_000019_leftImg8bit.png', 'D:\\\\data\\\\leftImg8bit_trainvaltest\\\\leftImg8bit\\\\test\\\\berlin\\\\berlin_000191_000019_leftImg8bit.png', 'D:\\\\data\\\\leftImg8bit_trainvaltest\\\\leftImg8bit\\\\test\\\\berlin\\\\berlin_000192_000019_leftImg8bit.png', 'D:\\\\data\\\\leftImg8bit_trainvaltest\\\\leftImg8bit\\\\test\\\\berlin\\\\berlin_000193_000019_leftImg8bit.png', 'D:\\\\data\\\\leftImg8bit_trainvaltest\\\\leftImg8bit\\\\test\\\\berlin\\\\berlin_000194_000019_leftImg8bit.png', 'D:\\\\data\\\\leftImg8bit_trainvaltest\\\\leftImg8bit\\\\test\\\\berlin\\\\berlin_000195_000019_leftImg8bit.png', 'D:\\\\data\\\\leftImg8bit_trainvaltest\\\\leftImg8bit\\\\test\\\\berlin\\\\berlin_000196_000019_leftImg8bit.png', 'D:\\\\data\\\\leftImg8bit_trainvaltest\\\\leftImg8bit\\\\test\\\\berlin\\\\berlin_000197_000019_leftImg8bit.png', 'D:\\\\data\\\\leftImg8bit_trainvaltest\\\\leftImg8bit\\\\test\\\\berlin\\\\berlin_000198_000019_leftImg8bit.png', 'D:\\\\data\\\\leftImg8bit_trainvaltest\\\\leftImg8bit\\\\test\\\\berlin\\\\berlin_000199_000019_leftImg8bit.png', 'D:\\\\data\\\\leftImg8bit_trainvaltest\\\\leftImg8bit\\\\test\\\\berlin\\\\berlin_000200_000019_leftImg8bit.png', 'D:\\\\data\\\\leftImg8bit_trainvaltest\\\\leftImg8bit\\\\test\\\\berlin\\\\berlin_000201_000019_leftImg8bit.png', 'D:\\\\data\\\\leftImg8bit_trainvaltest\\\\leftImg8bit\\\\test\\\\berlin\\\\berlin_000202_000019_leftImg8bit.png', 'D:\\\\data\\\\leftImg8bit_trainvaltest\\\\leftImg8bit\\\\test\\\\berlin\\\\berlin_000203_000019_leftImg8bit.png', 'D:\\\\data\\\\leftImg8bit_trainvaltest\\\\leftImg8bit\\\\test\\\\berlin\\\\berlin_000204_000019_leftImg8bit.png', 'D:\\\\data\\\\leftImg8bit_trainvaltest\\\\leftImg8bit\\\\test\\\\berlin\\\\berlin_000205_000019_leftImg8bit.png', 'D:\\\\data\\\\leftImg8bit_trainvaltest\\\\leftImg8bit\\\\test\\\\berlin\\\\berlin_000206_000019_leftImg8bit.png', 'D:\\\\data\\\\leftImg8bit_trainvaltest\\\\leftImg8bit\\\\test\\\\berlin\\\\berlin_000207_000019_leftImg8bit.png', 'D:\\\\data\\\\leftImg8bit_trainvaltest\\\\leftImg8bit\\\\test\\\\berlin\\\\berlin_000208_000019_leftImg8bit.png', 'D:\\\\data\\\\leftImg8bit_trainvaltest\\\\leftImg8bit\\\\test\\\\berlin\\\\berlin_000209_000019_leftImg8bit.png', 'D:\\\\data\\\\leftImg8bit_trainvaltest\\\\leftImg8bit\\\\test\\\\berlin\\\\berlin_000210_000019_leftImg8bit.png', 'D:\\\\data\\\\leftImg8bit_trainvaltest\\\\leftImg8bit\\\\test\\\\berlin\\\\berlin_000211_000019_leftImg8bit.png', 'D:\\\\data\\\\leftImg8bit_trainvaltest\\\\leftImg8bit\\\\test\\\\berlin\\\\berlin_000212_000019_leftImg8bit.png', 'D:\\\\data\\\\leftImg8bit_trainvaltest\\\\leftImg8bit\\\\test\\\\berlin\\\\berlin_000213_000019_leftImg8bit.png', 'D:\\\\data\\\\leftImg8bit_trainvaltest\\\\leftImg8bit\\\\test\\\\berlin\\\\berlin_000214_000019_leftImg8bit.png', 'D:\\\\data\\\\leftImg8bit_trainvaltest\\\\leftImg8bit\\\\test\\\\berlin\\\\berlin_000215_000019_leftImg8bit.png', 'D:\\\\data\\\\leftImg8bit_trainvaltest\\\\leftImg8bit\\\\test\\\\berlin\\\\berlin_000216_000019_leftImg8bit.png', 'D:\\\\data\\\\leftImg8bit_trainvaltest\\\\leftImg8bit\\\\test\\\\berlin\\\\berlin_000217_000019_leftImg8bit.png', 'D:\\\\data\\\\leftImg8bit_trainvaltest\\\\leftImg8bit\\\\test\\\\berlin\\\\berlin_000218_000019_leftImg8bit.png', 'D:\\\\data\\\\leftImg8bit_trainvaltest\\\\leftImg8bit\\\\test\\\\berlin\\\\berlin_000219_000019_leftImg8bit.png', 'D:\\\\data\\\\leftImg8bit_trainvaltest\\\\leftImg8bit\\\\test\\\\berlin\\\\berlin_000220_000019_leftImg8bit.png', 'D:\\\\data\\\\leftImg8bit_trainvaltest\\\\leftImg8bit\\\\test\\\\berlin\\\\berlin_000221_000019_leftImg8bit.png', 'D:\\\\data\\\\leftImg8bit_trainvaltest\\\\leftImg8bit\\\\test\\\\berlin\\\\berlin_000222_000019_leftImg8bit.png', 'D:\\\\data\\\\leftImg8bit_trainvaltest\\\\leftImg8bit\\\\test\\\\berlin\\\\berlin_000223_000019_leftImg8bit.png', 'D:\\\\data\\\\leftImg8bit_trainvaltest\\\\leftImg8bit\\\\test\\\\berlin\\\\berlin_000224_000019_leftImg8bit.png', 'D:\\\\data\\\\leftImg8bit_trainvaltest\\\\leftImg8bit\\\\test\\\\berlin\\\\berlin_000225_000019_leftImg8bit.png', 'D:\\\\data\\\\leftImg8bit_trainvaltest\\\\leftImg8bit\\\\test\\\\berlin\\\\berlin_000226_000019_leftImg8bit.png', 'D:\\\\data\\\\leftImg8bit_trainvaltest\\\\leftImg8bit\\\\test\\\\berlin\\\\berlin_000227_000019_leftImg8bit.png', 'D:\\\\data\\\\leftImg8bit_trainvaltest\\\\leftImg8bit\\\\test\\\\berlin\\\\berlin_000228_000019_leftImg8bit.png', 'D:\\\\data\\\\leftImg8bit_trainvaltest\\\\leftImg8bit\\\\test\\\\berlin\\\\berlin_000229_000019_leftImg8bit.png', 'D:\\\\data\\\\leftImg8bit_trainvaltest\\\\leftImg8bit\\\\test\\\\berlin\\\\berlin_000230_000019_leftImg8bit.png', 'D:\\\\data\\\\leftImg8bit_trainvaltest\\\\leftImg8bit\\\\test\\\\berlin\\\\berlin_000231_000019_leftImg8bit.png', 'D:\\\\data\\\\leftImg8bit_trainvaltest\\\\leftImg8bit\\\\test\\\\berlin\\\\berlin_000232_000019_leftImg8bit.png', 'D:\\\\data\\\\leftImg8bit_trainvaltest\\\\leftImg8bit\\\\test\\\\berlin\\\\berlin_000233_000019_leftImg8bit.png', 'D:\\\\data\\\\leftImg8bit_trainvaltest\\\\leftImg8bit\\\\test\\\\berlin\\\\berlin_000234_000019_leftImg8bit.png', 'D:\\\\data\\\\leftImg8bit_trainvaltest\\\\leftImg8bit\\\\test\\\\berlin\\\\berlin_000235_000019_leftImg8bit.png', 'D:\\\\data\\\\leftImg8bit_trainvaltest\\\\leftImg8bit\\\\test\\\\berlin\\\\berlin_000236_000019_leftImg8bit.png', 'D:\\\\data\\\\leftImg8bit_trainvaltest\\\\leftImg8bit\\\\test\\\\berlin\\\\berlin_000237_000019_leftImg8bit.png', 'D:\\\\data\\\\leftImg8bit_trainvaltest\\\\leftImg8bit\\\\test\\\\berlin\\\\berlin_000238_000019_leftImg8bit.png', 'D:\\\\data\\\\leftImg8bit_trainvaltest\\\\leftImg8bit\\\\test\\\\berlin\\\\berlin_000239_000019_leftImg8bit.png', 'D:\\\\data\\\\leftImg8bit_trainvaltest\\\\leftImg8bit\\\\test\\\\berlin\\\\berlin_000240_000019_leftImg8bit.png', 'D:\\\\data\\\\leftImg8bit_trainvaltest\\\\leftImg8bit\\\\test\\\\berlin\\\\berlin_000241_000019_leftImg8bit.png', 'D:\\\\data\\\\leftImg8bit_trainvaltest\\\\leftImg8bit\\\\test\\\\berlin\\\\berlin_000242_000019_leftImg8bit.png', 'D:\\\\data\\\\leftImg8bit_trainvaltest\\\\leftImg8bit\\\\test\\\\berlin\\\\berlin_000243_000019_leftImg8bit.png', 'D:\\\\data\\\\leftImg8bit_trainvaltest\\\\leftImg8bit\\\\test\\\\berlin\\\\berlin_000244_000019_leftImg8bit.png', 'D:\\\\data\\\\leftImg8bit_trainvaltest\\\\leftImg8bit\\\\test\\\\berlin\\\\berlin_000245_000019_leftImg8bit.png', 'D:\\\\data\\\\leftImg8bit_trainvaltest\\\\leftImg8bit\\\\test\\\\berlin\\\\berlin_000246_000019_leftImg8bit.png', 'D:\\\\data\\\\leftImg8bit_trainvaltest\\\\leftImg8bit\\\\test\\\\berlin\\\\berlin_000247_000019_leftImg8bit.png', 'D:\\\\data\\\\leftImg8bit_trainvaltest\\\\leftImg8bit\\\\test\\\\berlin\\\\berlin_000248_000019_leftImg8bit.png', 'D:\\\\data\\\\leftImg8bit_trainvaltest\\\\leftImg8bit\\\\test\\\\berlin\\\\berlin_000249_000019_leftImg8bit.png', 'D:\\\\data\\\\leftImg8bit_trainvaltest\\\\leftImg8bit\\\\test\\\\berlin\\\\berlin_000250_000019_leftImg8bit.png', 'D:\\\\data\\\\leftImg8bit_trainvaltest\\\\leftImg8bit\\\\test\\\\berlin\\\\berlin_000251_000019_leftImg8bit.png', 'D:\\\\data\\\\leftImg8bit_trainvaltest\\\\leftImg8bit\\\\test\\\\berlin\\\\berlin_000252_000019_leftImg8bit.png', 'D:\\\\data\\\\leftImg8bit_trainvaltest\\\\leftImg8bit\\\\test\\\\berlin\\\\berlin_000253_000019_leftImg8bit.png', 'D:\\\\data\\\\leftImg8bit_trainvaltest\\\\leftImg8bit\\\\test\\\\berlin\\\\berlin_000254_000019_leftImg8bit.png', 'D:\\\\data\\\\leftImg8bit_trainvaltest\\\\leftImg8bit\\\\test\\\\berlin\\\\berlin_000255_000019_leftImg8bit.png', 'D:\\\\data\\\\leftImg8bit_trainvaltest\\\\leftImg8bit\\\\test\\\\berlin\\\\berlin_000256_000019_leftImg8bit.png', 'D:\\\\data\\\\leftImg8bit_trainvaltest\\\\leftImg8bit\\\\test\\\\berlin\\\\berlin_000257_000019_leftImg8bit.png', 'D:\\\\data\\\\leftImg8bit_trainvaltest\\\\leftImg8bit\\\\test\\\\berlin\\\\berlin_000258_000019_leftImg8bit.png', 'D:\\\\data\\\\leftImg8bit_trainvaltest\\\\leftImg8bit\\\\test\\\\berlin\\\\berlin_000259_000019_leftImg8bit.png', 'D:\\\\data\\\\leftImg8bit_trainvaltest\\\\leftImg8bit\\\\test\\\\berlin\\\\berlin_000260_000019_leftImg8bit.png', 'D:\\\\data\\\\leftImg8bit_trainvaltest\\\\leftImg8bit\\\\test\\\\berlin\\\\berlin_000261_000019_leftImg8bit.png', 'D:\\\\data\\\\leftImg8bit_trainvaltest\\\\leftImg8bit\\\\test\\\\berlin\\\\berlin_000262_000019_leftImg8bit.png', 'D:\\\\data\\\\leftImg8bit_trainvaltest\\\\leftImg8bit\\\\test\\\\berlin\\\\berlin_000263_000019_leftImg8bit.png', 'D:\\\\data\\\\leftImg8bit_trainvaltest\\\\leftImg8bit\\\\test\\\\berlin\\\\berlin_000264_000019_leftImg8bit.png', 'D:\\\\data\\\\leftImg8bit_trainvaltest\\\\leftImg8bit\\\\test\\\\berlin\\\\berlin_000265_000019_leftImg8bit.png', 'D:\\\\data\\\\leftImg8bit_trainvaltest\\\\leftImg8bit\\\\test\\\\berlin\\\\berlin_000266_000019_leftImg8bit.png', 'D:\\\\data\\\\leftImg8bit_trainvaltest\\\\leftImg8bit\\\\test\\\\berlin\\\\berlin_000267_000019_leftImg8bit.png', 'D:\\\\data\\\\leftImg8bit_trainvaltest\\\\leftImg8bit\\\\test\\\\berlin\\\\berlin_000268_000019_leftImg8bit.png', 'D:\\\\data\\\\leftImg8bit_trainvaltest\\\\leftImg8bit\\\\test\\\\berlin\\\\berlin_000269_000019_leftImg8bit.png', 'D:\\\\data\\\\leftImg8bit_trainvaltest\\\\leftImg8bit\\\\test\\\\berlin\\\\berlin_000270_000019_leftImg8bit.png', 'D:\\\\data\\\\leftImg8bit_trainvaltest\\\\leftImg8bit\\\\test\\\\berlin\\\\berlin_000271_000019_leftImg8bit.png', 'D:\\\\data\\\\leftImg8bit_trainvaltest\\\\leftImg8bit\\\\test\\\\berlin\\\\berlin_000272_000019_leftImg8bit.png', 'D:\\\\data\\\\leftImg8bit_trainvaltest\\\\leftImg8bit\\\\test\\\\berlin\\\\berlin_000273_000019_leftImg8bit.png', 'D:\\\\data\\\\leftImg8bit_trainvaltest\\\\leftImg8bit\\\\test\\\\berlin\\\\berlin_000274_000019_leftImg8bit.png', 'D:\\\\data\\\\leftImg8bit_trainvaltest\\\\leftImg8bit\\\\test\\\\berlin\\\\berlin_000275_000019_leftImg8bit.png', 'D:\\\\data\\\\leftImg8bit_trainvaltest\\\\leftImg8bit\\\\test\\\\berlin\\\\berlin_000276_000019_leftImg8bit.png', 'D:\\\\data\\\\leftImg8bit_trainvaltest\\\\leftImg8bit\\\\test\\\\berlin\\\\berlin_000277_000019_leftImg8bit.png', 'D:\\\\data\\\\leftImg8bit_trainvaltest\\\\leftImg8bit\\\\test\\\\berlin\\\\berlin_000278_000019_leftImg8bit.png', 'D:\\\\data\\\\leftImg8bit_trainvaltest\\\\leftImg8bit\\\\test\\\\berlin\\\\berlin_000279_000019_leftImg8bit.png', 'D:\\\\data\\\\leftImg8bit_trainvaltest\\\\leftImg8bit\\\\test\\\\berlin\\\\berlin_000280_000019_leftImg8bit.png', 'D:\\\\data\\\\leftImg8bit_trainvaltest\\\\leftImg8bit\\\\test\\\\berlin\\\\berlin_000281_000019_leftImg8bit.png', 'D:\\\\data\\\\leftImg8bit_trainvaltest\\\\leftImg8bit\\\\test\\\\berlin\\\\berlin_000282_000019_leftImg8bit.png', 'D:\\\\data\\\\leftImg8bit_trainvaltest\\\\leftImg8bit\\\\test\\\\berlin\\\\berlin_000283_000019_leftImg8bit.png', 'D:\\\\data\\\\leftImg8bit_trainvaltest\\\\leftImg8bit\\\\test\\\\berlin\\\\berlin_000284_000019_leftImg8bit.png', 'D:\\\\data\\\\leftImg8bit_trainvaltest\\\\leftImg8bit\\\\test\\\\berlin\\\\berlin_000285_000019_leftImg8bit.png', 'D:\\\\data\\\\leftImg8bit_trainvaltest\\\\leftImg8bit\\\\test\\\\berlin\\\\berlin_000286_000019_leftImg8bit.png', 'D:\\\\data\\\\leftImg8bit_trainvaltest\\\\leftImg8bit\\\\test\\\\berlin\\\\berlin_000287_000019_leftImg8bit.png', 'D:\\\\data\\\\leftImg8bit_trainvaltest\\\\leftImg8bit\\\\test\\\\berlin\\\\berlin_000288_000019_leftImg8bit.png', 'D:\\\\data\\\\leftImg8bit_trainvaltest\\\\leftImg8bit\\\\test\\\\berlin\\\\berlin_000289_000019_leftImg8bit.png', 'D:\\\\data\\\\leftImg8bit_trainvaltest\\\\leftImg8bit\\\\test\\\\berlin\\\\berlin_000290_000019_leftImg8bit.png', 'D:\\\\data\\\\leftImg8bit_trainvaltest\\\\leftImg8bit\\\\test\\\\berlin\\\\berlin_000291_000019_leftImg8bit.png', 'D:\\\\data\\\\leftImg8bit_trainvaltest\\\\leftImg8bit\\\\test\\\\berlin\\\\berlin_000292_000019_leftImg8bit.png', 'D:\\\\data\\\\leftImg8bit_trainvaltest\\\\leftImg8bit\\\\test\\\\berlin\\\\berlin_000293_000019_leftImg8bit.png', 'D:\\\\data\\\\leftImg8bit_trainvaltest\\\\leftImg8bit\\\\test\\\\berlin\\\\berlin_000294_000019_leftImg8bit.png', 'D:\\\\data\\\\leftImg8bit_trainvaltest\\\\leftImg8bit\\\\test\\\\berlin\\\\berlin_000295_000019_leftImg8bit.png', 'D:\\\\data\\\\leftImg8bit_trainvaltest\\\\leftImg8bit\\\\test\\\\berlin\\\\berlin_000296_000019_leftImg8bit.png', 'D:\\\\data\\\\leftImg8bit_trainvaltest\\\\leftImg8bit\\\\test\\\\berlin\\\\berlin_000297_000019_leftImg8bit.png', 'D:\\\\data\\\\leftImg8bit_trainvaltest\\\\leftImg8bit\\\\test\\\\berlin\\\\berlin_000298_000019_leftImg8bit.png', 'D:\\\\data\\\\leftImg8bit_trainvaltest\\\\leftImg8bit\\\\test\\\\berlin\\\\berlin_000299_000019_leftImg8bit.png', 'D:\\\\data\\\\leftImg8bit_trainvaltest\\\\leftImg8bit\\\\test\\\\berlin\\\\berlin_000300_000019_leftImg8bit.png', 'D:\\\\data\\\\leftImg8bit_trainvaltest\\\\leftImg8bit\\\\test\\\\berlin\\\\berlin_000301_000019_leftImg8bit.png', 'D:\\\\data\\\\leftImg8bit_trainvaltest\\\\leftImg8bit\\\\test\\\\berlin\\\\berlin_000302_000019_leftImg8bit.png', 'D:\\\\data\\\\leftImg8bit_trainvaltest\\\\leftImg8bit\\\\test\\\\berlin\\\\berlin_000303_000019_leftImg8bit.png', 'D:\\\\data\\\\leftImg8bit_trainvaltest\\\\leftImg8bit\\\\test\\\\berlin\\\\berlin_000304_000019_leftImg8bit.png', 'D:\\\\data\\\\leftImg8bit_trainvaltest\\\\leftImg8bit\\\\test\\\\berlin\\\\berlin_000305_000019_leftImg8bit.png', 'D:\\\\data\\\\leftImg8bit_trainvaltest\\\\leftImg8bit\\\\test\\\\berlin\\\\berlin_000306_000019_leftImg8bit.png', 'D:\\\\data\\\\leftImg8bit_trainvaltest\\\\leftImg8bit\\\\test\\\\berlin\\\\berlin_000307_000019_leftImg8bit.png', 'D:\\\\data\\\\leftImg8bit_trainvaltest\\\\leftImg8bit\\\\test\\\\berlin\\\\berlin_000308_000019_leftImg8bit.png', 'D:\\\\data\\\\leftImg8bit_trainvaltest\\\\leftImg8bit\\\\test\\\\berlin\\\\berlin_000309_000019_leftImg8bit.png', 'D:\\\\data\\\\leftImg8bit_trainvaltest\\\\leftImg8bit\\\\test\\\\berlin\\\\berlin_000310_000019_leftImg8bit.png', 'D:\\\\data\\\\leftImg8bit_trainvaltest\\\\leftImg8bit\\\\test\\\\berlin\\\\berlin_000311_000019_leftImg8bit.png', 'D:\\\\data\\\\leftImg8bit_trainvaltest\\\\leftImg8bit\\\\test\\\\berlin\\\\berlin_000312_000019_leftImg8bit.png', 'D:\\\\data\\\\leftImg8bit_trainvaltest\\\\leftImg8bit\\\\test\\\\berlin\\\\berlin_000313_000019_leftImg8bit.png', 'D:\\\\data\\\\leftImg8bit_trainvaltest\\\\leftImg8bit\\\\test\\\\berlin\\\\berlin_000314_000019_leftImg8bit.png', 'D:\\\\data\\\\leftImg8bit_trainvaltest\\\\leftImg8bit\\\\test\\\\berlin\\\\berlin_000315_000019_leftImg8bit.png', 'D:\\\\data\\\\leftImg8bit_trainvaltest\\\\leftImg8bit\\\\test\\\\berlin\\\\berlin_000316_000019_leftImg8bit.png', 'D:\\\\data\\\\leftImg8bit_trainvaltest\\\\leftImg8bit\\\\test\\\\berlin\\\\berlin_000317_000019_leftImg8bit.png', 'D:\\\\data\\\\leftImg8bit_trainvaltest\\\\leftImg8bit\\\\test\\\\berlin\\\\berlin_000318_000019_leftImg8bit.png', 'D:\\\\data\\\\leftImg8bit_trainvaltest\\\\leftImg8bit\\\\test\\\\berlin\\\\berlin_000319_000019_leftImg8bit.png', 'D:\\\\data\\\\leftImg8bit_trainvaltest\\\\leftImg8bit\\\\test\\\\berlin\\\\berlin_000320_000019_leftImg8bit.png', 'D:\\\\data\\\\leftImg8bit_trainvaltest\\\\leftImg8bit\\\\test\\\\berlin\\\\berlin_000321_000019_leftImg8bit.png', 'D:\\\\data\\\\leftImg8bit_trainvaltest\\\\leftImg8bit\\\\test\\\\berlin\\\\berlin_000322_000019_leftImg8bit.png', 'D:\\\\data\\\\leftImg8bit_trainvaltest\\\\leftImg8bit\\\\test\\\\berlin\\\\berlin_000323_000019_leftImg8bit.png', 'D:\\\\data\\\\leftImg8bit_trainvaltest\\\\leftImg8bit\\\\test\\\\berlin\\\\berlin_000324_000019_leftImg8bit.png', 'D:\\\\data\\\\leftImg8bit_trainvaltest\\\\leftImg8bit\\\\test\\\\berlin\\\\berlin_000325_000019_leftImg8bit.png', 'D:\\\\data\\\\leftImg8bit_trainvaltest\\\\leftImg8bit\\\\test\\\\berlin\\\\berlin_000326_000019_leftImg8bit.png', 'D:\\\\data\\\\leftImg8bit_trainvaltest\\\\leftImg8bit\\\\test\\\\berlin\\\\berlin_000327_000019_leftImg8bit.png', 'D:\\\\data\\\\leftImg8bit_trainvaltest\\\\leftImg8bit\\\\test\\\\berlin\\\\berlin_000328_000019_leftImg8bit.png', 'D:\\\\data\\\\leftImg8bit_trainvaltest\\\\leftImg8bit\\\\test\\\\berlin\\\\berlin_000329_000019_leftImg8bit.png', 'D:\\\\data\\\\leftImg8bit_trainvaltest\\\\leftImg8bit\\\\test\\\\berlin\\\\berlin_000330_000019_leftImg8bit.png', 'D:\\\\data\\\\leftImg8bit_trainvaltest\\\\leftImg8bit\\\\test\\\\berlin\\\\berlin_000331_000019_leftImg8bit.png', 'D:\\\\data\\\\leftImg8bit_trainvaltest\\\\leftImg8bit\\\\test\\\\berlin\\\\berlin_000332_000019_leftImg8bit.png', 'D:\\\\data\\\\leftImg8bit_trainvaltest\\\\leftImg8bit\\\\test\\\\berlin\\\\berlin_000333_000019_leftImg8bit.png', 'D:\\\\data\\\\leftImg8bit_trainvaltest\\\\leftImg8bit\\\\test\\\\berlin\\\\berlin_000334_000019_leftImg8bit.png', 'D:\\\\data\\\\leftImg8bit_trainvaltest\\\\leftImg8bit\\\\test\\\\berlin\\\\berlin_000335_000019_leftImg8bit.png', 'D:\\\\data\\\\leftImg8bit_trainvaltest\\\\leftImg8bit\\\\test\\\\berlin\\\\berlin_000336_000019_leftImg8bit.png', 'D:\\\\data\\\\leftImg8bit_trainvaltest\\\\leftImg8bit\\\\test\\\\berlin\\\\berlin_000337_000019_leftImg8bit.png', 'D:\\\\data\\\\leftImg8bit_trainvaltest\\\\leftImg8bit\\\\test\\\\berlin\\\\berlin_000338_000019_leftImg8bit.png', 'D:\\\\data\\\\leftImg8bit_trainvaltest\\\\leftImg8bit\\\\test\\\\berlin\\\\berlin_000339_000019_leftImg8bit.png', 'D:\\\\data\\\\leftImg8bit_trainvaltest\\\\leftImg8bit\\\\test\\\\berlin\\\\berlin_000340_000019_leftImg8bit.png', 'D:\\\\data\\\\leftImg8bit_trainvaltest\\\\leftImg8bit\\\\test\\\\berlin\\\\berlin_000341_000019_leftImg8bit.png', 'D:\\\\data\\\\leftImg8bit_trainvaltest\\\\leftImg8bit\\\\test\\\\berlin\\\\berlin_000342_000019_leftImg8bit.png', 'D:\\\\data\\\\leftImg8bit_trainvaltest\\\\leftImg8bit\\\\test\\\\berlin\\\\berlin_000343_000019_leftImg8bit.png', 'D:\\\\data\\\\leftImg8bit_trainvaltest\\\\leftImg8bit\\\\test\\\\berlin\\\\berlin_000344_000019_leftImg8bit.png', 'D:\\\\data\\\\leftImg8bit_trainvaltest\\\\leftImg8bit\\\\test\\\\berlin\\\\berlin_000345_000019_leftImg8bit.png', 'D:\\\\data\\\\leftImg8bit_trainvaltest\\\\leftImg8bit\\\\test\\\\berlin\\\\berlin_000346_000019_leftImg8bit.png', 'D:\\\\data\\\\leftImg8bit_trainvaltest\\\\leftImg8bit\\\\test\\\\berlin\\\\berlin_000347_000019_leftImg8bit.png', 'D:\\\\data\\\\leftImg8bit_trainvaltest\\\\leftImg8bit\\\\test\\\\berlin\\\\berlin_000348_000019_leftImg8bit.png', 'D:\\\\data\\\\leftImg8bit_trainvaltest\\\\leftImg8bit\\\\test\\\\berlin\\\\berlin_000349_000019_leftImg8bit.png', 'D:\\\\data\\\\leftImg8bit_trainvaltest\\\\leftImg8bit\\\\test\\\\berlin\\\\berlin_000350_000019_leftImg8bit.png', 'D:\\\\data\\\\leftImg8bit_trainvaltest\\\\leftImg8bit\\\\test\\\\berlin\\\\berlin_000351_000019_leftImg8bit.png', 'D:\\\\data\\\\leftImg8bit_trainvaltest\\\\leftImg8bit\\\\test\\\\berlin\\\\berlin_000352_000019_leftImg8bit.png', 'D:\\\\data\\\\leftImg8bit_trainvaltest\\\\leftImg8bit\\\\test\\\\berlin\\\\berlin_000353_000019_leftImg8bit.png', 'D:\\\\data\\\\leftImg8bit_trainvaltest\\\\leftImg8bit\\\\test\\\\berlin\\\\berlin_000354_000019_leftImg8bit.png', 'D:\\\\data\\\\leftImg8bit_trainvaltest\\\\leftImg8bit\\\\test\\\\berlin\\\\berlin_000355_000019_leftImg8bit.png', 'D:\\\\data\\\\leftImg8bit_trainvaltest\\\\leftImg8bit\\\\test\\\\berlin\\\\berlin_000356_000019_leftImg8bit.png', 'D:\\\\data\\\\leftImg8bit_trainvaltest\\\\leftImg8bit\\\\test\\\\berlin\\\\berlin_000357_000019_leftImg8bit.png', 'D:\\\\data\\\\leftImg8bit_trainvaltest\\\\leftImg8bit\\\\test\\\\berlin\\\\berlin_000358_000019_leftImg8bit.png', 'D:\\\\data\\\\leftImg8bit_trainvaltest\\\\leftImg8bit\\\\test\\\\berlin\\\\berlin_000359_000019_leftImg8bit.png', 'D:\\\\data\\\\leftImg8bit_trainvaltest\\\\leftImg8bit\\\\test\\\\berlin\\\\berlin_000360_000019_leftImg8bit.png', 'D:\\\\data\\\\leftImg8bit_trainvaltest\\\\leftImg8bit\\\\test\\\\berlin\\\\berlin_000361_000019_leftImg8bit.png', 'D:\\\\data\\\\leftImg8bit_trainvaltest\\\\leftImg8bit\\\\test\\\\berlin\\\\berlin_000362_000019_leftImg8bit.png', 'D:\\\\data\\\\leftImg8bit_trainvaltest\\\\leftImg8bit\\\\test\\\\berlin\\\\berlin_000363_000019_leftImg8bit.png', 'D:\\\\data\\\\leftImg8bit_trainvaltest\\\\leftImg8bit\\\\test\\\\berlin\\\\berlin_000364_000019_leftImg8bit.png', 'D:\\\\data\\\\leftImg8bit_trainvaltest\\\\leftImg8bit\\\\test\\\\berlin\\\\berlin_000365_000019_leftImg8bit.png', 'D:\\\\data\\\\leftImg8bit_trainvaltest\\\\leftImg8bit\\\\test\\\\berlin\\\\berlin_000366_000019_leftImg8bit.png', 'D:\\\\data\\\\leftImg8bit_trainvaltest\\\\leftImg8bit\\\\test\\\\berlin\\\\berlin_000367_000019_leftImg8bit.png', 'D:\\\\data\\\\leftImg8bit_trainvaltest\\\\leftImg8bit\\\\test\\\\berlin\\\\berlin_000368_000019_leftImg8bit.png', 'D:\\\\data\\\\leftImg8bit_trainvaltest\\\\leftImg8bit\\\\test\\\\berlin\\\\berlin_000369_000019_leftImg8bit.png', 'D:\\\\data\\\\leftImg8bit_trainvaltest\\\\leftImg8bit\\\\test\\\\berlin\\\\berlin_000370_000019_leftImg8bit.png', 'D:\\\\data\\\\leftImg8bit_trainvaltest\\\\leftImg8bit\\\\test\\\\berlin\\\\berlin_000371_000019_leftImg8bit.png', 'D:\\\\data\\\\leftImg8bit_trainvaltest\\\\leftImg8bit\\\\test\\\\berlin\\\\berlin_000372_000019_leftImg8bit.png', 'D:\\\\data\\\\leftImg8bit_trainvaltest\\\\leftImg8bit\\\\test\\\\berlin\\\\berlin_000373_000019_leftImg8bit.png', 'D:\\\\data\\\\leftImg8bit_trainvaltest\\\\leftImg8bit\\\\test\\\\berlin\\\\berlin_000374_000019_leftImg8bit.png', 'D:\\\\data\\\\leftImg8bit_trainvaltest\\\\leftImg8bit\\\\test\\\\berlin\\\\berlin_000375_000019_leftImg8bit.png', 'D:\\\\data\\\\leftImg8bit_trainvaltest\\\\leftImg8bit\\\\test\\\\berlin\\\\berlin_000376_000019_leftImg8bit.png', 'D:\\\\data\\\\leftImg8bit_trainvaltest\\\\leftImg8bit\\\\test\\\\berlin\\\\berlin_000377_000019_leftImg8bit.png', 'D:\\\\data\\\\leftImg8bit_trainvaltest\\\\leftImg8bit\\\\test\\\\berlin\\\\berlin_000378_000019_leftImg8bit.png', 'D:\\\\data\\\\leftImg8bit_trainvaltest\\\\leftImg8bit\\\\test\\\\berlin\\\\berlin_000379_000019_leftImg8bit.png', 'D:\\\\data\\\\leftImg8bit_trainvaltest\\\\leftImg8bit\\\\test\\\\berlin\\\\berlin_000380_000019_leftImg8bit.png', 'D:\\\\data\\\\leftImg8bit_trainvaltest\\\\leftImg8bit\\\\test\\\\berlin\\\\berlin_000381_000019_leftImg8bit.png', 'D:\\\\data\\\\leftImg8bit_trainvaltest\\\\leftImg8bit\\\\test\\\\berlin\\\\berlin_000382_000019_leftImg8bit.png', 'D:\\\\data\\\\leftImg8bit_trainvaltest\\\\leftImg8bit\\\\test\\\\berlin\\\\berlin_000383_000019_leftImg8bit.png', 'D:\\\\data\\\\leftImg8bit_trainvaltest\\\\leftImg8bit\\\\test\\\\berlin\\\\berlin_000384_000019_leftImg8bit.png', 'D:\\\\data\\\\leftImg8bit_trainvaltest\\\\leftImg8bit\\\\test\\\\berlin\\\\berlin_000385_000019_leftImg8bit.png', 'D:\\\\data\\\\leftImg8bit_trainvaltest\\\\leftImg8bit\\\\test\\\\berlin\\\\berlin_000386_000019_leftImg8bit.png', 'D:\\\\data\\\\leftImg8bit_trainvaltest\\\\leftImg8bit\\\\test\\\\berlin\\\\berlin_000387_000019_leftImg8bit.png', 'D:\\\\data\\\\leftImg8bit_trainvaltest\\\\leftImg8bit\\\\test\\\\berlin\\\\berlin_000388_000019_leftImg8bit.png', 'D:\\\\data\\\\leftImg8bit_trainvaltest\\\\leftImg8bit\\\\test\\\\berlin\\\\berlin_000389_000019_leftImg8bit.png', 'D:\\\\data\\\\leftImg8bit_trainvaltest\\\\leftImg8bit\\\\test\\\\berlin\\\\berlin_000390_000019_leftImg8bit.png', 'D:\\\\data\\\\leftImg8bit_trainvaltest\\\\leftImg8bit\\\\test\\\\berlin\\\\berlin_000391_000019_leftImg8bit.png', 'D:\\\\data\\\\leftImg8bit_trainvaltest\\\\leftImg8bit\\\\test\\\\berlin\\\\berlin_000392_000019_leftImg8bit.png', 'D:\\\\data\\\\leftImg8bit_trainvaltest\\\\leftImg8bit\\\\test\\\\berlin\\\\berlin_000393_000019_leftImg8bit.png', 'D:\\\\data\\\\leftImg8bit_trainvaltest\\\\leftImg8bit\\\\test\\\\berlin\\\\berlin_000394_000019_leftImg8bit.png', 'D:\\\\data\\\\leftImg8bit_trainvaltest\\\\leftImg8bit\\\\test\\\\berlin\\\\berlin_000395_000019_leftImg8bit.png', 'D:\\\\data\\\\leftImg8bit_trainvaltest\\\\leftImg8bit\\\\test\\\\berlin\\\\berlin_000396_000019_leftImg8bit.png', 'D:\\\\data\\\\leftImg8bit_trainvaltest\\\\leftImg8bit\\\\test\\\\berlin\\\\berlin_000397_000019_leftImg8bit.png', 'D:\\\\data\\\\leftImg8bit_trainvaltest\\\\leftImg8bit\\\\test\\\\berlin\\\\berlin_000398_000019_leftImg8bit.png', 'D:\\\\data\\\\leftImg8bit_trainvaltest\\\\leftImg8bit\\\\test\\\\berlin\\\\berlin_000399_000019_leftImg8bit.png', 'D:\\\\data\\\\leftImg8bit_trainvaltest\\\\leftImg8bit\\\\test\\\\berlin\\\\berlin_000400_000019_leftImg8bit.png', 'D:\\\\data\\\\leftImg8bit_trainvaltest\\\\leftImg8bit\\\\test\\\\berlin\\\\berlin_000401_000019_leftImg8bit.png', 'D:\\\\data\\\\leftImg8bit_trainvaltest\\\\leftImg8bit\\\\test\\\\berlin\\\\berlin_000402_000019_leftImg8bit.png', 'D:\\\\data\\\\leftImg8bit_trainvaltest\\\\leftImg8bit\\\\test\\\\berlin\\\\berlin_000403_000019_leftImg8bit.png', 'D:\\\\data\\\\leftImg8bit_trainvaltest\\\\leftImg8bit\\\\test\\\\berlin\\\\berlin_000404_000019_leftImg8bit.png', 'D:\\\\data\\\\leftImg8bit_trainvaltest\\\\leftImg8bit\\\\test\\\\berlin\\\\berlin_000405_000019_leftImg8bit.png', 'D:\\\\data\\\\leftImg8bit_trainvaltest\\\\leftImg8bit\\\\test\\\\berlin\\\\berlin_000406_000019_leftImg8bit.png', 'D:\\\\data\\\\leftImg8bit_trainvaltest\\\\leftImg8bit\\\\test\\\\berlin\\\\berlin_000407_000019_leftImg8bit.png', 'D:\\\\data\\\\leftImg8bit_trainvaltest\\\\leftImg8bit\\\\test\\\\berlin\\\\berlin_000408_000019_leftImg8bit.png', 'D:\\\\data\\\\leftImg8bit_trainvaltest\\\\leftImg8bit\\\\test\\\\berlin\\\\berlin_000409_000019_leftImg8bit.png', 'D:\\\\data\\\\leftImg8bit_trainvaltest\\\\leftImg8bit\\\\test\\\\berlin\\\\berlin_000410_000019_leftImg8bit.png', 'D:\\\\data\\\\leftImg8bit_trainvaltest\\\\leftImg8bit\\\\test\\\\berlin\\\\berlin_000411_000019_leftImg8bit.png', 'D:\\\\data\\\\leftImg8bit_trainvaltest\\\\leftImg8bit\\\\test\\\\berlin\\\\berlin_000412_000019_leftImg8bit.png', 'D:\\\\data\\\\leftImg8bit_trainvaltest\\\\leftImg8bit\\\\test\\\\berlin\\\\berlin_000413_000019_leftImg8bit.png', 'D:\\\\data\\\\leftImg8bit_trainvaltest\\\\leftImg8bit\\\\test\\\\berlin\\\\berlin_000414_000019_leftImg8bit.png', 'D:\\\\data\\\\leftImg8bit_trainvaltest\\\\leftImg8bit\\\\test\\\\berlin\\\\berlin_000415_000019_leftImg8bit.png', 'D:\\\\data\\\\leftImg8bit_trainvaltest\\\\leftImg8bit\\\\test\\\\berlin\\\\berlin_000416_000019_leftImg8bit.png', 'D:\\\\data\\\\leftImg8bit_trainvaltest\\\\leftImg8bit\\\\test\\\\berlin\\\\berlin_000417_000019_leftImg8bit.png', 'D:\\\\data\\\\leftImg8bit_trainvaltest\\\\leftImg8bit\\\\test\\\\berlin\\\\berlin_000418_000019_leftImg8bit.png', 'D:\\\\data\\\\leftImg8bit_trainvaltest\\\\leftImg8bit\\\\test\\\\berlin\\\\berlin_000419_000019_leftImg8bit.png', 'D:\\\\data\\\\leftImg8bit_trainvaltest\\\\leftImg8bit\\\\test\\\\berlin\\\\berlin_000420_000019_leftImg8bit.png', 'D:\\\\data\\\\leftImg8bit_trainvaltest\\\\leftImg8bit\\\\test\\\\berlin\\\\berlin_000421_000019_leftImg8bit.png', 'D:\\\\data\\\\leftImg8bit_trainvaltest\\\\leftImg8bit\\\\test\\\\berlin\\\\berlin_000422_000019_leftImg8bit.png', 'D:\\\\data\\\\leftImg8bit_trainvaltest\\\\leftImg8bit\\\\test\\\\berlin\\\\berlin_000423_000019_leftImg8bit.png', 'D:\\\\data\\\\leftImg8bit_trainvaltest\\\\leftImg8bit\\\\test\\\\berlin\\\\berlin_000424_000019_leftImg8bit.png', 'D:\\\\data\\\\leftImg8bit_trainvaltest\\\\leftImg8bit\\\\test\\\\berlin\\\\berlin_000425_000019_leftImg8bit.png', 'D:\\\\data\\\\leftImg8bit_trainvaltest\\\\leftImg8bit\\\\test\\\\berlin\\\\berlin_000426_000019_leftImg8bit.png', 'D:\\\\data\\\\leftImg8bit_trainvaltest\\\\leftImg8bit\\\\test\\\\berlin\\\\berlin_000427_000019_leftImg8bit.png', 'D:\\\\data\\\\leftImg8bit_trainvaltest\\\\leftImg8bit\\\\test\\\\berlin\\\\berlin_000428_000019_leftImg8bit.png', 'D:\\\\data\\\\leftImg8bit_trainvaltest\\\\leftImg8bit\\\\test\\\\berlin\\\\berlin_000429_000019_leftImg8bit.png', 'D:\\\\data\\\\leftImg8bit_trainvaltest\\\\leftImg8bit\\\\test\\\\berlin\\\\berlin_000430_000019_leftImg8bit.png', 'D:\\\\data\\\\leftImg8bit_trainvaltest\\\\leftImg8bit\\\\test\\\\berlin\\\\berlin_000431_000019_leftImg8bit.png', 'D:\\\\data\\\\leftImg8bit_trainvaltest\\\\leftImg8bit\\\\test\\\\berlin\\\\berlin_000432_000019_leftImg8bit.png', 'D:\\\\data\\\\leftImg8bit_trainvaltest\\\\leftImg8bit\\\\test\\\\berlin\\\\berlin_000433_000019_leftImg8bit.png', 'D:\\\\data\\\\leftImg8bit_trainvaltest\\\\leftImg8bit\\\\test\\\\berlin\\\\berlin_000434_000019_leftImg8bit.png', 'D:\\\\data\\\\leftImg8bit_trainvaltest\\\\leftImg8bit\\\\test\\\\berlin\\\\berlin_000435_000019_leftImg8bit.png', 'D:\\\\data\\\\leftImg8bit_trainvaltest\\\\leftImg8bit\\\\test\\\\berlin\\\\berlin_000436_000019_leftImg8bit.png', 'D:\\\\data\\\\leftImg8bit_trainvaltest\\\\leftImg8bit\\\\test\\\\berlin\\\\berlin_000437_000019_leftImg8bit.png', 'D:\\\\data\\\\leftImg8bit_trainvaltest\\\\leftImg8bit\\\\test\\\\berlin\\\\berlin_000438_000019_leftImg8bit.png', 'D:\\\\data\\\\leftImg8bit_trainvaltest\\\\leftImg8bit\\\\test\\\\berlin\\\\berlin_000439_000019_leftImg8bit.png', 'D:\\\\data\\\\leftImg8bit_trainvaltest\\\\leftImg8bit\\\\test\\\\berlin\\\\berlin_000440_000019_leftImg8bit.png', 'D:\\\\data\\\\leftImg8bit_trainvaltest\\\\leftImg8bit\\\\test\\\\berlin\\\\berlin_000441_000019_leftImg8bit.png', 'D:\\\\data\\\\leftImg8bit_trainvaltest\\\\leftImg8bit\\\\test\\\\berlin\\\\berlin_000442_000019_leftImg8bit.png', 'D:\\\\data\\\\leftImg8bit_trainvaltest\\\\leftImg8bit\\\\test\\\\berlin\\\\berlin_000443_000019_leftImg8bit.png', 'D:\\\\data\\\\leftImg8bit_trainvaltest\\\\leftImg8bit\\\\test\\\\berlin\\\\berlin_000444_000019_leftImg8bit.png', 'D:\\\\data\\\\leftImg8bit_trainvaltest\\\\leftImg8bit\\\\test\\\\berlin\\\\berlin_000445_000019_leftImg8bit.png', 'D:\\\\data\\\\leftImg8bit_trainvaltest\\\\leftImg8bit\\\\test\\\\berlin\\\\berlin_000446_000019_leftImg8bit.png', 'D:\\\\data\\\\leftImg8bit_trainvaltest\\\\leftImg8bit\\\\test\\\\berlin\\\\berlin_000447_000019_leftImg8bit.png', 'D:\\\\data\\\\leftImg8bit_trainvaltest\\\\leftImg8bit\\\\test\\\\berlin\\\\berlin_000448_000019_leftImg8bit.png', 'D:\\\\data\\\\leftImg8bit_trainvaltest\\\\leftImg8bit\\\\test\\\\berlin\\\\berlin_000449_000019_leftImg8bit.png', 'D:\\\\data\\\\leftImg8bit_trainvaltest\\\\leftImg8bit\\\\test\\\\berlin\\\\berlin_000450_000019_leftImg8bit.png', 'D:\\\\data\\\\leftImg8bit_trainvaltest\\\\leftImg8bit\\\\test\\\\berlin\\\\berlin_000451_000019_leftImg8bit.png', 'D:\\\\data\\\\leftImg8bit_trainvaltest\\\\leftImg8bit\\\\test\\\\berlin\\\\berlin_000452_000019_leftImg8bit.png', 'D:\\\\data\\\\leftImg8bit_trainvaltest\\\\leftImg8bit\\\\test\\\\berlin\\\\berlin_000453_000019_leftImg8bit.png', 'D:\\\\data\\\\leftImg8bit_trainvaltest\\\\leftImg8bit\\\\test\\\\berlin\\\\berlin_000454_000019_leftImg8bit.png', 'D:\\\\data\\\\leftImg8bit_trainvaltest\\\\leftImg8bit\\\\test\\\\berlin\\\\berlin_000455_000019_leftImg8bit.png', 'D:\\\\data\\\\leftImg8bit_trainvaltest\\\\leftImg8bit\\\\test\\\\berlin\\\\berlin_000456_000019_leftImg8bit.png', 'D:\\\\data\\\\leftImg8bit_trainvaltest\\\\leftImg8bit\\\\test\\\\berlin\\\\berlin_000457_000019_leftImg8bit.png', 'D:\\\\data\\\\leftImg8bit_trainvaltest\\\\leftImg8bit\\\\test\\\\berlin\\\\berlin_000458_000019_leftImg8bit.png', 'D:\\\\data\\\\leftImg8bit_trainvaltest\\\\leftImg8bit\\\\test\\\\berlin\\\\berlin_000459_000019_leftImg8bit.png', 'D:\\\\data\\\\leftImg8bit_trainvaltest\\\\leftImg8bit\\\\test\\\\berlin\\\\berlin_000460_000019_leftImg8bit.png', 'D:\\\\data\\\\leftImg8bit_trainvaltest\\\\leftImg8bit\\\\test\\\\berlin\\\\berlin_000461_000019_leftImg8bit.png', 'D:\\\\data\\\\leftImg8bit_trainvaltest\\\\leftImg8bit\\\\test\\\\berlin\\\\berlin_000462_000019_leftImg8bit.png', 'D:\\\\data\\\\leftImg8bit_trainvaltest\\\\leftImg8bit\\\\test\\\\berlin\\\\berlin_000463_000019_leftImg8bit.png', 'D:\\\\data\\\\leftImg8bit_trainvaltest\\\\leftImg8bit\\\\test\\\\berlin\\\\berlin_000464_000019_leftImg8bit.png', 'D:\\\\data\\\\leftImg8bit_trainvaltest\\\\leftImg8bit\\\\test\\\\berlin\\\\berlin_000465_000019_leftImg8bit.png', 'D:\\\\data\\\\leftImg8bit_trainvaltest\\\\leftImg8bit\\\\test\\\\berlin\\\\berlin_000466_000019_leftImg8bit.png', 'D:\\\\data\\\\leftImg8bit_trainvaltest\\\\leftImg8bit\\\\test\\\\berlin\\\\berlin_000467_000019_leftImg8bit.png', 'D:\\\\data\\\\leftImg8bit_trainvaltest\\\\leftImg8bit\\\\test\\\\berlin\\\\berlin_000468_000019_leftImg8bit.png', 'D:\\\\data\\\\leftImg8bit_trainvaltest\\\\leftImg8bit\\\\test\\\\berlin\\\\berlin_000469_000019_leftImg8bit.png', 'D:\\\\data\\\\leftImg8bit_trainvaltest\\\\leftImg8bit\\\\test\\\\berlin\\\\berlin_000470_000019_leftImg8bit.png', 'D:\\\\data\\\\leftImg8bit_trainvaltest\\\\leftImg8bit\\\\test\\\\berlin\\\\berlin_000471_000019_leftImg8bit.png', 'D:\\\\data\\\\leftImg8bit_trainvaltest\\\\leftImg8bit\\\\test\\\\berlin\\\\berlin_000472_000019_leftImg8bit.png', 'D:\\\\data\\\\leftImg8bit_trainvaltest\\\\leftImg8bit\\\\test\\\\berlin\\\\berlin_000473_000019_leftImg8bit.png', 'D:\\\\data\\\\leftImg8bit_trainvaltest\\\\leftImg8bit\\\\test\\\\berlin\\\\berlin_000474_000019_leftImg8bit.png', 'D:\\\\data\\\\leftImg8bit_trainvaltest\\\\leftImg8bit\\\\test\\\\berlin\\\\berlin_000475_000019_leftImg8bit.png', 'D:\\\\data\\\\leftImg8bit_trainvaltest\\\\leftImg8bit\\\\test\\\\berlin\\\\berlin_000476_000019_leftImg8bit.png', 'D:\\\\data\\\\leftImg8bit_trainvaltest\\\\leftImg8bit\\\\test\\\\berlin\\\\berlin_000477_000019_leftImg8bit.png', 'D:\\\\data\\\\leftImg8bit_trainvaltest\\\\leftImg8bit\\\\test\\\\berlin\\\\berlin_000478_000019_leftImg8bit.png', 'D:\\\\data\\\\leftImg8bit_trainvaltest\\\\leftImg8bit\\\\test\\\\berlin\\\\berlin_000479_000019_leftImg8bit.png', 'D:\\\\data\\\\leftImg8bit_trainvaltest\\\\leftImg8bit\\\\test\\\\berlin\\\\berlin_000480_000019_leftImg8bit.png', 'D:\\\\data\\\\leftImg8bit_trainvaltest\\\\leftImg8bit\\\\test\\\\berlin\\\\berlin_000481_000019_leftImg8bit.png', 'D:\\\\data\\\\leftImg8bit_trainvaltest\\\\leftImg8bit\\\\test\\\\berlin\\\\berlin_000482_000019_leftImg8bit.png', 'D:\\\\data\\\\leftImg8bit_trainvaltest\\\\leftImg8bit\\\\test\\\\berlin\\\\berlin_000483_000019_leftImg8bit.png', 'D:\\\\data\\\\leftImg8bit_trainvaltest\\\\leftImg8bit\\\\test\\\\berlin\\\\berlin_000484_000019_leftImg8bit.png', 'D:\\\\data\\\\leftImg8bit_trainvaltest\\\\leftImg8bit\\\\test\\\\berlin\\\\berlin_000485_000019_leftImg8bit.png', 'D:\\\\data\\\\leftImg8bit_trainvaltest\\\\leftImg8bit\\\\test\\\\berlin\\\\berlin_000486_000019_leftImg8bit.png', 'D:\\\\data\\\\leftImg8bit_trainvaltest\\\\leftImg8bit\\\\test\\\\berlin\\\\berlin_000487_000019_leftImg8bit.png', 'D:\\\\data\\\\leftImg8bit_trainvaltest\\\\leftImg8bit\\\\test\\\\berlin\\\\berlin_000488_000019_leftImg8bit.png', 'D:\\\\data\\\\leftImg8bit_trainvaltest\\\\leftImg8bit\\\\test\\\\berlin\\\\berlin_000489_000019_leftImg8bit.png', 'D:\\\\data\\\\leftImg8bit_trainvaltest\\\\leftImg8bit\\\\test\\\\berlin\\\\berlin_000490_000019_leftImg8bit.png', 'D:\\\\data\\\\leftImg8bit_trainvaltest\\\\leftImg8bit\\\\test\\\\berlin\\\\berlin_000491_000019_leftImg8bit.png', 'D:\\\\data\\\\leftImg8bit_trainvaltest\\\\leftImg8bit\\\\test\\\\berlin\\\\berlin_000492_000019_leftImg8bit.png', 'D:\\\\data\\\\leftImg8bit_trainvaltest\\\\leftImg8bit\\\\test\\\\berlin\\\\berlin_000493_000019_leftImg8bit.png', 'D:\\\\data\\\\leftImg8bit_trainvaltest\\\\leftImg8bit\\\\test\\\\berlin\\\\berlin_000494_000019_leftImg8bit.png', 'D:\\\\data\\\\leftImg8bit_trainvaltest\\\\leftImg8bit\\\\test\\\\berlin\\\\berlin_000495_000019_leftImg8bit.png', 'D:\\\\data\\\\leftImg8bit_trainvaltest\\\\leftImg8bit\\\\test\\\\berlin\\\\berlin_000496_000019_leftImg8bit.png', 'D:\\\\data\\\\leftImg8bit_trainvaltest\\\\leftImg8bit\\\\test\\\\berlin\\\\berlin_000497_000019_leftImg8bit.png', 'D:\\\\data\\\\leftImg8bit_trainvaltest\\\\leftImg8bit\\\\test\\\\berlin\\\\berlin_000498_000019_leftImg8bit.png', 'D:\\\\data\\\\leftImg8bit_trainvaltest\\\\leftImg8bit\\\\test\\\\berlin\\\\berlin_000499_000019_leftImg8bit.png', 'D:\\\\data\\\\leftImg8bit_trainvaltest\\\\leftImg8bit\\\\test\\\\berlin\\\\berlin_000500_000019_leftImg8bit.png', 'D:\\\\data\\\\leftImg8bit_trainvaltest\\\\leftImg8bit\\\\test\\\\berlin\\\\berlin_000501_000019_leftImg8bit.png', 'D:\\\\data\\\\leftImg8bit_trainvaltest\\\\leftImg8bit\\\\test\\\\berlin\\\\berlin_000502_000019_leftImg8bit.png', 'D:\\\\data\\\\leftImg8bit_trainvaltest\\\\leftImg8bit\\\\test\\\\berlin\\\\berlin_000503_000019_leftImg8bit.png', 'D:\\\\data\\\\leftImg8bit_trainvaltest\\\\leftImg8bit\\\\test\\\\berlin\\\\berlin_000504_000019_leftImg8bit.png', 'D:\\\\data\\\\leftImg8bit_trainvaltest\\\\leftImg8bit\\\\test\\\\berlin\\\\berlin_000505_000019_leftImg8bit.png', 'D:\\\\data\\\\leftImg8bit_trainvaltest\\\\leftImg8bit\\\\test\\\\berlin\\\\berlin_000506_000019_leftImg8bit.png', 'D:\\\\data\\\\leftImg8bit_trainvaltest\\\\leftImg8bit\\\\test\\\\berlin\\\\berlin_000507_000019_leftImg8bit.png', 'D:\\\\data\\\\leftImg8bit_trainvaltest\\\\leftImg8bit\\\\test\\\\berlin\\\\berlin_000508_000019_leftImg8bit.png', 'D:\\\\data\\\\leftImg8bit_trainvaltest\\\\leftImg8bit\\\\test\\\\berlin\\\\berlin_000509_000019_leftImg8bit.png', 'D:\\\\data\\\\leftImg8bit_trainvaltest\\\\leftImg8bit\\\\test\\\\berlin\\\\berlin_000510_000019_leftImg8bit.png', 'D:\\\\data\\\\leftImg8bit_trainvaltest\\\\leftImg8bit\\\\test\\\\berlin\\\\berlin_000511_000019_leftImg8bit.png', 'D:\\\\data\\\\leftImg8bit_trainvaltest\\\\leftImg8bit\\\\test\\\\berlin\\\\berlin_000512_000019_leftImg8bit.png', 'D:\\\\data\\\\leftImg8bit_trainvaltest\\\\leftImg8bit\\\\test\\\\berlin\\\\berlin_000513_000019_leftImg8bit.png', 'D:\\\\data\\\\leftImg8bit_trainvaltest\\\\leftImg8bit\\\\test\\\\berlin\\\\berlin_000514_000019_leftImg8bit.png', 'D:\\\\data\\\\leftImg8bit_trainvaltest\\\\leftImg8bit\\\\test\\\\berlin\\\\berlin_000515_000019_leftImg8bit.png', 'D:\\\\data\\\\leftImg8bit_trainvaltest\\\\leftImg8bit\\\\test\\\\berlin\\\\berlin_000516_000019_leftImg8bit.png', 'D:\\\\data\\\\leftImg8bit_trainvaltest\\\\leftImg8bit\\\\test\\\\berlin\\\\berlin_000517_000019_leftImg8bit.png', 'D:\\\\data\\\\leftImg8bit_trainvaltest\\\\leftImg8bit\\\\test\\\\berlin\\\\berlin_000518_000019_leftImg8bit.png', 'D:\\\\data\\\\leftImg8bit_trainvaltest\\\\leftImg8bit\\\\test\\\\berlin\\\\berlin_000519_000019_leftImg8bit.png', 'D:\\\\data\\\\leftImg8bit_trainvaltest\\\\leftImg8bit\\\\test\\\\berlin\\\\berlin_000520_000019_leftImg8bit.png', 'D:\\\\data\\\\leftImg8bit_trainvaltest\\\\leftImg8bit\\\\test\\\\berlin\\\\berlin_000521_000019_leftImg8bit.png', 'D:\\\\data\\\\leftImg8bit_trainvaltest\\\\leftImg8bit\\\\test\\\\berlin\\\\berlin_000522_000019_leftImg8bit.png', 'D:\\\\data\\\\leftImg8bit_trainvaltest\\\\leftImg8bit\\\\test\\\\berlin\\\\berlin_000523_000019_leftImg8bit.png', 'D:\\\\data\\\\leftImg8bit_trainvaltest\\\\leftImg8bit\\\\test\\\\berlin\\\\berlin_000524_000019_leftImg8bit.png', 'D:\\\\data\\\\leftImg8bit_trainvaltest\\\\leftImg8bit\\\\test\\\\berlin\\\\berlin_000525_000019_leftImg8bit.png', 'D:\\\\data\\\\leftImg8bit_trainvaltest\\\\leftImg8bit\\\\test\\\\berlin\\\\berlin_000526_000019_leftImg8bit.png', 'D:\\\\data\\\\leftImg8bit_trainvaltest\\\\leftImg8bit\\\\test\\\\berlin\\\\berlin_000527_000019_leftImg8bit.png', 'D:\\\\data\\\\leftImg8bit_trainvaltest\\\\leftImg8bit\\\\test\\\\berlin\\\\berlin_000528_000019_leftImg8bit.png', 'D:\\\\data\\\\leftImg8bit_trainvaltest\\\\leftImg8bit\\\\test\\\\berlin\\\\berlin_000529_000019_leftImg8bit.png', 'D:\\\\data\\\\leftImg8bit_trainvaltest\\\\leftImg8bit\\\\test\\\\berlin\\\\berlin_000530_000019_leftImg8bit.png', 'D:\\\\data\\\\leftImg8bit_trainvaltest\\\\leftImg8bit\\\\test\\\\berlin\\\\berlin_000531_000019_leftImg8bit.png', 'D:\\\\data\\\\leftImg8bit_trainvaltest\\\\leftImg8bit\\\\test\\\\berlin\\\\berlin_000532_000019_leftImg8bit.png', 'D:\\\\data\\\\leftImg8bit_trainvaltest\\\\leftImg8bit\\\\test\\\\berlin\\\\berlin_000533_000019_leftImg8bit.png', 'D:\\\\data\\\\leftImg8bit_trainvaltest\\\\leftImg8bit\\\\test\\\\berlin\\\\berlin_000534_000019_leftImg8bit.png', 'D:\\\\data\\\\leftImg8bit_trainvaltest\\\\leftImg8bit\\\\test\\\\berlin\\\\berlin_000535_000019_leftImg8bit.png', 'D:\\\\data\\\\leftImg8bit_trainvaltest\\\\leftImg8bit\\\\test\\\\berlin\\\\berlin_000536_000019_leftImg8bit.png', 'D:\\\\data\\\\leftImg8bit_trainvaltest\\\\leftImg8bit\\\\test\\\\berlin\\\\berlin_000537_000019_leftImg8bit.png', 'D:\\\\data\\\\leftImg8bit_trainvaltest\\\\leftImg8bit\\\\test\\\\berlin\\\\berlin_000538_000019_leftImg8bit.png', 'D:\\\\data\\\\leftImg8bit_trainvaltest\\\\leftImg8bit\\\\test\\\\berlin\\\\berlin_000539_000019_leftImg8bit.png', 'D:\\\\data\\\\leftImg8bit_trainvaltest\\\\leftImg8bit\\\\test\\\\berlin\\\\berlin_000540_000019_leftImg8bit.png', 'D:\\\\data\\\\leftImg8bit_trainvaltest\\\\leftImg8bit\\\\test\\\\berlin\\\\berlin_000541_000019_leftImg8bit.png', 'D:\\\\data\\\\leftImg8bit_trainvaltest\\\\leftImg8bit\\\\test\\\\berlin\\\\berlin_000542_000019_leftImg8bit.png', 'D:\\\\data\\\\leftImg8bit_trainvaltest\\\\leftImg8bit\\\\test\\\\berlin\\\\berlin_000543_000019_leftImg8bit.png', 'D:\\\\data\\\\leftImg8bit_trainvaltest\\\\leftImg8bit\\\\test\\\\bielefeld\\\\bielefeld_000000_000321_leftImg8bit.png', 'D:\\\\data\\\\leftImg8bit_trainvaltest\\\\leftImg8bit\\\\test\\\\bielefeld\\\\bielefeld_000000_000856_leftImg8bit.png', 'D:\\\\data\\\\leftImg8bit_trainvaltest\\\\leftImg8bit\\\\test\\\\bielefeld\\\\bielefeld_000000_001011_leftImg8bit.png', 'D:\\\\data\\\\leftImg8bit_trainvaltest\\\\leftImg8bit\\\\test\\\\bielefeld\\\\bielefeld_000000_001187_leftImg8bit.png', 'D:\\\\data\\\\leftImg8bit_trainvaltest\\\\leftImg8bit\\\\test\\\\bielefeld\\\\bielefeld_000000_001505_leftImg8bit.png', 'D:\\\\data\\\\leftImg8bit_trainvaltest\\\\leftImg8bit\\\\test\\\\bielefeld\\\\bielefeld_000000_001705_leftImg8bit.png', 'D:\\\\data\\\\leftImg8bit_trainvaltest\\\\leftImg8bit\\\\test\\\\bielefeld\\\\bielefeld_000000_002308_leftImg8bit.png', 'D:\\\\data\\\\leftImg8bit_trainvaltest\\\\leftImg8bit\\\\test\\\\bielefeld\\\\bielefeld_000000_002528_leftImg8bit.png', 'D:\\\\data\\\\leftImg8bit_trainvaltest\\\\leftImg8bit\\\\test\\\\bielefeld\\\\bielefeld_000000_002735_leftImg8bit.png', 'D:\\\\data\\\\leftImg8bit_trainvaltest\\\\leftImg8bit\\\\test\\\\bielefeld\\\\bielefeld_000000_003080_leftImg8bit.png', 'D:\\\\data\\\\leftImg8bit_trainvaltest\\\\leftImg8bit\\\\test\\\\bielefeld\\\\bielefeld_000000_003406_leftImg8bit.png', 'D:\\\\data\\\\leftImg8bit_trainvaltest\\\\leftImg8bit\\\\test\\\\bielefeld\\\\bielefeld_000000_003546_leftImg8bit.png', 'D:\\\\data\\\\leftImg8bit_trainvaltest\\\\leftImg8bit\\\\test\\\\bielefeld\\\\bielefeld_000000_003731_leftImg8bit.png', 'D:\\\\data\\\\leftImg8bit_trainvaltest\\\\leftImg8bit\\\\test\\\\bielefeld\\\\bielefeld_000000_004345_leftImg8bit.png', 'D:\\\\data\\\\leftImg8bit_trainvaltest\\\\leftImg8bit\\\\test\\\\bielefeld\\\\bielefeld_000000_005068_leftImg8bit.png', 'D:\\\\data\\\\leftImg8bit_trainvaltest\\\\leftImg8bit\\\\test\\\\bielefeld\\\\bielefeld_000000_005260_leftImg8bit.png', 'D:\\\\data\\\\leftImg8bit_trainvaltest\\\\leftImg8bit\\\\test\\\\bielefeld\\\\bielefeld_000000_005372_leftImg8bit.png', 'D:\\\\data\\\\leftImg8bit_trainvaltest\\\\leftImg8bit\\\\test\\\\bielefeld\\\\bielefeld_000000_005584_leftImg8bit.png', 'D:\\\\data\\\\leftImg8bit_trainvaltest\\\\leftImg8bit\\\\test\\\\bielefeld\\\\bielefeld_000000_005741_leftImg8bit.png', 'D:\\\\data\\\\leftImg8bit_trainvaltest\\\\leftImg8bit\\\\test\\\\bielefeld\\\\bielefeld_000000_005942_leftImg8bit.png', 'D:\\\\data\\\\leftImg8bit_trainvaltest\\\\leftImg8bit\\\\test\\\\bielefeld\\\\bielefeld_000000_006239_leftImg8bit.png', 'D:\\\\data\\\\leftImg8bit_trainvaltest\\\\leftImg8bit\\\\test\\\\bielefeld\\\\bielefeld_000000_006603_leftImg8bit.png', 'D:\\\\data\\\\leftImg8bit_trainvaltest\\\\leftImg8bit\\\\test\\\\bielefeld\\\\bielefeld_000000_006802_leftImg8bit.png', 'D:\\\\data\\\\leftImg8bit_trainvaltest\\\\leftImg8bit\\\\test\\\\bielefeld\\\\bielefeld_000000_007030_leftImg8bit.png', 'D:\\\\data\\\\leftImg8bit_trainvaltest\\\\leftImg8bit\\\\test\\\\bielefeld\\\\bielefeld_000000_007186_leftImg8bit.png', 'D:\\\\data\\\\leftImg8bit_trainvaltest\\\\leftImg8bit\\\\test\\\\bielefeld\\\\bielefeld_000000_007545_leftImg8bit.png', 'D:\\\\data\\\\leftImg8bit_trainvaltest\\\\leftImg8bit\\\\test\\\\bielefeld\\\\bielefeld_000000_008279_leftImg8bit.png', 'D:\\\\data\\\\leftImg8bit_trainvaltest\\\\leftImg8bit\\\\test\\\\bielefeld\\\\bielefeld_000000_008581_leftImg8bit.png', 'D:\\\\data\\\\leftImg8bit_trainvaltest\\\\leftImg8bit\\\\test\\\\bielefeld\\\\bielefeld_000000_008800_leftImg8bit.png', 'D:\\\\data\\\\leftImg8bit_trainvaltest\\\\leftImg8bit\\\\test\\\\bielefeld\\\\bielefeld_000000_009728_leftImg8bit.png', 'D:\\\\data\\\\leftImg8bit_trainvaltest\\\\leftImg8bit\\\\test\\\\bielefeld\\\\bielefeld_000000_009928_leftImg8bit.png', 'D:\\\\data\\\\leftImg8bit_trainvaltest\\\\leftImg8bit\\\\test\\\\bielefeld\\\\bielefeld_000000_010156_leftImg8bit.png', 'D:\\\\data\\\\leftImg8bit_trainvaltest\\\\leftImg8bit\\\\test\\\\bielefeld\\\\bielefeld_000000_011367_leftImg8bit.png', 'D:\\\\data\\\\leftImg8bit_trainvaltest\\\\leftImg8bit\\\\test\\\\bielefeld\\\\bielefeld_000000_011831_leftImg8bit.png', 'D:\\\\data\\\\leftImg8bit_trainvaltest\\\\leftImg8bit\\\\test\\\\bielefeld\\\\bielefeld_000000_012080_leftImg8bit.png', 'D:\\\\data\\\\leftImg8bit_trainvaltest\\\\leftImg8bit\\\\test\\\\bielefeld\\\\bielefeld_000000_012584_leftImg8bit.png', 'D:\\\\data\\\\leftImg8bit_trainvaltest\\\\leftImg8bit\\\\test\\\\bielefeld\\\\bielefeld_000000_012788_leftImg8bit.png', 'D:\\\\data\\\\leftImg8bit_trainvaltest\\\\leftImg8bit\\\\test\\\\bielefeld\\\\bielefeld_000000_013570_leftImg8bit.png', 'D:\\\\data\\\\leftImg8bit_trainvaltest\\\\leftImg8bit\\\\test\\\\bielefeld\\\\bielefeld_000000_013665_leftImg8bit.png', 'D:\\\\data\\\\leftImg8bit_trainvaltest\\\\leftImg8bit\\\\test\\\\bielefeld\\\\bielefeld_000000_013814_leftImg8bit.png', 'D:\\\\data\\\\leftImg8bit_trainvaltest\\\\leftImg8bit\\\\test\\\\bielefeld\\\\bielefeld_000000_014068_leftImg8bit.png', 'D:\\\\data\\\\leftImg8bit_trainvaltest\\\\leftImg8bit\\\\test\\\\bielefeld\\\\bielefeld_000000_015301_leftImg8bit.png', 'D:\\\\data\\\\leftImg8bit_trainvaltest\\\\leftImg8bit\\\\test\\\\bielefeld\\\\bielefeld_000000_015411_leftImg8bit.png', 'D:\\\\data\\\\leftImg8bit_trainvaltest\\\\leftImg8bit\\\\test\\\\bielefeld\\\\bielefeld_000000_015587_leftImg8bit.png', 'D:\\\\data\\\\leftImg8bit_trainvaltest\\\\leftImg8bit\\\\test\\\\bielefeld\\\\bielefeld_000000_015867_leftImg8bit.png', 'D:\\\\data\\\\leftImg8bit_trainvaltest\\\\leftImg8bit\\\\test\\\\bielefeld\\\\bielefeld_000000_015942_leftImg8bit.png', 'D:\\\\data\\\\leftImg8bit_trainvaltest\\\\leftImg8bit\\\\test\\\\bielefeld\\\\bielefeld_000000_016019_leftImg8bit.png', 'D:\\\\data\\\\leftImg8bit_trainvaltest\\\\leftImg8bit\\\\test\\\\bielefeld\\\\bielefeld_000000_016718_leftImg8bit.png', 'D:\\\\data\\\\leftImg8bit_trainvaltest\\\\leftImg8bit\\\\test\\\\bielefeld\\\\bielefeld_000000_016924_leftImg8bit.png', 'D:\\\\data\\\\leftImg8bit_trainvaltest\\\\leftImg8bit\\\\test\\\\bielefeld\\\\bielefeld_000000_017051_leftImg8bit.png', 'D:\\\\data\\\\leftImg8bit_trainvaltest\\\\leftImg8bit\\\\test\\\\bielefeld\\\\bielefeld_000000_017279_leftImg8bit.png', 'D:\\\\data\\\\leftImg8bit_trainvaltest\\\\leftImg8bit\\\\test\\\\bielefeld\\\\bielefeld_000000_017438_leftImg8bit.png', 'D:\\\\data\\\\leftImg8bit_trainvaltest\\\\leftImg8bit\\\\test\\\\bielefeld\\\\bielefeld_000000_017774_leftImg8bit.png', 'D:\\\\data\\\\leftImg8bit_trainvaltest\\\\leftImg8bit\\\\test\\\\bielefeld\\\\bielefeld_000000_018102_leftImg8bit.png', 'D:\\\\data\\\\leftImg8bit_trainvaltest\\\\leftImg8bit\\\\test\\\\bielefeld\\\\bielefeld_000000_018345_leftImg8bit.png', 'D:\\\\data\\\\leftImg8bit_trainvaltest\\\\leftImg8bit\\\\test\\\\bielefeld\\\\bielefeld_000000_018644_leftImg8bit.png', 'D:\\\\data\\\\leftImg8bit_trainvaltest\\\\leftImg8bit\\\\test\\\\bielefeld\\\\bielefeld_000000_019416_leftImg8bit.png', 'D:\\\\data\\\\leftImg8bit_trainvaltest\\\\leftImg8bit\\\\test\\\\bielefeld\\\\bielefeld_000000_020757_leftImg8bit.png', 'D:\\\\data\\\\leftImg8bit_trainvaltest\\\\leftImg8bit\\\\test\\\\bielefeld\\\\bielefeld_000000_020900_leftImg8bit.png', 'D:\\\\data\\\\leftImg8bit_trainvaltest\\\\leftImg8bit\\\\test\\\\bielefeld\\\\bielefeld_000000_021221_leftImg8bit.png', 'D:\\\\data\\\\leftImg8bit_trainvaltest\\\\leftImg8bit\\\\test\\\\bielefeld\\\\bielefeld_000000_021341_leftImg8bit.png', 'D:\\\\data\\\\leftImg8bit_trainvaltest\\\\leftImg8bit\\\\test\\\\bielefeld\\\\bielefeld_000000_021381_leftImg8bit.png', 'D:\\\\data\\\\leftImg8bit_trainvaltest\\\\leftImg8bit\\\\test\\\\bielefeld\\\\bielefeld_000000_021625_leftImg8bit.png', 'D:\\\\data\\\\leftImg8bit_trainvaltest\\\\leftImg8bit\\\\test\\\\bielefeld\\\\bielefeld_000000_021826_leftImg8bit.png', 'D:\\\\data\\\\leftImg8bit_trainvaltest\\\\leftImg8bit\\\\test\\\\bielefeld\\\\bielefeld_000000_022261_leftImg8bit.png', 'D:\\\\data\\\\leftImg8bit_trainvaltest\\\\leftImg8bit\\\\test\\\\bielefeld\\\\bielefeld_000000_022835_leftImg8bit.png', 'D:\\\\data\\\\leftImg8bit_trainvaltest\\\\leftImg8bit\\\\test\\\\bielefeld\\\\bielefeld_000000_025061_leftImg8bit.png', 'D:\\\\data\\\\leftImg8bit_trainvaltest\\\\leftImg8bit\\\\test\\\\bielefeld\\\\bielefeld_000000_025426_leftImg8bit.png', 'D:\\\\data\\\\leftImg8bit_trainvaltest\\\\leftImg8bit\\\\test\\\\bielefeld\\\\bielefeld_000000_025748_leftImg8bit.png', 'D:\\\\data\\\\leftImg8bit_trainvaltest\\\\leftImg8bit\\\\test\\\\bielefeld\\\\bielefeld_000000_026053_leftImg8bit.png', 'D:\\\\data\\\\leftImg8bit_trainvaltest\\\\leftImg8bit\\\\test\\\\bielefeld\\\\bielefeld_000000_026296_leftImg8bit.png', 'D:\\\\data\\\\leftImg8bit_trainvaltest\\\\leftImg8bit\\\\test\\\\bielefeld\\\\bielefeld_000000_026550_leftImg8bit.png', 'D:\\\\data\\\\leftImg8bit_trainvaltest\\\\leftImg8bit\\\\test\\\\bielefeld\\\\bielefeld_000000_026660_leftImg8bit.png', 'D:\\\\data\\\\leftImg8bit_trainvaltest\\\\leftImg8bit\\\\test\\\\bielefeld\\\\bielefeld_000000_026823_leftImg8bit.png', 'D:\\\\data\\\\leftImg8bit_trainvaltest\\\\leftImg8bit\\\\test\\\\bielefeld\\\\bielefeld_000000_027221_leftImg8bit.png', 'D:\\\\data\\\\leftImg8bit_trainvaltest\\\\leftImg8bit\\\\test\\\\bielefeld\\\\bielefeld_000000_027586_leftImg8bit.png', 'D:\\\\data\\\\leftImg8bit_trainvaltest\\\\leftImg8bit\\\\test\\\\bielefeld\\\\bielefeld_000000_027928_leftImg8bit.png', 'D:\\\\data\\\\leftImg8bit_trainvaltest\\\\leftImg8bit\\\\test\\\\bielefeld\\\\bielefeld_000000_028046_leftImg8bit.png', 'D:\\\\data\\\\leftImg8bit_trainvaltest\\\\leftImg8bit\\\\test\\\\bielefeld\\\\bielefeld_000000_028148_leftImg8bit.png', 'D:\\\\data\\\\leftImg8bit_trainvaltest\\\\leftImg8bit\\\\test\\\\bielefeld\\\\bielefeld_000000_028414_leftImg8bit.png', 'D:\\\\data\\\\leftImg8bit_trainvaltest\\\\leftImg8bit\\\\test\\\\bielefeld\\\\bielefeld_000000_028550_leftImg8bit.png', 'D:\\\\data\\\\leftImg8bit_trainvaltest\\\\leftImg8bit\\\\test\\\\bielefeld\\\\bielefeld_000000_028747_leftImg8bit.png', 'D:\\\\data\\\\leftImg8bit_trainvaltest\\\\leftImg8bit\\\\test\\\\bielefeld\\\\bielefeld_000000_029148_leftImg8bit.png', 'D:\\\\data\\\\leftImg8bit_trainvaltest\\\\leftImg8bit\\\\test\\\\bielefeld\\\\bielefeld_000000_030038_leftImg8bit.png', 'D:\\\\data\\\\leftImg8bit_trainvaltest\\\\leftImg8bit\\\\test\\\\bielefeld\\\\bielefeld_000000_030366_leftImg8bit.png', 'D:\\\\data\\\\leftImg8bit_trainvaltest\\\\leftImg8bit\\\\test\\\\bielefeld\\\\bielefeld_000000_030958_leftImg8bit.png', 'D:\\\\data\\\\leftImg8bit_trainvaltest\\\\leftImg8bit\\\\test\\\\bielefeld\\\\bielefeld_000000_031244_leftImg8bit.png', 'D:\\\\data\\\\leftImg8bit_trainvaltest\\\\leftImg8bit\\\\test\\\\bielefeld\\\\bielefeld_000000_031510_leftImg8bit.png', 'D:\\\\data\\\\leftImg8bit_trainvaltest\\\\leftImg8bit\\\\test\\\\bielefeld\\\\bielefeld_000000_032388_leftImg8bit.png', 'D:\\\\data\\\\leftImg8bit_trainvaltest\\\\leftImg8bit\\\\test\\\\bielefeld\\\\bielefeld_000000_032766_leftImg8bit.png', 'D:\\\\data\\\\leftImg8bit_trainvaltest\\\\leftImg8bit\\\\test\\\\bielefeld\\\\bielefeld_000000_033675_leftImg8bit.png', 'D:\\\\data\\\\leftImg8bit_trainvaltest\\\\leftImg8bit\\\\test\\\\bielefeld\\\\bielefeld_000000_033770_leftImg8bit.png', 'D:\\\\data\\\\leftImg8bit_trainvaltest\\\\leftImg8bit\\\\test\\\\bielefeld\\\\bielefeld_000000_033979_leftImg8bit.png', 'D:\\\\data\\\\leftImg8bit_trainvaltest\\\\leftImg8bit\\\\test\\\\bielefeld\\\\bielefeld_000000_034705_leftImg8bit.png', 'D:\\\\data\\\\leftImg8bit_trainvaltest\\\\leftImg8bit\\\\test\\\\bielefeld\\\\bielefeld_000000_034929_leftImg8bit.png', 'D:\\\\data\\\\leftImg8bit_trainvaltest\\\\leftImg8bit\\\\test\\\\bielefeld\\\\bielefeld_000000_035223_leftImg8bit.png', 'D:\\\\data\\\\leftImg8bit_trainvaltest\\\\leftImg8bit\\\\test\\\\bielefeld\\\\bielefeld_000000_035537_leftImg8bit.png', 'D:\\\\data\\\\leftImg8bit_trainvaltest\\\\leftImg8bit\\\\test\\\\bielefeld\\\\bielefeld_000000_035879_leftImg8bit.png', 'D:\\\\data\\\\leftImg8bit_trainvaltest\\\\leftImg8bit\\\\test\\\\bielefeld\\\\bielefeld_000000_036362_leftImg8bit.png', 'D:\\\\data\\\\leftImg8bit_trainvaltest\\\\leftImg8bit\\\\test\\\\bielefeld\\\\bielefeld_000000_036732_leftImg8bit.png', 'D:\\\\data\\\\leftImg8bit_trainvaltest\\\\leftImg8bit\\\\test\\\\bielefeld\\\\bielefeld_000000_037016_leftImg8bit.png', 'D:\\\\data\\\\leftImg8bit_trainvaltest\\\\leftImg8bit\\\\test\\\\bielefeld\\\\bielefeld_000000_037159_leftImg8bit.png', 'D:\\\\data\\\\leftImg8bit_trainvaltest\\\\leftImg8bit\\\\test\\\\bielefeld\\\\bielefeld_000000_037422_leftImg8bit.png', 'D:\\\\data\\\\leftImg8bit_trainvaltest\\\\leftImg8bit\\\\test\\\\bielefeld\\\\bielefeld_000000_038924_leftImg8bit.png', 'D:\\\\data\\\\leftImg8bit_trainvaltest\\\\leftImg8bit\\\\test\\\\bielefeld\\\\bielefeld_000000_039082_leftImg8bit.png', 'D:\\\\data\\\\leftImg8bit_trainvaltest\\\\leftImg8bit\\\\test\\\\bielefeld\\\\bielefeld_000000_039221_leftImg8bit.png', 'D:\\\\data\\\\leftImg8bit_trainvaltest\\\\leftImg8bit\\\\test\\\\bielefeld\\\\bielefeld_000000_039596_leftImg8bit.png', 'D:\\\\data\\\\leftImg8bit_trainvaltest\\\\leftImg8bit\\\\test\\\\bielefeld\\\\bielefeld_000000_040035_leftImg8bit.png', 'D:\\\\data\\\\leftImg8bit_trainvaltest\\\\leftImg8bit\\\\test\\\\bielefeld\\\\bielefeld_000000_040472_leftImg8bit.png', 'D:\\\\data\\\\leftImg8bit_trainvaltest\\\\leftImg8bit\\\\test\\\\bielefeld\\\\bielefeld_000000_041014_leftImg8bit.png', 'D:\\\\data\\\\leftImg8bit_trainvaltest\\\\leftImg8bit\\\\test\\\\bielefeld\\\\bielefeld_000000_041142_leftImg8bit.png', 'D:\\\\data\\\\leftImg8bit_trainvaltest\\\\leftImg8bit\\\\test\\\\bielefeld\\\\bielefeld_000000_041223_leftImg8bit.png', 'D:\\\\data\\\\leftImg8bit_trainvaltest\\\\leftImg8bit\\\\test\\\\bielefeld\\\\bielefeld_000000_041444_leftImg8bit.png', 'D:\\\\data\\\\leftImg8bit_trainvaltest\\\\leftImg8bit\\\\test\\\\bielefeld\\\\bielefeld_000000_042403_leftImg8bit.png', 'D:\\\\data\\\\leftImg8bit_trainvaltest\\\\leftImg8bit\\\\test\\\\bielefeld\\\\bielefeld_000000_042571_leftImg8bit.png', 'D:\\\\data\\\\leftImg8bit_trainvaltest\\\\leftImg8bit\\\\test\\\\bielefeld\\\\bielefeld_000000_042717_leftImg8bit.png', 'D:\\\\data\\\\leftImg8bit_trainvaltest\\\\leftImg8bit\\\\test\\\\bielefeld\\\\bielefeld_000000_043100_leftImg8bit.png', 'D:\\\\data\\\\leftImg8bit_trainvaltest\\\\leftImg8bit\\\\test\\\\bielefeld\\\\bielefeld_000000_043389_leftImg8bit.png', 'D:\\\\data\\\\leftImg8bit_trainvaltest\\\\leftImg8bit\\\\test\\\\bielefeld\\\\bielefeld_000000_043610_leftImg8bit.png', 'D:\\\\data\\\\leftImg8bit_trainvaltest\\\\leftImg8bit\\\\test\\\\bielefeld\\\\bielefeld_000000_044085_leftImg8bit.png', 'D:\\\\data\\\\leftImg8bit_trainvaltest\\\\leftImg8bit\\\\test\\\\bielefeld\\\\bielefeld_000000_045117_leftImg8bit.png', 'D:\\\\data\\\\leftImg8bit_trainvaltest\\\\leftImg8bit\\\\test\\\\bielefeld\\\\bielefeld_000000_045232_leftImg8bit.png', 'D:\\\\data\\\\leftImg8bit_trainvaltest\\\\leftImg8bit\\\\test\\\\bielefeld\\\\bielefeld_000000_046023_leftImg8bit.png', 'D:\\\\data\\\\leftImg8bit_trainvaltest\\\\leftImg8bit\\\\test\\\\bielefeld\\\\bielefeld_000000_046212_leftImg8bit.png', 'D:\\\\data\\\\leftImg8bit_trainvaltest\\\\leftImg8bit\\\\test\\\\bielefeld\\\\bielefeld_000000_046495_leftImg8bit.png', 'D:\\\\data\\\\leftImg8bit_trainvaltest\\\\leftImg8bit\\\\test\\\\bielefeld\\\\bielefeld_000000_047542_leftImg8bit.png', 'D:\\\\data\\\\leftImg8bit_trainvaltest\\\\leftImg8bit\\\\test\\\\bielefeld\\\\bielefeld_000000_047918_leftImg8bit.png', 'D:\\\\data\\\\leftImg8bit_trainvaltest\\\\leftImg8bit\\\\test\\\\bielefeld\\\\bielefeld_000000_048227_leftImg8bit.png', 'D:\\\\data\\\\leftImg8bit_trainvaltest\\\\leftImg8bit\\\\test\\\\bielefeld\\\\bielefeld_000000_048518_leftImg8bit.png', 'D:\\\\data\\\\leftImg8bit_trainvaltest\\\\leftImg8bit\\\\test\\\\bielefeld\\\\bielefeld_000000_048754_leftImg8bit.png', 'D:\\\\data\\\\leftImg8bit_trainvaltest\\\\leftImg8bit\\\\test\\\\bielefeld\\\\bielefeld_000000_048864_leftImg8bit.png', 'D:\\\\data\\\\leftImg8bit_trainvaltest\\\\leftImg8bit\\\\test\\\\bielefeld\\\\bielefeld_000000_049313_leftImg8bit.png', 'D:\\\\data\\\\leftImg8bit_trainvaltest\\\\leftImg8bit\\\\test\\\\bielefeld\\\\bielefeld_000000_049446_leftImg8bit.png', 'D:\\\\data\\\\leftImg8bit_trainvaltest\\\\leftImg8bit\\\\test\\\\bielefeld\\\\bielefeld_000000_050021_leftImg8bit.png', 'D:\\\\data\\\\leftImg8bit_trainvaltest\\\\leftImg8bit\\\\test\\\\bielefeld\\\\bielefeld_000000_050426_leftImg8bit.png', 'D:\\\\data\\\\leftImg8bit_trainvaltest\\\\leftImg8bit\\\\test\\\\bielefeld\\\\bielefeld_000000_050586_leftImg8bit.png', 'D:\\\\data\\\\leftImg8bit_trainvaltest\\\\leftImg8bit\\\\test\\\\bielefeld\\\\bielefeld_000000_051102_leftImg8bit.png', 'D:\\\\data\\\\leftImg8bit_trainvaltest\\\\leftImg8bit\\\\test\\\\bielefeld\\\\bielefeld_000000_051223_leftImg8bit.png', 'D:\\\\data\\\\leftImg8bit_trainvaltest\\\\leftImg8bit\\\\test\\\\bielefeld\\\\bielefeld_000000_051894_leftImg8bit.png', 'D:\\\\data\\\\leftImg8bit_trainvaltest\\\\leftImg8bit\\\\test\\\\bielefeld\\\\bielefeld_000000_052155_leftImg8bit.png', 'D:\\\\data\\\\leftImg8bit_trainvaltest\\\\leftImg8bit\\\\test\\\\bielefeld\\\\bielefeld_000000_053028_leftImg8bit.png', 'D:\\\\data\\\\leftImg8bit_trainvaltest\\\\leftImg8bit\\\\test\\\\bielefeld\\\\bielefeld_000000_053384_leftImg8bit.png', 'D:\\\\data\\\\leftImg8bit_trainvaltest\\\\leftImg8bit\\\\test\\\\bielefeld\\\\bielefeld_000000_053583_leftImg8bit.png', 'D:\\\\data\\\\leftImg8bit_trainvaltest\\\\leftImg8bit\\\\test\\\\bielefeld\\\\bielefeld_000000_053779_leftImg8bit.png', 'D:\\\\data\\\\leftImg8bit_trainvaltest\\\\leftImg8bit\\\\test\\\\bielefeld\\\\bielefeld_000000_055003_leftImg8bit.png', 'D:\\\\data\\\\leftImg8bit_trainvaltest\\\\leftImg8bit\\\\test\\\\bielefeld\\\\bielefeld_000000_055145_leftImg8bit.png', 'D:\\\\data\\\\leftImg8bit_trainvaltest\\\\leftImg8bit\\\\test\\\\bielefeld\\\\bielefeld_000000_056175_leftImg8bit.png', 'D:\\\\data\\\\leftImg8bit_trainvaltest\\\\leftImg8bit\\\\test\\\\bielefeld\\\\bielefeld_000000_056226_leftImg8bit.png', 'D:\\\\data\\\\leftImg8bit_trainvaltest\\\\leftImg8bit\\\\test\\\\bielefeld\\\\bielefeld_000000_056310_leftImg8bit.png', 'D:\\\\data\\\\leftImg8bit_trainvaltest\\\\leftImg8bit\\\\test\\\\bielefeld\\\\bielefeld_000000_056493_leftImg8bit.png', 'D:\\\\data\\\\leftImg8bit_trainvaltest\\\\leftImg8bit\\\\test\\\\bielefeld\\\\bielefeld_000000_056603_leftImg8bit.png', 'D:\\\\data\\\\leftImg8bit_trainvaltest\\\\leftImg8bit\\\\test\\\\bielefeld\\\\bielefeld_000000_056866_leftImg8bit.png', 'D:\\\\data\\\\leftImg8bit_trainvaltest\\\\leftImg8bit\\\\test\\\\bielefeld\\\\bielefeld_000000_058374_leftImg8bit.png', 'D:\\\\data\\\\leftImg8bit_trainvaltest\\\\leftImg8bit\\\\test\\\\bielefeld\\\\bielefeld_000000_058776_leftImg8bit.png', 'D:\\\\data\\\\leftImg8bit_trainvaltest\\\\leftImg8bit\\\\test\\\\bielefeld\\\\bielefeld_000000_058934_leftImg8bit.png', 'D:\\\\data\\\\leftImg8bit_trainvaltest\\\\leftImg8bit\\\\test\\\\bielefeld\\\\bielefeld_000000_059119_leftImg8bit.png', 'D:\\\\data\\\\leftImg8bit_trainvaltest\\\\leftImg8bit\\\\test\\\\bielefeld\\\\bielefeld_000000_059303_leftImg8bit.png', 'D:\\\\data\\\\leftImg8bit_trainvaltest\\\\leftImg8bit\\\\test\\\\bielefeld\\\\bielefeld_000000_059355_leftImg8bit.png', 'D:\\\\data\\\\leftImg8bit_trainvaltest\\\\leftImg8bit\\\\test\\\\bielefeld\\\\bielefeld_000000_059501_leftImg8bit.png', 'D:\\\\data\\\\leftImg8bit_trainvaltest\\\\leftImg8bit\\\\test\\\\bielefeld\\\\bielefeld_000000_059651_leftImg8bit.png', 'D:\\\\data\\\\leftImg8bit_trainvaltest\\\\leftImg8bit\\\\test\\\\bielefeld\\\\bielefeld_000000_059729_leftImg8bit.png', 'D:\\\\data\\\\leftImg8bit_trainvaltest\\\\leftImg8bit\\\\test\\\\bielefeld\\\\bielefeld_000000_059766_leftImg8bit.png', 'D:\\\\data\\\\leftImg8bit_trainvaltest\\\\leftImg8bit\\\\test\\\\bielefeld\\\\bielefeld_000000_059842_leftImg8bit.png', 'D:\\\\data\\\\leftImg8bit_trainvaltest\\\\leftImg8bit\\\\test\\\\bielefeld\\\\bielefeld_000000_060786_leftImg8bit.png', 'D:\\\\data\\\\leftImg8bit_trainvaltest\\\\leftImg8bit\\\\test\\\\bielefeld\\\\bielefeld_000000_060861_leftImg8bit.png', 'D:\\\\data\\\\leftImg8bit_trainvaltest\\\\leftImg8bit\\\\test\\\\bielefeld\\\\bielefeld_000000_061094_leftImg8bit.png', 'D:\\\\data\\\\leftImg8bit_trainvaltest\\\\leftImg8bit\\\\test\\\\bielefeld\\\\bielefeld_000000_061341_leftImg8bit.png', 'D:\\\\data\\\\leftImg8bit_trainvaltest\\\\leftImg8bit\\\\test\\\\bielefeld\\\\bielefeld_000000_061975_leftImg8bit.png', 'D:\\\\data\\\\leftImg8bit_trainvaltest\\\\leftImg8bit\\\\test\\\\bielefeld\\\\bielefeld_000000_062121_leftImg8bit.png', 'D:\\\\data\\\\leftImg8bit_trainvaltest\\\\leftImg8bit\\\\test\\\\bielefeld\\\\bielefeld_000000_063427_leftImg8bit.png', 'D:\\\\data\\\\leftImg8bit_trainvaltest\\\\leftImg8bit\\\\test\\\\bielefeld\\\\bielefeld_000000_063623_leftImg8bit.png', 'D:\\\\data\\\\leftImg8bit_trainvaltest\\\\leftImg8bit\\\\test\\\\bielefeld\\\\bielefeld_000000_063939_leftImg8bit.png', 'D:\\\\data\\\\leftImg8bit_trainvaltest\\\\leftImg8bit\\\\test\\\\bielefeld\\\\bielefeld_000000_064271_leftImg8bit.png', 'D:\\\\data\\\\leftImg8bit_trainvaltest\\\\leftImg8bit\\\\test\\\\bielefeld\\\\bielefeld_000000_064583_leftImg8bit.png', 'D:\\\\data\\\\leftImg8bit_trainvaltest\\\\leftImg8bit\\\\test\\\\bielefeld\\\\bielefeld_000000_064805_leftImg8bit.png', 'D:\\\\data\\\\leftImg8bit_trainvaltest\\\\leftImg8bit\\\\test\\\\bielefeld\\\\bielefeld_000000_064910_leftImg8bit.png', 'D:\\\\data\\\\leftImg8bit_trainvaltest\\\\leftImg8bit\\\\test\\\\bielefeld\\\\bielefeld_000000_065023_leftImg8bit.png', 'D:\\\\data\\\\leftImg8bit_trainvaltest\\\\leftImg8bit\\\\test\\\\bielefeld\\\\bielefeld_000000_065154_leftImg8bit.png', 'D:\\\\data\\\\leftImg8bit_trainvaltest\\\\leftImg8bit\\\\test\\\\bielefeld\\\\bielefeld_000000_066195_leftImg8bit.png', 'D:\\\\data\\\\leftImg8bit_trainvaltest\\\\leftImg8bit\\\\test\\\\bielefeld\\\\bielefeld_000000_066405_leftImg8bit.png', 'D:\\\\data\\\\leftImg8bit_trainvaltest\\\\leftImg8bit\\\\test\\\\bielefeld\\\\bielefeld_000000_066495_leftImg8bit.png', 'D:\\\\data\\\\leftImg8bit_trainvaltest\\\\leftImg8bit\\\\test\\\\bonn\\\\bonn_000000_000019_leftImg8bit.png', 'D:\\\\data\\\\leftImg8bit_trainvaltest\\\\leftImg8bit\\\\test\\\\bonn\\\\bonn_000001_000019_leftImg8bit.png', 'D:\\\\data\\\\leftImg8bit_trainvaltest\\\\leftImg8bit\\\\test\\\\bonn\\\\bonn_000002_000019_leftImg8bit.png', 'D:\\\\data\\\\leftImg8bit_trainvaltest\\\\leftImg8bit\\\\test\\\\bonn\\\\bonn_000003_000019_leftImg8bit.png', 'D:\\\\data\\\\leftImg8bit_trainvaltest\\\\leftImg8bit\\\\test\\\\bonn\\\\bonn_000004_000019_leftImg8bit.png', 'D:\\\\data\\\\leftImg8bit_trainvaltest\\\\leftImg8bit\\\\test\\\\bonn\\\\bonn_000005_000019_leftImg8bit.png', 'D:\\\\data\\\\leftImg8bit_trainvaltest\\\\leftImg8bit\\\\test\\\\bonn\\\\bonn_000006_000019_leftImg8bit.png', 'D:\\\\data\\\\leftImg8bit_trainvaltest\\\\leftImg8bit\\\\test\\\\bonn\\\\bonn_000007_000019_leftImg8bit.png', 'D:\\\\data\\\\leftImg8bit_trainvaltest\\\\leftImg8bit\\\\test\\\\bonn\\\\bonn_000008_000019_leftImg8bit.png', 'D:\\\\data\\\\leftImg8bit_trainvaltest\\\\leftImg8bit\\\\test\\\\bonn\\\\bonn_000009_000019_leftImg8bit.png', 'D:\\\\data\\\\leftImg8bit_trainvaltest\\\\leftImg8bit\\\\test\\\\bonn\\\\bonn_000010_000019_leftImg8bit.png', 'D:\\\\data\\\\leftImg8bit_trainvaltest\\\\leftImg8bit\\\\test\\\\bonn\\\\bonn_000011_000019_leftImg8bit.png', 'D:\\\\data\\\\leftImg8bit_trainvaltest\\\\leftImg8bit\\\\test\\\\bonn\\\\bonn_000012_000019_leftImg8bit.png', 'D:\\\\data\\\\leftImg8bit_trainvaltest\\\\leftImg8bit\\\\test\\\\bonn\\\\bonn_000013_000019_leftImg8bit.png', 'D:\\\\data\\\\leftImg8bit_trainvaltest\\\\leftImg8bit\\\\test\\\\bonn\\\\bonn_000014_000019_leftImg8bit.png', 'D:\\\\data\\\\leftImg8bit_trainvaltest\\\\leftImg8bit\\\\test\\\\bonn\\\\bonn_000015_000019_leftImg8bit.png', 'D:\\\\data\\\\leftImg8bit_trainvaltest\\\\leftImg8bit\\\\test\\\\bonn\\\\bonn_000016_000019_leftImg8bit.png', 'D:\\\\data\\\\leftImg8bit_trainvaltest\\\\leftImg8bit\\\\test\\\\bonn\\\\bonn_000017_000019_leftImg8bit.png', 'D:\\\\data\\\\leftImg8bit_trainvaltest\\\\leftImg8bit\\\\test\\\\bonn\\\\bonn_000018_000019_leftImg8bit.png', 'D:\\\\data\\\\leftImg8bit_trainvaltest\\\\leftImg8bit\\\\test\\\\bonn\\\\bonn_000019_000019_leftImg8bit.png', 'D:\\\\data\\\\leftImg8bit_trainvaltest\\\\leftImg8bit\\\\test\\\\bonn\\\\bonn_000020_000019_leftImg8bit.png', 'D:\\\\data\\\\leftImg8bit_trainvaltest\\\\leftImg8bit\\\\test\\\\bonn\\\\bonn_000021_000019_leftImg8bit.png', 'D:\\\\data\\\\leftImg8bit_trainvaltest\\\\leftImg8bit\\\\test\\\\bonn\\\\bonn_000022_000019_leftImg8bit.png', 'D:\\\\data\\\\leftImg8bit_trainvaltest\\\\leftImg8bit\\\\test\\\\bonn\\\\bonn_000023_000019_leftImg8bit.png', 'D:\\\\data\\\\leftImg8bit_trainvaltest\\\\leftImg8bit\\\\test\\\\bonn\\\\bonn_000024_000019_leftImg8bit.png', 'D:\\\\data\\\\leftImg8bit_trainvaltest\\\\leftImg8bit\\\\test\\\\bonn\\\\bonn_000025_000019_leftImg8bit.png', 'D:\\\\data\\\\leftImg8bit_trainvaltest\\\\leftImg8bit\\\\test\\\\bonn\\\\bonn_000026_000019_leftImg8bit.png', 'D:\\\\data\\\\leftImg8bit_trainvaltest\\\\leftImg8bit\\\\test\\\\bonn\\\\bonn_000027_000019_leftImg8bit.png', 'D:\\\\data\\\\leftImg8bit_trainvaltest\\\\leftImg8bit\\\\test\\\\bonn\\\\bonn_000028_000019_leftImg8bit.png', 'D:\\\\data\\\\leftImg8bit_trainvaltest\\\\leftImg8bit\\\\test\\\\bonn\\\\bonn_000029_000019_leftImg8bit.png', 'D:\\\\data\\\\leftImg8bit_trainvaltest\\\\leftImg8bit\\\\test\\\\bonn\\\\bonn_000030_000019_leftImg8bit.png', 'D:\\\\data\\\\leftImg8bit_trainvaltest\\\\leftImg8bit\\\\test\\\\bonn\\\\bonn_000031_000019_leftImg8bit.png', 'D:\\\\data\\\\leftImg8bit_trainvaltest\\\\leftImg8bit\\\\test\\\\bonn\\\\bonn_000032_000019_leftImg8bit.png', 'D:\\\\data\\\\leftImg8bit_trainvaltest\\\\leftImg8bit\\\\test\\\\bonn\\\\bonn_000033_000019_leftImg8bit.png', 'D:\\\\data\\\\leftImg8bit_trainvaltest\\\\leftImg8bit\\\\test\\\\bonn\\\\bonn_000034_000019_leftImg8bit.png', 'D:\\\\data\\\\leftImg8bit_trainvaltest\\\\leftImg8bit\\\\test\\\\bonn\\\\bonn_000035_000019_leftImg8bit.png', 'D:\\\\data\\\\leftImg8bit_trainvaltest\\\\leftImg8bit\\\\test\\\\bonn\\\\bonn_000036_000019_leftImg8bit.png', 'D:\\\\data\\\\leftImg8bit_trainvaltest\\\\leftImg8bit\\\\test\\\\bonn\\\\bonn_000037_000019_leftImg8bit.png', 'D:\\\\data\\\\leftImg8bit_trainvaltest\\\\leftImg8bit\\\\test\\\\bonn\\\\bonn_000038_000019_leftImg8bit.png', 'D:\\\\data\\\\leftImg8bit_trainvaltest\\\\leftImg8bit\\\\test\\\\bonn\\\\bonn_000039_000019_leftImg8bit.png', 'D:\\\\data\\\\leftImg8bit_trainvaltest\\\\leftImg8bit\\\\test\\\\bonn\\\\bonn_000040_000019_leftImg8bit.png', 'D:\\\\data\\\\leftImg8bit_trainvaltest\\\\leftImg8bit\\\\test\\\\bonn\\\\bonn_000041_000019_leftImg8bit.png', 'D:\\\\data\\\\leftImg8bit_trainvaltest\\\\leftImg8bit\\\\test\\\\bonn\\\\bonn_000042_000019_leftImg8bit.png', 'D:\\\\data\\\\leftImg8bit_trainvaltest\\\\leftImg8bit\\\\test\\\\bonn\\\\bonn_000043_000019_leftImg8bit.png', 'D:\\\\data\\\\leftImg8bit_trainvaltest\\\\leftImg8bit\\\\test\\\\bonn\\\\bonn_000044_000019_leftImg8bit.png', 'D:\\\\data\\\\leftImg8bit_trainvaltest\\\\leftImg8bit\\\\test\\\\bonn\\\\bonn_000045_000019_leftImg8bit.png', 'D:\\\\data\\\\leftImg8bit_trainvaltest\\\\leftImg8bit\\\\test\\\\leverkusen\\\\leverkusen_000000_000019_leftImg8bit.png', 'D:\\\\data\\\\leftImg8bit_trainvaltest\\\\leftImg8bit\\\\test\\\\leverkusen\\\\leverkusen_000001_000019_leftImg8bit.png', 'D:\\\\data\\\\leftImg8bit_trainvaltest\\\\leftImg8bit\\\\test\\\\leverkusen\\\\leverkusen_000002_000019_leftImg8bit.png', 'D:\\\\data\\\\leftImg8bit_trainvaltest\\\\leftImg8bit\\\\test\\\\leverkusen\\\\leverkusen_000003_000019_leftImg8bit.png', 'D:\\\\data\\\\leftImg8bit_trainvaltest\\\\leftImg8bit\\\\test\\\\leverkusen\\\\leverkusen_000004_000019_leftImg8bit.png', 'D:\\\\data\\\\leftImg8bit_trainvaltest\\\\leftImg8bit\\\\test\\\\leverkusen\\\\leverkusen_000005_000019_leftImg8bit.png', 'D:\\\\data\\\\leftImg8bit_trainvaltest\\\\leftImg8bit\\\\test\\\\leverkusen\\\\leverkusen_000006_000019_leftImg8bit.png', 'D:\\\\data\\\\leftImg8bit_trainvaltest\\\\leftImg8bit\\\\test\\\\leverkusen\\\\leverkusen_000007_000019_leftImg8bit.png', 'D:\\\\data\\\\leftImg8bit_trainvaltest\\\\leftImg8bit\\\\test\\\\leverkusen\\\\leverkusen_000008_000019_leftImg8bit.png', 'D:\\\\data\\\\leftImg8bit_trainvaltest\\\\leftImg8bit\\\\test\\\\leverkusen\\\\leverkusen_000009_000019_leftImg8bit.png', 'D:\\\\data\\\\leftImg8bit_trainvaltest\\\\leftImg8bit\\\\test\\\\leverkusen\\\\leverkusen_000010_000019_leftImg8bit.png', 'D:\\\\data\\\\leftImg8bit_trainvaltest\\\\leftImg8bit\\\\test\\\\leverkusen\\\\leverkusen_000011_000019_leftImg8bit.png', 'D:\\\\data\\\\leftImg8bit_trainvaltest\\\\leftImg8bit\\\\test\\\\leverkusen\\\\leverkusen_000012_000019_leftImg8bit.png', 'D:\\\\data\\\\leftImg8bit_trainvaltest\\\\leftImg8bit\\\\test\\\\leverkusen\\\\leverkusen_000013_000019_leftImg8bit.png', 'D:\\\\data\\\\leftImg8bit_trainvaltest\\\\leftImg8bit\\\\test\\\\leverkusen\\\\leverkusen_000014_000019_leftImg8bit.png', 'D:\\\\data\\\\leftImg8bit_trainvaltest\\\\leftImg8bit\\\\test\\\\leverkusen\\\\leverkusen_000015_000019_leftImg8bit.png', 'D:\\\\data\\\\leftImg8bit_trainvaltest\\\\leftImg8bit\\\\test\\\\leverkusen\\\\leverkusen_000016_000019_leftImg8bit.png', 'D:\\\\data\\\\leftImg8bit_trainvaltest\\\\leftImg8bit\\\\test\\\\leverkusen\\\\leverkusen_000017_000019_leftImg8bit.png', 'D:\\\\data\\\\leftImg8bit_trainvaltest\\\\leftImg8bit\\\\test\\\\leverkusen\\\\leverkusen_000018_000019_leftImg8bit.png', 'D:\\\\data\\\\leftImg8bit_trainvaltest\\\\leftImg8bit\\\\test\\\\leverkusen\\\\leverkusen_000019_000019_leftImg8bit.png', 'D:\\\\data\\\\leftImg8bit_trainvaltest\\\\leftImg8bit\\\\test\\\\leverkusen\\\\leverkusen_000020_000019_leftImg8bit.png', 'D:\\\\data\\\\leftImg8bit_trainvaltest\\\\leftImg8bit\\\\test\\\\leverkusen\\\\leverkusen_000021_000019_leftImg8bit.png', 'D:\\\\data\\\\leftImg8bit_trainvaltest\\\\leftImg8bit\\\\test\\\\leverkusen\\\\leverkusen_000022_000019_leftImg8bit.png', 'D:\\\\data\\\\leftImg8bit_trainvaltest\\\\leftImg8bit\\\\test\\\\leverkusen\\\\leverkusen_000023_000019_leftImg8bit.png', 'D:\\\\data\\\\leftImg8bit_trainvaltest\\\\leftImg8bit\\\\test\\\\leverkusen\\\\leverkusen_000024_000019_leftImg8bit.png', 'D:\\\\data\\\\leftImg8bit_trainvaltest\\\\leftImg8bit\\\\test\\\\leverkusen\\\\leverkusen_000025_000019_leftImg8bit.png', 'D:\\\\data\\\\leftImg8bit_trainvaltest\\\\leftImg8bit\\\\test\\\\leverkusen\\\\leverkusen_000026_000019_leftImg8bit.png', 'D:\\\\data\\\\leftImg8bit_trainvaltest\\\\leftImg8bit\\\\test\\\\leverkusen\\\\leverkusen_000027_000019_leftImg8bit.png', 'D:\\\\data\\\\leftImg8bit_trainvaltest\\\\leftImg8bit\\\\test\\\\leverkusen\\\\leverkusen_000028_000019_leftImg8bit.png', 'D:\\\\data\\\\leftImg8bit_trainvaltest\\\\leftImg8bit\\\\test\\\\leverkusen\\\\leverkusen_000029_000019_leftImg8bit.png', 'D:\\\\data\\\\leftImg8bit_trainvaltest\\\\leftImg8bit\\\\test\\\\leverkusen\\\\leverkusen_000030_000019_leftImg8bit.png', 'D:\\\\data\\\\leftImg8bit_trainvaltest\\\\leftImg8bit\\\\test\\\\leverkusen\\\\leverkusen_000031_000019_leftImg8bit.png', 'D:\\\\data\\\\leftImg8bit_trainvaltest\\\\leftImg8bit\\\\test\\\\leverkusen\\\\leverkusen_000032_000019_leftImg8bit.png', 'D:\\\\data\\\\leftImg8bit_trainvaltest\\\\leftImg8bit\\\\test\\\\leverkusen\\\\leverkusen_000033_000019_leftImg8bit.png', 'D:\\\\data\\\\leftImg8bit_trainvaltest\\\\leftImg8bit\\\\test\\\\leverkusen\\\\leverkusen_000034_000019_leftImg8bit.png', 'D:\\\\data\\\\leftImg8bit_trainvaltest\\\\leftImg8bit\\\\test\\\\leverkusen\\\\leverkusen_000035_000019_leftImg8bit.png', 'D:\\\\data\\\\leftImg8bit_trainvaltest\\\\leftImg8bit\\\\test\\\\leverkusen\\\\leverkusen_000036_000019_leftImg8bit.png', 'D:\\\\data\\\\leftImg8bit_trainvaltest\\\\leftImg8bit\\\\test\\\\leverkusen\\\\leverkusen_000037_000019_leftImg8bit.png', 'D:\\\\data\\\\leftImg8bit_trainvaltest\\\\leftImg8bit\\\\test\\\\leverkusen\\\\leverkusen_000038_000019_leftImg8bit.png', 'D:\\\\data\\\\leftImg8bit_trainvaltest\\\\leftImg8bit\\\\test\\\\leverkusen\\\\leverkusen_000039_000019_leftImg8bit.png', 'D:\\\\data\\\\leftImg8bit_trainvaltest\\\\leftImg8bit\\\\test\\\\leverkusen\\\\leverkusen_000040_000019_leftImg8bit.png', 'D:\\\\data\\\\leftImg8bit_trainvaltest\\\\leftImg8bit\\\\test\\\\leverkusen\\\\leverkusen_000041_000019_leftImg8bit.png', 'D:\\\\data\\\\leftImg8bit_trainvaltest\\\\leftImg8bit\\\\test\\\\leverkusen\\\\leverkusen_000042_000019_leftImg8bit.png', 'D:\\\\data\\\\leftImg8bit_trainvaltest\\\\leftImg8bit\\\\test\\\\leverkusen\\\\leverkusen_000043_000019_leftImg8bit.png', 'D:\\\\data\\\\leftImg8bit_trainvaltest\\\\leftImg8bit\\\\test\\\\leverkusen\\\\leverkusen_000044_000019_leftImg8bit.png', 'D:\\\\data\\\\leftImg8bit_trainvaltest\\\\leftImg8bit\\\\test\\\\leverkusen\\\\leverkusen_000045_000019_leftImg8bit.png', 'D:\\\\data\\\\leftImg8bit_trainvaltest\\\\leftImg8bit\\\\test\\\\leverkusen\\\\leverkusen_000046_000019_leftImg8bit.png', 'D:\\\\data\\\\leftImg8bit_trainvaltest\\\\leftImg8bit\\\\test\\\\leverkusen\\\\leverkusen_000047_000019_leftImg8bit.png', 'D:\\\\data\\\\leftImg8bit_trainvaltest\\\\leftImg8bit\\\\test\\\\leverkusen\\\\leverkusen_000048_000019_leftImg8bit.png', 'D:\\\\data\\\\leftImg8bit_trainvaltest\\\\leftImg8bit\\\\test\\\\leverkusen\\\\leverkusen_000049_000019_leftImg8bit.png', 'D:\\\\data\\\\leftImg8bit_trainvaltest\\\\leftImg8bit\\\\test\\\\leverkusen\\\\leverkusen_000050_000019_leftImg8bit.png', 'D:\\\\data\\\\leftImg8bit_trainvaltest\\\\leftImg8bit\\\\test\\\\leverkusen\\\\leverkusen_000051_000019_leftImg8bit.png', 'D:\\\\data\\\\leftImg8bit_trainvaltest\\\\leftImg8bit\\\\test\\\\leverkusen\\\\leverkusen_000052_000019_leftImg8bit.png', 'D:\\\\data\\\\leftImg8bit_trainvaltest\\\\leftImg8bit\\\\test\\\\leverkusen\\\\leverkusen_000053_000019_leftImg8bit.png', 'D:\\\\data\\\\leftImg8bit_trainvaltest\\\\leftImg8bit\\\\test\\\\leverkusen\\\\leverkusen_000054_000019_leftImg8bit.png', 'D:\\\\data\\\\leftImg8bit_trainvaltest\\\\leftImg8bit\\\\test\\\\leverkusen\\\\leverkusen_000055_000019_leftImg8bit.png', 'D:\\\\data\\\\leftImg8bit_trainvaltest\\\\leftImg8bit\\\\test\\\\leverkusen\\\\leverkusen_000056_000019_leftImg8bit.png', 'D:\\\\data\\\\leftImg8bit_trainvaltest\\\\leftImg8bit\\\\test\\\\leverkusen\\\\leverkusen_000057_000019_leftImg8bit.png', 'D:\\\\data\\\\leftImg8bit_trainvaltest\\\\leftImg8bit\\\\test\\\\mainz\\\\mainz_000000_000093_leftImg8bit.png', 'D:\\\\data\\\\leftImg8bit_trainvaltest\\\\leftImg8bit\\\\test\\\\mainz\\\\mainz_000000_000293_leftImg8bit.png', 'D:\\\\data\\\\leftImg8bit_trainvaltest\\\\leftImg8bit\\\\test\\\\mainz\\\\mainz_000000_001003_leftImg8bit.png', 'D:\\\\data\\\\leftImg8bit_trainvaltest\\\\leftImg8bit\\\\test\\\\mainz\\\\mainz_000000_001068_leftImg8bit.png', 'D:\\\\data\\\\leftImg8bit_trainvaltest\\\\leftImg8bit\\\\test\\\\mainz\\\\mainz_000000_001265_leftImg8bit.png', 'D:\\\\data\\\\leftImg8bit_trainvaltest\\\\leftImg8bit\\\\test\\\\mainz\\\\mainz_000000_001410_leftImg8bit.png', 'D:\\\\data\\\\leftImg8bit_trainvaltest\\\\leftImg8bit\\\\test\\\\mainz\\\\mainz_000000_001601_leftImg8bit.png', 'D:\\\\data\\\\leftImg8bit_trainvaltest\\\\leftImg8bit\\\\test\\\\mainz\\\\mainz_000000_001857_leftImg8bit.png', 'D:\\\\data\\\\leftImg8bit_trainvaltest\\\\leftImg8bit\\\\test\\\\mainz\\\\mainz_000000_002212_leftImg8bit.png', 'D:\\\\data\\\\leftImg8bit_trainvaltest\\\\leftImg8bit\\\\test\\\\mainz\\\\mainz_000000_002353_leftImg8bit.png', 'D:\\\\data\\\\leftImg8bit_trainvaltest\\\\leftImg8bit\\\\test\\\\mainz\\\\mainz_000000_003049_leftImg8bit.png', 'D:\\\\data\\\\leftImg8bit_trainvaltest\\\\leftImg8bit\\\\test\\\\mainz\\\\mainz_000000_003250_leftImg8bit.png', 'D:\\\\data\\\\leftImg8bit_trainvaltest\\\\leftImg8bit\\\\test\\\\mainz\\\\mainz_000000_003506_leftImg8bit.png', 'D:\\\\data\\\\leftImg8bit_trainvaltest\\\\leftImg8bit\\\\test\\\\mainz\\\\mainz_000000_003619_leftImg8bit.png', 'D:\\\\data\\\\leftImg8bit_trainvaltest\\\\leftImg8bit\\\\test\\\\mainz\\\\mainz_000000_004000_leftImg8bit.png', 'D:\\\\data\\\\leftImg8bit_trainvaltest\\\\leftImg8bit\\\\test\\\\mainz\\\\mainz_000000_004237_leftImg8bit.png', 'D:\\\\data\\\\leftImg8bit_trainvaltest\\\\leftImg8bit\\\\test\\\\mainz\\\\mainz_000000_004542_leftImg8bit.png', 'D:\\\\data\\\\leftImg8bit_trainvaltest\\\\leftImg8bit\\\\test\\\\mainz\\\\mainz_000000_004740_leftImg8bit.png', 'D:\\\\data\\\\leftImg8bit_trainvaltest\\\\leftImg8bit\\\\test\\\\mainz\\\\mainz_000000_005403_leftImg8bit.png', 'D:\\\\data\\\\leftImg8bit_trainvaltest\\\\leftImg8bit\\\\test\\\\mainz\\\\mainz_000000_005549_leftImg8bit.png', 'D:\\\\data\\\\leftImg8bit_trainvaltest\\\\leftImg8bit\\\\test\\\\mainz\\\\mainz_000000_005817_leftImg8bit.png', 'D:\\\\data\\\\leftImg8bit_trainvaltest\\\\leftImg8bit\\\\test\\\\mainz\\\\mainz_000000_006141_leftImg8bit.png', 'D:\\\\data\\\\leftImg8bit_trainvaltest\\\\leftImg8bit\\\\test\\\\mainz\\\\mainz_000000_006263_leftImg8bit.png', 'D:\\\\data\\\\leftImg8bit_trainvaltest\\\\leftImg8bit\\\\test\\\\mainz\\\\mainz_000000_006368_leftImg8bit.png', 'D:\\\\data\\\\leftImg8bit_trainvaltest\\\\leftImg8bit\\\\test\\\\mainz\\\\mainz_000000_006649_leftImg8bit.png', 'D:\\\\data\\\\leftImg8bit_trainvaltest\\\\leftImg8bit\\\\test\\\\mainz\\\\mainz_000000_007415_leftImg8bit.png', 'D:\\\\data\\\\leftImg8bit_trainvaltest\\\\leftImg8bit\\\\test\\\\mainz\\\\mainz_000000_007813_leftImg8bit.png', 'D:\\\\data\\\\leftImg8bit_trainvaltest\\\\leftImg8bit\\\\test\\\\mainz\\\\mainz_000000_008001_leftImg8bit.png', 'D:\\\\data\\\\leftImg8bit_trainvaltest\\\\leftImg8bit\\\\test\\\\mainz\\\\mainz_000000_008165_leftImg8bit.png', 'D:\\\\data\\\\leftImg8bit_trainvaltest\\\\leftImg8bit\\\\test\\\\mainz\\\\mainz_000000_008509_leftImg8bit.png', 'D:\\\\data\\\\leftImg8bit_trainvaltest\\\\leftImg8bit\\\\test\\\\mainz\\\\mainz_000000_008645_leftImg8bit.png', 'D:\\\\data\\\\leftImg8bit_trainvaltest\\\\leftImg8bit\\\\test\\\\mainz\\\\mainz_000000_008871_leftImg8bit.png', 'D:\\\\data\\\\leftImg8bit_trainvaltest\\\\leftImg8bit\\\\test\\\\mainz\\\\mainz_000000_009751_leftImg8bit.png', 'D:\\\\data\\\\leftImg8bit_trainvaltest\\\\leftImg8bit\\\\test\\\\mainz\\\\mainz_000000_009985_leftImg8bit.png', 'D:\\\\data\\\\leftImg8bit_trainvaltest\\\\leftImg8bit\\\\test\\\\mainz\\\\mainz_000000_010171_leftImg8bit.png', 'D:\\\\data\\\\leftImg8bit_trainvaltest\\\\leftImg8bit\\\\test\\\\mainz\\\\mainz_000000_010417_leftImg8bit.png', 'D:\\\\data\\\\leftImg8bit_trainvaltest\\\\leftImg8bit\\\\test\\\\mainz\\\\mainz_000000_010550_leftImg8bit.png', 'D:\\\\data\\\\leftImg8bit_trainvaltest\\\\leftImg8bit\\\\test\\\\mainz\\\\mainz_000000_011339_leftImg8bit.png', 'D:\\\\data\\\\leftImg8bit_trainvaltest\\\\leftImg8bit\\\\test\\\\mainz\\\\mainz_000000_011879_leftImg8bit.png', 'D:\\\\data\\\\leftImg8bit_trainvaltest\\\\leftImg8bit\\\\test\\\\mainz\\\\mainz_000000_011965_leftImg8bit.png', 'D:\\\\data\\\\leftImg8bit_trainvaltest\\\\leftImg8bit\\\\test\\\\mainz\\\\mainz_000000_012392_leftImg8bit.png', 'D:\\\\data\\\\leftImg8bit_trainvaltest\\\\leftImg8bit\\\\test\\\\mainz\\\\mainz_000000_012737_leftImg8bit.png', 'D:\\\\data\\\\leftImg8bit_trainvaltest\\\\leftImg8bit\\\\test\\\\mainz\\\\mainz_000000_013095_leftImg8bit.png', 'D:\\\\data\\\\leftImg8bit_trainvaltest\\\\leftImg8bit\\\\test\\\\mainz\\\\mainz_000000_013437_leftImg8bit.png', 'D:\\\\data\\\\leftImg8bit_trainvaltest\\\\leftImg8bit\\\\test\\\\mainz\\\\mainz_000000_013671_leftImg8bit.png', 'D:\\\\data\\\\leftImg8bit_trainvaltest\\\\leftImg8bit\\\\test\\\\mainz\\\\mainz_000000_013960_leftImg8bit.png', 'D:\\\\data\\\\leftImg8bit_trainvaltest\\\\leftImg8bit\\\\test\\\\mainz\\\\mainz_000000_014193_leftImg8bit.png', 'D:\\\\data\\\\leftImg8bit_trainvaltest\\\\leftImg8bit\\\\test\\\\mainz\\\\mainz_000000_014742_leftImg8bit.png', 'D:\\\\data\\\\leftImg8bit_trainvaltest\\\\leftImg8bit\\\\test\\\\mainz\\\\mainz_000000_015052_leftImg8bit.png', 'D:\\\\data\\\\leftImg8bit_trainvaltest\\\\leftImg8bit\\\\test\\\\mainz\\\\mainz_000000_015170_leftImg8bit.png', 'D:\\\\data\\\\leftImg8bit_trainvaltest\\\\leftImg8bit\\\\test\\\\mainz\\\\mainz_000000_015760_leftImg8bit.png', 'D:\\\\data\\\\leftImg8bit_trainvaltest\\\\leftImg8bit\\\\test\\\\mainz\\\\mainz_000000_016083_leftImg8bit.png', 'D:\\\\data\\\\leftImg8bit_trainvaltest\\\\leftImg8bit\\\\test\\\\mainz\\\\mainz_000000_016281_leftImg8bit.png', 'D:\\\\data\\\\leftImg8bit_trainvaltest\\\\leftImg8bit\\\\test\\\\mainz\\\\mainz_000000_016612_leftImg8bit.png', 'D:\\\\data\\\\leftImg8bit_trainvaltest\\\\leftImg8bit\\\\test\\\\mainz\\\\mainz_000000_016651_leftImg8bit.png', 'D:\\\\data\\\\leftImg8bit_trainvaltest\\\\leftImg8bit\\\\test\\\\mainz\\\\mainz_000000_016915_leftImg8bit.png', 'D:\\\\data\\\\leftImg8bit_trainvaltest\\\\leftImg8bit\\\\test\\\\mainz\\\\mainz_000000_017927_leftImg8bit.png', 'D:\\\\data\\\\leftImg8bit_trainvaltest\\\\leftImg8bit\\\\test\\\\mainz\\\\mainz_000000_018249_leftImg8bit.png', 'D:\\\\data\\\\leftImg8bit_trainvaltest\\\\leftImg8bit\\\\test\\\\mainz\\\\mainz_000000_018883_leftImg8bit.png', 'D:\\\\data\\\\leftImg8bit_trainvaltest\\\\leftImg8bit\\\\test\\\\mainz\\\\mainz_000000_019043_leftImg8bit.png', 'D:\\\\data\\\\leftImg8bit_trainvaltest\\\\leftImg8bit\\\\test\\\\mainz\\\\mainz_000000_019227_leftImg8bit.png', 'D:\\\\data\\\\leftImg8bit_trainvaltest\\\\leftImg8bit\\\\test\\\\mainz\\\\mainz_000000_019439_leftImg8bit.png', 'D:\\\\data\\\\leftImg8bit_trainvaltest\\\\leftImg8bit\\\\test\\\\mainz\\\\mainz_000000_019686_leftImg8bit.png', 'D:\\\\data\\\\leftImg8bit_trainvaltest\\\\leftImg8bit\\\\test\\\\mainz\\\\mainz_000000_019847_leftImg8bit.png', 'D:\\\\data\\\\leftImg8bit_trainvaltest\\\\leftImg8bit\\\\test\\\\mainz\\\\mainz_000000_020139_leftImg8bit.png', 'D:\\\\data\\\\leftImg8bit_trainvaltest\\\\leftImg8bit\\\\test\\\\mainz\\\\mainz_000000_020415_leftImg8bit.png', 'D:\\\\data\\\\leftImg8bit_trainvaltest\\\\leftImg8bit\\\\test\\\\mainz\\\\mainz_000000_021457_leftImg8bit.png', 'D:\\\\data\\\\leftImg8bit_trainvaltest\\\\leftImg8bit\\\\test\\\\mainz\\\\mainz_000000_021524_leftImg8bit.png', 'D:\\\\data\\\\leftImg8bit_trainvaltest\\\\leftImg8bit\\\\test\\\\mainz\\\\mainz_000000_021735_leftImg8bit.png', 'D:\\\\data\\\\leftImg8bit_trainvaltest\\\\leftImg8bit\\\\test\\\\mainz\\\\mainz_000000_021833_leftImg8bit.png', 'D:\\\\data\\\\leftImg8bit_trainvaltest\\\\leftImg8bit\\\\test\\\\mainz\\\\mainz_000000_022091_leftImg8bit.png', 'D:\\\\data\\\\leftImg8bit_trainvaltest\\\\leftImg8bit\\\\test\\\\mainz\\\\mainz_000000_022417_leftImg8bit.png', 'D:\\\\data\\\\leftImg8bit_trainvaltest\\\\leftImg8bit\\\\test\\\\mainz\\\\mainz_000001_000120_leftImg8bit.png', 'D:\\\\data\\\\leftImg8bit_trainvaltest\\\\leftImg8bit\\\\test\\\\mainz\\\\mainz_000001_000428_leftImg8bit.png', 'D:\\\\data\\\\leftImg8bit_trainvaltest\\\\leftImg8bit\\\\test\\\\mainz\\\\mainz_000001_001509_leftImg8bit.png', 'D:\\\\data\\\\leftImg8bit_trainvaltest\\\\leftImg8bit\\\\test\\\\mainz\\\\mainz_000001_002033_leftImg8bit.png', 'D:\\\\data\\\\leftImg8bit_trainvaltest\\\\leftImg8bit\\\\test\\\\mainz\\\\mainz_000001_002543_leftImg8bit.png', 'D:\\\\data\\\\leftImg8bit_trainvaltest\\\\leftImg8bit\\\\test\\\\mainz\\\\mainz_000001_002884_leftImg8bit.png', 'D:\\\\data\\\\leftImg8bit_trainvaltest\\\\leftImg8bit\\\\test\\\\mainz\\\\mainz_000001_003012_leftImg8bit.png', 'D:\\\\data\\\\leftImg8bit_trainvaltest\\\\leftImg8bit\\\\test\\\\mainz\\\\mainz_000001_003624_leftImg8bit.png', 'D:\\\\data\\\\leftImg8bit_trainvaltest\\\\leftImg8bit\\\\test\\\\mainz\\\\mainz_000001_003702_leftImg8bit.png', 'D:\\\\data\\\\leftImg8bit_trainvaltest\\\\leftImg8bit\\\\test\\\\mainz\\\\mainz_000001_003907_leftImg8bit.png', 'D:\\\\data\\\\leftImg8bit_trainvaltest\\\\leftImg8bit\\\\test\\\\mainz\\\\mainz_000001_004132_leftImg8bit.png', 'D:\\\\data\\\\leftImg8bit_trainvaltest\\\\leftImg8bit\\\\test\\\\mainz\\\\mainz_000001_004219_leftImg8bit.png', 'D:\\\\data\\\\leftImg8bit_trainvaltest\\\\leftImg8bit\\\\test\\\\mainz\\\\mainz_000001_004823_leftImg8bit.png', 'D:\\\\data\\\\leftImg8bit_trainvaltest\\\\leftImg8bit\\\\test\\\\mainz\\\\mainz_000001_005016_leftImg8bit.png', 'D:\\\\data\\\\leftImg8bit_trainvaltest\\\\leftImg8bit\\\\test\\\\mainz\\\\mainz_000001_005163_leftImg8bit.png', 'D:\\\\data\\\\leftImg8bit_trainvaltest\\\\leftImg8bit\\\\test\\\\mainz\\\\mainz_000001_005366_leftImg8bit.png', 'D:\\\\data\\\\leftImg8bit_trainvaltest\\\\leftImg8bit\\\\test\\\\mainz\\\\mainz_000001_005665_leftImg8bit.png', 'D:\\\\data\\\\leftImg8bit_trainvaltest\\\\leftImg8bit\\\\test\\\\mainz\\\\mainz_000001_005815_leftImg8bit.png', 'D:\\\\data\\\\leftImg8bit_trainvaltest\\\\leftImg8bit\\\\test\\\\mainz\\\\mainz_000001_005911_leftImg8bit.png', 'D:\\\\data\\\\leftImg8bit_trainvaltest\\\\leftImg8bit\\\\test\\\\mainz\\\\mainz_000001_006194_leftImg8bit.png', 'D:\\\\data\\\\leftImg8bit_trainvaltest\\\\leftImg8bit\\\\test\\\\mainz\\\\mainz_000001_006768_leftImg8bit.png', 'D:\\\\data\\\\leftImg8bit_trainvaltest\\\\leftImg8bit\\\\test\\\\mainz\\\\mainz_000001_007171_leftImg8bit.png', 'D:\\\\data\\\\leftImg8bit_trainvaltest\\\\leftImg8bit\\\\test\\\\mainz\\\\mainz_000001_007460_leftImg8bit.png', 'D:\\\\data\\\\leftImg8bit_trainvaltest\\\\leftImg8bit\\\\test\\\\mainz\\\\mainz_000001_007595_leftImg8bit.png', 'D:\\\\data\\\\leftImg8bit_trainvaltest\\\\leftImg8bit\\\\test\\\\mainz\\\\mainz_000001_007956_leftImg8bit.png', 'D:\\\\data\\\\leftImg8bit_trainvaltest\\\\leftImg8bit\\\\test\\\\mainz\\\\mainz_000001_008056_leftImg8bit.png', 'D:\\\\data\\\\leftImg8bit_trainvaltest\\\\leftImg8bit\\\\test\\\\mainz\\\\mainz_000001_008264_leftImg8bit.png', 'D:\\\\data\\\\leftImg8bit_trainvaltest\\\\leftImg8bit\\\\test\\\\mainz\\\\mainz_000001_008540_leftImg8bit.png', 'D:\\\\data\\\\leftImg8bit_trainvaltest\\\\leftImg8bit\\\\test\\\\mainz\\\\mainz_000001_008638_leftImg8bit.png', 'D:\\\\data\\\\leftImg8bit_trainvaltest\\\\leftImg8bit\\\\test\\\\mainz\\\\mainz_000001_008771_leftImg8bit.png', 'D:\\\\data\\\\leftImg8bit_trainvaltest\\\\leftImg8bit\\\\test\\\\mainz\\\\mainz_000001_009152_leftImg8bit.png', 'D:\\\\data\\\\leftImg8bit_trainvaltest\\\\leftImg8bit\\\\test\\\\mainz\\\\mainz_000001_009328_leftImg8bit.png', 'D:\\\\data\\\\leftImg8bit_trainvaltest\\\\leftImg8bit\\\\test\\\\mainz\\\\mainz_000001_009811_leftImg8bit.png', 'D:\\\\data\\\\leftImg8bit_trainvaltest\\\\leftImg8bit\\\\test\\\\mainz\\\\mainz_000001_009867_leftImg8bit.png', 'D:\\\\data\\\\leftImg8bit_trainvaltest\\\\leftImg8bit\\\\test\\\\mainz\\\\mainz_000001_009996_leftImg8bit.png', 'D:\\\\data\\\\leftImg8bit_trainvaltest\\\\leftImg8bit\\\\test\\\\mainz\\\\mainz_000001_010853_leftImg8bit.png', 'D:\\\\data\\\\leftImg8bit_trainvaltest\\\\leftImg8bit\\\\test\\\\mainz\\\\mainz_000001_011333_leftImg8bit.png', 'D:\\\\data\\\\leftImg8bit_trainvaltest\\\\leftImg8bit\\\\test\\\\mainz\\\\mainz_000001_011736_leftImg8bit.png', 'D:\\\\data\\\\leftImg8bit_trainvaltest\\\\leftImg8bit\\\\test\\\\mainz\\\\mainz_000001_011785_leftImg8bit.png', 'D:\\\\data\\\\leftImg8bit_trainvaltest\\\\leftImg8bit\\\\test\\\\mainz\\\\mainz_000001_012186_leftImg8bit.png', 'D:\\\\data\\\\leftImg8bit_trainvaltest\\\\leftImg8bit\\\\test\\\\mainz\\\\mainz_000001_012470_leftImg8bit.png', 'D:\\\\data\\\\leftImg8bit_trainvaltest\\\\leftImg8bit\\\\test\\\\mainz\\\\mainz_000001_012541_leftImg8bit.png', 'D:\\\\data\\\\leftImg8bit_trainvaltest\\\\leftImg8bit\\\\test\\\\mainz\\\\mainz_000001_012644_leftImg8bit.png', 'D:\\\\data\\\\leftImg8bit_trainvaltest\\\\leftImg8bit\\\\test\\\\mainz\\\\mainz_000001_012950_leftImg8bit.png', 'D:\\\\data\\\\leftImg8bit_trainvaltest\\\\leftImg8bit\\\\test\\\\mainz\\\\mainz_000001_013313_leftImg8bit.png', 'D:\\\\data\\\\leftImg8bit_trainvaltest\\\\leftImg8bit\\\\test\\\\mainz\\\\mainz_000001_014073_leftImg8bit.png', 'D:\\\\data\\\\leftImg8bit_trainvaltest\\\\leftImg8bit\\\\test\\\\mainz\\\\mainz_000001_014469_leftImg8bit.png', 'D:\\\\data\\\\leftImg8bit_trainvaltest\\\\leftImg8bit\\\\test\\\\mainz\\\\mainz_000001_014626_leftImg8bit.png', 'D:\\\\data\\\\leftImg8bit_trainvaltest\\\\leftImg8bit\\\\test\\\\mainz\\\\mainz_000001_015117_leftImg8bit.png', 'D:\\\\data\\\\leftImg8bit_trainvaltest\\\\leftImg8bit\\\\test\\\\mainz\\\\mainz_000001_015235_leftImg8bit.png', 'D:\\\\data\\\\leftImg8bit_trainvaltest\\\\leftImg8bit\\\\test\\\\mainz\\\\mainz_000001_015508_leftImg8bit.png', 'D:\\\\data\\\\leftImg8bit_trainvaltest\\\\leftImg8bit\\\\test\\\\mainz\\\\mainz_000001_015724_leftImg8bit.png', 'D:\\\\data\\\\leftImg8bit_trainvaltest\\\\leftImg8bit\\\\test\\\\mainz\\\\mainz_000001_016011_leftImg8bit.png', 'D:\\\\data\\\\leftImg8bit_trainvaltest\\\\leftImg8bit\\\\test\\\\mainz\\\\mainz_000001_016391_leftImg8bit.png', 'D:\\\\data\\\\leftImg8bit_trainvaltest\\\\leftImg8bit\\\\test\\\\mainz\\\\mainz_000001_016931_leftImg8bit.png', 'D:\\\\data\\\\leftImg8bit_trainvaltest\\\\leftImg8bit\\\\test\\\\mainz\\\\mainz_000001_017618_leftImg8bit.png', 'D:\\\\data\\\\leftImg8bit_trainvaltest\\\\leftImg8bit\\\\test\\\\mainz\\\\mainz_000001_017992_leftImg8bit.png', 'D:\\\\data\\\\leftImg8bit_trainvaltest\\\\leftImg8bit\\\\test\\\\mainz\\\\mainz_000001_018145_leftImg8bit.png', 'D:\\\\data\\\\leftImg8bit_trainvaltest\\\\leftImg8bit\\\\test\\\\mainz\\\\mainz_000001_018329_leftImg8bit.png', 'D:\\\\data\\\\leftImg8bit_trainvaltest\\\\leftImg8bit\\\\test\\\\mainz\\\\mainz_000001_018670_leftImg8bit.png', 'D:\\\\data\\\\leftImg8bit_trainvaltest\\\\leftImg8bit\\\\test\\\\mainz\\\\mainz_000001_018817_leftImg8bit.png', 'D:\\\\data\\\\leftImg8bit_trainvaltest\\\\leftImg8bit\\\\test\\\\mainz\\\\mainz_000001_019061_leftImg8bit.png', 'D:\\\\data\\\\leftImg8bit_trainvaltest\\\\leftImg8bit\\\\test\\\\mainz\\\\mainz_000001_019286_leftImg8bit.png', 'D:\\\\data\\\\leftImg8bit_trainvaltest\\\\leftImg8bit\\\\test\\\\mainz\\\\mainz_000001_019593_leftImg8bit.png', 'D:\\\\data\\\\leftImg8bit_trainvaltest\\\\leftImg8bit\\\\test\\\\mainz\\\\mainz_000001_020068_leftImg8bit.png', 'D:\\\\data\\\\leftImg8bit_trainvaltest\\\\leftImg8bit\\\\test\\\\mainz\\\\mainz_000001_020193_leftImg8bit.png', 'D:\\\\data\\\\leftImg8bit_trainvaltest\\\\leftImg8bit\\\\test\\\\mainz\\\\mainz_000001_020484_leftImg8bit.png', 'D:\\\\data\\\\leftImg8bit_trainvaltest\\\\leftImg8bit\\\\test\\\\mainz\\\\mainz_000001_020829_leftImg8bit.png', 'D:\\\\data\\\\leftImg8bit_trainvaltest\\\\leftImg8bit\\\\test\\\\mainz\\\\mainz_000001_021042_leftImg8bit.png', 'D:\\\\data\\\\leftImg8bit_trainvaltest\\\\leftImg8bit\\\\test\\\\mainz\\\\mainz_000001_021547_leftImg8bit.png', 'D:\\\\data\\\\leftImg8bit_trainvaltest\\\\leftImg8bit\\\\test\\\\mainz\\\\mainz_000001_021892_leftImg8bit.png', 'D:\\\\data\\\\leftImg8bit_trainvaltest\\\\leftImg8bit\\\\test\\\\mainz\\\\mainz_000001_021946_leftImg8bit.png', 'D:\\\\data\\\\leftImg8bit_trainvaltest\\\\leftImg8bit\\\\test\\\\mainz\\\\mainz_000001_022125_leftImg8bit.png', 'D:\\\\data\\\\leftImg8bit_trainvaltest\\\\leftImg8bit\\\\test\\\\mainz\\\\mainz_000001_022630_leftImg8bit.png', 'D:\\\\data\\\\leftImg8bit_trainvaltest\\\\leftImg8bit\\\\test\\\\mainz\\\\mainz_000001_023439_leftImg8bit.png', 'D:\\\\data\\\\leftImg8bit_trainvaltest\\\\leftImg8bit\\\\test\\\\mainz\\\\mainz_000001_023604_leftImg8bit.png', 'D:\\\\data\\\\leftImg8bit_trainvaltest\\\\leftImg8bit\\\\test\\\\mainz\\\\mainz_000001_024439_leftImg8bit.png', 'D:\\\\data\\\\leftImg8bit_trainvaltest\\\\leftImg8bit\\\\test\\\\mainz\\\\mainz_000001_024489_leftImg8bit.png', 'D:\\\\data\\\\leftImg8bit_trainvaltest\\\\leftImg8bit\\\\test\\\\mainz\\\\mainz_000001_024718_leftImg8bit.png', 'D:\\\\data\\\\leftImg8bit_trainvaltest\\\\leftImg8bit\\\\test\\\\mainz\\\\mainz_000001_025161_leftImg8bit.png', 'D:\\\\data\\\\leftImg8bit_trainvaltest\\\\leftImg8bit\\\\test\\\\mainz\\\\mainz_000001_025390_leftImg8bit.png', 'D:\\\\data\\\\leftImg8bit_trainvaltest\\\\leftImg8bit\\\\test\\\\mainz\\\\mainz_000001_025623_leftImg8bit.png', 'D:\\\\data\\\\leftImg8bit_trainvaltest\\\\leftImg8bit\\\\test\\\\mainz\\\\mainz_000001_026209_leftImg8bit.png', 'D:\\\\data\\\\leftImg8bit_trainvaltest\\\\leftImg8bit\\\\test\\\\mainz\\\\mainz_000001_026837_leftImg8bit.png', 'D:\\\\data\\\\leftImg8bit_trainvaltest\\\\leftImg8bit\\\\test\\\\mainz\\\\mainz_000001_026963_leftImg8bit.png', 'D:\\\\data\\\\leftImg8bit_trainvaltest\\\\leftImg8bit\\\\test\\\\mainz\\\\mainz_000001_027053_leftImg8bit.png', 'D:\\\\data\\\\leftImg8bit_trainvaltest\\\\leftImg8bit\\\\test\\\\mainz\\\\mainz_000001_027124_leftImg8bit.png', 'D:\\\\data\\\\leftImg8bit_trainvaltest\\\\leftImg8bit\\\\test\\\\mainz\\\\mainz_000001_027377_leftImg8bit.png', 'D:\\\\data\\\\leftImg8bit_trainvaltest\\\\leftImg8bit\\\\test\\\\mainz\\\\mainz_000001_027675_leftImg8bit.png', 'D:\\\\data\\\\leftImg8bit_trainvaltest\\\\leftImg8bit\\\\test\\\\mainz\\\\mainz_000001_027751_leftImg8bit.png', 'D:\\\\data\\\\leftImg8bit_trainvaltest\\\\leftImg8bit\\\\test\\\\mainz\\\\mainz_000001_028111_leftImg8bit.png', 'D:\\\\data\\\\leftImg8bit_trainvaltest\\\\leftImg8bit\\\\test\\\\mainz\\\\mainz_000001_028326_leftImg8bit.png', 'D:\\\\data\\\\leftImg8bit_trainvaltest\\\\leftImg8bit\\\\test\\\\mainz\\\\mainz_000001_028566_leftImg8bit.png', 'D:\\\\data\\\\leftImg8bit_trainvaltest\\\\leftImg8bit\\\\test\\\\mainz\\\\mainz_000001_028847_leftImg8bit.png', 'D:\\\\data\\\\leftImg8bit_trainvaltest\\\\leftImg8bit\\\\test\\\\mainz\\\\mainz_000001_029293_leftImg8bit.png', 'D:\\\\data\\\\leftImg8bit_trainvaltest\\\\leftImg8bit\\\\test\\\\mainz\\\\mainz_000001_029521_leftImg8bit.png', 'D:\\\\data\\\\leftImg8bit_trainvaltest\\\\leftImg8bit\\\\test\\\\mainz\\\\mainz_000001_029755_leftImg8bit.png', 'D:\\\\data\\\\leftImg8bit_trainvaltest\\\\leftImg8bit\\\\test\\\\mainz\\\\mainz_000001_029950_leftImg8bit.png', 'D:\\\\data\\\\leftImg8bit_trainvaltest\\\\leftImg8bit\\\\test\\\\mainz\\\\mainz_000001_030417_leftImg8bit.png', 'D:\\\\data\\\\leftImg8bit_trainvaltest\\\\leftImg8bit\\\\test\\\\mainz\\\\mainz_000001_030630_leftImg8bit.png', 'D:\\\\data\\\\leftImg8bit_trainvaltest\\\\leftImg8bit\\\\test\\\\mainz\\\\mainz_000001_031026_leftImg8bit.png', 'D:\\\\data\\\\leftImg8bit_trainvaltest\\\\leftImg8bit\\\\test\\\\mainz\\\\mainz_000001_031350_leftImg8bit.png', 'D:\\\\data\\\\leftImg8bit_trainvaltest\\\\leftImg8bit\\\\test\\\\mainz\\\\mainz_000001_031697_leftImg8bit.png', 'D:\\\\data\\\\leftImg8bit_trainvaltest\\\\leftImg8bit\\\\test\\\\mainz\\\\mainz_000001_031946_leftImg8bit.png', 'D:\\\\data\\\\leftImg8bit_trainvaltest\\\\leftImg8bit\\\\test\\\\mainz\\\\mainz_000001_032294_leftImg8bit.png', 'D:\\\\data\\\\leftImg8bit_trainvaltest\\\\leftImg8bit\\\\test\\\\mainz\\\\mainz_000001_032401_leftImg8bit.png', 'D:\\\\data\\\\leftImg8bit_trainvaltest\\\\leftImg8bit\\\\test\\\\mainz\\\\mainz_000001_032567_leftImg8bit.png', 'D:\\\\data\\\\leftImg8bit_trainvaltest\\\\leftImg8bit\\\\test\\\\mainz\\\\mainz_000001_032691_leftImg8bit.png', 'D:\\\\data\\\\leftImg8bit_trainvaltest\\\\leftImg8bit\\\\test\\\\mainz\\\\mainz_000001_032767_leftImg8bit.png', 'D:\\\\data\\\\leftImg8bit_trainvaltest\\\\leftImg8bit\\\\test\\\\mainz\\\\mainz_000001_032911_leftImg8bit.png', 'D:\\\\data\\\\leftImg8bit_trainvaltest\\\\leftImg8bit\\\\test\\\\mainz\\\\mainz_000001_033096_leftImg8bit.png', 'D:\\\\data\\\\leftImg8bit_trainvaltest\\\\leftImg8bit\\\\test\\\\mainz\\\\mainz_000001_033329_leftImg8bit.png', 'D:\\\\data\\\\leftImg8bit_trainvaltest\\\\leftImg8bit\\\\test\\\\mainz\\\\mainz_000001_033437_leftImg8bit.png', 'D:\\\\data\\\\leftImg8bit_trainvaltest\\\\leftImg8bit\\\\test\\\\mainz\\\\mainz_000001_033603_leftImg8bit.png', 'D:\\\\data\\\\leftImg8bit_trainvaltest\\\\leftImg8bit\\\\test\\\\mainz\\\\mainz_000001_033756_leftImg8bit.png', 'D:\\\\data\\\\leftImg8bit_trainvaltest\\\\leftImg8bit\\\\test\\\\mainz\\\\mainz_000001_034033_leftImg8bit.png', 'D:\\\\data\\\\leftImg8bit_trainvaltest\\\\leftImg8bit\\\\test\\\\mainz\\\\mainz_000001_034209_leftImg8bit.png', 'D:\\\\data\\\\leftImg8bit_trainvaltest\\\\leftImg8bit\\\\test\\\\mainz\\\\mainz_000001_034394_leftImg8bit.png', 'D:\\\\data\\\\leftImg8bit_trainvaltest\\\\leftImg8bit\\\\test\\\\mainz\\\\mainz_000001_034508_leftImg8bit.png', 'D:\\\\data\\\\leftImg8bit_trainvaltest\\\\leftImg8bit\\\\test\\\\mainz\\\\mainz_000001_034681_leftImg8bit.png', 'D:\\\\data\\\\leftImg8bit_trainvaltest\\\\leftImg8bit\\\\test\\\\mainz\\\\mainz_000001_035293_leftImg8bit.png', 'D:\\\\data\\\\leftImg8bit_trainvaltest\\\\leftImg8bit\\\\test\\\\mainz\\\\mainz_000001_035585_leftImg8bit.png', 'D:\\\\data\\\\leftImg8bit_trainvaltest\\\\leftImg8bit\\\\test\\\\mainz\\\\mainz_000001_035963_leftImg8bit.png', 'D:\\\\data\\\\leftImg8bit_trainvaltest\\\\leftImg8bit\\\\test\\\\mainz\\\\mainz_000001_036115_leftImg8bit.png', 'D:\\\\data\\\\leftImg8bit_trainvaltest\\\\leftImg8bit\\\\test\\\\mainz\\\\mainz_000001_036240_leftImg8bit.png', 'D:\\\\data\\\\leftImg8bit_trainvaltest\\\\leftImg8bit\\\\test\\\\mainz\\\\mainz_000001_036412_leftImg8bit.png', 'D:\\\\data\\\\leftImg8bit_trainvaltest\\\\leftImg8bit\\\\test\\\\mainz\\\\mainz_000001_037170_leftImg8bit.png', 'D:\\\\data\\\\leftImg8bit_trainvaltest\\\\leftImg8bit\\\\test\\\\mainz\\\\mainz_000001_037411_leftImg8bit.png', 'D:\\\\data\\\\leftImg8bit_trainvaltest\\\\leftImg8bit\\\\test\\\\mainz\\\\mainz_000001_037532_leftImg8bit.png', 'D:\\\\data\\\\leftImg8bit_trainvaltest\\\\leftImg8bit\\\\test\\\\mainz\\\\mainz_000001_037736_leftImg8bit.png', 'D:\\\\data\\\\leftImg8bit_trainvaltest\\\\leftImg8bit\\\\test\\\\mainz\\\\mainz_000001_037905_leftImg8bit.png', 'D:\\\\data\\\\leftImg8bit_trainvaltest\\\\leftImg8bit\\\\test\\\\mainz\\\\mainz_000001_038026_leftImg8bit.png', 'D:\\\\data\\\\leftImg8bit_trainvaltest\\\\leftImg8bit\\\\test\\\\mainz\\\\mainz_000001_038191_leftImg8bit.png', 'D:\\\\data\\\\leftImg8bit_trainvaltest\\\\leftImg8bit\\\\test\\\\mainz\\\\mainz_000001_038347_leftImg8bit.png', 'D:\\\\data\\\\leftImg8bit_trainvaltest\\\\leftImg8bit\\\\test\\\\mainz\\\\mainz_000001_038768_leftImg8bit.png', 'D:\\\\data\\\\leftImg8bit_trainvaltest\\\\leftImg8bit\\\\test\\\\mainz\\\\mainz_000001_038955_leftImg8bit.png', 'D:\\\\data\\\\leftImg8bit_trainvaltest\\\\leftImg8bit\\\\test\\\\mainz\\\\mainz_000001_039075_leftImg8bit.png', 'D:\\\\data\\\\leftImg8bit_trainvaltest\\\\leftImg8bit\\\\test\\\\mainz\\\\mainz_000001_039470_leftImg8bit.png', 'D:\\\\data\\\\leftImg8bit_trainvaltest\\\\leftImg8bit\\\\test\\\\mainz\\\\mainz_000001_039943_leftImg8bit.png', 'D:\\\\data\\\\leftImg8bit_trainvaltest\\\\leftImg8bit\\\\test\\\\mainz\\\\mainz_000001_040195_leftImg8bit.png', 'D:\\\\data\\\\leftImg8bit_trainvaltest\\\\leftImg8bit\\\\test\\\\mainz\\\\mainz_000001_040367_leftImg8bit.png', 'D:\\\\data\\\\leftImg8bit_trainvaltest\\\\leftImg8bit\\\\test\\\\mainz\\\\mainz_000001_040839_leftImg8bit.png', 'D:\\\\data\\\\leftImg8bit_trainvaltest\\\\leftImg8bit\\\\test\\\\mainz\\\\mainz_000001_041172_leftImg8bit.png', 'D:\\\\data\\\\leftImg8bit_trainvaltest\\\\leftImg8bit\\\\test\\\\mainz\\\\mainz_000001_041284_leftImg8bit.png', 'D:\\\\data\\\\leftImg8bit_trainvaltest\\\\leftImg8bit\\\\test\\\\mainz\\\\mainz_000001_041647_leftImg8bit.png', 'D:\\\\data\\\\leftImg8bit_trainvaltest\\\\leftImg8bit\\\\test\\\\mainz\\\\mainz_000001_041797_leftImg8bit.png', 'D:\\\\data\\\\leftImg8bit_trainvaltest\\\\leftImg8bit\\\\test\\\\mainz\\\\mainz_000001_041887_leftImg8bit.png', 'D:\\\\data\\\\leftImg8bit_trainvaltest\\\\leftImg8bit\\\\test\\\\mainz\\\\mainz_000001_041923_leftImg8bit.png', 'D:\\\\data\\\\leftImg8bit_trainvaltest\\\\leftImg8bit\\\\test\\\\mainz\\\\mainz_000001_042121_leftImg8bit.png', 'D:\\\\data\\\\leftImg8bit_trainvaltest\\\\leftImg8bit\\\\test\\\\mainz\\\\mainz_000001_042400_leftImg8bit.png', 'D:\\\\data\\\\leftImg8bit_trainvaltest\\\\leftImg8bit\\\\test\\\\mainz\\\\mainz_000001_042851_leftImg8bit.png', 'D:\\\\data\\\\leftImg8bit_trainvaltest\\\\leftImg8bit\\\\test\\\\mainz\\\\mainz_000001_043656_leftImg8bit.png', 'D:\\\\data\\\\leftImg8bit_trainvaltest\\\\leftImg8bit\\\\test\\\\mainz\\\\mainz_000001_043886_leftImg8bit.png', 'D:\\\\data\\\\leftImg8bit_trainvaltest\\\\leftImg8bit\\\\test\\\\mainz\\\\mainz_000001_044366_leftImg8bit.png', 'D:\\\\data\\\\leftImg8bit_trainvaltest\\\\leftImg8bit\\\\test\\\\mainz\\\\mainz_000001_044619_leftImg8bit.png', 'D:\\\\data\\\\leftImg8bit_trainvaltest\\\\leftImg8bit\\\\test\\\\mainz\\\\mainz_000001_045197_leftImg8bit.png', 'D:\\\\data\\\\leftImg8bit_trainvaltest\\\\leftImg8bit\\\\test\\\\mainz\\\\mainz_000001_045385_leftImg8bit.png', 'D:\\\\data\\\\leftImg8bit_trainvaltest\\\\leftImg8bit\\\\test\\\\mainz\\\\mainz_000001_045651_leftImg8bit.png', 'D:\\\\data\\\\leftImg8bit_trainvaltest\\\\leftImg8bit\\\\test\\\\mainz\\\\mainz_000001_045782_leftImg8bit.png', 'D:\\\\data\\\\leftImg8bit_trainvaltest\\\\leftImg8bit\\\\test\\\\mainz\\\\mainz_000001_046381_leftImg8bit.png', 'D:\\\\data\\\\leftImg8bit_trainvaltest\\\\leftImg8bit\\\\test\\\\mainz\\\\mainz_000001_046981_leftImg8bit.png', 'D:\\\\data\\\\leftImg8bit_trainvaltest\\\\leftImg8bit\\\\test\\\\mainz\\\\mainz_000001_047546_leftImg8bit.png', 'D:\\\\data\\\\leftImg8bit_trainvaltest\\\\leftImg8bit\\\\test\\\\mainz\\\\mainz_000001_047611_leftImg8bit.png', 'D:\\\\data\\\\leftImg8bit_trainvaltest\\\\leftImg8bit\\\\test\\\\mainz\\\\mainz_000001_047888_leftImg8bit.png', 'D:\\\\data\\\\leftImg8bit_trainvaltest\\\\leftImg8bit\\\\test\\\\mainz\\\\mainz_000001_048725_leftImg8bit.png', 'D:\\\\data\\\\leftImg8bit_trainvaltest\\\\leftImg8bit\\\\test\\\\mainz\\\\mainz_000002_000061_leftImg8bit.png', 'D:\\\\data\\\\leftImg8bit_trainvaltest\\\\leftImg8bit\\\\test\\\\mainz\\\\mainz_000002_000181_leftImg8bit.png', 'D:\\\\data\\\\leftImg8bit_trainvaltest\\\\leftImg8bit\\\\test\\\\mainz\\\\mainz_000002_000381_leftImg8bit.png', 'D:\\\\data\\\\leftImg8bit_trainvaltest\\\\leftImg8bit\\\\test\\\\mainz\\\\mainz_000002_000912_leftImg8bit.png', 'D:\\\\data\\\\leftImg8bit_trainvaltest\\\\leftImg8bit\\\\test\\\\mainz\\\\mainz_000002_001747_leftImg8bit.png', 'D:\\\\data\\\\leftImg8bit_trainvaltest\\\\leftImg8bit\\\\test\\\\mainz\\\\mainz_000002_001871_leftImg8bit.png', 'D:\\\\data\\\\leftImg8bit_trainvaltest\\\\leftImg8bit\\\\test\\\\mainz\\\\mainz_000002_002279_leftImg8bit.png', 'D:\\\\data\\\\leftImg8bit_trainvaltest\\\\leftImg8bit\\\\test\\\\mainz\\\\mainz_000003_000043_leftImg8bit.png', 'D:\\\\data\\\\leftImg8bit_trainvaltest\\\\leftImg8bit\\\\test\\\\mainz\\\\mainz_000003_000968_leftImg8bit.png', 'D:\\\\data\\\\leftImg8bit_trainvaltest\\\\leftImg8bit\\\\test\\\\mainz\\\\mainz_000003_001465_leftImg8bit.png', 'D:\\\\data\\\\leftImg8bit_trainvaltest\\\\leftImg8bit\\\\test\\\\mainz\\\\mainz_000003_001694_leftImg8bit.png', 'D:\\\\data\\\\leftImg8bit_trainvaltest\\\\leftImg8bit\\\\test\\\\mainz\\\\mainz_000003_001899_leftImg8bit.png', 'D:\\\\data\\\\leftImg8bit_trainvaltest\\\\leftImg8bit\\\\test\\\\mainz\\\\mainz_000003_003042_leftImg8bit.png', 'D:\\\\data\\\\leftImg8bit_trainvaltest\\\\leftImg8bit\\\\test\\\\mainz\\\\mainz_000003_003455_leftImg8bit.png', 'D:\\\\data\\\\leftImg8bit_trainvaltest\\\\leftImg8bit\\\\test\\\\mainz\\\\mainz_000003_003558_leftImg8bit.png', 'D:\\\\data\\\\leftImg8bit_trainvaltest\\\\leftImg8bit\\\\test\\\\mainz\\\\mainz_000003_003711_leftImg8bit.png', 'D:\\\\data\\\\leftImg8bit_trainvaltest\\\\leftImg8bit\\\\test\\\\mainz\\\\mainz_000003_003791_leftImg8bit.png', 'D:\\\\data\\\\leftImg8bit_trainvaltest\\\\leftImg8bit\\\\test\\\\mainz\\\\mainz_000003_003942_leftImg8bit.png', 'D:\\\\data\\\\leftImg8bit_trainvaltest\\\\leftImg8bit\\\\test\\\\mainz\\\\mainz_000003_004144_leftImg8bit.png', 'D:\\\\data\\\\leftImg8bit_trainvaltest\\\\leftImg8bit\\\\test\\\\mainz\\\\mainz_000003_004228_leftImg8bit.png', 'D:\\\\data\\\\leftImg8bit_trainvaltest\\\\leftImg8bit\\\\test\\\\mainz\\\\mainz_000003_004576_leftImg8bit.png', 'D:\\\\data\\\\leftImg8bit_trainvaltest\\\\leftImg8bit\\\\test\\\\mainz\\\\mainz_000003_004774_leftImg8bit.png', 'D:\\\\data\\\\leftImg8bit_trainvaltest\\\\leftImg8bit\\\\test\\\\mainz\\\\mainz_000003_004883_leftImg8bit.png', 'D:\\\\data\\\\leftImg8bit_trainvaltest\\\\leftImg8bit\\\\test\\\\mainz\\\\mainz_000003_005029_leftImg8bit.png', 'D:\\\\data\\\\leftImg8bit_trainvaltest\\\\leftImg8bit\\\\test\\\\mainz\\\\mainz_000003_005088_leftImg8bit.png', 'D:\\\\data\\\\leftImg8bit_trainvaltest\\\\leftImg8bit\\\\test\\\\mainz\\\\mainz_000003_005162_leftImg8bit.png', 'D:\\\\data\\\\leftImg8bit_trainvaltest\\\\leftImg8bit\\\\test\\\\mainz\\\\mainz_000003_006478_leftImg8bit.png', 'D:\\\\data\\\\leftImg8bit_trainvaltest\\\\leftImg8bit\\\\test\\\\mainz\\\\mainz_000003_006863_leftImg8bit.png', 'D:\\\\data\\\\leftImg8bit_trainvaltest\\\\leftImg8bit\\\\test\\\\mainz\\\\mainz_000003_007024_leftImg8bit.png', 'D:\\\\data\\\\leftImg8bit_trainvaltest\\\\leftImg8bit\\\\test\\\\mainz\\\\mainz_000003_007144_leftImg8bit.png', 'D:\\\\data\\\\leftImg8bit_trainvaltest\\\\leftImg8bit\\\\test\\\\mainz\\\\mainz_000003_007255_leftImg8bit.png', 'D:\\\\data\\\\leftImg8bit_trainvaltest\\\\leftImg8bit\\\\test\\\\mainz\\\\mainz_000003_007701_leftImg8bit.png', 'D:\\\\data\\\\leftImg8bit_trainvaltest\\\\leftImg8bit\\\\test\\\\mainz\\\\mainz_000003_008258_leftImg8bit.png', 'D:\\\\data\\\\leftImg8bit_trainvaltest\\\\leftImg8bit\\\\test\\\\mainz\\\\mainz_000003_008690_leftImg8bit.png', 'D:\\\\data\\\\leftImg8bit_trainvaltest\\\\leftImg8bit\\\\test\\\\mainz\\\\mainz_000003_008876_leftImg8bit.png', 'D:\\\\data\\\\leftImg8bit_trainvaltest\\\\leftImg8bit\\\\test\\\\mainz\\\\mainz_000003_009819_leftImg8bit.png', 'D:\\\\data\\\\leftImg8bit_trainvaltest\\\\leftImg8bit\\\\test\\\\mainz\\\\mainz_000003_010019_leftImg8bit.png', 'D:\\\\data\\\\leftImg8bit_trainvaltest\\\\leftImg8bit\\\\test\\\\mainz\\\\mainz_000003_010772_leftImg8bit.png', 'D:\\\\data\\\\leftImg8bit_trainvaltest\\\\leftImg8bit\\\\test\\\\mainz\\\\mainz_000003_010880_leftImg8bit.png', 'D:\\\\data\\\\leftImg8bit_trainvaltest\\\\leftImg8bit\\\\test\\\\mainz\\\\mainz_000003_010924_leftImg8bit.png', 'D:\\\\data\\\\leftImg8bit_trainvaltest\\\\leftImg8bit\\\\test\\\\mainz\\\\mainz_000003_011182_leftImg8bit.png', 'D:\\\\data\\\\leftImg8bit_trainvaltest\\\\leftImg8bit\\\\test\\\\mainz\\\\mainz_000003_011352_leftImg8bit.png', 'D:\\\\data\\\\leftImg8bit_trainvaltest\\\\leftImg8bit\\\\test\\\\mainz\\\\mainz_000003_011949_leftImg8bit.png', 'D:\\\\data\\\\leftImg8bit_trainvaltest\\\\leftImg8bit\\\\test\\\\mainz\\\\mainz_000003_012168_leftImg8bit.png', 'D:\\\\data\\\\leftImg8bit_trainvaltest\\\\leftImg8bit\\\\test\\\\mainz\\\\mainz_000003_012341_leftImg8bit.png', 'D:\\\\data\\\\leftImg8bit_trainvaltest\\\\leftImg8bit\\\\test\\\\mainz\\\\mainz_000003_012995_leftImg8bit.png', 'D:\\\\data\\\\leftImg8bit_trainvaltest\\\\leftImg8bit\\\\test\\\\mainz\\\\mainz_000003_013348_leftImg8bit.png', 'D:\\\\data\\\\leftImg8bit_trainvaltest\\\\leftImg8bit\\\\test\\\\mainz\\\\mainz_000003_013983_leftImg8bit.png', 'D:\\\\data\\\\leftImg8bit_trainvaltest\\\\leftImg8bit\\\\test\\\\mainz\\\\mainz_000003_014083_leftImg8bit.png', 'D:\\\\data\\\\leftImg8bit_trainvaltest\\\\leftImg8bit\\\\test\\\\mainz\\\\mainz_000003_014319_leftImg8bit.png', 'D:\\\\data\\\\leftImg8bit_trainvaltest\\\\leftImg8bit\\\\test\\\\mainz\\\\mainz_000003_014457_leftImg8bit.png', 'D:\\\\data\\\\leftImg8bit_trainvaltest\\\\leftImg8bit\\\\test\\\\mainz\\\\mainz_000003_014537_leftImg8bit.png', 'D:\\\\data\\\\leftImg8bit_trainvaltest\\\\leftImg8bit\\\\test\\\\mainz\\\\mainz_000003_014959_leftImg8bit.png', 'D:\\\\data\\\\leftImg8bit_trainvaltest\\\\leftImg8bit\\\\test\\\\mainz\\\\mainz_000003_015411_leftImg8bit.png', 'D:\\\\data\\\\leftImg8bit_trainvaltest\\\\leftImg8bit\\\\test\\\\mainz\\\\mainz_000003_015649_leftImg8bit.png', 'D:\\\\data\\\\leftImg8bit_trainvaltest\\\\leftImg8bit\\\\test\\\\mainz\\\\mainz_000003_015917_leftImg8bit.png', 'D:\\\\data\\\\leftImg8bit_trainvaltest\\\\leftImg8bit\\\\test\\\\mainz\\\\mainz_000003_016360_leftImg8bit.png', 'D:\\\\data\\\\leftImg8bit_trainvaltest\\\\leftImg8bit\\\\test\\\\mainz\\\\mainz_000003_016542_leftImg8bit.png', 'D:\\\\data\\\\leftImg8bit_trainvaltest\\\\leftImg8bit\\\\test\\\\mainz\\\\mainz_000003_016708_leftImg8bit.png', 'D:\\\\data\\\\leftImg8bit_trainvaltest\\\\leftImg8bit\\\\test\\\\mainz\\\\mainz_000003_016877_leftImg8bit.png', 'D:\\\\data\\\\leftImg8bit_trainvaltest\\\\leftImg8bit\\\\test\\\\mainz\\\\mainz_000003_017171_leftImg8bit.png', 'D:\\\\data\\\\leftImg8bit_trainvaltest\\\\leftImg8bit\\\\test\\\\munich\\\\munich_000000_000019_leftImg8bit.png', 'D:\\\\data\\\\leftImg8bit_trainvaltest\\\\leftImg8bit\\\\test\\\\munich\\\\munich_000001_000019_leftImg8bit.png', 'D:\\\\data\\\\leftImg8bit_trainvaltest\\\\leftImg8bit\\\\test\\\\munich\\\\munich_000002_000019_leftImg8bit.png', 'D:\\\\data\\\\leftImg8bit_trainvaltest\\\\leftImg8bit\\\\test\\\\munich\\\\munich_000003_000019_leftImg8bit.png', 'D:\\\\data\\\\leftImg8bit_trainvaltest\\\\leftImg8bit\\\\test\\\\munich\\\\munich_000004_000019_leftImg8bit.png', 'D:\\\\data\\\\leftImg8bit_trainvaltest\\\\leftImg8bit\\\\test\\\\munich\\\\munich_000005_000019_leftImg8bit.png', 'D:\\\\data\\\\leftImg8bit_trainvaltest\\\\leftImg8bit\\\\test\\\\munich\\\\munich_000006_000019_leftImg8bit.png', 'D:\\\\data\\\\leftImg8bit_trainvaltest\\\\leftImg8bit\\\\test\\\\munich\\\\munich_000007_000019_leftImg8bit.png', 'D:\\\\data\\\\leftImg8bit_trainvaltest\\\\leftImg8bit\\\\test\\\\munich\\\\munich_000008_000019_leftImg8bit.png', 'D:\\\\data\\\\leftImg8bit_trainvaltest\\\\leftImg8bit\\\\test\\\\munich\\\\munich_000009_000019_leftImg8bit.png', 'D:\\\\data\\\\leftImg8bit_trainvaltest\\\\leftImg8bit\\\\test\\\\munich\\\\munich_000010_000019_leftImg8bit.png', 'D:\\\\data\\\\leftImg8bit_trainvaltest\\\\leftImg8bit\\\\test\\\\munich\\\\munich_000011_000019_leftImg8bit.png', 'D:\\\\data\\\\leftImg8bit_trainvaltest\\\\leftImg8bit\\\\test\\\\munich\\\\munich_000012_000019_leftImg8bit.png', 'D:\\\\data\\\\leftImg8bit_trainvaltest\\\\leftImg8bit\\\\test\\\\munich\\\\munich_000013_000019_leftImg8bit.png', 'D:\\\\data\\\\leftImg8bit_trainvaltest\\\\leftImg8bit\\\\test\\\\munich\\\\munich_000014_000019_leftImg8bit.png', 'D:\\\\data\\\\leftImg8bit_trainvaltest\\\\leftImg8bit\\\\test\\\\munich\\\\munich_000015_000019_leftImg8bit.png', 'D:\\\\data\\\\leftImg8bit_trainvaltest\\\\leftImg8bit\\\\test\\\\munich\\\\munich_000016_000019_leftImg8bit.png', 'D:\\\\data\\\\leftImg8bit_trainvaltest\\\\leftImg8bit\\\\test\\\\munich\\\\munich_000017_000019_leftImg8bit.png', 'D:\\\\data\\\\leftImg8bit_trainvaltest\\\\leftImg8bit\\\\test\\\\munich\\\\munich_000018_000019_leftImg8bit.png', 'D:\\\\data\\\\leftImg8bit_trainvaltest\\\\leftImg8bit\\\\test\\\\munich\\\\munich_000019_000019_leftImg8bit.png', 'D:\\\\data\\\\leftImg8bit_trainvaltest\\\\leftImg8bit\\\\test\\\\munich\\\\munich_000020_000019_leftImg8bit.png', 'D:\\\\data\\\\leftImg8bit_trainvaltest\\\\leftImg8bit\\\\test\\\\munich\\\\munich_000021_000019_leftImg8bit.png', 'D:\\\\data\\\\leftImg8bit_trainvaltest\\\\leftImg8bit\\\\test\\\\munich\\\\munich_000022_000019_leftImg8bit.png', 'D:\\\\data\\\\leftImg8bit_trainvaltest\\\\leftImg8bit\\\\test\\\\munich\\\\munich_000023_000019_leftImg8bit.png', 'D:\\\\data\\\\leftImg8bit_trainvaltest\\\\leftImg8bit\\\\test\\\\munich\\\\munich_000024_000019_leftImg8bit.png', 'D:\\\\data\\\\leftImg8bit_trainvaltest\\\\leftImg8bit\\\\test\\\\munich\\\\munich_000025_000019_leftImg8bit.png', 'D:\\\\data\\\\leftImg8bit_trainvaltest\\\\leftImg8bit\\\\test\\\\munich\\\\munich_000026_000019_leftImg8bit.png', 'D:\\\\data\\\\leftImg8bit_trainvaltest\\\\leftImg8bit\\\\test\\\\munich\\\\munich_000027_000019_leftImg8bit.png', 'D:\\\\data\\\\leftImg8bit_trainvaltest\\\\leftImg8bit\\\\test\\\\munich\\\\munich_000028_000019_leftImg8bit.png', 'D:\\\\data\\\\leftImg8bit_trainvaltest\\\\leftImg8bit\\\\test\\\\munich\\\\munich_000029_000019_leftImg8bit.png', 'D:\\\\data\\\\leftImg8bit_trainvaltest\\\\leftImg8bit\\\\test\\\\munich\\\\munich_000030_000019_leftImg8bit.png', 'D:\\\\data\\\\leftImg8bit_trainvaltest\\\\leftImg8bit\\\\test\\\\munich\\\\munich_000031_000019_leftImg8bit.png', 'D:\\\\data\\\\leftImg8bit_trainvaltest\\\\leftImg8bit\\\\test\\\\munich\\\\munich_000032_000019_leftImg8bit.png', 'D:\\\\data\\\\leftImg8bit_trainvaltest\\\\leftImg8bit\\\\test\\\\munich\\\\munich_000033_000019_leftImg8bit.png', 'D:\\\\data\\\\leftImg8bit_trainvaltest\\\\leftImg8bit\\\\test\\\\munich\\\\munich_000034_000019_leftImg8bit.png', 'D:\\\\data\\\\leftImg8bit_trainvaltest\\\\leftImg8bit\\\\test\\\\munich\\\\munich_000035_000019_leftImg8bit.png', 'D:\\\\data\\\\leftImg8bit_trainvaltest\\\\leftImg8bit\\\\test\\\\munich\\\\munich_000036_000019_leftImg8bit.png', 'D:\\\\data\\\\leftImg8bit_trainvaltest\\\\leftImg8bit\\\\test\\\\munich\\\\munich_000037_000019_leftImg8bit.png', 'D:\\\\data\\\\leftImg8bit_trainvaltest\\\\leftImg8bit\\\\test\\\\munich\\\\munich_000038_000019_leftImg8bit.png', 'D:\\\\data\\\\leftImg8bit_trainvaltest\\\\leftImg8bit\\\\test\\\\munich\\\\munich_000039_000019_leftImg8bit.png', 'D:\\\\data\\\\leftImg8bit_trainvaltest\\\\leftImg8bit\\\\test\\\\munich\\\\munich_000040_000019_leftImg8bit.png', 'D:\\\\data\\\\leftImg8bit_trainvaltest\\\\leftImg8bit\\\\test\\\\munich\\\\munich_000041_000019_leftImg8bit.png', 'D:\\\\data\\\\leftImg8bit_trainvaltest\\\\leftImg8bit\\\\test\\\\munich\\\\munich_000042_000019_leftImg8bit.png', 'D:\\\\data\\\\leftImg8bit_trainvaltest\\\\leftImg8bit\\\\test\\\\munich\\\\munich_000043_000019_leftImg8bit.png', 'D:\\\\data\\\\leftImg8bit_trainvaltest\\\\leftImg8bit\\\\test\\\\munich\\\\munich_000044_000019_leftImg8bit.png', 'D:\\\\data\\\\leftImg8bit_trainvaltest\\\\leftImg8bit\\\\test\\\\munich\\\\munich_000045_000019_leftImg8bit.png', 'D:\\\\data\\\\leftImg8bit_trainvaltest\\\\leftImg8bit\\\\test\\\\munich\\\\munich_000046_000019_leftImg8bit.png', 'D:\\\\data\\\\leftImg8bit_trainvaltest\\\\leftImg8bit\\\\test\\\\munich\\\\munich_000047_000019_leftImg8bit.png', 'D:\\\\data\\\\leftImg8bit_trainvaltest\\\\leftImg8bit\\\\test\\\\munich\\\\munich_000048_000019_leftImg8bit.png', 'D:\\\\data\\\\leftImg8bit_trainvaltest\\\\leftImg8bit\\\\test\\\\munich\\\\munich_000049_000019_leftImg8bit.png', 'D:\\\\data\\\\leftImg8bit_trainvaltest\\\\leftImg8bit\\\\test\\\\munich\\\\munich_000050_000019_leftImg8bit.png', 'D:\\\\data\\\\leftImg8bit_trainvaltest\\\\leftImg8bit\\\\test\\\\munich\\\\munich_000051_000019_leftImg8bit.png', 'D:\\\\data\\\\leftImg8bit_trainvaltest\\\\leftImg8bit\\\\test\\\\munich\\\\munich_000052_000019_leftImg8bit.png', 'D:\\\\data\\\\leftImg8bit_trainvaltest\\\\leftImg8bit\\\\test\\\\munich\\\\munich_000053_000019_leftImg8bit.png', 'D:\\\\data\\\\leftImg8bit_trainvaltest\\\\leftImg8bit\\\\test\\\\munich\\\\munich_000054_000019_leftImg8bit.png', 'D:\\\\data\\\\leftImg8bit_trainvaltest\\\\leftImg8bit\\\\test\\\\munich\\\\munich_000055_000019_leftImg8bit.png', 'D:\\\\data\\\\leftImg8bit_trainvaltest\\\\leftImg8bit\\\\test\\\\munich\\\\munich_000056_000019_leftImg8bit.png', 'D:\\\\data\\\\leftImg8bit_trainvaltest\\\\leftImg8bit\\\\test\\\\munich\\\\munich_000057_000019_leftImg8bit.png', 'D:\\\\data\\\\leftImg8bit_trainvaltest\\\\leftImg8bit\\\\test\\\\munich\\\\munich_000058_000019_leftImg8bit.png', 'D:\\\\data\\\\leftImg8bit_trainvaltest\\\\leftImg8bit\\\\test\\\\munich\\\\munich_000059_000019_leftImg8bit.png', 'D:\\\\data\\\\leftImg8bit_trainvaltest\\\\leftImg8bit\\\\test\\\\munich\\\\munich_000060_000019_leftImg8bit.png', 'D:\\\\data\\\\leftImg8bit_trainvaltest\\\\leftImg8bit\\\\test\\\\munich\\\\munich_000061_000019_leftImg8bit.png', 'D:\\\\data\\\\leftImg8bit_trainvaltest\\\\leftImg8bit\\\\test\\\\munich\\\\munich_000062_000019_leftImg8bit.png', 'D:\\\\data\\\\leftImg8bit_trainvaltest\\\\leftImg8bit\\\\test\\\\munich\\\\munich_000063_000019_leftImg8bit.png', 'D:\\\\data\\\\leftImg8bit_trainvaltest\\\\leftImg8bit\\\\test\\\\munich\\\\munich_000064_000019_leftImg8bit.png', 'D:\\\\data\\\\leftImg8bit_trainvaltest\\\\leftImg8bit\\\\test\\\\munich\\\\munich_000065_000019_leftImg8bit.png', 'D:\\\\data\\\\leftImg8bit_trainvaltest\\\\leftImg8bit\\\\test\\\\munich\\\\munich_000066_000019_leftImg8bit.png', 'D:\\\\data\\\\leftImg8bit_trainvaltest\\\\leftImg8bit\\\\test\\\\munich\\\\munich_000067_000019_leftImg8bit.png', 'D:\\\\data\\\\leftImg8bit_trainvaltest\\\\leftImg8bit\\\\test\\\\munich\\\\munich_000068_000019_leftImg8bit.png', 'D:\\\\data\\\\leftImg8bit_trainvaltest\\\\leftImg8bit\\\\test\\\\munich\\\\munich_000069_000019_leftImg8bit.png', 'D:\\\\data\\\\leftImg8bit_trainvaltest\\\\leftImg8bit\\\\test\\\\munich\\\\munich_000070_000019_leftImg8bit.png', 'D:\\\\data\\\\leftImg8bit_trainvaltest\\\\leftImg8bit\\\\test\\\\munich\\\\munich_000071_000019_leftImg8bit.png', 'D:\\\\data\\\\leftImg8bit_trainvaltest\\\\leftImg8bit\\\\test\\\\munich\\\\munich_000072_000019_leftImg8bit.png', 'D:\\\\data\\\\leftImg8bit_trainvaltest\\\\leftImg8bit\\\\test\\\\munich\\\\munich_000073_000019_leftImg8bit.png', 'D:\\\\data\\\\leftImg8bit_trainvaltest\\\\leftImg8bit\\\\test\\\\munich\\\\munich_000074_000019_leftImg8bit.png', 'D:\\\\data\\\\leftImg8bit_trainvaltest\\\\leftImg8bit\\\\test\\\\munich\\\\munich_000075_000019_leftImg8bit.png', 'D:\\\\data\\\\leftImg8bit_trainvaltest\\\\leftImg8bit\\\\test\\\\munich\\\\munich_000076_000019_leftImg8bit.png', 'D:\\\\data\\\\leftImg8bit_trainvaltest\\\\leftImg8bit\\\\test\\\\munich\\\\munich_000077_000019_leftImg8bit.png', 'D:\\\\data\\\\leftImg8bit_trainvaltest\\\\leftImg8bit\\\\test\\\\munich\\\\munich_000078_000019_leftImg8bit.png', 'D:\\\\data\\\\leftImg8bit_trainvaltest\\\\leftImg8bit\\\\test\\\\munich\\\\munich_000079_000019_leftImg8bit.png', 'D:\\\\data\\\\leftImg8bit_trainvaltest\\\\leftImg8bit\\\\test\\\\munich\\\\munich_000080_000019_leftImg8bit.png', 'D:\\\\data\\\\leftImg8bit_trainvaltest\\\\leftImg8bit\\\\test\\\\munich\\\\munich_000081_000019_leftImg8bit.png', 'D:\\\\data\\\\leftImg8bit_trainvaltest\\\\leftImg8bit\\\\test\\\\munich\\\\munich_000082_000019_leftImg8bit.png', 'D:\\\\data\\\\leftImg8bit_trainvaltest\\\\leftImg8bit\\\\test\\\\munich\\\\munich_000083_000019_leftImg8bit.png', 'D:\\\\data\\\\leftImg8bit_trainvaltest\\\\leftImg8bit\\\\test\\\\munich\\\\munich_000084_000019_leftImg8bit.png', 'D:\\\\data\\\\leftImg8bit_trainvaltest\\\\leftImg8bit\\\\test\\\\munich\\\\munich_000085_000019_leftImg8bit.png', 'D:\\\\data\\\\leftImg8bit_trainvaltest\\\\leftImg8bit\\\\test\\\\munich\\\\munich_000086_000019_leftImg8bit.png', 'D:\\\\data\\\\leftImg8bit_trainvaltest\\\\leftImg8bit\\\\test\\\\munich\\\\munich_000087_000019_leftImg8bit.png', 'D:\\\\data\\\\leftImg8bit_trainvaltest\\\\leftImg8bit\\\\test\\\\munich\\\\munich_000088_000019_leftImg8bit.png', 'D:\\\\data\\\\leftImg8bit_trainvaltest\\\\leftImg8bit\\\\test\\\\munich\\\\munich_000089_000019_leftImg8bit.png', 'D:\\\\data\\\\leftImg8bit_trainvaltest\\\\leftImg8bit\\\\test\\\\munich\\\\munich_000090_000019_leftImg8bit.png', 'D:\\\\data\\\\leftImg8bit_trainvaltest\\\\leftImg8bit\\\\test\\\\munich\\\\munich_000091_000019_leftImg8bit.png', 'D:\\\\data\\\\leftImg8bit_trainvaltest\\\\leftImg8bit\\\\test\\\\munich\\\\munich_000092_000019_leftImg8bit.png', 'D:\\\\data\\\\leftImg8bit_trainvaltest\\\\leftImg8bit\\\\test\\\\munich\\\\munich_000093_000019_leftImg8bit.png', 'D:\\\\data\\\\leftImg8bit_trainvaltest\\\\leftImg8bit\\\\test\\\\munich\\\\munich_000094_000019_leftImg8bit.png', 'D:\\\\data\\\\leftImg8bit_trainvaltest\\\\leftImg8bit\\\\test\\\\munich\\\\munich_000095_000019_leftImg8bit.png', 'D:\\\\data\\\\leftImg8bit_trainvaltest\\\\leftImg8bit\\\\test\\\\munich\\\\munich_000096_000019_leftImg8bit.png', 'D:\\\\data\\\\leftImg8bit_trainvaltest\\\\leftImg8bit\\\\test\\\\munich\\\\munich_000097_000019_leftImg8bit.png', 'D:\\\\data\\\\leftImg8bit_trainvaltest\\\\leftImg8bit\\\\test\\\\munich\\\\munich_000098_000019_leftImg8bit.png', 'D:\\\\data\\\\leftImg8bit_trainvaltest\\\\leftImg8bit\\\\test\\\\munich\\\\munich_000099_000019_leftImg8bit.png', 'D:\\\\data\\\\leftImg8bit_trainvaltest\\\\leftImg8bit\\\\test\\\\munich\\\\munich_000100_000019_leftImg8bit.png', 'D:\\\\data\\\\leftImg8bit_trainvaltest\\\\leftImg8bit\\\\test\\\\munich\\\\munich_000101_000019_leftImg8bit.png', 'D:\\\\data\\\\leftImg8bit_trainvaltest\\\\leftImg8bit\\\\test\\\\munich\\\\munich_000102_000019_leftImg8bit.png', 'D:\\\\data\\\\leftImg8bit_trainvaltest\\\\leftImg8bit\\\\test\\\\munich\\\\munich_000103_000019_leftImg8bit.png', 'D:\\\\data\\\\leftImg8bit_trainvaltest\\\\leftImg8bit\\\\test\\\\munich\\\\munich_000104_000019_leftImg8bit.png', 'D:\\\\data\\\\leftImg8bit_trainvaltest\\\\leftImg8bit\\\\test\\\\munich\\\\munich_000105_000019_leftImg8bit.png', 'D:\\\\data\\\\leftImg8bit_trainvaltest\\\\leftImg8bit\\\\test\\\\munich\\\\munich_000106_000019_leftImg8bit.png', 'D:\\\\data\\\\leftImg8bit_trainvaltest\\\\leftImg8bit\\\\test\\\\munich\\\\munich_000107_000019_leftImg8bit.png', 'D:\\\\data\\\\leftImg8bit_trainvaltest\\\\leftImg8bit\\\\test\\\\munich\\\\munich_000108_000019_leftImg8bit.png', 'D:\\\\data\\\\leftImg8bit_trainvaltest\\\\leftImg8bit\\\\test\\\\munich\\\\munich_000109_000019_leftImg8bit.png', 'D:\\\\data\\\\leftImg8bit_trainvaltest\\\\leftImg8bit\\\\test\\\\munich\\\\munich_000110_000019_leftImg8bit.png', 'D:\\\\data\\\\leftImg8bit_trainvaltest\\\\leftImg8bit\\\\test\\\\munich\\\\munich_000111_000019_leftImg8bit.png', 'D:\\\\data\\\\leftImg8bit_trainvaltest\\\\leftImg8bit\\\\test\\\\munich\\\\munich_000112_000019_leftImg8bit.png', 'D:\\\\data\\\\leftImg8bit_trainvaltest\\\\leftImg8bit\\\\test\\\\munich\\\\munich_000113_000019_leftImg8bit.png', 'D:\\\\data\\\\leftImg8bit_trainvaltest\\\\leftImg8bit\\\\test\\\\munich\\\\munich_000114_000019_leftImg8bit.png', 'D:\\\\data\\\\leftImg8bit_trainvaltest\\\\leftImg8bit\\\\test\\\\munich\\\\munich_000115_000019_leftImg8bit.png', 'D:\\\\data\\\\leftImg8bit_trainvaltest\\\\leftImg8bit\\\\test\\\\munich\\\\munich_000116_000019_leftImg8bit.png', 'D:\\\\data\\\\leftImg8bit_trainvaltest\\\\leftImg8bit\\\\test\\\\munich\\\\munich_000117_000019_leftImg8bit.png', 'D:\\\\data\\\\leftImg8bit_trainvaltest\\\\leftImg8bit\\\\test\\\\munich\\\\munich_000118_000019_leftImg8bit.png', 'D:\\\\data\\\\leftImg8bit_trainvaltest\\\\leftImg8bit\\\\test\\\\munich\\\\munich_000119_000019_leftImg8bit.png', 'D:\\\\data\\\\leftImg8bit_trainvaltest\\\\leftImg8bit\\\\test\\\\munich\\\\munich_000120_000019_leftImg8bit.png', 'D:\\\\data\\\\leftImg8bit_trainvaltest\\\\leftImg8bit\\\\test\\\\munich\\\\munich_000121_000019_leftImg8bit.png', 'D:\\\\data\\\\leftImg8bit_trainvaltest\\\\leftImg8bit\\\\test\\\\munich\\\\munich_000122_000019_leftImg8bit.png', 'D:\\\\data\\\\leftImg8bit_trainvaltest\\\\leftImg8bit\\\\test\\\\munich\\\\munich_000123_000019_leftImg8bit.png', 'D:\\\\data\\\\leftImg8bit_trainvaltest\\\\leftImg8bit\\\\test\\\\munich\\\\munich_000124_000019_leftImg8bit.png', 'D:\\\\data\\\\leftImg8bit_trainvaltest\\\\leftImg8bit\\\\test\\\\munich\\\\munich_000125_000019_leftImg8bit.png', 'D:\\\\data\\\\leftImg8bit_trainvaltest\\\\leftImg8bit\\\\test\\\\munich\\\\munich_000126_000019_leftImg8bit.png', 'D:\\\\data\\\\leftImg8bit_trainvaltest\\\\leftImg8bit\\\\test\\\\munich\\\\munich_000127_000019_leftImg8bit.png', 'D:\\\\data\\\\leftImg8bit_trainvaltest\\\\leftImg8bit\\\\test\\\\munich\\\\munich_000128_000019_leftImg8bit.png', 'D:\\\\data\\\\leftImg8bit_trainvaltest\\\\leftImg8bit\\\\test\\\\munich\\\\munich_000129_000019_leftImg8bit.png', 'D:\\\\data\\\\leftImg8bit_trainvaltest\\\\leftImg8bit\\\\test\\\\munich\\\\munich_000130_000019_leftImg8bit.png', 'D:\\\\data\\\\leftImg8bit_trainvaltest\\\\leftImg8bit\\\\test\\\\munich\\\\munich_000131_000019_leftImg8bit.png', 'D:\\\\data\\\\leftImg8bit_trainvaltest\\\\leftImg8bit\\\\test\\\\munich\\\\munich_000132_000019_leftImg8bit.png', 'D:\\\\data\\\\leftImg8bit_trainvaltest\\\\leftImg8bit\\\\test\\\\munich\\\\munich_000133_000019_leftImg8bit.png', 'D:\\\\data\\\\leftImg8bit_trainvaltest\\\\leftImg8bit\\\\test\\\\munich\\\\munich_000134_000019_leftImg8bit.png', 'D:\\\\data\\\\leftImg8bit_trainvaltest\\\\leftImg8bit\\\\test\\\\munich\\\\munich_000135_000019_leftImg8bit.png', 'D:\\\\data\\\\leftImg8bit_trainvaltest\\\\leftImg8bit\\\\test\\\\munich\\\\munich_000136_000019_leftImg8bit.png', 'D:\\\\data\\\\leftImg8bit_trainvaltest\\\\leftImg8bit\\\\test\\\\munich\\\\munich_000137_000019_leftImg8bit.png', 'D:\\\\data\\\\leftImg8bit_trainvaltest\\\\leftImg8bit\\\\test\\\\munich\\\\munich_000138_000019_leftImg8bit.png', 'D:\\\\data\\\\leftImg8bit_trainvaltest\\\\leftImg8bit\\\\test\\\\munich\\\\munich_000139_000019_leftImg8bit.png', 'D:\\\\data\\\\leftImg8bit_trainvaltest\\\\leftImg8bit\\\\test\\\\munich\\\\munich_000140_000019_leftImg8bit.png', 'D:\\\\data\\\\leftImg8bit_trainvaltest\\\\leftImg8bit\\\\test\\\\munich\\\\munich_000141_000019_leftImg8bit.png', 'D:\\\\data\\\\leftImg8bit_trainvaltest\\\\leftImg8bit\\\\test\\\\munich\\\\munich_000142_000019_leftImg8bit.png', 'D:\\\\data\\\\leftImg8bit_trainvaltest\\\\leftImg8bit\\\\test\\\\munich\\\\munich_000143_000019_leftImg8bit.png', 'D:\\\\data\\\\leftImg8bit_trainvaltest\\\\leftImg8bit\\\\test\\\\munich\\\\munich_000144_000019_leftImg8bit.png', 'D:\\\\data\\\\leftImg8bit_trainvaltest\\\\leftImg8bit\\\\test\\\\munich\\\\munich_000145_000019_leftImg8bit.png', 'D:\\\\data\\\\leftImg8bit_trainvaltest\\\\leftImg8bit\\\\test\\\\munich\\\\munich_000146_000019_leftImg8bit.png', 'D:\\\\data\\\\leftImg8bit_trainvaltest\\\\leftImg8bit\\\\test\\\\munich\\\\munich_000147_000019_leftImg8bit.png', 'D:\\\\data\\\\leftImg8bit_trainvaltest\\\\leftImg8bit\\\\test\\\\munich\\\\munich_000148_000019_leftImg8bit.png', 'D:\\\\data\\\\leftImg8bit_trainvaltest\\\\leftImg8bit\\\\test\\\\munich\\\\munich_000149_000019_leftImg8bit.png', 'D:\\\\data\\\\leftImg8bit_trainvaltest\\\\leftImg8bit\\\\test\\\\munich\\\\munich_000150_000019_leftImg8bit.png', 'D:\\\\data\\\\leftImg8bit_trainvaltest\\\\leftImg8bit\\\\test\\\\munich\\\\munich_000151_000019_leftImg8bit.png', 'D:\\\\data\\\\leftImg8bit_trainvaltest\\\\leftImg8bit\\\\test\\\\munich\\\\munich_000152_000019_leftImg8bit.png', 'D:\\\\data\\\\leftImg8bit_trainvaltest\\\\leftImg8bit\\\\test\\\\munich\\\\munich_000153_000019_leftImg8bit.png', 'D:\\\\data\\\\leftImg8bit_trainvaltest\\\\leftImg8bit\\\\test\\\\munich\\\\munich_000154_000019_leftImg8bit.png', 'D:\\\\data\\\\leftImg8bit_trainvaltest\\\\leftImg8bit\\\\test\\\\munich\\\\munich_000155_000019_leftImg8bit.png', 'D:\\\\data\\\\leftImg8bit_trainvaltest\\\\leftImg8bit\\\\test\\\\munich\\\\munich_000156_000019_leftImg8bit.png', 'D:\\\\data\\\\leftImg8bit_trainvaltest\\\\leftImg8bit\\\\test\\\\munich\\\\munich_000157_000019_leftImg8bit.png', 'D:\\\\data\\\\leftImg8bit_trainvaltest\\\\leftImg8bit\\\\test\\\\munich\\\\munich_000158_000019_leftImg8bit.png', 'D:\\\\data\\\\leftImg8bit_trainvaltest\\\\leftImg8bit\\\\test\\\\munich\\\\munich_000159_000019_leftImg8bit.png', 'D:\\\\data\\\\leftImg8bit_trainvaltest\\\\leftImg8bit\\\\test\\\\munich\\\\munich_000160_000019_leftImg8bit.png', 'D:\\\\data\\\\leftImg8bit_trainvaltest\\\\leftImg8bit\\\\test\\\\munich\\\\munich_000161_000019_leftImg8bit.png', 'D:\\\\data\\\\leftImg8bit_trainvaltest\\\\leftImg8bit\\\\test\\\\munich\\\\munich_000162_000019_leftImg8bit.png', 'D:\\\\data\\\\leftImg8bit_trainvaltest\\\\leftImg8bit\\\\test\\\\munich\\\\munich_000163_000019_leftImg8bit.png', 'D:\\\\data\\\\leftImg8bit_trainvaltest\\\\leftImg8bit\\\\test\\\\munich\\\\munich_000164_000019_leftImg8bit.png', 'D:\\\\data\\\\leftImg8bit_trainvaltest\\\\leftImg8bit\\\\test\\\\munich\\\\munich_000165_000019_leftImg8bit.png', 'D:\\\\data\\\\leftImg8bit_trainvaltest\\\\leftImg8bit\\\\test\\\\munich\\\\munich_000166_000019_leftImg8bit.png', 'D:\\\\data\\\\leftImg8bit_trainvaltest\\\\leftImg8bit\\\\test\\\\munich\\\\munich_000167_000019_leftImg8bit.png', 'D:\\\\data\\\\leftImg8bit_trainvaltest\\\\leftImg8bit\\\\test\\\\munich\\\\munich_000168_000019_leftImg8bit.png', 'D:\\\\data\\\\leftImg8bit_trainvaltest\\\\leftImg8bit\\\\test\\\\munich\\\\munich_000169_000019_leftImg8bit.png', 'D:\\\\data\\\\leftImg8bit_trainvaltest\\\\leftImg8bit\\\\test\\\\munich\\\\munich_000170_000019_leftImg8bit.png', 'D:\\\\data\\\\leftImg8bit_trainvaltest\\\\leftImg8bit\\\\test\\\\munich\\\\munich_000171_000019_leftImg8bit.png', 'D:\\\\data\\\\leftImg8bit_trainvaltest\\\\leftImg8bit\\\\test\\\\munich\\\\munich_000172_000019_leftImg8bit.png', 'D:\\\\data\\\\leftImg8bit_trainvaltest\\\\leftImg8bit\\\\test\\\\munich\\\\munich_000173_000019_leftImg8bit.png', 'D:\\\\data\\\\leftImg8bit_trainvaltest\\\\leftImg8bit\\\\test\\\\munich\\\\munich_000174_000019_leftImg8bit.png', 'D:\\\\data\\\\leftImg8bit_trainvaltest\\\\leftImg8bit\\\\test\\\\munich\\\\munich_000175_000019_leftImg8bit.png', 'D:\\\\data\\\\leftImg8bit_trainvaltest\\\\leftImg8bit\\\\test\\\\munich\\\\munich_000176_000019_leftImg8bit.png', 'D:\\\\data\\\\leftImg8bit_trainvaltest\\\\leftImg8bit\\\\test\\\\munich\\\\munich_000177_000019_leftImg8bit.png', 'D:\\\\data\\\\leftImg8bit_trainvaltest\\\\leftImg8bit\\\\test\\\\munich\\\\munich_000178_000019_leftImg8bit.png', 'D:\\\\data\\\\leftImg8bit_trainvaltest\\\\leftImg8bit\\\\test\\\\munich\\\\munich_000179_000019_leftImg8bit.png', 'D:\\\\data\\\\leftImg8bit_trainvaltest\\\\leftImg8bit\\\\test\\\\munich\\\\munich_000180_000019_leftImg8bit.png', 'D:\\\\data\\\\leftImg8bit_trainvaltest\\\\leftImg8bit\\\\test\\\\munich\\\\munich_000181_000019_leftImg8bit.png', 'D:\\\\data\\\\leftImg8bit_trainvaltest\\\\leftImg8bit\\\\test\\\\munich\\\\munich_000182_000019_leftImg8bit.png', 'D:\\\\data\\\\leftImg8bit_trainvaltest\\\\leftImg8bit\\\\test\\\\munich\\\\munich_000183_000019_leftImg8bit.png', 'D:\\\\data\\\\leftImg8bit_trainvaltest\\\\leftImg8bit\\\\test\\\\munich\\\\munich_000184_000019_leftImg8bit.png', 'D:\\\\data\\\\leftImg8bit_trainvaltest\\\\leftImg8bit\\\\test\\\\munich\\\\munich_000185_000019_leftImg8bit.png', 'D:\\\\data\\\\leftImg8bit_trainvaltest\\\\leftImg8bit\\\\test\\\\munich\\\\munich_000186_000019_leftImg8bit.png', 'D:\\\\data\\\\leftImg8bit_trainvaltest\\\\leftImg8bit\\\\test\\\\munich\\\\munich_000187_000019_leftImg8bit.png', 'D:\\\\data\\\\leftImg8bit_trainvaltest\\\\leftImg8bit\\\\test\\\\munich\\\\munich_000188_000019_leftImg8bit.png', 'D:\\\\data\\\\leftImg8bit_trainvaltest\\\\leftImg8bit\\\\test\\\\munich\\\\munich_000189_000019_leftImg8bit.png', 'D:\\\\data\\\\leftImg8bit_trainvaltest\\\\leftImg8bit\\\\test\\\\munich\\\\munich_000190_000019_leftImg8bit.png', 'D:\\\\data\\\\leftImg8bit_trainvaltest\\\\leftImg8bit\\\\test\\\\munich\\\\munich_000191_000019_leftImg8bit.png', 'D:\\\\data\\\\leftImg8bit_trainvaltest\\\\leftImg8bit\\\\test\\\\munich\\\\munich_000192_000019_leftImg8bit.png', 'D:\\\\data\\\\leftImg8bit_trainvaltest\\\\leftImg8bit\\\\test\\\\munich\\\\munich_000193_000019_leftImg8bit.png', 'D:\\\\data\\\\leftImg8bit_trainvaltest\\\\leftImg8bit\\\\test\\\\munich\\\\munich_000194_000019_leftImg8bit.png', 'D:\\\\data\\\\leftImg8bit_trainvaltest\\\\leftImg8bit\\\\test\\\\munich\\\\munich_000195_000019_leftImg8bit.png', 'D:\\\\data\\\\leftImg8bit_trainvaltest\\\\leftImg8bit\\\\test\\\\munich\\\\munich_000196_000019_leftImg8bit.png', 'D:\\\\data\\\\leftImg8bit_trainvaltest\\\\leftImg8bit\\\\test\\\\munich\\\\munich_000197_000019_leftImg8bit.png', 'D:\\\\data\\\\leftImg8bit_trainvaltest\\\\leftImg8bit\\\\test\\\\munich\\\\munich_000198_000019_leftImg8bit.png', 'D:\\\\data\\\\leftImg8bit_trainvaltest\\\\leftImg8bit\\\\test\\\\munich\\\\munich_000199_000019_leftImg8bit.png', 'D:\\\\data\\\\leftImg8bit_trainvaltest\\\\leftImg8bit\\\\test\\\\munich\\\\munich_000200_000019_leftImg8bit.png', 'D:\\\\data\\\\leftImg8bit_trainvaltest\\\\leftImg8bit\\\\test\\\\munich\\\\munich_000201_000019_leftImg8bit.png', 'D:\\\\data\\\\leftImg8bit_trainvaltest\\\\leftImg8bit\\\\test\\\\munich\\\\munich_000202_000019_leftImg8bit.png', 'D:\\\\data\\\\leftImg8bit_trainvaltest\\\\leftImg8bit\\\\test\\\\munich\\\\munich_000203_000019_leftImg8bit.png', 'D:\\\\data\\\\leftImg8bit_trainvaltest\\\\leftImg8bit\\\\test\\\\munich\\\\munich_000204_000019_leftImg8bit.png', 'D:\\\\data\\\\leftImg8bit_trainvaltest\\\\leftImg8bit\\\\test\\\\munich\\\\munich_000205_000019_leftImg8bit.png', 'D:\\\\data\\\\leftImg8bit_trainvaltest\\\\leftImg8bit\\\\test\\\\munich\\\\munich_000206_000019_leftImg8bit.png', 'D:\\\\data\\\\leftImg8bit_trainvaltest\\\\leftImg8bit\\\\test\\\\munich\\\\munich_000207_000019_leftImg8bit.png', 'D:\\\\data\\\\leftImg8bit_trainvaltest\\\\leftImg8bit\\\\test\\\\munich\\\\munich_000208_000019_leftImg8bit.png', 'D:\\\\data\\\\leftImg8bit_trainvaltest\\\\leftImg8bit\\\\test\\\\munich\\\\munich_000209_000019_leftImg8bit.png', 'D:\\\\data\\\\leftImg8bit_trainvaltest\\\\leftImg8bit\\\\test\\\\munich\\\\munich_000210_000019_leftImg8bit.png', 'D:\\\\data\\\\leftImg8bit_trainvaltest\\\\leftImg8bit\\\\test\\\\munich\\\\munich_000211_000019_leftImg8bit.png', 'D:\\\\data\\\\leftImg8bit_trainvaltest\\\\leftImg8bit\\\\test\\\\munich\\\\munich_000212_000019_leftImg8bit.png', 'D:\\\\data\\\\leftImg8bit_trainvaltest\\\\leftImg8bit\\\\test\\\\munich\\\\munich_000213_000019_leftImg8bit.png', 'D:\\\\data\\\\leftImg8bit_trainvaltest\\\\leftImg8bit\\\\test\\\\munich\\\\munich_000214_000019_leftImg8bit.png', 'D:\\\\data\\\\leftImg8bit_trainvaltest\\\\leftImg8bit\\\\test\\\\munich\\\\munich_000215_000019_leftImg8bit.png', 'D:\\\\data\\\\leftImg8bit_trainvaltest\\\\leftImg8bit\\\\test\\\\munich\\\\munich_000216_000019_leftImg8bit.png', 'D:\\\\data\\\\leftImg8bit_trainvaltest\\\\leftImg8bit\\\\test\\\\munich\\\\munich_000217_000019_leftImg8bit.png', 'D:\\\\data\\\\leftImg8bit_trainvaltest\\\\leftImg8bit\\\\test\\\\munich\\\\munich_000218_000019_leftImg8bit.png', 'D:\\\\data\\\\leftImg8bit_trainvaltest\\\\leftImg8bit\\\\test\\\\munich\\\\munich_000219_000019_leftImg8bit.png', 'D:\\\\data\\\\leftImg8bit_trainvaltest\\\\leftImg8bit\\\\test\\\\munich\\\\munich_000220_000019_leftImg8bit.png', 'D:\\\\data\\\\leftImg8bit_trainvaltest\\\\leftImg8bit\\\\test\\\\munich\\\\munich_000221_000019_leftImg8bit.png', 'D:\\\\data\\\\leftImg8bit_trainvaltest\\\\leftImg8bit\\\\test\\\\munich\\\\munich_000222_000019_leftImg8bit.png', 'D:\\\\data\\\\leftImg8bit_trainvaltest\\\\leftImg8bit\\\\test\\\\munich\\\\munich_000223_000019_leftImg8bit.png', 'D:\\\\data\\\\leftImg8bit_trainvaltest\\\\leftImg8bit\\\\test\\\\munich\\\\munich_000224_000019_leftImg8bit.png', 'D:\\\\data\\\\leftImg8bit_trainvaltest\\\\leftImg8bit\\\\test\\\\munich\\\\munich_000225_000019_leftImg8bit.png', 'D:\\\\data\\\\leftImg8bit_trainvaltest\\\\leftImg8bit\\\\test\\\\munich\\\\munich_000226_000019_leftImg8bit.png', 'D:\\\\data\\\\leftImg8bit_trainvaltest\\\\leftImg8bit\\\\test\\\\munich\\\\munich_000227_000019_leftImg8bit.png', 'D:\\\\data\\\\leftImg8bit_trainvaltest\\\\leftImg8bit\\\\test\\\\munich\\\\munich_000228_000019_leftImg8bit.png', 'D:\\\\data\\\\leftImg8bit_trainvaltest\\\\leftImg8bit\\\\test\\\\munich\\\\munich_000229_000019_leftImg8bit.png', 'D:\\\\data\\\\leftImg8bit_trainvaltest\\\\leftImg8bit\\\\test\\\\munich\\\\munich_000230_000019_leftImg8bit.png', 'D:\\\\data\\\\leftImg8bit_trainvaltest\\\\leftImg8bit\\\\test\\\\munich\\\\munich_000231_000019_leftImg8bit.png', 'D:\\\\data\\\\leftImg8bit_trainvaltest\\\\leftImg8bit\\\\test\\\\munich\\\\munich_000232_000019_leftImg8bit.png', 'D:\\\\data\\\\leftImg8bit_trainvaltest\\\\leftImg8bit\\\\test\\\\munich\\\\munich_000233_000019_leftImg8bit.png', 'D:\\\\data\\\\leftImg8bit_trainvaltest\\\\leftImg8bit\\\\test\\\\munich\\\\munich_000234_000019_leftImg8bit.png', 'D:\\\\data\\\\leftImg8bit_trainvaltest\\\\leftImg8bit\\\\test\\\\munich\\\\munich_000235_000019_leftImg8bit.png', 'D:\\\\data\\\\leftImg8bit_trainvaltest\\\\leftImg8bit\\\\test\\\\munich\\\\munich_000236_000019_leftImg8bit.png', 'D:\\\\data\\\\leftImg8bit_trainvaltest\\\\leftImg8bit\\\\test\\\\munich\\\\munich_000237_000019_leftImg8bit.png', 'D:\\\\data\\\\leftImg8bit_trainvaltest\\\\leftImg8bit\\\\test\\\\munich\\\\munich_000238_000019_leftImg8bit.png', 'D:\\\\data\\\\leftImg8bit_trainvaltest\\\\leftImg8bit\\\\test\\\\munich\\\\munich_000239_000019_leftImg8bit.png', 'D:\\\\data\\\\leftImg8bit_trainvaltest\\\\leftImg8bit\\\\test\\\\munich\\\\munich_000240_000019_leftImg8bit.png', 'D:\\\\data\\\\leftImg8bit_trainvaltest\\\\leftImg8bit\\\\test\\\\munich\\\\munich_000241_000019_leftImg8bit.png', 'D:\\\\data\\\\leftImg8bit_trainvaltest\\\\leftImg8bit\\\\test\\\\munich\\\\munich_000242_000019_leftImg8bit.png', 'D:\\\\data\\\\leftImg8bit_trainvaltest\\\\leftImg8bit\\\\test\\\\munich\\\\munich_000243_000019_leftImg8bit.png', 'D:\\\\data\\\\leftImg8bit_trainvaltest\\\\leftImg8bit\\\\test\\\\munich\\\\munich_000244_000019_leftImg8bit.png', 'D:\\\\data\\\\leftImg8bit_trainvaltest\\\\leftImg8bit\\\\test\\\\munich\\\\munich_000245_000019_leftImg8bit.png', 'D:\\\\data\\\\leftImg8bit_trainvaltest\\\\leftImg8bit\\\\test\\\\munich\\\\munich_000246_000019_leftImg8bit.png', 'D:\\\\data\\\\leftImg8bit_trainvaltest\\\\leftImg8bit\\\\test\\\\munich\\\\munich_000247_000019_leftImg8bit.png', 'D:\\\\data\\\\leftImg8bit_trainvaltest\\\\leftImg8bit\\\\test\\\\munich\\\\munich_000248_000019_leftImg8bit.png', 'D:\\\\data\\\\leftImg8bit_trainvaltest\\\\leftImg8bit\\\\test\\\\munich\\\\munich_000249_000019_leftImg8bit.png', 'D:\\\\data\\\\leftImg8bit_trainvaltest\\\\leftImg8bit\\\\test\\\\munich\\\\munich_000250_000019_leftImg8bit.png', 'D:\\\\data\\\\leftImg8bit_trainvaltest\\\\leftImg8bit\\\\test\\\\munich\\\\munich_000251_000019_leftImg8bit.png', 'D:\\\\data\\\\leftImg8bit_trainvaltest\\\\leftImg8bit\\\\test\\\\munich\\\\munich_000252_000019_leftImg8bit.png', 'D:\\\\data\\\\leftImg8bit_trainvaltest\\\\leftImg8bit\\\\test\\\\munich\\\\munich_000253_000019_leftImg8bit.png', 'D:\\\\data\\\\leftImg8bit_trainvaltest\\\\leftImg8bit\\\\test\\\\munich\\\\munich_000254_000019_leftImg8bit.png', 'D:\\\\data\\\\leftImg8bit_trainvaltest\\\\leftImg8bit\\\\test\\\\munich\\\\munich_000255_000019_leftImg8bit.png', 'D:\\\\data\\\\leftImg8bit_trainvaltest\\\\leftImg8bit\\\\test\\\\munich\\\\munich_000256_000019_leftImg8bit.png', 'D:\\\\data\\\\leftImg8bit_trainvaltest\\\\leftImg8bit\\\\test\\\\munich\\\\munich_000257_000019_leftImg8bit.png', 'D:\\\\data\\\\leftImg8bit_trainvaltest\\\\leftImg8bit\\\\test\\\\munich\\\\munich_000258_000019_leftImg8bit.png', 'D:\\\\data\\\\leftImg8bit_trainvaltest\\\\leftImg8bit\\\\test\\\\munich\\\\munich_000259_000019_leftImg8bit.png', 'D:\\\\data\\\\leftImg8bit_trainvaltest\\\\leftImg8bit\\\\test\\\\munich\\\\munich_000260_000019_leftImg8bit.png', 'D:\\\\data\\\\leftImg8bit_trainvaltest\\\\leftImg8bit\\\\test\\\\munich\\\\munich_000261_000019_leftImg8bit.png', 'D:\\\\data\\\\leftImg8bit_trainvaltest\\\\leftImg8bit\\\\test\\\\munich\\\\munich_000262_000019_leftImg8bit.png', 'D:\\\\data\\\\leftImg8bit_trainvaltest\\\\leftImg8bit\\\\test\\\\munich\\\\munich_000263_000019_leftImg8bit.png', 'D:\\\\data\\\\leftImg8bit_trainvaltest\\\\leftImg8bit\\\\test\\\\munich\\\\munich_000264_000019_leftImg8bit.png', 'D:\\\\data\\\\leftImg8bit_trainvaltest\\\\leftImg8bit\\\\test\\\\munich\\\\munich_000265_000019_leftImg8bit.png', 'D:\\\\data\\\\leftImg8bit_trainvaltest\\\\leftImg8bit\\\\test\\\\munich\\\\munich_000266_000019_leftImg8bit.png', 'D:\\\\data\\\\leftImg8bit_trainvaltest\\\\leftImg8bit\\\\test\\\\munich\\\\munich_000267_000019_leftImg8bit.png', 'D:\\\\data\\\\leftImg8bit_trainvaltest\\\\leftImg8bit\\\\test\\\\munich\\\\munich_000268_000019_leftImg8bit.png', 'D:\\\\data\\\\leftImg8bit_trainvaltest\\\\leftImg8bit\\\\test\\\\munich\\\\munich_000269_000019_leftImg8bit.png', 'D:\\\\data\\\\leftImg8bit_trainvaltest\\\\leftImg8bit\\\\test\\\\munich\\\\munich_000270_000019_leftImg8bit.png', 'D:\\\\data\\\\leftImg8bit_trainvaltest\\\\leftImg8bit\\\\test\\\\munich\\\\munich_000271_000019_leftImg8bit.png', 'D:\\\\data\\\\leftImg8bit_trainvaltest\\\\leftImg8bit\\\\test\\\\munich\\\\munich_000272_000019_leftImg8bit.png', 'D:\\\\data\\\\leftImg8bit_trainvaltest\\\\leftImg8bit\\\\test\\\\munich\\\\munich_000273_000019_leftImg8bit.png', 'D:\\\\data\\\\leftImg8bit_trainvaltest\\\\leftImg8bit\\\\test\\\\munich\\\\munich_000274_000019_leftImg8bit.png', 'D:\\\\data\\\\leftImg8bit_trainvaltest\\\\leftImg8bit\\\\test\\\\munich\\\\munich_000275_000019_leftImg8bit.png', 'D:\\\\data\\\\leftImg8bit_trainvaltest\\\\leftImg8bit\\\\test\\\\munich\\\\munich_000276_000019_leftImg8bit.png', 'D:\\\\data\\\\leftImg8bit_trainvaltest\\\\leftImg8bit\\\\test\\\\munich\\\\munich_000277_000019_leftImg8bit.png', 'D:\\\\data\\\\leftImg8bit_trainvaltest\\\\leftImg8bit\\\\test\\\\munich\\\\munich_000278_000019_leftImg8bit.png', 'D:\\\\data\\\\leftImg8bit_trainvaltest\\\\leftImg8bit\\\\test\\\\munich\\\\munich_000279_000019_leftImg8bit.png', 'D:\\\\data\\\\leftImg8bit_trainvaltest\\\\leftImg8bit\\\\test\\\\munich\\\\munich_000280_000019_leftImg8bit.png', 'D:\\\\data\\\\leftImg8bit_trainvaltest\\\\leftImg8bit\\\\test\\\\munich\\\\munich_000281_000019_leftImg8bit.png', 'D:\\\\data\\\\leftImg8bit_trainvaltest\\\\leftImg8bit\\\\test\\\\munich\\\\munich_000282_000019_leftImg8bit.png', 'D:\\\\data\\\\leftImg8bit_trainvaltest\\\\leftImg8bit\\\\test\\\\munich\\\\munich_000283_000019_leftImg8bit.png', 'D:\\\\data\\\\leftImg8bit_trainvaltest\\\\leftImg8bit\\\\test\\\\munich\\\\munich_000284_000019_leftImg8bit.png', 'D:\\\\data\\\\leftImg8bit_trainvaltest\\\\leftImg8bit\\\\test\\\\munich\\\\munich_000285_000019_leftImg8bit.png', 'D:\\\\data\\\\leftImg8bit_trainvaltest\\\\leftImg8bit\\\\test\\\\munich\\\\munich_000286_000019_leftImg8bit.png', 'D:\\\\data\\\\leftImg8bit_trainvaltest\\\\leftImg8bit\\\\test\\\\munich\\\\munich_000287_000019_leftImg8bit.png', 'D:\\\\data\\\\leftImg8bit_trainvaltest\\\\leftImg8bit\\\\test\\\\munich\\\\munich_000288_000019_leftImg8bit.png', 'D:\\\\data\\\\leftImg8bit_trainvaltest\\\\leftImg8bit\\\\test\\\\munich\\\\munich_000289_000019_leftImg8bit.png', 'D:\\\\data\\\\leftImg8bit_trainvaltest\\\\leftImg8bit\\\\test\\\\munich\\\\munich_000290_000019_leftImg8bit.png', 'D:\\\\data\\\\leftImg8bit_trainvaltest\\\\leftImg8bit\\\\test\\\\munich\\\\munich_000291_000019_leftImg8bit.png', 'D:\\\\data\\\\leftImg8bit_trainvaltest\\\\leftImg8bit\\\\test\\\\munich\\\\munich_000292_000019_leftImg8bit.png', 'D:\\\\data\\\\leftImg8bit_trainvaltest\\\\leftImg8bit\\\\test\\\\munich\\\\munich_000293_000019_leftImg8bit.png', 'D:\\\\data\\\\leftImg8bit_trainvaltest\\\\leftImg8bit\\\\test\\\\munich\\\\munich_000294_000019_leftImg8bit.png', 'D:\\\\data\\\\leftImg8bit_trainvaltest\\\\leftImg8bit\\\\test\\\\munich\\\\munich_000295_000019_leftImg8bit.png', 'D:\\\\data\\\\leftImg8bit_trainvaltest\\\\leftImg8bit\\\\test\\\\munich\\\\munich_000296_000019_leftImg8bit.png', 'D:\\\\data\\\\leftImg8bit_trainvaltest\\\\leftImg8bit\\\\test\\\\munich\\\\munich_000297_000019_leftImg8bit.png', 'D:\\\\data\\\\leftImg8bit_trainvaltest\\\\leftImg8bit\\\\test\\\\munich\\\\munich_000298_000019_leftImg8bit.png', 'D:\\\\data\\\\leftImg8bit_trainvaltest\\\\leftImg8bit\\\\test\\\\munich\\\\munich_000299_000019_leftImg8bit.png', 'D:\\\\data\\\\leftImg8bit_trainvaltest\\\\leftImg8bit\\\\test\\\\munich\\\\munich_000300_000019_leftImg8bit.png', 'D:\\\\data\\\\leftImg8bit_trainvaltest\\\\leftImg8bit\\\\test\\\\munich\\\\munich_000301_000019_leftImg8bit.png', 'D:\\\\data\\\\leftImg8bit_trainvaltest\\\\leftImg8bit\\\\test\\\\munich\\\\munich_000302_000019_leftImg8bit.png', 'D:\\\\data\\\\leftImg8bit_trainvaltest\\\\leftImg8bit\\\\test\\\\munich\\\\munich_000303_000019_leftImg8bit.png', 'D:\\\\data\\\\leftImg8bit_trainvaltest\\\\leftImg8bit\\\\test\\\\munich\\\\munich_000304_000019_leftImg8bit.png', 'D:\\\\data\\\\leftImg8bit_trainvaltest\\\\leftImg8bit\\\\test\\\\munich\\\\munich_000305_000019_leftImg8bit.png', 'D:\\\\data\\\\leftImg8bit_trainvaltest\\\\leftImg8bit\\\\test\\\\munich\\\\munich_000306_000019_leftImg8bit.png', 'D:\\\\data\\\\leftImg8bit_trainvaltest\\\\leftImg8bit\\\\test\\\\munich\\\\munich_000307_000019_leftImg8bit.png', 'D:\\\\data\\\\leftImg8bit_trainvaltest\\\\leftImg8bit\\\\test\\\\munich\\\\munich_000308_000019_leftImg8bit.png', 'D:\\\\data\\\\leftImg8bit_trainvaltest\\\\leftImg8bit\\\\test\\\\munich\\\\munich_000309_000019_leftImg8bit.png', 'D:\\\\data\\\\leftImg8bit_trainvaltest\\\\leftImg8bit\\\\test\\\\munich\\\\munich_000310_000019_leftImg8bit.png', 'D:\\\\data\\\\leftImg8bit_trainvaltest\\\\leftImg8bit\\\\test\\\\munich\\\\munich_000311_000019_leftImg8bit.png', 'D:\\\\data\\\\leftImg8bit_trainvaltest\\\\leftImg8bit\\\\test\\\\munich\\\\munich_000312_000019_leftImg8bit.png', 'D:\\\\data\\\\leftImg8bit_trainvaltest\\\\leftImg8bit\\\\test\\\\munich\\\\munich_000313_000019_leftImg8bit.png', 'D:\\\\data\\\\leftImg8bit_trainvaltest\\\\leftImg8bit\\\\test\\\\munich\\\\munich_000314_000019_leftImg8bit.png', 'D:\\\\data\\\\leftImg8bit_trainvaltest\\\\leftImg8bit\\\\test\\\\munich\\\\munich_000315_000019_leftImg8bit.png', 'D:\\\\data\\\\leftImg8bit_trainvaltest\\\\leftImg8bit\\\\test\\\\munich\\\\munich_000316_000019_leftImg8bit.png', 'D:\\\\data\\\\leftImg8bit_trainvaltest\\\\leftImg8bit\\\\test\\\\munich\\\\munich_000317_000019_leftImg8bit.png', 'D:\\\\data\\\\leftImg8bit_trainvaltest\\\\leftImg8bit\\\\test\\\\munich\\\\munich_000318_000019_leftImg8bit.png', 'D:\\\\data\\\\leftImg8bit_trainvaltest\\\\leftImg8bit\\\\test\\\\munich\\\\munich_000319_000019_leftImg8bit.png', 'D:\\\\data\\\\leftImg8bit_trainvaltest\\\\leftImg8bit\\\\test\\\\munich\\\\munich_000320_000019_leftImg8bit.png', 'D:\\\\data\\\\leftImg8bit_trainvaltest\\\\leftImg8bit\\\\test\\\\munich\\\\munich_000321_000019_leftImg8bit.png', 'D:\\\\data\\\\leftImg8bit_trainvaltest\\\\leftImg8bit\\\\test\\\\munich\\\\munich_000322_000019_leftImg8bit.png', 'D:\\\\data\\\\leftImg8bit_trainvaltest\\\\leftImg8bit\\\\test\\\\munich\\\\munich_000323_000019_leftImg8bit.png', 'D:\\\\data\\\\leftImg8bit_trainvaltest\\\\leftImg8bit\\\\test\\\\munich\\\\munich_000324_000019_leftImg8bit.png', 'D:\\\\data\\\\leftImg8bit_trainvaltest\\\\leftImg8bit\\\\test\\\\munich\\\\munich_000325_000019_leftImg8bit.png', 'D:\\\\data\\\\leftImg8bit_trainvaltest\\\\leftImg8bit\\\\test\\\\munich\\\\munich_000326_000019_leftImg8bit.png', 'D:\\\\data\\\\leftImg8bit_trainvaltest\\\\leftImg8bit\\\\test\\\\munich\\\\munich_000327_000019_leftImg8bit.png', 'D:\\\\data\\\\leftImg8bit_trainvaltest\\\\leftImg8bit\\\\test\\\\munich\\\\munich_000328_000019_leftImg8bit.png', 'D:\\\\data\\\\leftImg8bit_trainvaltest\\\\leftImg8bit\\\\test\\\\munich\\\\munich_000329_000019_leftImg8bit.png', 'D:\\\\data\\\\leftImg8bit_trainvaltest\\\\leftImg8bit\\\\test\\\\munich\\\\munich_000330_000019_leftImg8bit.png', 'D:\\\\data\\\\leftImg8bit_trainvaltest\\\\leftImg8bit\\\\test\\\\munich\\\\munich_000331_000019_leftImg8bit.png', 'D:\\\\data\\\\leftImg8bit_trainvaltest\\\\leftImg8bit\\\\test\\\\munich\\\\munich_000332_000019_leftImg8bit.png', 'D:\\\\data\\\\leftImg8bit_trainvaltest\\\\leftImg8bit\\\\test\\\\munich\\\\munich_000333_000019_leftImg8bit.png', 'D:\\\\data\\\\leftImg8bit_trainvaltest\\\\leftImg8bit\\\\test\\\\munich\\\\munich_000334_000019_leftImg8bit.png', 'D:\\\\data\\\\leftImg8bit_trainvaltest\\\\leftImg8bit\\\\test\\\\munich\\\\munich_000335_000019_leftImg8bit.png', 'D:\\\\data\\\\leftImg8bit_trainvaltest\\\\leftImg8bit\\\\test\\\\munich\\\\munich_000336_000019_leftImg8bit.png', 'D:\\\\data\\\\leftImg8bit_trainvaltest\\\\leftImg8bit\\\\test\\\\munich\\\\munich_000337_000019_leftImg8bit.png', 'D:\\\\data\\\\leftImg8bit_trainvaltest\\\\leftImg8bit\\\\test\\\\munich\\\\munich_000338_000019_leftImg8bit.png', 'D:\\\\data\\\\leftImg8bit_trainvaltest\\\\leftImg8bit\\\\test\\\\munich\\\\munich_000339_000019_leftImg8bit.png', 'D:\\\\data\\\\leftImg8bit_trainvaltest\\\\leftImg8bit\\\\test\\\\munich\\\\munich_000340_000019_leftImg8bit.png', 'D:\\\\data\\\\leftImg8bit_trainvaltest\\\\leftImg8bit\\\\test\\\\munich\\\\munich_000341_000019_leftImg8bit.png', 'D:\\\\data\\\\leftImg8bit_trainvaltest\\\\leftImg8bit\\\\test\\\\munich\\\\munich_000342_000019_leftImg8bit.png', 'D:\\\\data\\\\leftImg8bit_trainvaltest\\\\leftImg8bit\\\\test\\\\munich\\\\munich_000343_000019_leftImg8bit.png', 'D:\\\\data\\\\leftImg8bit_trainvaltest\\\\leftImg8bit\\\\test\\\\munich\\\\munich_000344_000019_leftImg8bit.png', 'D:\\\\data\\\\leftImg8bit_trainvaltest\\\\leftImg8bit\\\\test\\\\munich\\\\munich_000345_000019_leftImg8bit.png', 'D:\\\\data\\\\leftImg8bit_trainvaltest\\\\leftImg8bit\\\\test\\\\munich\\\\munich_000346_000019_leftImg8bit.png', 'D:\\\\data\\\\leftImg8bit_trainvaltest\\\\leftImg8bit\\\\test\\\\munich\\\\munich_000347_000019_leftImg8bit.png', 'D:\\\\data\\\\leftImg8bit_trainvaltest\\\\leftImg8bit\\\\test\\\\munich\\\\munich_000348_000019_leftImg8bit.png', 'D:\\\\data\\\\leftImg8bit_trainvaltest\\\\leftImg8bit\\\\test\\\\munich\\\\munich_000349_000019_leftImg8bit.png', 'D:\\\\data\\\\leftImg8bit_trainvaltest\\\\leftImg8bit\\\\test\\\\munich\\\\munich_000350_000019_leftImg8bit.png', 'D:\\\\data\\\\leftImg8bit_trainvaltest\\\\leftImg8bit\\\\test\\\\munich\\\\munich_000351_000019_leftImg8bit.png', 'D:\\\\data\\\\leftImg8bit_trainvaltest\\\\leftImg8bit\\\\test\\\\munich\\\\munich_000352_000019_leftImg8bit.png', 'D:\\\\data\\\\leftImg8bit_trainvaltest\\\\leftImg8bit\\\\test\\\\munich\\\\munich_000353_000019_leftImg8bit.png', 'D:\\\\data\\\\leftImg8bit_trainvaltest\\\\leftImg8bit\\\\test\\\\munich\\\\munich_000354_000019_leftImg8bit.png', 'D:\\\\data\\\\leftImg8bit_trainvaltest\\\\leftImg8bit\\\\test\\\\munich\\\\munich_000355_000019_leftImg8bit.png', 'D:\\\\data\\\\leftImg8bit_trainvaltest\\\\leftImg8bit\\\\test\\\\munich\\\\munich_000356_000019_leftImg8bit.png', 'D:\\\\data\\\\leftImg8bit_trainvaltest\\\\leftImg8bit\\\\test\\\\munich\\\\munich_000357_000019_leftImg8bit.png', 'D:\\\\data\\\\leftImg8bit_trainvaltest\\\\leftImg8bit\\\\test\\\\munich\\\\munich_000358_000019_leftImg8bit.png', 'D:\\\\data\\\\leftImg8bit_trainvaltest\\\\leftImg8bit\\\\test\\\\munich\\\\munich_000359_000019_leftImg8bit.png', 'D:\\\\data\\\\leftImg8bit_trainvaltest\\\\leftImg8bit\\\\test\\\\munich\\\\munich_000360_000019_leftImg8bit.png', 'D:\\\\data\\\\leftImg8bit_trainvaltest\\\\leftImg8bit\\\\test\\\\munich\\\\munich_000361_000019_leftImg8bit.png', 'D:\\\\data\\\\leftImg8bit_trainvaltest\\\\leftImg8bit\\\\test\\\\munich\\\\munich_000362_000019_leftImg8bit.png', 'D:\\\\data\\\\leftImg8bit_trainvaltest\\\\leftImg8bit\\\\test\\\\munich\\\\munich_000363_000019_leftImg8bit.png', 'D:\\\\data\\\\leftImg8bit_trainvaltest\\\\leftImg8bit\\\\test\\\\munich\\\\munich_000364_000019_leftImg8bit.png', 'D:\\\\data\\\\leftImg8bit_trainvaltest\\\\leftImg8bit\\\\test\\\\munich\\\\munich_000365_000019_leftImg8bit.png', 'D:\\\\data\\\\leftImg8bit_trainvaltest\\\\leftImg8bit\\\\test\\\\munich\\\\munich_000366_000019_leftImg8bit.png', 'D:\\\\data\\\\leftImg8bit_trainvaltest\\\\leftImg8bit\\\\test\\\\munich\\\\munich_000367_000019_leftImg8bit.png', 'D:\\\\data\\\\leftImg8bit_trainvaltest\\\\leftImg8bit\\\\test\\\\munich\\\\munich_000368_000019_leftImg8bit.png', 'D:\\\\data\\\\leftImg8bit_trainvaltest\\\\leftImg8bit\\\\test\\\\munich\\\\munich_000369_000019_leftImg8bit.png', 'D:\\\\data\\\\leftImg8bit_trainvaltest\\\\leftImg8bit\\\\test\\\\munich\\\\munich_000370_000019_leftImg8bit.png', 'D:\\\\data\\\\leftImg8bit_trainvaltest\\\\leftImg8bit\\\\test\\\\munich\\\\munich_000371_000019_leftImg8bit.png', 'D:\\\\data\\\\leftImg8bit_trainvaltest\\\\leftImg8bit\\\\test\\\\munich\\\\munich_000372_000019_leftImg8bit.png', 'D:\\\\data\\\\leftImg8bit_trainvaltest\\\\leftImg8bit\\\\test\\\\munich\\\\munich_000373_000019_leftImg8bit.png', 'D:\\\\data\\\\leftImg8bit_trainvaltest\\\\leftImg8bit\\\\test\\\\munich\\\\munich_000374_000019_leftImg8bit.png', 'D:\\\\data\\\\leftImg8bit_trainvaltest\\\\leftImg8bit\\\\test\\\\munich\\\\munich_000375_000019_leftImg8bit.png', 'D:\\\\data\\\\leftImg8bit_trainvaltest\\\\leftImg8bit\\\\test\\\\munich\\\\munich_000376_000019_leftImg8bit.png', 'D:\\\\data\\\\leftImg8bit_trainvaltest\\\\leftImg8bit\\\\test\\\\munich\\\\munich_000377_000019_leftImg8bit.png', 'D:\\\\data\\\\leftImg8bit_trainvaltest\\\\leftImg8bit\\\\test\\\\munich\\\\munich_000378_000019_leftImg8bit.png', 'D:\\\\data\\\\leftImg8bit_trainvaltest\\\\leftImg8bit\\\\test\\\\munich\\\\munich_000379_000019_leftImg8bit.png', 'D:\\\\data\\\\leftImg8bit_trainvaltest\\\\leftImg8bit\\\\test\\\\munich\\\\munich_000380_000019_leftImg8bit.png', 'D:\\\\data\\\\leftImg8bit_trainvaltest\\\\leftImg8bit\\\\test\\\\munich\\\\munich_000381_000019_leftImg8bit.png', 'D:\\\\data\\\\leftImg8bit_trainvaltest\\\\leftImg8bit\\\\test\\\\munich\\\\munich_000382_000019_leftImg8bit.png', 'D:\\\\data\\\\leftImg8bit_trainvaltest\\\\leftImg8bit\\\\test\\\\munich\\\\munich_000383_000019_leftImg8bit.png', 'D:\\\\data\\\\leftImg8bit_trainvaltest\\\\leftImg8bit\\\\test\\\\munich\\\\munich_000384_000019_leftImg8bit.png', 'D:\\\\data\\\\leftImg8bit_trainvaltest\\\\leftImg8bit\\\\test\\\\munich\\\\munich_000385_000019_leftImg8bit.png', 'D:\\\\data\\\\leftImg8bit_trainvaltest\\\\leftImg8bit\\\\test\\\\munich\\\\munich_000386_000019_leftImg8bit.png', 'D:\\\\data\\\\leftImg8bit_trainvaltest\\\\leftImg8bit\\\\test\\\\munich\\\\munich_000387_000019_leftImg8bit.png', 'D:\\\\data\\\\leftImg8bit_trainvaltest\\\\leftImg8bit\\\\test\\\\munich\\\\munich_000388_000019_leftImg8bit.png', 'D:\\\\data\\\\leftImg8bit_trainvaltest\\\\leftImg8bit\\\\test\\\\munich\\\\munich_000389_000019_leftImg8bit.png', 'D:\\\\data\\\\leftImg8bit_trainvaltest\\\\leftImg8bit\\\\test\\\\munich\\\\munich_000390_000019_leftImg8bit.png', 'D:\\\\data\\\\leftImg8bit_trainvaltest\\\\leftImg8bit\\\\test\\\\munich\\\\munich_000391_000019_leftImg8bit.png', 'D:\\\\data\\\\leftImg8bit_trainvaltest\\\\leftImg8bit\\\\test\\\\munich\\\\munich_000392_000019_leftImg8bit.png', 'D:\\\\data\\\\leftImg8bit_trainvaltest\\\\leftImg8bit\\\\test\\\\munich\\\\munich_000393_000019_leftImg8bit.png', 'D:\\\\data\\\\leftImg8bit_trainvaltest\\\\leftImg8bit\\\\test\\\\munich\\\\munich_000394_000019_leftImg8bit.png', 'D:\\\\data\\\\leftImg8bit_trainvaltest\\\\leftImg8bit\\\\test\\\\munich\\\\munich_000395_000019_leftImg8bit.png', 'D:\\\\data\\\\leftImg8bit_trainvaltest\\\\leftImg8bit\\\\test\\\\munich\\\\munich_000396_000019_leftImg8bit.png', 'D:\\\\data\\\\leftImg8bit_trainvaltest\\\\leftImg8bit\\\\test\\\\munich\\\\munich_000397_000019_leftImg8bit.png']\n"
     ]
    }
   ],
   "source": [
    "print(a)"
   ]
  },
  {
   "cell_type": "code",
   "execution_count": null,
   "metadata": {},
   "outputs": [],
   "source": []
  }
 ],
 "metadata": {
  "kernelspec": {
   "display_name": "Python 3",
   "language": "python",
   "name": "python3"
  },
  "language_info": {
   "codemirror_mode": {
    "name": "ipython",
    "version": 3
   },
   "file_extension": ".py",
   "mimetype": "text/x-python",
   "name": "python",
   "nbconvert_exporter": "python",
   "pygments_lexer": "ipython3",
   "version": "3.5.4"
  }
 },
 "nbformat": 4,
 "nbformat_minor": 2
}
